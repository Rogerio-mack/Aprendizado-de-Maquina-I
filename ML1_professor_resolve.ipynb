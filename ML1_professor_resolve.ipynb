{
  "nbformat": 4,
  "nbformat_minor": 0,
  "metadata": {
    "kernelspec": {
      "display_name": "Python 3",
      "language": "python",
      "name": "python3"
    },
    "language_info": {
      "codemirror_mode": {
        "name": "ipython",
        "version": 3
      },
      "file_extension": ".py",
      "mimetype": "text/x-python",
      "name": "python",
      "nbconvert_exporter": "python",
      "pygments_lexer": "ipython3",
      "version": "3.7.4"
    },
    "colab": {
      "name": "ML1_professor_resolve.ipynb",
      "provenance": [],
      "collapsed_sections": [],
      "include_colab_link": true
    }
  },
  "cells": [
    {
      "cell_type": "markdown",
      "metadata": {
        "id": "view-in-github",
        "colab_type": "text"
      },
      "source": [
        "<a href=\"https://colab.research.google.com/github/Rogerio-mack/Machine-Learning-I/blob/main/ML1_professor_resolve.ipynb\" target=\"_parent\"><img src=\"https://colab.research.google.com/assets/colab-badge.svg\" alt=\"Open In Colab\"/></a>"
      ]
    },
    {
      "cell_type": "markdown",
      "metadata": {
        "id": "J3LMBfpeHTwb"
      },
      "source": [
        "<head>\n",
        "  <meta name=\"author\" content=\"Rogério de Oliveira\">\n",
        "  <meta institution=\"author\" content=\"Universidade Presbiteriana Mackenzie\">\n",
        "</head>\n",
        "\n",
        "<img src=\"http://meusite.mackenzie.br/rogerio/mackenzie_logo/UPM.2_horizontal_vermelho.jpg\" width=300, align=\"right\">\n",
        "<!-- <h1 align=left><font size = 6, style=\"color:rgb(200,0,0)\"> optional title </font></h1> -->\n"
      ]
    },
    {
      "cell_type": "markdown",
      "metadata": {
        "id": "zQX8WQPeHTwc"
      },
      "source": [
        "# **Explorando Cases de Aprendizado de Máquina**\n",
        "---\n",
        "\n",
        "\n",
        "\n"
      ]
    },
    {
      "cell_type": "markdown",
      "metadata": {
        "id": "8dJiYIuTHTwn"
      },
      "source": [
        "# Usos do Aprendizado de Máquina \n",
        "\n",
        "* **Sistemas de recomendação**\n",
        "\n",
        "* **Detecção de fraude**\n",
        "\n",
        "* **Chatbots**\n",
        "\n",
        "* **Diagnóstico médico**\n",
        "\n",
        "* **Veículos Autônomos**\n",
        "\n",
        "* **Análise e Classificação de Risco**.\n",
        "\n"
      ]
    },
    {
      "cell_type": "markdown",
      "metadata": {
        "id": "p2TOw658HZa-"
      },
      "source": [
        "<br>\n",
        "<br>\n",
        "\n",
        "<img src=\"https://github.com/firmai/industry-machine-learning/raw/master/assets/industry.png\" width=500, align=\"center\">\n",
        "\n",
        "[Machine Learning and Data Science Applications in Industry](https://github.com/ashishpatel26/Real-time-ML-Project) | https://github.com/ashishpatel26/Real-time-ML-Project\n",
        "\n",
        "| <!-- -->                         | <!-- -->                         | <!-- -->                          |\n",
        "| -------------------------------- | -------------------------------- | --------------------------------- |\n",
        "| [Accommodation & Food](#accommodation)             | [Agriculture](#agriculture)           | [Banking & Insurance](#bankfin)               |\n",
        "| [Biotechnological & Life Sciences](#biotech) | [Construction & Engineering](#construction)       | [Education & Research](#education)              |\n",
        "| [Emergency & Relief](#emergency)               | [Finance](#finance) | [Manufacturing](#manufacturing)             |\n",
        "| [Government and Public Works](#public)      | [Healthcare](#healthcare)  | [Media & Publishing](#media)                |\n",
        "| [Justice, Law and Regulations](#legal)      | [Miscellaneous](#miscellaneous)                    | [Accounting](#accounting) |\n",
        "| [Real Estate, Rental & Leasing](#realestate)    | [Utilities](#utilities)              | [Wholesale & Retail](#wholesale)                  |\n",
        "\n",
        "<br>\n",
        "<br>\n",
        "\n",
        "\n",
        "\n",
        "\n",
        "\n",
        "\n",
        "\n"
      ]
    },
    {
      "cell_type": "markdown",
      "source": [
        "\n",
        "<img src=\"http://revistapesquisa.fapesp.br/wp-content/uploads/2015/09/Veiculos_00057830-300x212.jpg\" width=500, align=\"center\">\n",
        "\n",
        "<small><b>\n",
        "Figura 6. Carro Autônomo com Tecnologia Nacional. Fonte: https://revistapesquisa.fapesp.br/o-futuro-sem-motorista/\n",
        "\n"
      ],
      "metadata": {
        "id": "OCG7eg-KB6QA"
      }
    },
    {
      "cell_type": "markdown",
      "metadata": {
        "id": "PeyoHA6qHTw_"
      },
      "source": [
        "\n",
        "<img src=\"https://revistapesquisa.fapesp.br/wp-content/uploads/2019/12/068-073_evtol_286-1-IMG.png\" width=500, align=\"center\">\n",
        "\n",
        "<small><b>\n",
        "Figura 7. eVTOL aeronave elétrica de decolagem e pouso vertical sendo desenvolvido pela EMBRAER-UBER. Fonte: https://revistapesquisa.fapesp.br/2019/12/03/a-chegada-dos-carros-voadores/"
      ]
    },
    {
      "cell_type": "markdown",
      "metadata": {
        "id": "XlK3CFlPHTw_"
      },
      "source": [
        "\n",
        "<img src=\"https://revistapesquisa.fapesp.br/wp-content/uploads/2017/07/068-071_madeira_257-3.jpg\" width=500, align=\"center\">\n",
        "\n",
        "<small><b>\n",
        "Figura 8. Sistema Automático de identificação de lâminas de madeira para uso industrial. Fonte: https://revistapesquisa.fapesp.br/2017/07/18/identificacao-de-madeiras/\n"
      ]
    },
    {
      "cell_type": "markdown",
      "metadata": {
        "id": "9VoqvkU2RWei"
      },
      "source": [
        "\n",
        "<img src=\"https://revistapesquisa.fapesp.br/wp-content/uploads/2021/04/SITE_Petroleo-0-1140.jpg\" width=500, align=\"center\">\n",
        "\n",
        "<small><b>\n",
        "Figura 9. Sistema Híbrido combina Mecânica dos Fluídos e Aprendizado de Máquina para exploração mais eficaz do Pré-Sal pela Petrobrás. Fonte: https://revistapesquisa.fapesp.br/producao-mais-eficaz-no-pre-sal/\n"
      ]
    },
    {
      "cell_type": "markdown",
      "metadata": {
        "id": "0NmSzFrRSaDf"
      },
      "source": [
        "\n",
        "<img src=\"https://revistapesquisa.fapesp.br/wp-content/uploads/2020/03/070-074_mineracao-digital_289-3-1140.jpg\" width=500, align=\"center\">\n",
        "\n",
        "<small><b>\n",
        "Figura 10. Mina de alumínio usa sistema automatizado para tratar água de rejeito. Fonte: https://revistapesquisa.fapesp.br/mineracao-digital/ \n"
      ]
    },
    {
      "cell_type": "markdown",
      "source": [
        "<img src=\"https://images-na.ssl-images-amazon.com/images/I/41ny6mN6M1L._SX344_BO1,204,203,200_.jpg\" width=350, align=\"center\">\n",
        "\n",
        "<small><b>\n",
        "Figura 11. Aplicações em Astronomia e Astrofísica: Ciência no Aprendizado de Máquina. Fonte: https://amazon.com/.\n"
      ],
      "metadata": {
        "id": "Kri3DVSrU1pE"
      }
    },
    {
      "cell_type": "markdown",
      "metadata": {
        "id": "npaLwEVBG0w8"
      },
      "source": [
        "# Processo de Ciência de Dados X Aprendizado de Máquina\n",
        "\n",
        "* **CRISP-DM, Cross Industry Standard Process for Data Mining** \n",
        "\n",
        " \n",
        "\n"
      ]
    },
    {
      "cell_type": "markdown",
      "metadata": {
        "id": "mkikcHbi26Uo"
      },
      "source": [
        "<br>\n",
        "<br>\n",
        "<img src=\"http://meusite.mackenzie.br/rogerio/TIC2021S1$/T1/crispvg.png\" width=1000, align=\"center\">\n",
        "<br>\n",
        "<br>\n",
        "\n",
        "<small><b>\n",
        "Figura 12. As Fases do Processo CRISP-DM. Fonte: http://meusite.mackenzie.br/rogerio/TIC2021S1/T1/crisp_visualguide.pdf\n",
        "</small></b>\n",
        "\n",
        "<br>\n",
        "<br>\n",
        "\n"
      ]
    }
  ]
}