{
  "nbformat": 4,
  "nbformat_minor": 0,
  "metadata": {
    "kernelspec": {
      "display_name": "Python 3",
      "language": "python",
      "name": "python3"
    },
    "language_info": {
      "codemirror_mode": {
        "name": "ipython",
        "version": 3
      },
      "file_extension": ".py",
      "mimetype": "text/x-python",
      "name": "python",
      "nbconvert_exporter": "python",
      "pygments_lexer": "ipython3",
      "version": "3.7.4"
    },
    "colab": {
      "name": "ML8_R.ipynb",
      "provenance": [],
      "collapsed_sections": [],
      "include_colab_link": true
    }
  },
  "cells": [
    {
      "cell_type": "markdown",
      "metadata": {
        "id": "view-in-github",
        "colab_type": "text"
      },
      "source": [
        "<a href=\"https://colab.research.google.com/github/Rogerio-mack/Machine-Learning-I/blob/main/ML8_R.ipynb\" target=\"_parent\"><img src=\"https://colab.research.google.com/assets/colab-badge.svg\" alt=\"Open In Colab\"/></a>"
      ]
    },
    {
      "cell_type": "markdown",
      "metadata": {
        "id": "J3LMBfpeHTwb"
      },
      "source": [
        "<head>\n",
        "  <meta name=\"author\" content=\"Rogério de Oliveira\">\n",
        "  <meta institution=\"author\" content=\"Universidade Presbiteriana Mackenzie\">\n",
        "</head>\n",
        "\n",
        "<img src=\"http://meusite.mackenzie.br/rogerio/mackenzie_logo/UPM.2_horizontal_vermelho.jpg\" width=300, align=\"right\">\n",
        "<!-- <h1 align=left><font size = 6, style=\"color:rgb(200,0,0)\"> optional title </font></h1> -->\n"
      ]
    },
    {
      "cell_type": "markdown",
      "metadata": {
        "id": "zQX8WQPeHTwc"
      },
      "source": [
        "# **8. Aprendizado Supervisionado com R**\n",
        "---\n",
        "\n",
        "Nesta aula você vai aprender:\n",
        "\n",
        "*   Como empregar o R para criar modelos de Aprendizado de Máquina Supervisionado\n",
        "*   Como resolver problemas de Classificação e Regressão\n",
        "*   Como fazer seleções simples de Hiperparâmetros e Modelos em R"
      ]
    },
    {
      "cell_type": "markdown",
      "metadata": {
        "id": "zH-kFjI8TIUe"
      },
      "source": [
        "Ao longo do curso você tem empregado Python e R para analisar e entender dados. De fato essas são as linguagens mais empregadas hoje quando falamos de Ciência de Dados havendo diferentes campos onde uma é mais empregada que a outra. Por exemplo, há um uso muito grande de R nos campos como Economia, Biologia e Bioinformática, havendo um grande número de recursos e bibliotecas de R para essas áreas. Já campos onde é importante o uso de dados de imagens e texto, há uma predominância clara do Python com um número muito maior de bibliotecas de recusos disponíveis. Assim, vale a pena verificarmos nesta última aula como podemos empregar o R em tarefas de Aprendizado de Máquina Supervisionado e vamos aqui aprender como aplicar modelos como o **K-Vizinhos mais Próximos, Árvores de Decisão e Modelos de Regressão com R**, aprendendo a executar tarefas de classificação, regressão e seleção de modelos como aplicamos antes em Python. Essa aula portanto, focará apenas na aplicação e execução das tarefas em R, e supõe que você já tenha os conceitos de aprendizado supervisionado como **sobreajuste, conjuntos de treinamento e teste, validação cruzada, métricas de eficiência dos modelos etc.** e buscaremos apenas apresentar soluções básicas em R, sem empregar um número demasiado de recursos e bibliotecas de R poderosas que não poderíamos explorar aqui em uma única aula.  \n",
        "\n",
        "\n",
        "\n",
        "\n"
      ]
    },
    {
      "cell_type": "code",
      "metadata": {
        "id": "xyywcuI7p1kG"
      },
      "source": [
        "import numpy as np\n",
        "import pandas as pd\n",
        "import matplotlib.pyplot as plt\n",
        "%matplotlib inline\n",
        "from matplotlib.lines import Line2D\n",
        "import seaborn as sns"
      ],
      "execution_count": 1,
      "outputs": []
    },
    {
      "cell_type": "code",
      "source": [
        "# suporte a execução de células em R\n",
        "%load_ext rpy2.ipython"
      ],
      "metadata": {
        "id": "oLlfxfPGuyBo"
      },
      "execution_count": 3,
      "outputs": []
    },
    {
      "cell_type": "markdown",
      "source": [
        "> *Você deve recordar que o comando `%load_ext rpy2.ipython` pode ser empregado em um notebook Python no Google Colaboratory para carregar o engine de execução do R. As células do notebook podem então invocar o engine R através do comando `%%R` no início da célula. Note, entretanto, que as células Python e R não se conversam e, portanto, não compartilham dados ou variáveis. No Colan você pode também empregar um notebook que tenha apenas o engine R chamando no browser `colab.to/R`.*"
      ],
      "metadata": {
        "id": "Pdzuny79xmtH"
      }
    },
    {
      "cell_type": "markdown",
      "metadata": {
        "id": "jAYKaGirkhpN"
      },
      "source": [
        "# CASO: Iris Data Set\n",
        "\n",
        "O iris é um conjunto de dados que você já deve ter tido contato. É um dataset bastante popular e  simples com dados de comprimento e largura de pétalas e sépalas para 3 tipos diferentes de flores do tipo iris. Esse é um data set *buit-in* que já faz parte do pacote R e pode ser acessado diretamente. \n"
      ]
    },
    {
      "cell_type": "code",
      "source": [
        "%%R\n",
        "\n",
        "head(iris)"
      ],
      "metadata": {
        "colab": {
          "base_uri": "https://localhost:8080/"
        },
        "id": "HlaO_578v442",
        "outputId": "e51e4b7c-f142-457a-93cc-3347fbaa3353"
      },
      "execution_count": 3,
      "outputs": [
        {
          "output_type": "stream",
          "name": "stdout",
          "text": [
            "  Sepal.Length Sepal.Width Petal.Length Petal.Width Species\n",
            "1          5.1         3.5          1.4         0.2  setosa\n",
            "2          4.9         3.0          1.4         0.2  setosa\n",
            "3          4.7         3.2          1.3         0.2  setosa\n",
            "4          4.6         3.1          1.5         0.2  setosa\n",
            "5          5.0         3.6          1.4         0.2  setosa\n",
            "6          5.4         3.9          1.7         0.4  setosa\n"
          ]
        }
      ]
    },
    {
      "cell_type": "markdown",
      "source": [
        "As diferentes espécies e suas quantidades:"
      ],
      "metadata": {
        "id": "ibof3Xi3wlce"
      }
    },
    {
      "cell_type": "code",
      "source": [
        "%%R\n",
        "\n",
        "table(iris$Species)"
      ],
      "metadata": {
        "colab": {
          "base_uri": "https://localhost:8080/"
        },
        "id": "CvrCBeiEwg_9",
        "outputId": "60702300-22cd-4567-f5e9-8b287037fd92"
      },
      "execution_count": 4,
      "outputs": [
        {
          "output_type": "stream",
          "name": "stdout",
          "text": [
            "\n",
            "    setosa versicolor  virginica \n",
            "        50         50         50 \n"
          ]
        }
      ]
    },
    {
      "cell_type": "markdown",
      "source": [
        "Vamos primeiramente fazer um modelo de regressão linear múltipla para estimar o comprimento de pétalas a partir das outras medidas para em seguida empregarmos um modelo de Árvore de Decisão para a classificação da espécie de iris com base nas medidas de pétala e sépala. \n",
        "\n",
        "Antes, vale a pena você relembrar como criar esses dois modelos em Python com o scikit-learn."
      ],
      "metadata": {
        "id": "rtbn4U5LwES-"
      }
    },
    {
      "cell_type": "markdown",
      "source": [
        "## Regressão Linear em Python\n",
        "\n",
        "Os dados de iris podem ser obtidos diretamente dos datasets do pacote seaborn."
      ],
      "metadata": {
        "id": "aHW5lTxJxNq-"
      }
    },
    {
      "cell_type": "code",
      "source": [
        "df = sns.load_dataset('iris')\n",
        "df.head()"
      ],
      "metadata": {
        "colab": {
          "base_uri": "https://localhost:8080/",
          "height": 206
        },
        "id": "LRkTfdU1xe93",
        "outputId": "4074e999-306d-4e0a-9e62-20f7e0c22187"
      },
      "execution_count": 5,
      "outputs": [
        {
          "output_type": "execute_result",
          "data": {
            "text/plain": [
              "   sepal_length  sepal_width  petal_length  petal_width species\n",
              "0           5.1          3.5           1.4          0.2  setosa\n",
              "1           4.9          3.0           1.4          0.2  setosa\n",
              "2           4.7          3.2           1.3          0.2  setosa\n",
              "3           4.6          3.1           1.5          0.2  setosa\n",
              "4           5.0          3.6           1.4          0.2  setosa"
            ],
            "text/html": [
              "\n",
              "  <div id=\"df-15499d43-18c8-41bc-9512-b70d209a04a5\">\n",
              "    <div class=\"colab-df-container\">\n",
              "      <div>\n",
              "<style scoped>\n",
              "    .dataframe tbody tr th:only-of-type {\n",
              "        vertical-align: middle;\n",
              "    }\n",
              "\n",
              "    .dataframe tbody tr th {\n",
              "        vertical-align: top;\n",
              "    }\n",
              "\n",
              "    .dataframe thead th {\n",
              "        text-align: right;\n",
              "    }\n",
              "</style>\n",
              "<table border=\"1\" class=\"dataframe\">\n",
              "  <thead>\n",
              "    <tr style=\"text-align: right;\">\n",
              "      <th></th>\n",
              "      <th>sepal_length</th>\n",
              "      <th>sepal_width</th>\n",
              "      <th>petal_length</th>\n",
              "      <th>petal_width</th>\n",
              "      <th>species</th>\n",
              "    </tr>\n",
              "  </thead>\n",
              "  <tbody>\n",
              "    <tr>\n",
              "      <th>0</th>\n",
              "      <td>5.1</td>\n",
              "      <td>3.5</td>\n",
              "      <td>1.4</td>\n",
              "      <td>0.2</td>\n",
              "      <td>setosa</td>\n",
              "    </tr>\n",
              "    <tr>\n",
              "      <th>1</th>\n",
              "      <td>4.9</td>\n",
              "      <td>3.0</td>\n",
              "      <td>1.4</td>\n",
              "      <td>0.2</td>\n",
              "      <td>setosa</td>\n",
              "    </tr>\n",
              "    <tr>\n",
              "      <th>2</th>\n",
              "      <td>4.7</td>\n",
              "      <td>3.2</td>\n",
              "      <td>1.3</td>\n",
              "      <td>0.2</td>\n",
              "      <td>setosa</td>\n",
              "    </tr>\n",
              "    <tr>\n",
              "      <th>3</th>\n",
              "      <td>4.6</td>\n",
              "      <td>3.1</td>\n",
              "      <td>1.5</td>\n",
              "      <td>0.2</td>\n",
              "      <td>setosa</td>\n",
              "    </tr>\n",
              "    <tr>\n",
              "      <th>4</th>\n",
              "      <td>5.0</td>\n",
              "      <td>3.6</td>\n",
              "      <td>1.4</td>\n",
              "      <td>0.2</td>\n",
              "      <td>setosa</td>\n",
              "    </tr>\n",
              "  </tbody>\n",
              "</table>\n",
              "</div>\n",
              "      <button class=\"colab-df-convert\" onclick=\"convertToInteractive('df-15499d43-18c8-41bc-9512-b70d209a04a5')\"\n",
              "              title=\"Convert this dataframe to an interactive table.\"\n",
              "              style=\"display:none;\">\n",
              "        \n",
              "  <svg xmlns=\"http://www.w3.org/2000/svg\" height=\"24px\"viewBox=\"0 0 24 24\"\n",
              "       width=\"24px\">\n",
              "    <path d=\"M0 0h24v24H0V0z\" fill=\"none\"/>\n",
              "    <path d=\"M18.56 5.44l.94 2.06.94-2.06 2.06-.94-2.06-.94-.94-2.06-.94 2.06-2.06.94zm-11 1L8.5 8.5l.94-2.06 2.06-.94-2.06-.94L8.5 2.5l-.94 2.06-2.06.94zm10 10l.94 2.06.94-2.06 2.06-.94-2.06-.94-.94-2.06-.94 2.06-2.06.94z\"/><path d=\"M17.41 7.96l-1.37-1.37c-.4-.4-.92-.59-1.43-.59-.52 0-1.04.2-1.43.59L10.3 9.45l-7.72 7.72c-.78.78-.78 2.05 0 2.83L4 21.41c.39.39.9.59 1.41.59.51 0 1.02-.2 1.41-.59l7.78-7.78 2.81-2.81c.8-.78.8-2.07 0-2.86zM5.41 20L4 18.59l7.72-7.72 1.47 1.35L5.41 20z\"/>\n",
              "  </svg>\n",
              "      </button>\n",
              "      \n",
              "  <style>\n",
              "    .colab-df-container {\n",
              "      display:flex;\n",
              "      flex-wrap:wrap;\n",
              "      gap: 12px;\n",
              "    }\n",
              "\n",
              "    .colab-df-convert {\n",
              "      background-color: #E8F0FE;\n",
              "      border: none;\n",
              "      border-radius: 50%;\n",
              "      cursor: pointer;\n",
              "      display: none;\n",
              "      fill: #1967D2;\n",
              "      height: 32px;\n",
              "      padding: 0 0 0 0;\n",
              "      width: 32px;\n",
              "    }\n",
              "\n",
              "    .colab-df-convert:hover {\n",
              "      background-color: #E2EBFA;\n",
              "      box-shadow: 0px 1px 2px rgba(60, 64, 67, 0.3), 0px 1px 3px 1px rgba(60, 64, 67, 0.15);\n",
              "      fill: #174EA6;\n",
              "    }\n",
              "\n",
              "    [theme=dark] .colab-df-convert {\n",
              "      background-color: #3B4455;\n",
              "      fill: #D2E3FC;\n",
              "    }\n",
              "\n",
              "    [theme=dark] .colab-df-convert:hover {\n",
              "      background-color: #434B5C;\n",
              "      box-shadow: 0px 1px 3px 1px rgba(0, 0, 0, 0.15);\n",
              "      filter: drop-shadow(0px 1px 2px rgba(0, 0, 0, 0.3));\n",
              "      fill: #FFFFFF;\n",
              "    }\n",
              "  </style>\n",
              "\n",
              "      <script>\n",
              "        const buttonEl =\n",
              "          document.querySelector('#df-15499d43-18c8-41bc-9512-b70d209a04a5 button.colab-df-convert');\n",
              "        buttonEl.style.display =\n",
              "          google.colab.kernel.accessAllowed ? 'block' : 'none';\n",
              "\n",
              "        async function convertToInteractive(key) {\n",
              "          const element = document.querySelector('#df-15499d43-18c8-41bc-9512-b70d209a04a5');\n",
              "          const dataTable =\n",
              "            await google.colab.kernel.invokeFunction('convertToInteractive',\n",
              "                                                     [key], {});\n",
              "          if (!dataTable) return;\n",
              "\n",
              "          const docLinkHtml = 'Like what you see? Visit the ' +\n",
              "            '<a target=\"_blank\" href=https://colab.research.google.com/notebooks/data_table.ipynb>data table notebook</a>'\n",
              "            + ' to learn more about interactive tables.';\n",
              "          element.innerHTML = '';\n",
              "          dataTable['output_type'] = 'display_data';\n",
              "          await google.colab.output.renderOutput(dataTable, element);\n",
              "          const docLink = document.createElement('div');\n",
              "          docLink.innerHTML = docLinkHtml;\n",
              "          element.appendChild(docLink);\n",
              "        }\n",
              "      </script>\n",
              "    </div>\n",
              "  </div>\n",
              "  "
            ]
          },
          "metadata": {},
          "execution_count": 5
        }
      ]
    },
    {
      "cell_type": "markdown",
      "source": [
        "### Regresssão Simples\n",
        "\n",
        "Vamos primeiro aplicar um modelo de regressão simples, empregando como entrada somente valores de largura de pétala para estimar seu comprimento."
      ],
      "metadata": {
        "id": "SkvaA_tL2pLY"
      }
    },
    {
      "cell_type": "code",
      "source": [
        "from sklearn.model_selection import train_test_split\n",
        "from sklearn.linear_model import LinearRegression\n",
        "\n",
        "X = df[['petal_width']]\n",
        "y = df.petal_length\n",
        "\n",
        "X_train, X_test, y_train, y_test = train_test_split(X, y, test_size=0.2, random_state=1)\n",
        "\n",
        "regressor = LinearRegression().fit(X_train, y_train)\n",
        "\n",
        "y_pred = regressor.predict(X_test)\n",
        "\n",
        "sns.regplot(x=X_train.iloc[:,0],y=y_train,color='orange')\n",
        "sns.lineplot(x=X_train.iloc[:,0],y=y_train,color='red')\n",
        "plt.scatter(X_test.iloc[:,0],y_pred,color='blue',marker='o',label='Predictions')\n",
        "\n",
        "plt.title('Estimativa de Petal Length' + ', Linear regression')\n",
        "plt.xlabel('Petal Width',fontsize=12)\n",
        "plt.ylabel('Petal Length',fontsize=12)\n",
        "plt.legend()\n",
        "\n",
        "plt.show()\n",
        "\n",
        "print(f'Model Score (R2): {regressor.score(X_test, y_test):.2f}')\n",
        "\n",
        "print(f'Model Coef: {regressor.coef_[0]:.2f}')\n",
        "\n",
        "print(f'Model Intercept: {regressor.intercept_:.2f}')\n",
        "\n",
        "print(f'Model Prediction: {regressor.predict(np.array([[1.3]]))[0]:.2f}')"
      ],
      "metadata": {
        "colab": {
          "base_uri": "https://localhost:8080/",
          "height": 428
        },
        "id": "9p78bB4VwDrA",
        "outputId": "196d146a-0947-4f19-d84c-eefc405a33b2"
      },
      "execution_count": 6,
      "outputs": [
        {
          "output_type": "display_data",
          "data": {
            "text/plain": [
              "<Figure size 432x288 with 1 Axes>"
            ],
            "image/png": "[encoded data removed]"
          },
          "metadata": {
            "needs_background": "light"
          }
        },
        {
          "output_type": "stream",
          "name": "stdout",
          "text": [
            "Model Score (R2): 0.93\n",
            "Model Coef: 2.20\n",
            "Model Intercept: 1.13\n",
            "Model Prediction: 3.99\n"
          ]
        },
        {
          "output_type": "stream",
          "name": "stderr",
          "text": [
            "/usr/local/lib/python3.7/dist-packages/sklearn/base.py:451: UserWarning: X does not have valid feature names, but LinearRegression was fitted with feature names\n",
            "  \"X does not have valid feature names, but\"\n"
          ]
        }
      ]
    },
    {
      "cell_type": "markdown",
      "source": [
        "As estimativas sobre o conjunto de teste aparecem em azul, exatamente sobre a reta estimada. Aqui empregamos a separação entre os conjuntos de treinamento e teste para a regressão. É comum, entretanto, você encontrar a aplicação de modelos de regressão linear empregando todos os dados de treinamento. É o caso, por exemplo, quando você não está interessado em selecionar modelos e deseja unicamente empregar a regressão linear. Aquis, entretanto, optamos pelo caso mais geral."
      ],
      "metadata": {
        "id": "CLAoGp-E3tga"
      }
    },
    {
      "cell_type": "markdown",
      "source": [
        "### Regressão Múltipla \n",
        "\n",
        "O mesmo esquema de código pode ser aplicado empregando todas as medidas disponíveis para estimar os comprimentos de pétala. "
      ],
      "metadata": {
        "id": "lQVrKiIX3A8o"
      }
    },
    {
      "cell_type": "code",
      "source": [
        "from sklearn.model_selection import train_test_split\n",
        "from sklearn.linear_model import LinearRegression\n",
        "\n",
        "X = df.drop(columns=['species','petal_length'])\n",
        "y = df.petal_length\n",
        "\n",
        "X_train, X_test, y_train, y_test = train_test_split(X, y, test_size=0.2, random_state=1)\n",
        "\n",
        "regressor = LinearRegression().fit(X_train, y_train)\n",
        "\n",
        "y_pred = regressor.predict(X_test)\n",
        "\n",
        "sns.regplot(x=X_train.iloc[:,0],y=y_train,color='orange')\n",
        "sns.lineplot(x=X_train.iloc[:,0],y=y_train,color='red')\n",
        "plt.scatter(X_test.iloc[:,0],y_pred,color='blue',marker='o',label='Predictions')\n",
        "\n",
        "plt.title('Estimativa de Petal Length' + ', Linear regression')\n",
        "plt.xlabel('Petal Width',fontsize=12)\n",
        "plt.ylabel('Petal Length',fontsize=12)\n",
        "plt.legend()\n",
        "\n",
        "plt.show()\n",
        "\n",
        "print(f'Model Score (R2): {regressor.score(X_test, y_test):.2f}')\n",
        "\n",
        "for i in range(len(regressor.coef_)):\n",
        "  print(f'Model Coef {i} : {regressor.coef_[i]:.2f}')\n",
        "\n",
        "print(f'Model Intercept: {regressor.intercept_:.2f}')\n",
        "\n",
        "print(f'Model Prediction: {regressor.predict(np.array([[4.5, 3.25, 1.3]]))[0]:.2f}')\n"
      ],
      "metadata": {
        "colab": {
          "base_uri": "https://localhost:8080/",
          "height": 464
        },
        "outputId": "9ba3ca1c-7b69-42f8-c4c0-8d36d4d9bdeb",
        "id": "wP6mnDRt2mzm"
      },
      "execution_count": 7,
      "outputs": [
        {
          "output_type": "display_data",
          "data": {
            "text/plain": [
              "<Figure size 432x288 with 1 Axes>"
            ],
            "image/png": "[encoded data removed]"
          },
          "metadata": {
            "needs_background": "light"
          }
        },
        {
          "output_type": "stream",
          "name": "stdout",
          "text": [
            "Model Score (R2): 0.95\n",
            "Model Coef 0 : 0.75\n",
            "Model Coef 1 : -0.63\n",
            "Model Coef 2 : 1.43\n",
            "Model Intercept: -0.39\n",
            "Model Prediction: 2.78\n"
          ]
        },
        {
          "output_type": "stream",
          "name": "stderr",
          "text": [
            "/usr/local/lib/python3.7/dist-packages/sklearn/base.py:451: UserWarning: X does not have valid feature names, but LinearRegression was fitted with feature names\n",
            "  \"X does not have valid feature names, but\"\n"
          ]
        }
      ]
    },
    {
      "cell_type": "markdown",
      "source": [
        "Obviamente agora não exibimos uma *reta* pois estamos exibindo apenas uma dimensão dos dados de entrada. Mas você pode notar até um incremento no *R2* ao empregarmos a regressão múltipla."
      ],
      "metadata": {
        "id": "swNgyPtt5tFS"
      }
    },
    {
      "cell_type": "markdown",
      "source": [
        "## Regressão Linear em R\n",
        "\n",
        "Vamos agora resolver o mesmo problema em R. Faremos diretamente o modelo de regressão múltipla."
      ],
      "metadata": {
        "id": "CXb72ouL6LbS"
      }
    },
    {
      "cell_type": "code",
      "source": [
        "%%R\n",
        "\n",
        "head(iris)"
      ],
      "metadata": {
        "colab": {
          "base_uri": "https://localhost:8080/"
        },
        "id": "tKBn4LvX6sfR",
        "outputId": "0dc147f2-5b10-47ae-b6f2-9f9fea0a5404"
      },
      "execution_count": 8,
      "outputs": [
        {
          "output_type": "stream",
          "name": "stdout",
          "text": [
            "  Sepal.Length Sepal.Width Petal.Length Petal.Width Species\n",
            "1          5.1         3.5          1.4         0.2  setosa\n",
            "2          4.9         3.0          1.4         0.2  setosa\n",
            "3          4.7         3.2          1.3         0.2  setosa\n",
            "4          4.6         3.1          1.5         0.2  setosa\n",
            "5          5.0         3.6          1.4         0.2  setosa\n",
            "6          5.4         3.9          1.7         0.4  setosa\n"
          ]
        }
      ]
    },
    {
      "cell_type": "markdown",
      "source": [
        "Para isso podemos empregar a função *linear model* do R, `lm`."
      ],
      "metadata": {
        "id": "gXI6qXfcD0sd"
      }
    },
    {
      "cell_type": "code",
      "source": [
        "%%R\n",
        "\n",
        "# formula = 'Petal.Length ~ Sepal.Length + Sepal.Width + Petal.Width'\n",
        "# fit = lm(formula = formula, data=iris)\n",
        "\n",
        "# ou simplesmente \n",
        "fit = lm(Petal.Length ~ Sepal.Length + Sepal.Width + Petal.Width, data=iris)\n",
        "\n",
        "summary(fit)"
      ],
      "metadata": {
        "colab": {
          "base_uri": "https://localhost:8080/"
        },
        "id": "xH0EmiL76m7x",
        "outputId": "a38d2e36-9ddc-40f6-f4a0-6c4e07e513b0"
      },
      "execution_count": 9,
      "outputs": [
        {
          "output_type": "stream",
          "name": "stdout",
          "text": [
            "\n",
            "Call:\n",
            "lm(formula = Petal.Length ~ Sepal.Length + Sepal.Width + Petal.Width, \n",
            "    data = iris)\n",
            "\n",
            "Residuals:\n",
            "     Min       1Q   Median       3Q      Max \n",
            "-0.99333 -0.17656 -0.01004  0.18558  1.06909 \n",
            "\n",
            "Coefficients:\n",
            "             Estimate Std. Error t value Pr(>|t|)    \n",
            "(Intercept)  -0.26271    0.29741  -0.883    0.379    \n",
            "Sepal.Length  0.72914    0.05832  12.502   <2e-16 ***\n",
            "Sepal.Width  -0.64601    0.06850  -9.431   <2e-16 ***\n",
            "Petal.Width   1.44679    0.06761  21.399   <2e-16 ***\n",
            "---\n",
            "Signif. codes:  0 ‘***’ 0.001 ‘**’ 0.01 ‘*’ 0.05 ‘.’ 0.1 ‘ ’ 1\n",
            "\n",
            "Residual standard error: 0.319 on 146 degrees of freedom\n",
            "Multiple R-squared:  0.968,\tAdjusted R-squared:  0.9674 \n",
            "F-statistic:  1473 on 3 and 146 DF,  p-value: < 2.2e-16\n",
            "\n"
          ]
        }
      ]
    },
    {
      "cell_type": "markdown",
      "source": [
        "Em R muitos modelos empregam a ideia de uma *fórmula* para indicar as variáveis independentes e dependente do modelo como acima. \n",
        "\n",
        "$$ formula = 'var_{dependente} = var_{ind_1} + var_{ind_2} + \\dots + var_{ind_n} \\space  \\space \\space    '$$\n",
        "\n",
        "Esse estilo deu origem à mesma forma de notação que você encontra no pacote `statsmodel` do Python. "
      ],
      "metadata": {
        "id": "H0lnIdIIEKpV"
      }
    },
    {
      "cell_type": "markdown",
      "source": [
        "A função `predict` pode ser empregada para predição do modelo com base em um conjunto de dados com a mesma estrutura que foi construído o modelo."
      ],
      "metadata": {
        "id": "ZraYysHnFnDE"
      }
    },
    {
      "cell_type": "code",
      "source": [
        "%%R\n",
        "Sepal.Length = c(4.5)\n",
        "Sepal.Width = c(3.25)\n",
        "Petal.Width = c(1.3)\n",
        "newdata = data.frame(Sepal.Length, Sepal.Width, Petal.Width)\n",
        "\n",
        "prediction = predict(fit, newdata)    \n",
        "print(prediction)"
      ],
      "metadata": {
        "colab": {
          "base_uri": "https://localhost:8080/"
        },
        "id": "iOTdOrcm7O6p",
        "outputId": "e094038c-0292-4470-f072-3c00551cb004"
      },
      "execution_count": 10,
      "outputs": [
        {
          "output_type": "stream",
          "name": "stdout",
          "text": [
            "       1 \n",
            "2.799703 \n"
          ]
        }
      ]
    },
    {
      "cell_type": "markdown",
      "source": [
        "Os resultados, como você pode observar abaixo, são exatamente os mesmos obtidos com o scikit-learn Python: score, coeficientes, intercept, predição. Não fizemos a separação de dados de treinamento e teste pois, neste caso, cada linguagem produziria conjuntos, e portanto resultados, diferentes. "
      ],
      "metadata": {
        "id": "7behD54UFl41"
      }
    },
    {
      "cell_type": "code",
      "source": [
        "from sklearn.model_selection import train_test_split\n",
        "from sklearn.linear_model import LinearRegression\n",
        "\n",
        "X = df.drop(columns=['species','petal_length'])\n",
        "y = df.petal_length\n",
        "\n",
        "regressor = LinearRegression().fit(X, y)\n",
        "\n",
        "print(f'Model Score (R2): {regressor.score(X, y):.3f}')\n",
        "\n",
        "for i in range(len(regressor.coef_)):\n",
        "  print(f'Model Coef {i} : {regressor.coef_[i]:.3f}')\n",
        "\n",
        "print(f'Model Intercept: {regressor.intercept_:.3f}')\n",
        "\n",
        "print(f'Model Prediction: {regressor.predict(np.array([[4.5, 3.25, 1.3]]))[0]:.5f}')\n"
      ],
      "metadata": {
        "colab": {
          "base_uri": "https://localhost:8080/"
        },
        "id": "zecF2TFnDWpt",
        "outputId": "80666e84-5f74-40f6-ff1e-03253aff3168"
      },
      "execution_count": 11,
      "outputs": [
        {
          "output_type": "stream",
          "name": "stdout",
          "text": [
            "Model Score (R2): 0.968\n",
            "Model Coef 0 : 0.729\n",
            "Model Coef 1 : -0.646\n",
            "Model Coef 2 : 1.447\n",
            "Model Intercept: -0.263\n",
            "Model Prediction: 2.79970\n"
          ]
        },
        {
          "output_type": "stream",
          "name": "stderr",
          "text": [
            "/usr/local/lib/python3.7/dist-packages/sklearn/base.py:451: UserWarning: X does not have valid feature names, but LinearRegression was fitted with feature names\n",
            "  \"X does not have valid feature names, but\"\n"
          ]
        }
      ]
    },
    {
      "cell_type": "markdown",
      "source": [
        "Existem pacotes em R para produzir a separação de conjuntos de treinamento e teste e você verá isso mais adiante. Aqui implementamos a separação de forma direta o que pode ser útil e suficiente em muitos casos. "
      ],
      "metadata": {
        "id": "XUEsnHQgG9MF"
      }
    },
    {
      "cell_type": "code",
      "source": [
        "%%R\n",
        "\n",
        "set.seed(123)\n",
        "\n",
        "L = sample(1:nrow(iris),round(0.2*nrow(iris)))  \n",
        "\n",
        "test = iris[L,]\n",
        "train = iris[-L,]\n",
        "\n",
        "fit = lm(Petal.Length ~ Sepal.Length + Sepal.Width + Petal.Width, data=train)\n",
        "\n",
        "print(summary(fit))\n",
        "\n",
        "prediction = predict(fit, newdata)    \n",
        "print(prediction)"
      ],
      "metadata": {
        "colab": {
          "base_uri": "https://localhost:8080/"
        },
        "id": "Ae_dEqgcG8RW",
        "outputId": "d8206ccd-4660-4abf-9542-18de7819bd34"
      },
      "execution_count": 12,
      "outputs": [
        {
          "output_type": "stream",
          "name": "stdout",
          "text": [
            "\n",
            "Call:\n",
            "lm(formula = Petal.Length ~ Sepal.Length + Sepal.Width + Petal.Width, \n",
            "    data = train)\n",
            "\n",
            "Residuals:\n",
            "     Min       1Q   Median       3Q      Max \n",
            "-0.97489 -0.16614 -0.01738  0.19614  1.06296 \n",
            "\n",
            "Coefficients:\n",
            "             Estimate Std. Error t value Pr(>|t|)    \n",
            "(Intercept)  -0.21871    0.33695  -0.649    0.518    \n",
            "Sepal.Length  0.73561    0.06515  11.291  < 2e-16 ***\n",
            "Sepal.Width  -0.66307    0.07395  -8.966 6.24e-15 ***\n",
            "Petal.Width   1.42322    0.07237  19.665  < 2e-16 ***\n",
            "---\n",
            "Signif. codes:  0 ‘***’ 0.001 ‘**’ 0.01 ‘*’ 0.05 ‘.’ 0.1 ‘ ’ 1\n",
            "\n",
            "Residual standard error: 0.3185 on 116 degrees of freedom\n",
            "Multiple R-squared:  0.9671,\tAdjusted R-squared:  0.9662 \n",
            "F-statistic:  1135 on 3 and 116 DF,  p-value: < 2.2e-16\n",
            "\n",
            "       1 \n",
            "2.786746 \n"
          ]
        }
      ]
    },
    {
      "cell_type": "markdown",
      "source": [
        "O comando `seed` acima é a geração de semente aleatória e permitirá a reprodutibilidade dos resultados a cada nova execução gerandos os mesmos valores aleatórios do vetor 'L' que seleciona as instâncias de treinamento e teste dos dados."
      ],
      "metadata": {
        "id": "oY5FMpHIMf9n"
      }
    },
    {
      "cell_type": "markdown",
      "source": [
        "Temos então um modelo completo para aplicação de Regressão Múltipla em R, bastante próximo ao que você aprendeu  em  Python e com resultados bastante próximos.\n",
        "\n",
        "> *Python ou R? Qual empregar? Não há de fato muita diferença na codificação dessas funções em uma ou outra linguagem e discussões do tipo está ou outra linguagem é melhor devem ser evitadas. Ambas são linguagens reconhecidas por sua simplicidade e, em geral, você vai se sentir mais confortável em empregar uma ou outra de acordo com sua familiaridade. Mas não há, de fato, nada muito complicado em transpor os códigos mais simples de uma para outra. Empregue a que você se sente mais confortável. **A melhor ferramenta é a que você conhece e que permite você alcançar os resultados que deseja**. Mas fique atento, no caso de problemas reais, no contexto em que você está aplicando os modelos. Existem áreas onde é mais comum empregarmos uma ou outra linguagem como falamos no início desta aula.*"
      ],
      "metadata": {
        "id": "GAqttiXfIS5v"
      }
    },
    {
      "cell_type": "markdown",
      "source": [
        "## Classificação em Python: Árvore de Decisão\n",
        "\n",
        "Vamos agora relembrar como aplicamos os estimadores de classificação em Python para, em seguida, fazermos a mesma solução em R. Vamos relembrar como aplicamos o regressor de Árvores de Decisão."
      ],
      "metadata": {
        "id": "Rsn5oRemKGRW"
      }
    },
    {
      "cell_type": "code",
      "metadata": {
        "colab": {
          "base_uri": "https://localhost:8080/"
        },
        "id": "0y5DheBgSU_D",
        "outputId": "b43c3c62-09e1-4257-820e-a17aeb20d4ea"
      },
      "source": [
        "from sklearn.tree import DecisionTreeClassifier\n",
        "from sklearn.model_selection import train_test_split\n",
        "from sklearn.metrics import classification_report\n",
        "\n",
        "X = df.drop(columns='species')\n",
        "y = df['species']\n",
        "\n",
        "X_train, X_test, y_train, y_test = train_test_split(X, y, stratify=y, test_size=0.3, random_state=123)\n",
        "\n",
        "clf = DecisionTreeClassifier()  \n",
        "\n",
        "clf.fit(X_train,y_train)\n",
        "\n",
        "y_pred = clf.predict(X_test)\n",
        "\n",
        "accuracy = clf.score(X_test, y_test)\n",
        "print('\\nScore de Acuracidade:\\n')\n",
        "print(f'{accuracy:.2f}')\n",
        "\n",
        "print('\\nClassification Report:\\n')\n",
        "print(classification_report(y_test, y_pred))\n",
        "\n",
        "newcases = pd.DataFrame({'sepal_length':[5.1], 'sepal_width':[2.8], 'petal_length':[1.6], 'petal_width':[0.3]})\n",
        "\n",
        "print('Class Prediction:', clf.predict(newcases))\n"
      ],
      "execution_count": 13,
      "outputs": [
        {
          "output_type": "stream",
          "name": "stdout",
          "text": [
            "\n",
            "Score de Acuracidade:\n",
            "\n",
            "0.89\n",
            "\n",
            "Classification Report:\n",
            "\n",
            "              precision    recall  f1-score   support\n",
            "\n",
            "      setosa       1.00      1.00      1.00        15\n",
            "  versicolor       0.86      0.80      0.83        15\n",
            "   virginica       0.81      0.87      0.84        15\n",
            "\n",
            "    accuracy                           0.89        45\n",
            "   macro avg       0.89      0.89      0.89        45\n",
            "weighted avg       0.89      0.89      0.89        45\n",
            "\n",
            "Class Prediction: ['setosa']\n"
          ]
        }
      ]
    },
    {
      "cell_type": "code",
      "source": [
        "from sklearn import tree\n",
        "import graphviz \n",
        "dot_data = tree.export_graphviz(clf, out_file=None, \n",
        "                     feature_names=list(df.columns.values[0:-1]),  \n",
        "                     class_names=list(sorted(df['species'].unique())),  \n",
        "                     filled=True, rounded=True,  \n",
        "                     special_characters=False,\n",
        "                     proportion=False, impurity=False, node_ids=False,label=None)  \n",
        "graph = graphviz.Source(dot_data)  \n",
        "graph "
      ],
      "metadata": {
        "colab": {
          "base_uri": "https://localhost:8080/",
          "height": 934
        },
        "id": "M1Z8nEpXOmI6",
        "outputId": "d76bdbfb-35aa-4858-88cd-6eeaa9ce1c8a"
      },
      "execution_count": 14,
      "outputs": [
        {
          "output_type": "execute_result",
          "data": {
            "text/plain": [
              "<graphviz.files.Source at 0x7f530f369610>"
            ],
            "image/svg+xml": "<?xml version=\"1.0\" encoding=\"UTF-8\" standalone=\"no\"?>\n<!DOCTYPE svg PUBLIC \"-//W3C//DTD SVG 1.1//EN\"\n \"http://www.w3.org/Graphics/SVG/1.1/DTD/svg11.dtd\">\n<!-- Generated by graphviz version 2.40.1 (20161225.0304)\n -->\n<!-- Title: Tree Pages: 1 -->\n<svg width=\"598pt\" height=\"685pt\"\n viewBox=\"0.00 0.00 597.50 685.00\" xmlns=\"http://www.w3.org/2000/svg\" xmlns:xlink=\"http://www.w3.org/1999/xlink\">\n<g id=\"graph0\" class=\"graph\" transform=\"scale(1 1) rotate(0) translate(4 681)\">\n<title>Tree</title>\n<polygon fill=\"#ffffff\" stroke=\"transparent\" points=\"-4,4 -4,-681 593.5,-681 593.5,4 -4,4\"/>\n<!-- 0 -->\n<g id=\"node1\" class=\"node\">\n<title>0</title>\n<path fill=\"#ffffff\" stroke=\"#000000\" d=\"M202,-677C202,-677 77,-677 77,-677 71,-677 65,-671 65,-665 65,-665 65,-621 65,-621 65,-615 71,-609 77,-609 77,-609 202,-609 202,-609 208,-609 214,-615 214,-621 214,-621 214,-665 214,-665 214,-671 208,-677 202,-677\"/>\n<text text-anchor=\"middle\" x=\"139.5\" y=\"-661.8\" font-family=\"Helvetica,sans-Serif\" font-size=\"14.00\" fill=\"#000000\">petal_length &lt;= 2.45</text>\n<text text-anchor=\"middle\" x=\"139.5\" y=\"-646.8\" font-family=\"Helvetica,sans-Serif\" font-size=\"14.00\" fill=\"#000000\">105</text>\n<text text-anchor=\"middle\" x=\"139.5\" y=\"-631.8\" font-family=\"Helvetica,sans-Serif\" font-size=\"14.00\" fill=\"#000000\">[35, 35, 35]</text>\n<text text-anchor=\"middle\" x=\"139.5\" y=\"-616.8\" font-family=\"Helvetica,sans-Serif\" font-size=\"14.00\" fill=\"#000000\">setosa</text>\n</g>\n<!-- 1 -->\n<g id=\"node2\" class=\"node\">\n<title>1</title>\n<path fill=\"#e58139\" stroke=\"#000000\" d=\"M99.5,-565.5C99.5,-565.5 51.5,-565.5 51.5,-565.5 45.5,-565.5 39.5,-559.5 39.5,-553.5 39.5,-553.5 39.5,-524.5 39.5,-524.5 39.5,-518.5 45.5,-512.5 51.5,-512.5 51.5,-512.5 99.5,-512.5 99.5,-512.5 105.5,-512.5 111.5,-518.5 111.5,-524.5 111.5,-524.5 111.5,-553.5 111.5,-553.5 111.5,-559.5 105.5,-565.5 99.5,-565.5\"/>\n<text text-anchor=\"middle\" x=\"75.5\" y=\"-550.3\" font-family=\"Helvetica,sans-Serif\" font-size=\"14.00\" fill=\"#000000\">35</text>\n<text text-anchor=\"middle\" x=\"75.5\" y=\"-535.3\" font-family=\"Helvetica,sans-Serif\" font-size=\"14.00\" fill=\"#000000\">[35, 0, 0]</text>\n<text text-anchor=\"middle\" x=\"75.5\" y=\"-520.3\" font-family=\"Helvetica,sans-Serif\" font-size=\"14.00\" fill=\"#000000\">setosa</text>\n</g>\n<!-- 0&#45;&gt;1 -->\n<g id=\"edge1\" class=\"edge\">\n<title>0&#45;&gt;1</title>\n<path fill=\"none\" stroke=\"#000000\" d=\"M118.544,-608.9465C111.6978,-597.8215 104.0829,-585.4473 97.1843,-574.237\"/>\n<polygon fill=\"#000000\" stroke=\"#000000\" points=\"100.0555,-572.2244 91.8336,-565.5422 94.0939,-575.8931 100.0555,-572.2244\"/>\n<text text-anchor=\"middle\" x=\"86.0431\" y=\"-586.1623\" font-family=\"Helvetica,sans-Serif\" font-size=\"14.00\" fill=\"#000000\">True</text>\n</g>\n<!-- 2 -->\n<g id=\"node3\" class=\"node\">\n<title>2</title>\n<path fill=\"#ffffff\" stroke=\"#000000\" d=\"M267,-573C267,-573 142,-573 142,-573 136,-573 130,-567 130,-561 130,-561 130,-517 130,-517 130,-511 136,-505 142,-505 142,-505 267,-505 267,-505 273,-505 279,-511 279,-517 279,-517 279,-561 279,-561 279,-567 273,-573 267,-573\"/>\n<text text-anchor=\"middle\" x=\"204.5\" y=\"-557.8\" font-family=\"Helvetica,sans-Serif\" font-size=\"14.00\" fill=\"#000000\">petal_length &lt;= 4.75</text>\n<text text-anchor=\"middle\" x=\"204.5\" y=\"-542.8\" font-family=\"Helvetica,sans-Serif\" font-size=\"14.00\" fill=\"#000000\">70</text>\n<text text-anchor=\"middle\" x=\"204.5\" y=\"-527.8\" font-family=\"Helvetica,sans-Serif\" font-size=\"14.00\" fill=\"#000000\">[0, 35, 35]</text>\n<text text-anchor=\"middle\" x=\"204.5\" y=\"-512.8\" font-family=\"Helvetica,sans-Serif\" font-size=\"14.00\" fill=\"#000000\">versicolor</text>\n</g>\n<!-- 0&#45;&gt;2 -->\n<g id=\"edge2\" class=\"edge\">\n<title>0&#45;&gt;2</title>\n<path fill=\"none\" stroke=\"#000000\" d=\"M160.7834,-608.9465C166.2267,-600.2373 172.1484,-590.7626 177.825,-581.6801\"/>\n<polygon fill=\"#000000\" stroke=\"#000000\" points=\"180.8367,-583.465 183.1688,-573.13 174.9007,-579.755 180.8367,-583.465\"/>\n<text text-anchor=\"middle\" x=\"188.7902\" y=\"-593.7898\" font-family=\"Helvetica,sans-Serif\" font-size=\"14.00\" fill=\"#000000\">False</text>\n</g>\n<!-- 3 -->\n<g id=\"node4\" class=\"node\">\n<title>3</title>\n<path fill=\"#3fe685\" stroke=\"#000000\" d=\"M182,-469C182,-469 63,-469 63,-469 57,-469 51,-463 51,-457 51,-457 51,-413 51,-413 51,-407 57,-401 63,-401 63,-401 182,-401 182,-401 188,-401 194,-407 194,-413 194,-413 194,-457 194,-457 194,-463 188,-469 182,-469\"/>\n<text text-anchor=\"middle\" x=\"122.5\" y=\"-453.8\" font-family=\"Helvetica,sans-Serif\" font-size=\"14.00\" fill=\"#000000\">petal_width &lt;= 1.65</text>\n<text text-anchor=\"middle\" x=\"122.5\" y=\"-438.8\" font-family=\"Helvetica,sans-Serif\" font-size=\"14.00\" fill=\"#000000\">33</text>\n<text text-anchor=\"middle\" x=\"122.5\" y=\"-423.8\" font-family=\"Helvetica,sans-Serif\" font-size=\"14.00\" fill=\"#000000\">[0, 32, 1]</text>\n<text text-anchor=\"middle\" x=\"122.5\" y=\"-408.8\" font-family=\"Helvetica,sans-Serif\" font-size=\"14.00\" fill=\"#000000\">versicolor</text>\n</g>\n<!-- 2&#45;&gt;3 -->\n<g id=\"edge3\" class=\"edge\">\n<title>2&#45;&gt;3</title>\n<path fill=\"none\" stroke=\"#000000\" d=\"M177.6501,-504.9465C170.6417,-496.0578 163.0045,-486.3716 155.709,-477.1188\"/>\n<polygon fill=\"#000000\" stroke=\"#000000\" points=\"158.3502,-474.8157 149.4102,-469.13 152.8533,-479.1498 158.3502,-474.8157\"/>\n</g>\n<!-- 6 -->\n<g id=\"node7\" class=\"node\">\n<title>6</title>\n<path fill=\"#8c4ae7\" stroke=\"#000000\" d=\"M349,-469C349,-469 224,-469 224,-469 218,-469 212,-463 212,-457 212,-457 212,-413 212,-413 212,-407 218,-401 224,-401 224,-401 349,-401 349,-401 355,-401 361,-407 361,-413 361,-413 361,-457 361,-457 361,-463 355,-469 349,-469\"/>\n<text text-anchor=\"middle\" x=\"286.5\" y=\"-453.8\" font-family=\"Helvetica,sans-Serif\" font-size=\"14.00\" fill=\"#000000\">petal_length &lt;= 4.95</text>\n<text text-anchor=\"middle\" x=\"286.5\" y=\"-438.8\" font-family=\"Helvetica,sans-Serif\" font-size=\"14.00\" fill=\"#000000\">37</text>\n<text text-anchor=\"middle\" x=\"286.5\" y=\"-423.8\" font-family=\"Helvetica,sans-Serif\" font-size=\"14.00\" fill=\"#000000\">[0, 3, 34]</text>\n<text text-anchor=\"middle\" x=\"286.5\" y=\"-408.8\" font-family=\"Helvetica,sans-Serif\" font-size=\"14.00\" fill=\"#000000\">virginica</text>\n</g>\n<!-- 2&#45;&gt;6 -->\n<g id=\"edge6\" class=\"edge\">\n<title>2&#45;&gt;6</title>\n<path fill=\"none\" stroke=\"#000000\" d=\"M231.3499,-504.9465C238.3583,-496.0578 245.9955,-486.3716 253.291,-477.1188\"/>\n<polygon fill=\"#000000\" stroke=\"#000000\" points=\"256.1467,-479.1498 259.5898,-469.13 250.6498,-474.8157 256.1467,-479.1498\"/>\n</g>\n<!-- 4 -->\n<g id=\"node5\" class=\"node\">\n<title>4</title>\n<path fill=\"#39e581\" stroke=\"#000000\" d=\"M67,-357.5C67,-357.5 12,-357.5 12,-357.5 6,-357.5 0,-351.5 0,-345.5 0,-345.5 0,-316.5 0,-316.5 0,-310.5 6,-304.5 12,-304.5 12,-304.5 67,-304.5 67,-304.5 73,-304.5 79,-310.5 79,-316.5 79,-316.5 79,-345.5 79,-345.5 79,-351.5 73,-357.5 67,-357.5\"/>\n<text text-anchor=\"middle\" x=\"39.5\" y=\"-342.3\" font-family=\"Helvetica,sans-Serif\" font-size=\"14.00\" fill=\"#000000\">32</text>\n<text text-anchor=\"middle\" x=\"39.5\" y=\"-327.3\" font-family=\"Helvetica,sans-Serif\" font-size=\"14.00\" fill=\"#000000\">[0, 32, 0]</text>\n<text text-anchor=\"middle\" x=\"39.5\" y=\"-312.3\" font-family=\"Helvetica,sans-Serif\" font-size=\"14.00\" fill=\"#000000\">versicolor</text>\n</g>\n<!-- 3&#45;&gt;4 -->\n<g id=\"edge4\" class=\"edge\">\n<title>3&#45;&gt;4</title>\n<path fill=\"none\" stroke=\"#000000\" d=\"M95.3227,-400.9465C86.2682,-389.6012 76.177,-376.9567 67.0914,-365.5724\"/>\n<polygon fill=\"#000000\" stroke=\"#000000\" points=\"69.6561,-363.175 60.6827,-357.5422 64.1849,-367.5414 69.6561,-363.175\"/>\n</g>\n<!-- 5 -->\n<g id=\"node6\" class=\"node\">\n<title>5</title>\n<path fill=\"#8139e5\" stroke=\"#000000\" d=\"M155.5,-357.5C155.5,-357.5 109.5,-357.5 109.5,-357.5 103.5,-357.5 97.5,-351.5 97.5,-345.5 97.5,-345.5 97.5,-316.5 97.5,-316.5 97.5,-310.5 103.5,-304.5 109.5,-304.5 109.5,-304.5 155.5,-304.5 155.5,-304.5 161.5,-304.5 167.5,-310.5 167.5,-316.5 167.5,-316.5 167.5,-345.5 167.5,-345.5 167.5,-351.5 161.5,-357.5 155.5,-357.5\"/>\n<text text-anchor=\"middle\" x=\"132.5\" y=\"-342.3\" font-family=\"Helvetica,sans-Serif\" font-size=\"14.00\" fill=\"#000000\">1</text>\n<text text-anchor=\"middle\" x=\"132.5\" y=\"-327.3\" font-family=\"Helvetica,sans-Serif\" font-size=\"14.00\" fill=\"#000000\">[0, 0, 1]</text>\n<text text-anchor=\"middle\" x=\"132.5\" y=\"-312.3\" font-family=\"Helvetica,sans-Serif\" font-size=\"14.00\" fill=\"#000000\">virginica</text>\n</g>\n<!-- 3&#45;&gt;5 -->\n<g id=\"edge5\" class=\"edge\">\n<title>3&#45;&gt;5</title>\n<path fill=\"none\" stroke=\"#000000\" d=\"M125.7744,-400.9465C126.8017,-390.2621 127.9399,-378.4254 128.9832,-367.5742\"/>\n<polygon fill=\"#000000\" stroke=\"#000000\" points=\"132.4746,-367.8313 129.9479,-357.5422 125.5067,-367.1612 132.4746,-367.8313\"/>\n</g>\n<!-- 7 -->\n<g id=\"node8\" class=\"node\">\n<title>7</title>\n<path fill=\"#d5bdf6\" stroke=\"#000000\" d=\"M338.5,-365C338.5,-365 216.5,-365 216.5,-365 210.5,-365 204.5,-359 204.5,-353 204.5,-353 204.5,-309 204.5,-309 204.5,-303 210.5,-297 216.5,-297 216.5,-297 338.5,-297 338.5,-297 344.5,-297 350.5,-303 350.5,-309 350.5,-309 350.5,-353 350.5,-353 350.5,-359 344.5,-365 338.5,-365\"/>\n<text text-anchor=\"middle\" x=\"277.5\" y=\"-349.8\" font-family=\"Helvetica,sans-Serif\" font-size=\"14.00\" fill=\"#000000\">sepal_width &lt;= 2.95</text>\n<text text-anchor=\"middle\" x=\"277.5\" y=\"-334.8\" font-family=\"Helvetica,sans-Serif\" font-size=\"14.00\" fill=\"#000000\">5</text>\n<text text-anchor=\"middle\" x=\"277.5\" y=\"-319.8\" font-family=\"Helvetica,sans-Serif\" font-size=\"14.00\" fill=\"#000000\">[0, 2, 3]</text>\n<text text-anchor=\"middle\" x=\"277.5\" y=\"-304.8\" font-family=\"Helvetica,sans-Serif\" font-size=\"14.00\" fill=\"#000000\">virginica</text>\n</g>\n<!-- 6&#45;&gt;7 -->\n<g id=\"edge7\" class=\"edge\">\n<title>6&#45;&gt;7</title>\n<path fill=\"none\" stroke=\"#000000\" d=\"M283.5531,-400.9465C282.846,-392.776 282.0806,-383.9318 281.3397,-375.3697\"/>\n<polygon fill=\"#000000\" stroke=\"#000000\" points=\"284.8028,-374.791 280.4536,-365.13 277.8288,-375.3945 284.8028,-374.791\"/>\n</g>\n<!-- 10 -->\n<g id=\"node11\" class=\"node\">\n<title>10</title>\n<path fill=\"#853fe6\" stroke=\"#000000\" d=\"M490.5,-365C490.5,-365 380.5,-365 380.5,-365 374.5,-365 368.5,-359 368.5,-353 368.5,-353 368.5,-309 368.5,-309 368.5,-303 374.5,-297 380.5,-297 380.5,-297 490.5,-297 490.5,-297 496.5,-297 502.5,-303 502.5,-309 502.5,-309 502.5,-353 502.5,-353 502.5,-359 496.5,-365 490.5,-365\"/>\n<text text-anchor=\"middle\" x=\"435.5\" y=\"-349.8\" font-family=\"Helvetica,sans-Serif\" font-size=\"14.00\" fill=\"#000000\">petal_width &lt;= 1.7</text>\n<text text-anchor=\"middle\" x=\"435.5\" y=\"-334.8\" font-family=\"Helvetica,sans-Serif\" font-size=\"14.00\" fill=\"#000000\">32</text>\n<text text-anchor=\"middle\" x=\"435.5\" y=\"-319.8\" font-family=\"Helvetica,sans-Serif\" font-size=\"14.00\" fill=\"#000000\">[0, 1, 31]</text>\n<text text-anchor=\"middle\" x=\"435.5\" y=\"-304.8\" font-family=\"Helvetica,sans-Serif\" font-size=\"14.00\" fill=\"#000000\">virginica</text>\n</g>\n<!-- 6&#45;&gt;10 -->\n<g id=\"edge10\" class=\"edge\">\n<title>6&#45;&gt;10</title>\n<path fill=\"none\" stroke=\"#000000\" d=\"M335.2882,-400.9465C349.0521,-391.3395 364.1506,-380.8009 378.3574,-370.8848\"/>\n<polygon fill=\"#000000\" stroke=\"#000000\" points=\"380.4054,-373.7236 386.6022,-365.13 376.3989,-367.9835 380.4054,-373.7236\"/>\n</g>\n<!-- 8 -->\n<g id=\"node9\" class=\"node\">\n<title>8</title>\n<path fill=\"#8139e5\" stroke=\"#000000\" d=\"M214.5,-253.5C214.5,-253.5 168.5,-253.5 168.5,-253.5 162.5,-253.5 156.5,-247.5 156.5,-241.5 156.5,-241.5 156.5,-212.5 156.5,-212.5 156.5,-206.5 162.5,-200.5 168.5,-200.5 168.5,-200.5 214.5,-200.5 214.5,-200.5 220.5,-200.5 226.5,-206.5 226.5,-212.5 226.5,-212.5 226.5,-241.5 226.5,-241.5 226.5,-247.5 220.5,-253.5 214.5,-253.5\"/>\n<text text-anchor=\"middle\" x=\"191.5\" y=\"-238.3\" font-family=\"Helvetica,sans-Serif\" font-size=\"14.00\" fill=\"#000000\">3</text>\n<text text-anchor=\"middle\" x=\"191.5\" y=\"-223.3\" font-family=\"Helvetica,sans-Serif\" font-size=\"14.00\" fill=\"#000000\">[0, 0, 3]</text>\n<text text-anchor=\"middle\" x=\"191.5\" y=\"-208.3\" font-family=\"Helvetica,sans-Serif\" font-size=\"14.00\" fill=\"#000000\">virginica</text>\n</g>\n<!-- 7&#45;&gt;8 -->\n<g id=\"edge8\" class=\"edge\">\n<title>7&#45;&gt;8</title>\n<path fill=\"none\" stroke=\"#000000\" d=\"M249.3404,-296.9465C239.9587,-285.6012 229.5027,-272.9567 220.0887,-261.5724\"/>\n<polygon fill=\"#000000\" stroke=\"#000000\" points=\"222.5183,-259.0182 213.4483,-253.5422 217.1237,-263.4791 222.5183,-259.0182\"/>\n</g>\n<!-- 9 -->\n<g id=\"node10\" class=\"node\">\n<title>9</title>\n<path fill=\"#39e581\" stroke=\"#000000\" d=\"M312,-253.5C312,-253.5 257,-253.5 257,-253.5 251,-253.5 245,-247.5 245,-241.5 245,-241.5 245,-212.5 245,-212.5 245,-206.5 251,-200.5 257,-200.5 257,-200.5 312,-200.5 312,-200.5 318,-200.5 324,-206.5 324,-212.5 324,-212.5 324,-241.5 324,-241.5 324,-247.5 318,-253.5 312,-253.5\"/>\n<text text-anchor=\"middle\" x=\"284.5\" y=\"-238.3\" font-family=\"Helvetica,sans-Serif\" font-size=\"14.00\" fill=\"#000000\">2</text>\n<text text-anchor=\"middle\" x=\"284.5\" y=\"-223.3\" font-family=\"Helvetica,sans-Serif\" font-size=\"14.00\" fill=\"#000000\">[0, 2, 0]</text>\n<text text-anchor=\"middle\" x=\"284.5\" y=\"-208.3\" font-family=\"Helvetica,sans-Serif\" font-size=\"14.00\" fill=\"#000000\">versicolor</text>\n</g>\n<!-- 7&#45;&gt;9 -->\n<g id=\"edge9\" class=\"edge\">\n<title>7&#45;&gt;9</title>\n<path fill=\"none\" stroke=\"#000000\" d=\"M279.7921,-296.9465C280.5112,-286.2621 281.3079,-274.4254 282.0383,-263.5742\"/>\n<polygon fill=\"#000000\" stroke=\"#000000\" points=\"285.534,-263.7547 282.7135,-253.5422 278.5498,-263.2845 285.534,-263.7547\"/>\n</g>\n<!-- 11 -->\n<g id=\"node12\" class=\"node\">\n<title>11</title>\n<path fill=\"#a06aec\" stroke=\"#000000\" d=\"M487,-261C487,-261 368,-261 368,-261 362,-261 356,-255 356,-249 356,-249 356,-205 356,-205 356,-199 362,-193 368,-193 368,-193 487,-193 487,-193 493,-193 499,-199 499,-205 499,-205 499,-249 499,-249 499,-255 493,-261 487,-261\"/>\n<text text-anchor=\"middle\" x=\"427.5\" y=\"-245.8\" font-family=\"Helvetica,sans-Serif\" font-size=\"14.00\" fill=\"#000000\">petal_width &lt;= 1.55</text>\n<text text-anchor=\"middle\" x=\"427.5\" y=\"-230.8\" font-family=\"Helvetica,sans-Serif\" font-size=\"14.00\" fill=\"#000000\">5</text>\n<text text-anchor=\"middle\" x=\"427.5\" y=\"-215.8\" font-family=\"Helvetica,sans-Serif\" font-size=\"14.00\" fill=\"#000000\">[0, 1, 4]</text>\n<text text-anchor=\"middle\" x=\"427.5\" y=\"-200.8\" font-family=\"Helvetica,sans-Serif\" font-size=\"14.00\" fill=\"#000000\">virginica</text>\n</g>\n<!-- 10&#45;&gt;11 -->\n<g id=\"edge11\" class=\"edge\">\n<title>10&#45;&gt;11</title>\n<path fill=\"none\" stroke=\"#000000\" d=\"M432.8805,-296.9465C432.252,-288.776 431.5717,-279.9318 430.9131,-271.3697\"/>\n<polygon fill=\"#000000\" stroke=\"#000000\" points=\"434.3821,-270.8321 430.1254,-261.13 427.4027,-271.369 434.3821,-270.8321\"/>\n</g>\n<!-- 16 -->\n<g id=\"node17\" class=\"node\">\n<title>16</title>\n<path fill=\"#8139e5\" stroke=\"#000000\" d=\"M577.5,-253.5C577.5,-253.5 529.5,-253.5 529.5,-253.5 523.5,-253.5 517.5,-247.5 517.5,-241.5 517.5,-241.5 517.5,-212.5 517.5,-212.5 517.5,-206.5 523.5,-200.5 529.5,-200.5 529.5,-200.5 577.5,-200.5 577.5,-200.5 583.5,-200.5 589.5,-206.5 589.5,-212.5 589.5,-212.5 589.5,-241.5 589.5,-241.5 589.5,-247.5 583.5,-253.5 577.5,-253.5\"/>\n<text text-anchor=\"middle\" x=\"553.5\" y=\"-238.3\" font-family=\"Helvetica,sans-Serif\" font-size=\"14.00\" fill=\"#000000\">27</text>\n<text text-anchor=\"middle\" x=\"553.5\" y=\"-223.3\" font-family=\"Helvetica,sans-Serif\" font-size=\"14.00\" fill=\"#000000\">[0, 0, 27]</text>\n<text text-anchor=\"middle\" x=\"553.5\" y=\"-208.3\" font-family=\"Helvetica,sans-Serif\" font-size=\"14.00\" fill=\"#000000\">virginica</text>\n</g>\n<!-- 10&#45;&gt;16 -->\n<g id=\"edge16\" class=\"edge\">\n<title>10&#45;&gt;16</title>\n<path fill=\"none\" stroke=\"#000000\" d=\"M474.1376,-296.9465C487.5101,-285.1606 502.4734,-271.9726 515.7719,-260.2519\"/>\n<polygon fill=\"#000000\" stroke=\"#000000\" points=\"518.197,-262.7799 523.3849,-253.5422 513.5685,-257.5285 518.197,-262.7799\"/>\n</g>\n<!-- 12 -->\n<g id=\"node13\" class=\"node\">\n<title>12</title>\n<path fill=\"#8139e5\" stroke=\"#000000\" d=\"M387.5,-149.5C387.5,-149.5 341.5,-149.5 341.5,-149.5 335.5,-149.5 329.5,-143.5 329.5,-137.5 329.5,-137.5 329.5,-108.5 329.5,-108.5 329.5,-102.5 335.5,-96.5 341.5,-96.5 341.5,-96.5 387.5,-96.5 387.5,-96.5 393.5,-96.5 399.5,-102.5 399.5,-108.5 399.5,-108.5 399.5,-137.5 399.5,-137.5 399.5,-143.5 393.5,-149.5 387.5,-149.5\"/>\n<text text-anchor=\"middle\" x=\"364.5\" y=\"-134.3\" font-family=\"Helvetica,sans-Serif\" font-size=\"14.00\" fill=\"#000000\">3</text>\n<text text-anchor=\"middle\" x=\"364.5\" y=\"-119.3\" font-family=\"Helvetica,sans-Serif\" font-size=\"14.00\" fill=\"#000000\">[0, 0, 3]</text>\n<text text-anchor=\"middle\" x=\"364.5\" y=\"-104.3\" font-family=\"Helvetica,sans-Serif\" font-size=\"14.00\" fill=\"#000000\">virginica</text>\n</g>\n<!-- 11&#45;&gt;12 -->\n<g id=\"edge12\" class=\"edge\">\n<title>11&#45;&gt;12</title>\n<path fill=\"none\" stroke=\"#000000\" d=\"M406.8714,-192.9465C400.1322,-181.8215 392.6363,-169.4473 385.8455,-158.237\"/>\n<polygon fill=\"#000000\" stroke=\"#000000\" points=\"388.7533,-156.2818 380.5784,-149.5422 382.7661,-159.9087 388.7533,-156.2818\"/>\n</g>\n<!-- 13 -->\n<g id=\"node14\" class=\"node\">\n<title>13</title>\n<path fill=\"#ffffff\" stroke=\"#000000\" d=\"M549.5,-157C549.5,-157 429.5,-157 429.5,-157 423.5,-157 417.5,-151 417.5,-145 417.5,-145 417.5,-101 417.5,-101 417.5,-95 423.5,-89 429.5,-89 429.5,-89 549.5,-89 549.5,-89 555.5,-89 561.5,-95 561.5,-101 561.5,-101 561.5,-145 561.5,-145 561.5,-151 555.5,-157 549.5,-157\"/>\n<text text-anchor=\"middle\" x=\"489.5\" y=\"-141.8\" font-family=\"Helvetica,sans-Serif\" font-size=\"14.00\" fill=\"#000000\">sepal_length &lt;= 6.6</text>\n<text text-anchor=\"middle\" x=\"489.5\" y=\"-126.8\" font-family=\"Helvetica,sans-Serif\" font-size=\"14.00\" fill=\"#000000\">2</text>\n<text text-anchor=\"middle\" x=\"489.5\" y=\"-111.8\" font-family=\"Helvetica,sans-Serif\" font-size=\"14.00\" fill=\"#000000\">[0, 1, 1]</text>\n<text text-anchor=\"middle\" x=\"489.5\" y=\"-96.8\" font-family=\"Helvetica,sans-Serif\" font-size=\"14.00\" fill=\"#000000\">versicolor</text>\n</g>\n<!-- 11&#45;&gt;13 -->\n<g id=\"edge13\" class=\"edge\">\n<title>11&#45;&gt;13</title>\n<path fill=\"none\" stroke=\"#000000\" d=\"M447.8011,-192.9465C452.9396,-184.3271 458.5251,-174.9579 463.8886,-165.9611\"/>\n<polygon fill=\"#000000\" stroke=\"#000000\" points=\"467.0389,-167.5117 469.1533,-157.13 461.0263,-163.9272 467.0389,-167.5117\"/>\n</g>\n<!-- 14 -->\n<g id=\"node15\" class=\"node\">\n<title>14</title>\n<path fill=\"#39e581\" stroke=\"#000000\" d=\"M470,-53C470,-53 415,-53 415,-53 409,-53 403,-47 403,-41 403,-41 403,-12 403,-12 403,-6 409,0 415,0 415,0 470,0 470,0 476,0 482,-6 482,-12 482,-12 482,-41 482,-41 482,-47 476,-53 470,-53\"/>\n<text text-anchor=\"middle\" x=\"442.5\" y=\"-37.8\" font-family=\"Helvetica,sans-Serif\" font-size=\"14.00\" fill=\"#000000\">1</text>\n<text text-anchor=\"middle\" x=\"442.5\" y=\"-22.8\" font-family=\"Helvetica,sans-Serif\" font-size=\"14.00\" fill=\"#000000\">[0, 1, 0]</text>\n<text text-anchor=\"middle\" x=\"442.5\" y=\"-7.8\" font-family=\"Helvetica,sans-Serif\" font-size=\"14.00\" fill=\"#000000\">versicolor</text>\n</g>\n<!-- 13&#45;&gt;14 -->\n<g id=\"edge14\" class=\"edge\">\n<title>13&#45;&gt;14</title>\n<path fill=\"none\" stroke=\"#000000\" d=\"M472.9296,-88.9777C468.7373,-80.3702 464.2219,-71.0992 459.986,-62.402\"/>\n<polygon fill=\"#000000\" stroke=\"#000000\" points=\"463.0532,-60.7063 455.5278,-53.2485 456.7599,-63.7714 463.0532,-60.7063\"/>\n</g>\n<!-- 15 -->\n<g id=\"node16\" class=\"node\">\n<title>15</title>\n<path fill=\"#8139e5\" stroke=\"#000000\" d=\"M558.5,-53C558.5,-53 512.5,-53 512.5,-53 506.5,-53 500.5,-47 500.5,-41 500.5,-41 500.5,-12 500.5,-12 500.5,-6 506.5,0 512.5,0 512.5,0 558.5,0 558.5,0 564.5,0 570.5,-6 570.5,-12 570.5,-12 570.5,-41 570.5,-41 570.5,-47 564.5,-53 558.5,-53\"/>\n<text text-anchor=\"middle\" x=\"535.5\" y=\"-37.8\" font-family=\"Helvetica,sans-Serif\" font-size=\"14.00\" fill=\"#000000\">1</text>\n<text text-anchor=\"middle\" x=\"535.5\" y=\"-22.8\" font-family=\"Helvetica,sans-Serif\" font-size=\"14.00\" fill=\"#000000\">[0, 0, 1]</text>\n<text text-anchor=\"middle\" x=\"535.5\" y=\"-7.8\" font-family=\"Helvetica,sans-Serif\" font-size=\"14.00\" fill=\"#000000\">virginica</text>\n</g>\n<!-- 13&#45;&gt;15 -->\n<g id=\"edge15\" class=\"edge\">\n<title>13&#45;&gt;15</title>\n<path fill=\"none\" stroke=\"#000000\" d=\"M505.7179,-88.9777C509.821,-80.3702 514.2403,-71.0992 518.3861,-62.402\"/>\n<polygon fill=\"#000000\" stroke=\"#000000\" points=\"521.6058,-63.7814 522.7494,-53.2485 515.287,-60.7693 521.6058,-63.7814\"/>\n</g>\n</g>\n</svg>\n"
          },
          "metadata": {},
          "execution_count": 14
        }
      ]
    },
    {
      "cell_type": "markdown",
      "source": [
        "## Classificação em R: Árvore de Decisão\n",
        "\n",
        "Em Python, embora existam outras, empregamos uma única biblioteca de Aprendizado de Máquina, o scikit-learn. De fato essa a biblioteca mais empregada e possui boa algoritmos de interesse, exceto os mais recentes algoritmos de Deep Learning. \n",
        "\n",
        "Em R, entretanto, os algoritmos de Aprendizado de Máquina encontram-se na maior parte em diferentes bibliotecas, havendo ainda para alguns casos mais que uma implementação para o mesmo algoritmo. Árvores de Decisão, por exemplo, podem ser encontradas no pacote `ctree` ou ainda no pacote `rpart`. Enquanto no Python, como você viu, o   uso de uma única biblioteca garante uma uniformidade bastante grande entre a aplicação dos diferentes modelos, em R essa uniformidade não é tão grande podendo haver grande diferença entre a aplicação de um modelo ou outro. \n",
        "\n",
        "Vamos empregar aqui  o pacote `rpart` e um complemento para a visualização de uma Árvore de Decisão. "
      ],
      "metadata": {
        "id": "LdvrvNWFNKj-"
      }
    },
    {
      "cell_type": "code",
      "source": [
        "%%R\n",
        "install.packages('rpart.plot')"
      ],
      "metadata": {
        "colab": {
          "base_uri": "https://localhost:8080/"
        },
        "id": "wWM4HJiDOQ_5",
        "outputId": "fa0a36bf-ea2b-4dc0-808d-9c135515bdc0"
      },
      "execution_count": 15,
      "outputs": [
        {
          "output_type": "stream",
          "name": "stderr",
          "text": [
            "R[write to console]: Installing package into ‘/usr/local/lib/R/site-library’\n",
            "(as ‘lib’ is unspecified)\n",
            "\n",
            "R[write to console]: trying URL 'https://cran.rstudio.com/src/contrib/rpart.plot_3.1.0.tar.gz'\n",
            "\n",
            "R[write to console]: Content type 'application/x-gzip'\n",
            "R[write to console]:  length 672013 bytes (656 KB)\n",
            "\n",
            "R[write to console]: =\n",
            "R[write to console]: =\n",
            "R[write to console]: =\n",
            "R[write to console]: =\n",
            "R[write to console]: =\n",
            "R[write to console]: =\n",
            "R[write to console]: =\n",
            "R[write to console]: =\n",
            "R[write to console]: =\n",
            "R[write to console]: =\n",
            "R[write to console]: =\n",
            "R[write to console]: =\n",
            "R[write to console]: =\n",
            "R[write to console]: =\n",
            "R[write to console]: =\n",
            "R[write to console]: =\n",
            "R[write to console]: =\n",
            "R[write to console]: =\n",
            "R[write to console]: =\n",
            "R[write to console]: =\n",
            "R[write to console]: =\n",
            "R[write to console]: =\n",
            "R[write to console]: =\n",
            "R[write to console]: =\n",
            "R[write to console]: =\n",
            "R[write to console]: =\n",
            "R[write to console]: =\n",
            "R[write to console]: =\n",
            "R[write to console]: =\n",
            "R[write to console]: =\n",
            "R[write to console]: =\n",
            "R[write to console]: =\n",
            "R[write to console]: =\n",
            "R[write to console]: =\n",
            "R[write to console]: =\n",
            "R[write to console]: =\n",
            "R[write to console]: =\n",
            "R[write to console]: =\n",
            "R[write to console]: =\n",
            "R[write to console]: =\n",
            "R[write to console]: =\n",
            "R[write to console]: =\n",
            "R[write to console]: =\n",
            "R[write to console]: =\n",
            "R[write to console]: =\n",
            "R[write to console]: =\n",
            "R[write to console]: =\n",
            "R[write to console]: =\n",
            "R[write to console]: =\n",
            "R[write to console]: =\n",
            "R[write to console]: \n",
            "\n",
            "R[write to console]: downloaded 656 KB\n",
            "\n",
            "\n",
            "R[write to console]: \n",
            "\n",
            "R[write to console]: \n",
            "R[write to console]: The downloaded source packages are in\n",
            "\t‘/tmp/RtmpkJHNSE/downloaded_packages’\n",
            "R[write to console]: \n",
            "R[write to console]: \n",
            "\n"
          ]
        }
      ]
    },
    {
      "cell_type": "code",
      "source": [
        "%%R\n",
        "library(rpart)\n",
        "library(rpart.plot)\n",
        "\n",
        "set.seed(123)\n",
        "\n",
        "L = sample(1:nrow(iris),round(0.3*nrow(iris)))  \n",
        "\n",
        "test = iris[L,]\n",
        "train = iris[-L,]\n",
        "\n",
        "fit = rpart(Species ~  .,data=train)\n",
        "\n",
        "rpart.plot(fit, extra = 106)\n"
      ],
      "metadata": {
        "id": "ZdKN0Si_NgRX"
      },
      "execution_count": 36,
      "outputs": []
    },
    {
      "cell_type": "markdown",
      "source": [
        "As variáveis preditoras `X` e objetivo `y` do modelo são mais uma vez determinadas pela notação de fórmula, e a fórmula:\n",
        "\n",
        "```\n",
        "Species ~ .\n",
        "```\n",
        "\n",
        "Equivale a escrever:\n",
        "\n",
        "```\n",
        "Species = Petal.Length +  Petal.Width + Sepal.Length + Sepal.Width + Petal.Width\n",
        "```\n",
        "\n",
        "Pois o '.' indica que todos os atributos do dataframe dos dados serão empregados como preditores. \n"
      ],
      "metadata": {
        "id": "boHlyF_SRjjT"
      }
    },
    {
      "cell_type": "code",
      "source": [
        "%%R\n",
        "pred = predict(fit,test,type = \"class\")\n",
        "print(pred)\n",
        "\n",
        "cm = table(test$Species, pred)\n",
        "cat('\\n\\n Matriz de Confusão: \\n')\n",
        "print(cm)\n",
        "\n",
        "cat('\\n\\n Acuracidade: ', sum(diag(cm))/sum(cm))"
      ],
      "metadata": {
        "colab": {
          "base_uri": "https://localhost:8080/"
        },
        "id": "Dqq51IFxPh1o",
        "outputId": "90dfbb24-d4ef-477e-af85-50b0349b533e"
      },
      "execution_count": 17,
      "outputs": [
        {
          "output_type": "stream",
          "name": "stdout",
          "text": [
            "        14         50        118         43        150        148         90 \n",
            "    setosa     setosa  virginica     setosa  virginica  virginica versicolor \n",
            "        91        143         92        137         99         72         26 \n",
            "versicolor  virginica versicolor  virginica versicolor versicolor     setosa \n",
            "         7         78         81        147        103        117         76 \n",
            "    setosa  virginica versicolor  virginica  virginica  virginica versicolor \n",
            "        32        106        109        136          9         41         74 \n",
            "    setosa  virginica  virginica  virginica     setosa     setosa versicolor \n",
            "        23         27         60         53        126        119        121 \n",
            "    setosa     setosa versicolor versicolor  virginica  virginica  virginica \n",
            "        96         38         89         34         93         69        138 \n",
            "versicolor     setosa versicolor     setosa versicolor versicolor  virginica \n",
            "       130         63         13 \n",
            "versicolor versicolor     setosa \n",
            "Levels: setosa versicolor virginica\n",
            "\n",
            "\n",
            " Matriz de Confusão: \n",
            "            pred\n",
            "             setosa versicolor virginica\n",
            "  setosa         13          0         0\n",
            "  versicolor      0         15         1\n",
            "  virginica       0          1        15\n",
            "\n",
            "\n",
            " Acuracidade:  0.9555556"
          ]
        }
      ]
    },
    {
      "cell_type": "code",
      "source": [
        "%%R\n",
        "Sepal.Length = c(4.5)\n",
        "Sepal.Width = c(3.25)\n",
        "Petal.Length = c(1.3)\n",
        "Petal.Width = c(0.3)\n",
        "newdata = data.frame(Sepal.Length, Sepal.Width, Petal.Length, Petal.Width)\n",
        "\n",
        "prediction = predict(fit, newdata, type = \"class\")   \n",
        "print(prediction)\n",
        "\n"
      ],
      "metadata": {
        "colab": {
          "base_uri": "https://localhost:8080/"
        },
        "id": "TZy8OVPoeuAc",
        "outputId": "facdd4de-464c-441a-a49b-ef29322eede2"
      },
      "execution_count": 18,
      "outputs": [
        {
          "output_type": "stream",
          "name": "stdout",
          "text": [
            "     1 \n",
            "setosa \n",
            "Levels: setosa versicolor virginica\n"
          ]
        }
      ]
    },
    {
      "cell_type": "markdown",
      "source": [
        "A função predict é mais ou menos comum podendo ser aplicada a diferentes modelos de diferentes pacotes. Não há, entretanto, funções diretas equivalentes às do scikit-learn para o score dos modelos, a acuracidade ou algo como o classification report. Você pode entretanto obter facilmente a Matriz de Confusão e, a partir daí, tirar todas as métricas que deseja como fizemos acima para a acuracidade."
      ],
      "metadata": {
        "id": "4ZGM28tdSQmA"
      }
    },
    {
      "cell_type": "markdown",
      "source": [
        "## Classificação em R: Naive Bayes\n",
        "\n",
        "Embora tenhamos de lidar com diferentes pacotes para diferentes modelos as funções mais simples que empregamos aqui podem ser aplicadas diretamente de um modelo para outro. \n",
        "\n",
        "Você pode aplicar, por exemplo, o modelo Naive Bayes que, à exemplo das Árvores de Decisão, emprega a probabilidade (a proporção) dos valores, no lugar dos valores, para construir um modelo dos dados. Ele emprega ainda o famoso Teorema de Bayes sobre probabilidades condicionadas. Este é um modelo bastante eficiente e que tem resultados bastante bons mesmo quando a premissa de que as variáveis preditoras não sejam correlacionadas não se verifica, o que ocorre na maior parte dos casos práticos. Por isso, assim como Árvores de Decisão, empregamos esses modelos como um modelo base para, em seguida, buscarmos modelos melhores. O classificador emprega a mesma *formula* e esquema de uso da Árvore de Decisão do pacote `rpart`."
      ],
      "metadata": {
        "id": "TRObz_qqWN_S"
      }
    },
    {
      "cell_type": "code",
      "source": [
        "%%R\n",
        "install.packages('naivebayes')"
      ],
      "metadata": {
        "colab": {
          "base_uri": "https://localhost:8080/"
        },
        "id": "n1pIsuiwULmz",
        "outputId": "0e80fe35-4d78-48a1-bd2d-66e39cfad5b4"
      },
      "execution_count": 19,
      "outputs": [
        {
          "output_type": "stream",
          "name": "stderr",
          "text": [
            "R[write to console]: Installing package into ‘/usr/local/lib/R/site-library’\n",
            "(as ‘lib’ is unspecified)\n",
            "\n",
            "R[write to console]: trying URL 'https://cran.rstudio.com/src/contrib/naivebayes_0.9.7.tar.gz'\n",
            "\n",
            "R[write to console]: Content type 'application/x-gzip'\n",
            "R[write to console]:  length 705994 bytes (689 KB)\n",
            "\n",
            "R[write to console]: =\n",
            "R[write to console]: =\n",
            "R[write to console]: =\n",
            "R[write to console]: =\n",
            "R[write to console]: =\n",
            "R[write to console]: =\n",
            "R[write to console]: =\n",
            "R[write to console]: =\n",
            "R[write to console]: =\n",
            "R[write to console]: =\n",
            "R[write to console]: =\n",
            "R[write to console]: =\n",
            "R[write to console]: =\n",
            "R[write to console]: =\n",
            "R[write to console]: =\n",
            "R[write to console]: =\n",
            "R[write to console]: =\n",
            "R[write to console]: =\n",
            "R[write to console]: =\n",
            "R[write to console]: =\n",
            "R[write to console]: =\n",
            "R[write to console]: =\n",
            "R[write to console]: =\n",
            "R[write to console]: =\n",
            "R[write to console]: =\n",
            "R[write to console]: =\n",
            "R[write to console]: =\n",
            "R[write to console]: =\n",
            "R[write to console]: =\n",
            "R[write to console]: =\n",
            "R[write to console]: =\n",
            "R[write to console]: =\n",
            "R[write to console]: =\n",
            "R[write to console]: =\n",
            "R[write to console]: =\n",
            "R[write to console]: =\n",
            "R[write to console]: =\n",
            "R[write to console]: =\n",
            "R[write to console]: =\n",
            "R[write to console]: =\n",
            "R[write to console]: =\n",
            "R[write to console]: =\n",
            "R[write to console]: =\n",
            "R[write to console]: =\n",
            "R[write to console]: =\n",
            "R[write to console]: =\n",
            "R[write to console]: =\n",
            "R[write to console]: =\n",
            "R[write to console]: =\n",
            "R[write to console]: =\n",
            "R[write to console]: \n",
            "\n",
            "R[write to console]: downloaded 689 KB\n",
            "\n",
            "\n",
            "R[write to console]: \n",
            "\n",
            "R[write to console]: \n",
            "R[write to console]: The downloaded source packages are in\n",
            "\t‘/tmp/RtmpkJHNSE/downloaded_packages’\n",
            "R[write to console]: \n",
            "R[write to console]: \n",
            "\n"
          ]
        }
      ]
    },
    {
      "cell_type": "code",
      "source": [
        "%%R\n",
        "library(naivebayes)"
      ],
      "metadata": {
        "colab": {
          "base_uri": "https://localhost:8080/"
        },
        "id": "1S2LgRiAVlPi",
        "outputId": "6098dc24-85c7-4e3a-88f0-1128c2a95e8f"
      },
      "execution_count": 20,
      "outputs": [
        {
          "output_type": "stream",
          "name": "stderr",
          "text": [
            "R[write to console]: naivebayes 0.9.7 loaded\n",
            "\n"
          ]
        }
      ]
    },
    {
      "cell_type": "code",
      "source": [
        "%%R\n",
        "set.seed(123)\n",
        "\n",
        "L = sample(1:nrow(iris),round(0.3*nrow(iris)))  \n",
        "\n",
        "test = iris[L,]\n",
        "train = iris[-L,]\n",
        "\n",
        "fit = naive_bayes(Species ~ ., data = train, usekernel = T) \n",
        "\n",
        "summary(fit)\n",
        "plot(fit)\n",
        "\n",
        "pred = predict(fit,test,type = \"class\")\n",
        "print(pred)\n",
        "\n",
        "cm = table(test$Species, pred)\n",
        "cat('\\n\\n Matriz de Confusão: \\n')\n",
        "print(cm)\n",
        "\n",
        "cat('\\n\\n Acuracidade: ', sum(diag(cm))/sum(cm))"
      ],
      "metadata": {
        "colab": {
          "base_uri": "https://localhost:8080/",
          "height": 1000
        },
        "outputId": "24f7ee7e-d3b6-4185-c960-d05b36dbfd67",
        "id": "9Rls6KmDVsJ2"
      },
      "execution_count": 21,
      "outputs": [
        {
          "output_type": "stream",
          "name": "stdout",
          "text": [
            "\n",
            "================================== Naive Bayes ================================== \n",
            " \n",
            "- Call: naive_bayes.formula(formula = Species ~ ., data = train, usekernel = T) \n",
            "- Laplace: 0 \n",
            "- Classes: 3 \n",
            "- Samples: 105 \n",
            "- Features: 4 \n",
            "- Conditional distributions: \n",
            "    - KDE: 4\n",
            "- Prior probabilities: \n",
            "    - setosa: 0.3524\n",
            "    - versicolor: 0.3238\n",
            "    - virginica: 0.3238\n",
            "\n",
            "--------------------------------------------------------------------------------- \n",
            " [1] setosa     setosa     virginica  setosa     virginica  virginica \n",
            " [7] versicolor versicolor virginica  versicolor virginica  versicolor\n",
            "[13] versicolor setosa     setosa     virginica  versicolor virginica \n",
            "[19] virginica  virginica  versicolor setosa     virginica  virginica \n",
            "[25] virginica  setosa     setosa     versicolor setosa     setosa    \n",
            "[31] versicolor versicolor virginica  virginica  virginica  versicolor\n",
            "[37] setosa     versicolor setosa     versicolor versicolor virginica \n",
            "[43] virginica  versicolor setosa    \n",
            "Levels: setosa versicolor virginica\n",
            "\n",
            "\n",
            " Matriz de Confusão: \n",
            "            pred\n",
            "             setosa versicolor virginica\n",
            "  setosa         13          0         0\n",
            "  versicolor      0         15         1\n",
            "  virginica       0          0        16\n",
            "\n",
            "\n",
            " Acuracidade:  0.9777778"
          ]
        },
        {
          "output_type": "display_data",
          "data": {
            "image/png": "[encoded data removed]"
          },
          "metadata": {}
        },
        {
          "output_type": "display_data",
          "data": {
            "image/png": "[encoded data removed]"
          },
          "metadata": {}
        },
        {
          "output_type": "display_data",
          "data": {
            "image/png": "[encoded data removed]"
          },
          "metadata": {}
        },
        {
          "output_type": "display_data",
          "data": {
            "image/png": "[encoded data removed]"
          },
          "metadata": {}
        }
      ]
    },
    {
      "cell_type": "code",
      "source": [
        "%%R\n",
        "prediction = predict(fit, newdata, type = \"class\")   \n",
        "print(prediction)"
      ],
      "metadata": {
        "colab": {
          "base_uri": "https://localhost:8080/"
        },
        "id": "kwq84--jgUHP",
        "outputId": "49b50621-f200-47e1-e32c-28810f451347"
      },
      "execution_count": 22,
      "outputs": [
        {
          "output_type": "stream",
          "name": "stdout",
          "text": [
            "[1] setosa\n",
            "Levels: setosa versicolor virginica\n"
          ]
        }
      ]
    },
    {
      "cell_type": "markdown",
      "source": [
        "## Classificação em R: Regressão Logística\n",
        "\n",
        "Você deve estar lembrado, a Regressão Logística é um separador linear binário. Não pode portanto classificar mais que duas classes. Seu resultado é uma probabilidade $P(positive)$  de a classe ser a classe *positiva* sendo, portanto, $1 - P(positive)$ a probabilidade da outra classe $P(negative)$. \n",
        "\n",
        "O R implementa **exatamente** esse algoritmo e não podemos, portanto, empregar a regressão logística aqui para a classificação das 3 classes de iris. Podemos entretanto empregar o modelo para classificar iris *setosa* e *não setosa*. "
      ],
      "metadata": {
        "id": "g6aFGYXLYags"
      }
    },
    {
      "cell_type": "code",
      "source": [
        "%%R\n",
        "iris_setosa = iris\n",
        "iris_setosa[,'setosa'] = iris$Species == 'setosa'\n",
        "\n",
        "head(iris_setosa)"
      ],
      "metadata": {
        "colab": {
          "base_uri": "https://localhost:8080/"
        },
        "id": "OcRiZVpIZrvz",
        "outputId": "a6ca4258-15bb-45ff-e3ef-850b84edb018"
      },
      "execution_count": 23,
      "outputs": [
        {
          "output_type": "stream",
          "name": "stdout",
          "text": [
            "  Sepal.Length Sepal.Width Petal.Length Petal.Width Species setosa\n",
            "1          5.1         3.5          1.4         0.2  setosa   TRUE\n",
            "2          4.9         3.0          1.4         0.2  setosa   TRUE\n",
            "3          4.7         3.2          1.3         0.2  setosa   TRUE\n",
            "4          4.6         3.1          1.5         0.2  setosa   TRUE\n",
            "5          5.0         3.6          1.4         0.2  setosa   TRUE\n",
            "6          5.4         3.9          1.7         0.4  setosa   TRUE\n"
          ]
        }
      ]
    },
    {
      "cell_type": "code",
      "source": [
        "%%R\n",
        "set.seed(123)\n",
        "\n",
        "L = sample(1:nrow(iris_setosa),round(0.3*nrow(iris_setosa)))  \n",
        "\n",
        "test = iris_setosa[L,]\n",
        "train = iris_setosa[-L,]\n",
        "\n",
        "fit = glm(Species ~ .,family=binomial(link='logit'),data=train)\n",
        "\n",
        "summary(fit)\n",
        "\n",
        "pred = predict(fit,test,type = \"response\") < 0.5\n",
        "print(pred)\n",
        "\n",
        "cm = table(test$setosa, pred)\n",
        "cat('\\n\\n Matriz de Confusão: \\n')\n",
        "print(cm)\n",
        "\n",
        "cat('\\n\\n Acuracidade: ', sum(diag(cm))/sum(cm))"
      ],
      "metadata": {
        "colab": {
          "base_uri": "https://localhost:8080/"
        },
        "outputId": "81ddcac4-af28-4281-acb2-0d3c981ddcf7",
        "id": "rU87pDpRULm6"
      },
      "execution_count": 24,
      "outputs": [
        {
          "output_type": "stream",
          "name": "stdout",
          "text": [
            "   14    50   118    43   150   148    90    91   143    92   137    99    72 \n",
            " TRUE  TRUE FALSE  TRUE FALSE FALSE FALSE FALSE FALSE FALSE FALSE FALSE FALSE \n",
            "   26     7    78    81   147   103   117    76    32   106   109   136     9 \n",
            " TRUE  TRUE FALSE FALSE FALSE FALSE FALSE FALSE  TRUE FALSE FALSE FALSE  TRUE \n",
            "   41    74    23    27    60    53   126   119   121    96    38    89    34 \n",
            " TRUE FALSE  TRUE  TRUE FALSE FALSE FALSE FALSE FALSE FALSE  TRUE FALSE  TRUE \n",
            "   93    69   138   130    63    13 \n",
            "FALSE FALSE FALSE FALSE FALSE  TRUE \n",
            "\n",
            "\n",
            " Matriz de Confusão: \n",
            "       pred\n",
            "        FALSE TRUE\n",
            "  FALSE    32    0\n",
            "  TRUE      0   13\n",
            "\n",
            "\n",
            " Acuracidade:  1"
          ]
        }
      ]
    },
    {
      "cell_type": "markdown",
      "source": [
        "O classificador empregou a mesma *formula* e esquema de uso dos classificadores de Árvore de Decisão e Naive Bayes. Na predição empregamos o atributo `type = \"response\"` que retorna os valores de probabilidade da classe. Desse modo, para obtermos a resposta das classes e construirmos a matriz de confusão, associamos os valores True para probabidades < 0.5 e False para probabilidades > 0.5.\n",
        "\n",
        "Para um classificador logístico multiclass (mais que duas classes) você pode procurar empregar o pacote `require(nnet)` e o modelo `multinom`."
      ],
      "metadata": {
        "id": "iYAXb0oea1ot"
      }
    },
    {
      "cell_type": "markdown",
      "source": [
        "## Classificação com R: K-Vizinhos mais Próximos\n",
        "\n",
        "Por último vamos ver como empregar o popular K-Vizinhos mais Próximos. Diferentemente da maior parte dos modelos em R ele não emprega uma *fórmula* para definir aos atributos preditores e objetivo que são explicitamente fornecidos como parâmetros da função knn. A bibliteca para essa função é a biblioteca `class`. "
      ],
      "metadata": {
        "id": "OFYK5n3Ub-gV"
      }
    },
    {
      "cell_type": "code",
      "source": [
        "%%R\n",
        "library(class)\n",
        "\n",
        "set.seed(123)\n",
        "\n",
        "L = sample(1:nrow(iris),round(0.3*nrow(iris)))  \n",
        "\n",
        "train = iris[-L,1:4]\n",
        "test = iris[L,1:4]\n",
        "\n",
        "cl = iris[-L,]$Species\n",
        "\n",
        "pred = knn(train, test, cl, k = 3)\n",
        "\n",
        "print(pred)\n",
        "\n",
        "cm = table(iris[L,]$Species, pred)\n",
        "cat('\\n\\n Matriz de Confusão: \\n')\n",
        "print(cm)\n",
        "\n",
        "cat('\\n\\n Acuracidade: ', sum(diag(cm))/sum(cm))"
      ],
      "metadata": {
        "colab": {
          "base_uri": "https://localhost:8080/"
        },
        "outputId": "8d5eb7e5-9f39-4b79-8141-57d92a5a45c7",
        "id": "U8nEmD-DcuAK"
      },
      "execution_count": 25,
      "outputs": [
        {
          "output_type": "stream",
          "name": "stdout",
          "text": [
            " [1] setosa     setosa     virginica  setosa     virginica  virginica \n",
            " [7] versicolor versicolor virginica  versicolor virginica  versicolor\n",
            "[13] versicolor setosa     setosa     versicolor versicolor virginica \n",
            "[19] virginica  virginica  versicolor setosa     virginica  virginica \n",
            "[25] virginica  setosa     setosa     versicolor setosa     setosa    \n",
            "[31] versicolor versicolor virginica  virginica  virginica  versicolor\n",
            "[37] setosa     versicolor setosa     versicolor versicolor virginica \n",
            "[43] virginica  versicolor setosa    \n",
            "Levels: setosa versicolor virginica\n",
            "\n",
            "\n",
            " Matriz de Confusão: \n",
            "            pred\n",
            "             setosa versicolor virginica\n",
            "  setosa         13          0         0\n",
            "  versicolor      0         16         0\n",
            "  virginica       0          0        16\n",
            "\n",
            "\n",
            " Acuracidade:  1"
          ]
        }
      ]
    },
    {
      "cell_type": "markdown",
      "source": [
        "A função Knn recebe como parâmetros explicitamente  as variáveis preditoras de treinamento e teste, as classes de treinamento `cl`.\n",
        "\n",
        "```\n",
        "pred = knn(train, test, cl, k = 3)\n",
        "```\n",
        "\n",
        "Seu resultado não é um modelo, mas diretamente as classes previstas."
      ],
      "metadata": {
        "id": "-tWjko2bdl_2"
      }
    },
    {
      "cell_type": "code",
      "source": [
        "%%R\n",
        "Sepal.Length = c(4.5)\n",
        "Sepal.Width = c(3.25)\n",
        "Petal.Length = c(1.3)\n",
        "Petal.Width = c(0.3)\n",
        "newdata = data.frame(Sepal.Length, Sepal.Width, Petal.Length, Petal.Width)\n",
        "\n",
        "prediction = knn(train, newdata, cl, k=3)   \n",
        "print(prediction)"
      ],
      "metadata": {
        "colab": {
          "base_uri": "https://localhost:8080/"
        },
        "id": "xhGgG0HFh1JI",
        "outputId": "0e4f6b81-a31b-4b56-b4cc-a98e80c7ba56"
      },
      "execution_count": 26,
      "outputs": [
        {
          "output_type": "stream",
          "name": "stdout",
          "text": [
            "[1] setosa\n",
            "Levels: setosa versicolor virginica\n"
          ]
        }
      ]
    },
    {
      "cell_type": "markdown",
      "source": [
        "# Pacote `Caret`: Cross Validation, Grid Search\n",
        "\n",
        "O pacote **Caret** (**C**lassification **A**nd **RE**gression **T**raining) é uma biblioteca que traz um conjunto de funções que tentam agilizar o processo de criação de modelos preditivos em R e que inclui ainda uma série de funcionalidades para separação dos dados, pré-processamento, seleção de atributos, reamostragem, treinamento e seleção de modelos. É, de certo modo, uma biblioteca que busca fornecer as mesmas facilidades que o scikit-learn fornece no Python embora, o Caret, não contemple por exemplo os modelos não supervisionados. Há também uma versão Python, o PyCaret, também bastante empregada comercialmente. \n",
        "\n",
        "> **Caret** (**C**lassification **A**nd **RE**gression **T**raining)\n",
        "\n",
        ">> **R**: https://topepo.github.io/caret/index.html\n",
        "\n",
        ">> **Python**: https://pycaret.org/\n",
        "\n",
        "\n",
        "\n"
      ],
      "metadata": {
        "id": "DEHQ0U1JrL1h"
      }
    },
    {
      "cell_type": "code",
      "source": [
        "%%R\n",
        "# A instalação desse pacote pode levar alguns minutos\n",
        "install.packages('caret')"
      ],
      "metadata": {
        "colab": {
          "base_uri": "https://localhost:8080/"
        },
        "id": "PcNenIStkOC_",
        "outputId": "73d610cd-543a-4a86-e0b2-4a972f72e13b"
      },
      "execution_count": 27,
      "outputs": [
        {
          "output_type": "stream",
          "name": "stderr",
          "text": [
            "R[write to console]: Installing package into ‘/usr/local/lib/R/site-library’\n",
            "(as ‘lib’ is unspecified)\n",
            "\n",
            "R[write to console]: trying URL 'https://cran.rstudio.com/src/contrib/caret_6.0-92.tar.gz'\n",
            "\n",
            "R[write to console]: Content type 'application/x-gzip'\n",
            "R[write to console]:  length 2332731 bytes (2.2 MB)\n",
            "\n",
            "R[write to console]: =\n",
            "R[write to console]: =\n",
            "R[write to console]: =\n",
            "R[write to console]: =\n",
            "R[write to console]: =\n",
            "R[write to console]: =\n",
            "R[write to console]: =\n",
            "R[write to console]: =\n",
            "R[write to console]: =\n",
            "R[write to console]: =\n",
            "R[write to console]: =\n",
            "R[write to console]: =\n",
            "R[write to console]: =\n",
            "R[write to console]: =\n",
            "R[write to console]: =\n",
            "R[write to console]: =\n",
            "R[write to console]: =\n",
            "R[write to console]: =\n",
            "R[write to console]: =\n",
            "R[write to console]: =\n",
            "R[write to console]: =\n",
            "R[write to console]: =\n",
            "R[write to console]: =\n",
            "R[write to console]: =\n",
            "R[write to console]: =\n",
            "R[write to console]: =\n",
            "R[write to console]: =\n",
            "R[write to console]: =\n",
            "R[write to console]: =\n",
            "R[write to console]: =\n",
            "R[write to console]: =\n",
            "R[write to console]: =\n",
            "R[write to console]: =\n",
            "R[write to console]: =\n",
            "R[write to console]: =\n",
            "R[write to console]: =\n",
            "R[write to console]: =\n",
            "R[write to console]: =\n",
            "R[write to console]: =\n",
            "R[write to console]: =\n",
            "R[write to console]: =\n",
            "R[write to console]: =\n",
            "R[write to console]: =\n",
            "R[write to console]: =\n",
            "R[write to console]: =\n",
            "R[write to console]: =\n",
            "R[write to console]: =\n",
            "R[write to console]: =\n",
            "R[write to console]: =\n",
            "R[write to console]: =\n",
            "R[write to console]: \n",
            "\n",
            "R[write to console]: downloaded 2.2 MB\n",
            "\n",
            "\n",
            "R[write to console]: \n",
            "\n",
            "R[write to console]: \n",
            "R[write to console]: The downloaded source packages are in\n",
            "\t‘/tmp/RtmpkJHNSE/downloaded_packages’\n",
            "R[write to console]: \n",
            "R[write to console]: \n",
            "\n"
          ]
        }
      ]
    },
    {
      "cell_type": "markdown",
      "source": [
        "## Knn: Grid Search e Cross Validation\n",
        "\n",
        "Vamos ver como podemos empregar a biblioteca Caret para implementar uma seleção de hyperparâmetros empregando ainda a validação cruzada do mesmo modo que aplicamos em Python."
      ],
      "metadata": {
        "id": "f6hE6GJ4tAQD"
      }
    },
    {
      "cell_type": "code",
      "source": [
        "%%R\n",
        "library(caret)\n",
        "\n",
        "# Create a cv resampling  \n",
        "cv = trainControl(\n",
        "  method = \"repeatedcv\", \n",
        "  number = 10, \n",
        "  repeats = 5\n",
        ")\n",
        "\n",
        "# Create a hyperparameter grid search\n",
        "hyper_grid = expand.grid(k=c(1:12))\n",
        "print(hyper_grid)\n",
        "\n",
        "# Fit knn model and perform grid search\n",
        "knn_grid = train(\n",
        "  Species ~ ., \n",
        "  data = iris, \n",
        "  method = \"knn\", \n",
        "  trControl = cv, \n",
        "  tuneGrid = hyper_grid,\n",
        "  preProcess = c(\"center\", \"scale\")   \n",
        ")\n",
        "\n",
        "ggplot(knn_grid)\n"
      ],
      "metadata": {
        "colab": {
          "base_uri": "https://localhost:8080/",
          "height": 808
        },
        "id": "GQMjsiLckHpR",
        "outputId": "c9072c19-8a82-4937-d3b4-bbca0349596b"
      },
      "execution_count": 28,
      "outputs": [
        {
          "output_type": "stream",
          "name": "stderr",
          "text": [
            "R[write to console]: Loading required package: ggplot2\n",
            "\n",
            "R[write to console]: Loading required package: lattice\n",
            "\n"
          ]
        },
        {
          "output_type": "stream",
          "name": "stdout",
          "text": [
            "    k\n",
            "1   1\n",
            "2   2\n",
            "3   3\n",
            "4   4\n",
            "5   5\n",
            "6   6\n",
            "7   7\n",
            "8   8\n",
            "9   9\n",
            "10 10\n",
            "11 11\n",
            "12 12\n"
          ]
        },
        {
          "output_type": "display_data",
          "data": {
            "image/png": "[encoded data removed]"
          },
          "metadata": {}
        }
      ]
    },
    {
      "cell_type": "markdown",
      "source": [
        "A ideia é a mesma que você empregou em Python. Basicamente usamos duas funções,`trainControl` e `train`. A função `trainControl` apenas serve para declarar os parâmetros da validação cruzada que serão empregados no treinamento. Aqui configuramos o `method = \"repeatedcv\"` para o cross validation com 10 partições e 5 repetições: as 10 partições são escolhidas aleatoriamente em 5 repetições sendo, o resultado da métrica do modelo, a média obtida em todas as execuções. \n",
        "\n",
        "A segunda função, `train`, executa os modelos empregando os esquema de validação cruzada informado (aqui `cv`)  e os demais parâmetros que incluem o modelo a ser empregado (`knn`), os dados (`iris`), a fórmula nos mesmos moldes anteriores para informarmos os atributos preditores e objetivo (`Species ~ .`), pre-processamentos dos dados como funções de  normalização que queremos aplicar, métricas de avaliação etc. O parâmetro `tuneGrid` é uma tabela onde temos o nome do parâmetro e os valores que queremos sejam validados no modelo. No caso do nosso modelo Knn, estamos interessados em variar o modelo para diferentes valores de k, sendo esse o nome do conjunto de valores de 1 a 12.\n"
      ],
      "metadata": {
        "id": "npLZjtUFtkQK"
      }
    },
    {
      "cell_type": "code",
      "source": [
        "%%R\n",
        "knn_grid$results "
      ],
      "metadata": {
        "colab": {
          "base_uri": "https://localhost:8080/"
        },
        "id": "U-AUT9LPoaHZ",
        "outputId": "1a3e01cc-7af6-401a-af67-dd3bc2210595"
      },
      "execution_count": 29,
      "outputs": [
        {
          "output_type": "stream",
          "name": "stdout",
          "text": [
            "    k  Accuracy Kappa AccuracySD    KappaSD\n",
            "1   1 0.9466667 0.920 0.06172134 0.09258201\n",
            "2   2 0.9360000 0.904 0.06166253 0.09249379\n",
            "3   3 0.9453333 0.918 0.05976522 0.08964784\n",
            "4   4 0.9453333 0.918 0.05822780 0.08734169\n",
            "5   5 0.9453333 0.918 0.05502422 0.08253632\n",
            "6   6 0.9573333 0.936 0.05346921 0.08020382\n",
            "7   7 0.9573333 0.936 0.05987137 0.08980705\n",
            "8   8 0.9506667 0.926 0.05994707 0.08992060\n",
            "9   9 0.9533333 0.930 0.06060915 0.09091373\n",
            "10 10 0.9493333 0.924 0.06107131 0.09160697\n",
            "11 11 0.9520000 0.928 0.06029406 0.09044110\n",
            "12 12 0.9573333 0.936 0.05833673 0.08750510\n"
          ]
        }
      ]
    },
    {
      "cell_type": "markdown",
      "source": [
        "Empregamos a métrica padrão de acuracidade, mas outras métricas podem ser empregadas. Os resultados do modelo podem ser então obtidos no atributo `$results` da saída da função `train` e o gráfico acima mostra os diferentes valores da métrica de acuracidade para os diferentes valores de k. "
      ],
      "metadata": {
        "id": "6i7lTK1zwImy"
      }
    },
    {
      "cell_type": "code",
      "source": [
        "%%R\n",
        "print(max(knn_grid$results$Accuracy))\n",
        "print(knn_grid$results[ knn_grid$results$Accuracy == max(knn_grid$results$Accuracy), ])\n",
        "knn_grid$results[ knn_grid$results$Accuracy == max(knn_grid$results$Accuracy), ]$k"
      ],
      "metadata": {
        "colab": {
          "base_uri": "https://localhost:8080/"
        },
        "id": "S4hrveE9pjb5",
        "outputId": "3439d46d-4332-45ae-cbc3-4c70b16f6a6f"
      },
      "execution_count": 30,
      "outputs": [
        {
          "output_type": "stream",
          "name": "stdout",
          "text": [
            "[1] 0.9573333\n",
            "    k  Accuracy Kappa AccuracySD    KappaSD\n",
            "6   6 0.9573333 0.936 0.05346921 0.08020382\n",
            "7   7 0.9573333 0.936 0.05987137 0.08980705\n",
            "12 12 0.9573333 0.936 0.05833673 0.08750510\n",
            "[1]  6  7 12\n"
          ]
        }
      ]
    },
    {
      "cell_type": "markdown",
      "source": [
        "Sendo o melhor modelo o de maior acuracidade com $k=6$, podemos agora aplicar esse modelo para novos casos."
      ],
      "metadata": {
        "id": "Zs4Q9Mjcwl7b"
      }
    },
    {
      "cell_type": "code",
      "source": [
        "%%R\n",
        "Sepal.Length = c(4.5)\n",
        "Sepal.Width = c(3.25)\n",
        "Petal.Length = c(1.3)\n",
        "Petal.Width = c(0.3)\n",
        "newdata = data.frame(Sepal.Length, Sepal.Width, Petal.Length, Petal.Width)\n",
        "\n",
        "prediction = knn(train, newdata, cl, k=6)   \n",
        "print(prediction)"
      ],
      "metadata": {
        "colab": {
          "base_uri": "https://localhost:8080/"
        },
        "id": "fKtoozMqpPVo",
        "outputId": "c944f9fc-cad9-4155-8f10-6db417acfac2"
      },
      "execution_count": 31,
      "outputs": [
        {
          "output_type": "stream",
          "name": "stdout",
          "text": [
            "[1] setosa\n",
            "Levels: setosa versicolor virginica\n"
          ]
        }
      ]
    },
    {
      "cell_type": "markdown",
      "source": [
        "O procedimento, para você que já aprendeu como empregar o *grid search* em Python não é de fato muito diferente e você poderia facilmente combinar a busca de melhores hiperparâmetros com a aplicação de diferentes modelos bastando para isso alterar os valores dos parâmetros `method` e os seus hiperparâmetros correspondentes em `tuneGrid` (lembre cada modelo tem hiperparâmetros diferentes). "
      ],
      "metadata": {
        "id": "rJAU4cHCwyoU"
      }
    },
    {
      "cell_type": "markdown",
      "source": [
        "# CASO: Biopsy, Câncer de Mama\n",
        "\n",
        "Este banco de dados de câncer de mama foi obtido dos Hospitais da Universidade de Wisconsin e tem dados de biópsias de tumores de mama para 699 pacientes com 9 atributos preditores. Queremos então criar um modelo de Aprendizado de Máquina em R para a predição das classes dos tumores modo malignos ou benignos. Aplicaremos um modelo de classificação logística e outro de Árvore de Decisão, ambos aplicando validação cruzada e, para o segundo, fazendo o *tunning* de alguns hiperparâmetros."
      ],
      "metadata": {
        "id": "lqIJ4Z3RxnWu"
      }
    },
    {
      "cell_type": "code",
      "source": [
        "%%R\n",
        "library(MASS)\n",
        "\n",
        "head(biopsy)"
      ],
      "metadata": {
        "colab": {
          "base_uri": "https://localhost:8080/"
        },
        "id": "jsHbvDXtxsdq",
        "outputId": "1ba8ec1b-43ed-44b2-cd11-06df5f932e6e"
      },
      "execution_count": 3,
      "outputs": [
        {
          "output_type": "stream",
          "name": "stdout",
          "text": [
            "       ID V1 V2 V3 V4 V5 V6 V7 V8 V9     class\n",
            "1 1000025  5  1  1  1  2  1  3  1  1    benign\n",
            "2 1002945  5  4  4  5  7 10  3  2  1    benign\n",
            "3 1015425  3  1  1  1  2  2  3  1  1    benign\n",
            "4 1016277  6  8  8  1  3  4  3  7  1    benign\n",
            "5 1017023  4  1  1  3  2  1  3  1  1    benign\n",
            "6 1017122  8 10 10  8  7 10  9  7  1 malignant\n"
          ]
        }
      ]
    },
    {
      "cell_type": "markdown",
      "source": [
        "## Preparação dos Dados\n",
        "\n",
        "Como existem valores nulos nos dados vamos aqui simplesmente excluir as instâncias com valores nulos. Também vamos excluir o atributo `ID` uma vez que identificadores únicos não fazem sentido para modelos de classificação. "
      ],
      "metadata": {
        "id": "YHH0ZvqAyPi7"
      }
    },
    {
      "cell_type": "code",
      "source": [
        "%%R\n",
        "sum(is.na(biopsy))"
      ],
      "metadata": {
        "colab": {
          "base_uri": "https://localhost:8080/"
        },
        "id": "6zGWooyIyca0",
        "outputId": "2595b2ba-67cf-4544-8a6e-539711357002"
      },
      "execution_count": 4,
      "outputs": [
        {
          "output_type": "stream",
          "name": "stdout",
          "text": [
            "[1] 16\n"
          ]
        }
      ]
    },
    {
      "cell_type": "code",
      "source": [
        "%%R \n",
        "df = na.omit(biopsy[,-c(1)])"
      ],
      "metadata": {
        "id": "VXxBZTQNyTbL"
      },
      "execution_count": 5,
      "outputs": []
    },
    {
      "cell_type": "markdown",
      "source": [
        "## Regressão Logística\n",
        "\n",
        "Como os dados apresentam uma classe binária, benigno/maligno, podemos aplicar diretamente o modelo de regressão logística para classificar os dados. O modelo requer entretanto que a classe de saída assuma unicamente os valores TRUE/FALSE ou 1/0. Vamos, portanto, antes de aplicar o modelo alterar os valores do atributo `class` para 0 ou 1, conforme o valor benigno ou maligno do atributo. "
      ],
      "metadata": {
        "id": "UvbCHX0_DE5I"
      }
    },
    {
      "cell_type": "code",
      "source": [
        "%%R\n",
        "library(caret)\n",
        "\n",
        "df_ = df\n",
        "df_$class = as.numeric(df_$class) - 1  \n",
        "\n",
        "cv = trainControl(method=\"repeatedcv\", number=5, repeats=2)\n",
        "\n",
        "logistic_grid = train(class~., data=df_,\n",
        "                  method=\"glm\", \n",
        "                  family=\"binomial\",\n",
        "                  trControl=cv, \n",
        "                  preProcess = c(\"center\", \"scale\"))\n",
        "\n",
        "predict_test = predict(logistic_grid, newdata=df_, type=\"raw\")\n",
        "\n",
        "predict_test = ifelse(predict_test[]>0.5 , 1, 0) # 1=\"malignant\" 0=\"benign\"\n",
        "\n",
        "c_matrix = table(predict_test,df_$class)\n",
        "print(c_matrix)\n",
        "\n",
        "cat('Accuracy: ', sum(diag(c_matrix))/sum(c_matrix)*100, ' %', \"\\n\")"
      ],
      "metadata": {
        "colab": {
          "base_uri": "https://localhost:8080/"
        },
        "id": "S1vIKXel4bqW",
        "outputId": "04de7af5-e72f-4374-e32b-771d0675859c"
      },
      "execution_count": 30,
      "outputs": [
        {
          "output_type": "stream",
          "name": "stdout",
          "text": [
            "            \n",
            "predict_test   0   1\n",
            "           0 434  11\n",
            "           1  10 228\n",
            "Accuracy:  96.92533  % \n"
          ]
        }
      ]
    },
    {
      "cell_type": "markdown",
      "source": [
        "Não fizemos aqui nenhum *grid search* de hiperparâmetros e essa forma de empregar a função `train` do pacote Caret mostra como utilizar o pacote para fazer o treinamento de um único modelo com a validação cruzada. \n",
        "\n",
        "Aplicamos ao final o modelo para todo o conjunto original de dados para obtermos a matriz de confusão e uma acuracidade aproximada do modelo uma vez que o mais correto seria fazermos sobre um conjunto de teste separado antes do treinamento do modelo. Mas nosso interesse aqui é apenas entender como empregar as funções do pacote e deixamos esse ajuste bastante simples a cargo de você."
      ],
      "metadata": {
        "id": "_s-LEhE0D5b4"
      }
    },
    {
      "cell_type": "markdown",
      "source": [
        "## Árvore de Decisão\n",
        "\n",
        "A lista de modelos disponíveis para empregarmos no pacote Caret é bastante grande e pode ser obtida com o comando abaixo."
      ],
      "metadata": {
        "id": "Ln5L-uMHFNei"
      }
    },
    {
      "cell_type": "code",
      "source": [
        "%%R\n",
        "unique(caret::modelLookup()$model)"
      ],
      "metadata": {
        "id": "3upHmNzGGJzL"
      },
      "execution_count": null,
      "outputs": []
    },
    {
      "cell_type": "markdown",
      "source": [
        "O Caret funciona como um envelope (*wrapper*) de vários pacotes de Aprendizado de Máquina. \n",
        "\n",
        "Vamos aqui empregar o pacote `ctree2` para implementar um modelo de Árvore de Decisão. Se você já não tiver instalado, o Caret irá solicitar qeu você aprove a instalação do pacote `party` que contem o o método `ctree2`. Apenas para evitar isso e termos a execução completa do notebook sem intervenção vamos fazer a instalação do pacote aqui diretamente. "
      ],
      "metadata": {
        "id": "nATAPcPVGc7R"
      }
    },
    {
      "cell_type": "code",
      "source": [
        "%%R\n",
        "install.packages('party')"
      ],
      "metadata": {
        "id": "tLPv5GPP-NVi"
      },
      "execution_count": null,
      "outputs": []
    },
    {
      "cell_type": "code",
      "source": [
        "%%R\n",
        "library(caret)\n",
        "\n",
        "# Create a cv resampling  \n",
        "cv = trainControl(\n",
        "  method = \"repeatedcv\", \n",
        "  number = 10, \n",
        "  repeats = 5\n",
        ")\n",
        "\n",
        "# Create a hyperparameter grid search\n",
        "hyper_grid = expand.grid(maxdepth = c(2:10), mincriterion=0.95)                                             \n",
        "print(hyper_grid)\n",
        "\n",
        "# Fit knn model and perform grid search\n",
        "ctree2_grid = train(\n",
        "  class ~.,  # cuidado, class é uma palavra reservada do R\n",
        "  data = df, \n",
        "  method = \"ctree2\", \n",
        "  trControl = cv, \n",
        "  tuneGrid = hyper_grid,\n",
        "  preProcess = c(\"center\", \"scale\")   \n",
        ")\n",
        "\n",
        "ggplot(ctree2_grid)\n"
      ],
      "metadata": {
        "colab": {
          "base_uri": "https://localhost:8080/",
          "height": 680
        },
        "outputId": "de0db22b-7178-4e04-b13c-72c6afc167b7",
        "id": "SHnUfl9ixnWu"
      },
      "execution_count": 14,
      "outputs": [
        {
          "output_type": "stream",
          "name": "stdout",
          "text": [
            "  maxdepth mincriterion\n",
            "1        2         0.95\n",
            "2        3         0.95\n",
            "3        4         0.95\n",
            "4        5         0.95\n",
            "5        6         0.95\n",
            "6        7         0.95\n",
            "7        8         0.95\n",
            "8        9         0.95\n",
            "9       10         0.95\n"
          ]
        },
        {
          "output_type": "display_data",
          "data": {
            "image/png": "[encoded data removed]"
          },
          "metadata": {}
        }
      ]
    },
    {
      "cell_type": "markdown",
      "source": [
        "Como nosso propósito é apenas ilustrar o uso da funcionalidade de *grid search* empregamos apenas dois parâmetros muito simples fixando ainda o intervalo de confiança em 0.95."
      ],
      "metadata": {
        "id": "6LnXy157N9TX"
      }
    },
    {
      "cell_type": "code",
      "source": [
        "%%R\n",
        "ctree2_grid$results"
      ],
      "metadata": {
        "colab": {
          "base_uri": "https://localhost:8080/"
        },
        "id": "GpuzFNALA9EP",
        "outputId": "cb4afef8-7457-4b7e-bbea-aa1912110268"
      },
      "execution_count": 17,
      "outputs": [
        {
          "output_type": "stream",
          "name": "stdout",
          "text": [
            "  maxdepth mincriterion  Accuracy     Kappa AccuracySD    KappaSD\n",
            "1        2         0.95 0.9344524 0.8564326 0.02766981 0.06034672\n",
            "2        3         0.95 0.9481738 0.8863559 0.02495345 0.05483562\n",
            "3        4         0.95 0.9478885 0.8856893 0.02495502 0.05507615\n",
            "4        5         0.95 0.9472960 0.8844884 0.02528255 0.05569075\n",
            "5        6         0.95 0.9472960 0.8844884 0.02528255 0.05569075\n",
            "6        7         0.95 0.9472960 0.8844884 0.02528255 0.05569075\n",
            "7        8         0.95 0.9472960 0.8844884 0.02528255 0.05569075\n",
            "8        9         0.95 0.9472960 0.8844884 0.02528255 0.05569075\n",
            "9       10         0.95 0.9472960 0.8844884 0.02528255 0.05569075\n"
          ]
        }
      ]
    },
    {
      "cell_type": "markdown",
      "source": [
        "O melhor resultado é dado pelo segundo modelo que emprega uma Árvore de Decisão de profundidade 3, fazendo portanto uma poda da Árvore. Todo histórico da execução dos modelos e métricas obtidas podem ser recuperados a partir do objeto criado inspecionando suas variáveis, mas omitimos aqui pelo grande tamanho da saída gerada."
      ],
      "metadata": {
        "id": "ysDkqvOBOUav"
      }
    },
    {
      "cell_type": "code",
      "source": [
        "%%script false \n",
        "# Elimine o comando acima se quiser produzir a saída do comando abaixo. A saída será bastante grande.\n",
        "%%R\n",
        "str(ctree2_grid)"
      ],
      "metadata": {
        "id": "K5cvLCAABJp4"
      },
      "execution_count": 27,
      "outputs": []
    },
    {
      "cell_type": "markdown",
      "source": [
        "Mas o melhor modelo obtido pela seleção de hiperparâmetros pode facilmente ser verificado no atributo `$finalModel`, incluindo neste caso o plot da Árvore de Decisão do modelo (note, não estamos empregando aqui o pacote `rpart`, um outro pacote que também implementa Árvores de Decisão e que empregamos anteriormente)."
      ],
      "metadata": {
        "id": "Ymgr3pC1Psf0"
      }
    },
    {
      "cell_type": "code",
      "source": [
        "%%R\n",
        "ctree2_grid$finalModel"
      ],
      "metadata": {
        "colab": {
          "base_uri": "https://localhost:8080/"
        },
        "id": "P4Aonb8qBdcp",
        "outputId": "2732e8cd-b1db-4427-d616-81d965f537de"
      },
      "execution_count": 24,
      "outputs": [
        {
          "output_type": "stream",
          "name": "stdout",
          "text": [
            "\n",
            "\t Conditional inference tree with 7 terminal nodes\n",
            "\n",
            "Response:  .outcome \n",
            "Inputs:  V1, V2, V3, V4, V5, V6, V7, V8, V9 \n",
            "Number of observations:  683 \n",
            "\n",
            "1) V6 <= -0.4239068; criterion = 1, statistic = 461.597\n",
            "  2) V2 <= -0.04920005; criterion = 1, statistic = 319.245\n",
            "    3) V8 <= -0.284896; criterion = 1, statistic = 85.493\n",
            "      4)*  weights = 393 \n",
            "    3) V8 > -0.284896\n",
            "      5)*  weights = 15 \n",
            "  2) V2 > -0.04920005\n",
            "    6)*  weights = 24 \n",
            "1) V6 > -0.4239068\n",
            "  7) V3 <= -0.4066234; criterion = 1, statistic = 65.179\n",
            "    8) V1 <= -0.1567545; criterion = 1, statistic = 19.138\n",
            "      9)*  weights = 24 \n",
            "    8) V1 > -0.1567545\n",
            "      10)*  weights = 8 \n",
            "  7) V3 > -0.4066234\n",
            "    11) V7 <= 0.2265198; criterion = 0.991, statistic = 10.769\n",
            "      12)*  weights = 74 \n",
            "    11) V7 > 0.2265198\n",
            "      13)*  weights = 145 \n"
          ]
        }
      ]
    },
    {
      "cell_type": "code",
      "source": [
        "%%R\n",
        "plot(ctree2_grid$finalModel)"
      ],
      "metadata": {
        "colab": {
          "base_uri": "https://localhost:8080/",
          "height": 497
        },
        "id": "ISUb00JHOpNb",
        "outputId": "b7202f93-bd6b-48b1-bcdc-d0b061dd80c6"
      },
      "execution_count": 38,
      "outputs": [
        {
          "output_type": "display_data",
          "data": {
            "image/png": "[encoded data removed]"
          },
          "metadata": {}
        }
      ]
    },
    {
      "cell_type": "code",
      "source": [
        "%%R\n",
        "predict_test = predict(ctree2_grid, newdata=df)\n",
        "\n",
        "c_matrix = table(predict_test,df$class)\n",
        "print(c_matrix)\n",
        "\n",
        "cat('Accuracy: ', sum(diag(c_matrix))/sum(c_matrix)*100, ' %', \"\\n\")"
      ],
      "metadata": {
        "colab": {
          "base_uri": "https://localhost:8080/"
        },
        "id": "_p88N4QdAmmf",
        "outputId": "e01b665b-5798-4740-9bde-4323b96dabc0"
      },
      "execution_count": 15,
      "outputs": [
        {
          "output_type": "stream",
          "name": "stdout",
          "text": [
            "            \n",
            "predict_test benign malignant\n",
            "   benign       429         3\n",
            "   malignant     15       236\n",
            "Accuracy:  97.36457  % \n"
          ]
        }
      ]
    },
    {
      "cell_type": "markdown",
      "source": [
        "Novamente aplicamos ao final o modelo para todo o conjunto original de dados para obtermos a matriz de confusão e uma acuracidade do modelo sobre esses dados e a você adaptar esse código para obter a acuracidade sobre um conjunto de teste separado antes do treinamento do modelo. "
      ],
      "metadata": {
        "id": "gjiu1HViQOjc"
      }
    },
    {
      "cell_type": "markdown",
      "source": [
        "# CASO: Classificando o MNIST ($28 \\times 28$)\n",
        "\n",
        "Vamos voltar ao nosso conjunto de dígitos escritos à mão empregados na aula anterior, o famoso **MNIST** (http://yann.lecun.com/exdb/mnist/).\n",
        "\n",
        "Os dados em R podem ser obtidos diretamente do pacote `dslabs`. Por questão do tempo de execução vamos empregar apenas uma pequena amostra de 3000 dígitos selecionados aleatoriamente do conjunto de dados original (lembre-se são 70000 amostras no original)."
      ],
      "metadata": {
        "id": "yhzokb5ybNxh"
      }
    },
    {
      "cell_type": "code",
      "source": [
        "%%R\n",
        "install.packages('dslabs')\n",
        "\n"
      ],
      "metadata": {
        "id": "HiCuvze5RbxG"
      },
      "execution_count": null,
      "outputs": []
    },
    {
      "cell_type": "code",
      "source": [
        "%%R\n",
        "# import MNIST training data\n",
        "mnist = dslabs::read_mnist()\n",
        "names(mnist)"
      ],
      "metadata": {
        "colab": {
          "base_uri": "https://localhost:8080/"
        },
        "id": "PYLRFXuYUF1I",
        "outputId": "d5cc8080-c240-4671-c9a2-c25bc563ed89"
      },
      "execution_count": 4,
      "outputs": [
        {
          "output_type": "stream",
          "name": "stdout",
          "text": [
            "[1] \"train\" \"test\" \n"
          ]
        }
      ]
    },
    {
      "cell_type": "code",
      "source": [
        "%%R\n",
        "set.seed(1)\n",
        "L = sample(nrow(mnist$train$images), size = 3000)\n",
        "X = mnist$train$images[L, ]\n",
        "y = factor(mnist$train$labels[L])"
      ],
      "metadata": {
        "id": "j1mASiwNRBo8"
      },
      "execution_count": 42,
      "outputs": []
    },
    {
      "cell_type": "markdown",
      "source": [
        "Além da seperação de um número reduzido de amostras é conveniente renomearmos os atributos."
      ],
      "metadata": {
        "id": "ZC-iAQ5qb2Vp"
      }
    },
    {
      "cell_type": "code",
      "source": [
        "%%R\n",
        "# rename features\n",
        "colnames(X) = paste0('pixel_', 1:ncol(X))\n",
        "X[1:6,1:9]\n"
      ],
      "metadata": {
        "colab": {
          "base_uri": "https://localhost:8080/"
        },
        "outputId": "c82aa477-b272-419f-c296-5d8801d1fa1f",
        "id": "5xqeokalxnWv"
      },
      "execution_count": 43,
      "outputs": [
        {
          "output_type": "stream",
          "name": "stdout",
          "text": [
            "     pixel_1 pixel_2 pixel_3 pixel_4 pixel_5 pixel_6 pixel_7 pixel_8 pixel_9\n",
            "[1,]       0       0       0       0       0       0       0       0       0\n",
            "[2,]       0       0       0       0       0       0       0       0       0\n",
            "[3,]       0       0       0       0       0       0       0       0       0\n",
            "[4,]       0       0       0       0       0       0       0       0       0\n",
            "[5,]       0       0       0       0       0       0       0       0       0\n",
            "[6,]       0       0       0       0       0       0       0       0       0\n"
          ]
        }
      ]
    },
    {
      "cell_type": "markdown",
      "source": [
        "E podemos também empregar uma função em R para visualizar os dados."
      ],
      "metadata": {
        "id": "Mm8xYm7fcAQp"
      }
    },
    {
      "cell_type": "code",
      "source": [
        "%%R\n",
        "#Function to visualize a number\n",
        "img <- function(X, y, row_index){\n",
        "\n",
        "#Obtaining the row as a numeric vector\n",
        "r = as.numeric(X[row_index, ])\n",
        "\n",
        "#Creating a empty matrix to use\n",
        "im = matrix(nrow = 28, ncol = 28)\n",
        "\n",
        "#Filling properly the data into the matrix\n",
        "j = 1\n",
        "for(i in 28:1){\n",
        "  im[,i] <- r[j:(j+27)]\n",
        "  j <- j+28\n",
        "}  \n",
        "\n",
        "#Plotting the image with the label\n",
        "image(x = 1:28, y = 1:28, z = im, \n",
        "      col=gray((0:255)/255), \n",
        "      main = paste(\"Number:\", y[row_index]))\n",
        "}\n",
        "\n",
        "par(mfcol=c(3,3))\n",
        "for (i in 1:9) { \n",
        "  img(X,y,i)\n",
        "}"
      ],
      "metadata": {
        "colab": {
          "base_uri": "https://localhost:8080/",
          "height": 497
        },
        "id": "yH8mBkbxU-ym",
        "outputId": "8b5c304f-587c-4ef6-cd95-2c5432bfacf8"
      },
      "execution_count": 44,
      "outputs": [
        {
          "output_type": "display_data",
          "data": {
            "image/png": "[encoded data removed]"
          },
          "metadata": {}
        }
      ]
    },
    {
      "cell_type": "markdown",
      "source": [
        "## Knn MNIST\n",
        "\n",
        "Finalmente podemos então aplicar um modelo Knn empregando validação cruzada e buscando por melhores valores de K com o treinamento do modelo a partir do pacote Caret."
      ],
      "metadata": {
        "id": "lom6G3L4cHrg"
      }
    },
    {
      "cell_type": "code",
      "source": [
        "%%R\n",
        "\n",
        "# ATENÇÃO ESSA EXECUÇÃO PODE LEVAR VÁRIOS MINUTOS\n",
        "library(caret)\n",
        "\n",
        "cv = trainControl(\n",
        "  method = \"repeatedcv\", \n",
        "  number = 4\n",
        ")\n",
        "\n",
        "# Create a hyperparameter grid search\n",
        "hyper_grid = expand.grid(k = seq(3, 16, 1))\n",
        "\n",
        "# Execute grid search\n",
        "knn_mnist = train(\n",
        "  X,\n",
        "  y,\n",
        "  method = \"knn\",\n",
        "  tuneGrid = hyper_grid,\n",
        "  preProc = c(\"center\", \"scale\"),\n",
        "  trControl = cv\n",
        ")\n",
        "\n",
        "ggplot(knn_mnist)"
      ],
      "metadata": {
        "colab": {
          "base_uri": "https://localhost:8080/",
          "height": 1000
        },
        "outputId": "88849c79-d0f6-4d86-b0a7-33a7cf350022",
        "id": "13zissMwZjYo"
      },
      "execution_count": 47,
      "outputs": [
        {
          "output_type": "stream",
          "name": "stderr",
          "text": [
            "R[write to console]: Warning in preProcess.default(thresh = 0.95, k = 5, freqCut = 19, uniqueCut = 10,  :\n",
            "R[write to console]: \n",
            " \n",
            "R[write to console]:  These variables have zero variances: pixel_1, pixel_2, pixel_3, pixel_4, pixel_5, pixel_6, pixel_7, pixel_8, pixel_9, pixel_10, pixel_11, pixel_12, pixel_13, pixel_14, pixel_15, pixel_16, pixel_17, pixel_18, pixel_19, pixel_20, pixel_21, pixel_22, pixel_23, pixel_24, pixel_25, pixel_26, pixel_27, pixel_28, pixel_29, pixel_30, pixel_31, pixel_32, pixel_33, pixel_34, pixel_35, pixel_36, pixel_37, pixel_51, pixel_52, pixel_53, pixel_54, pixel_55, pixel_56, pixel_57, pixel_58, pixel_59, pixel_60, pixel_61, pixel_83, pixel_84, pixel_85, pixel_86, pixel_87, pixel_88, pixel_111, pixel_112, pixel_113, pixel_114, pixel_115, pixel_140, pixel_141, pixel_142, pixel_143, pixel_168, pixel_169, pixel_170, pixel_197, pixel_225, pixel_252, pixel_253, pixel_281, pixel_309, pixel_337, pixel_364, pixel_365, pixel_366, pixel_367, pixel_392, pixel_393, pixel_394, pixel_395, pixel_420, pixel_421, pixel_422, pixel_423, pixel_448, pixel_449, pixel_450, pixel_476, pixel_477, pixel_478, pixel_505, pixel_506, pix [... truncated]\n",
            "\n",
            "R[write to console]: Warning in preProcess.default(thresh = 0.95, k = 5, freqCut = 19, uniqueCut = 10,  :\n",
            "R[write to console]: \n",
            " \n",
            "R[write to console]:  These variables have zero variances: pixel_1, pixel_2, pixel_3, pixel_4, pixel_5, pixel_6, pixel_7, pixel_8, pixel_9, pixel_10, pixel_11, pixel_12, pixel_13, pixel_14, pixel_15, pixel_16, pixel_17, pixel_18, pixel_19, pixel_20, pixel_21, pixel_22, pixel_23, pixel_24, pixel_25, pixel_26, pixel_27, pixel_28, pixel_29, pixel_30, pixel_31, pixel_32, pixel_33, pixel_34, pixel_35, pixel_36, pixel_37, pixel_51, pixel_52, pixel_53, pixel_54, pixel_55, pixel_56, pixel_57, pixel_58, pixel_59, pixel_60, pixel_61, pixel_83, pixel_84, pixel_85, pixel_86, pixel_87, pixel_88, pixel_111, pixel_112, pixel_113, pixel_114, pixel_115, pixel_140, pixel_141, pixel_142, pixel_143, pixel_168, pixel_169, pixel_170, pixel_197, pixel_225, pixel_252, pixel_253, pixel_281, pixel_309, pixel_337, pixel_364, pixel_365, pixel_366, pixel_367, pixel_392, pixel_393, pixel_394, pixel_395, pixel_420, pixel_421, pixel_422, pixel_423, pixel_448, pixel_449, pixel_450, pixel_476, pixel_477, pixel_478, pixel_505, pixel_506, pix [... truncated]\n",
            "\n",
            "R[write to console]: Warning in preProcess.default(thresh = 0.95, k = 5, freqCut = 19, uniqueCut = 10,  :\n",
            "R[write to console]: \n",
            " \n",
            "R[write to console]:  These variables have zero variances: pixel_1, pixel_2, pixel_3, pixel_4, pixel_5, pixel_6, pixel_7, pixel_8, pixel_9, pixel_10, pixel_11, pixel_12, pixel_13, pixel_14, pixel_15, pixel_16, pixel_17, pixel_18, pixel_19, pixel_20, pixel_21, pixel_22, pixel_23, pixel_24, pixel_25, pixel_26, pixel_27, pixel_28, pixel_29, pixel_30, pixel_31, pixel_32, pixel_33, pixel_34, pixel_35, pixel_36, pixel_37, pixel_51, pixel_52, pixel_53, pixel_54, pixel_55, pixel_56, pixel_57, pixel_58, pixel_59, pixel_60, pixel_61, pixel_83, pixel_84, pixel_85, pixel_86, pixel_87, pixel_88, pixel_111, pixel_112, pixel_113, pixel_114, pixel_115, pixel_140, pixel_141, pixel_142, pixel_143, pixel_168, pixel_169, pixel_170, pixel_197, pixel_225, pixel_252, pixel_253, pixel_281, pixel_309, pixel_337, pixel_364, pixel_365, pixel_366, pixel_367, pixel_392, pixel_393, pixel_394, pixel_395, pixel_420, pixel_421, pixel_422, pixel_423, pixel_448, pixel_449, pixel_450, pixel_476, pixel_477, pixel_478, pixel_505, pixel_506, pix [... truncated]\n",
            "\n",
            "R[write to console]: Warning in preProcess.default(thresh = 0.95, k = 5, freqCut = 19, uniqueCut = 10,  :\n",
            "R[write to console]: \n",
            " \n",
            "R[write to console]:  These variables have zero variances: pixel_1, pixel_2, pixel_3, pixel_4, pixel_5, pixel_6, pixel_7, pixel_8, pixel_9, pixel_10, pixel_11, pixel_12, pixel_13, pixel_14, pixel_15, pixel_16, pixel_17, pixel_18, pixel_19, pixel_20, pixel_21, pixel_22, pixel_23, pixel_24, pixel_25, pixel_26, pixel_27, pixel_28, pixel_29, pixel_30, pixel_31, pixel_32, pixel_33, pixel_34, pixel_35, pixel_36, pixel_37, pixel_51, pixel_52, pixel_53, pixel_54, pixel_55, pixel_56, pixel_57, pixel_58, pixel_59, pixel_60, pixel_61, pixel_83, pixel_84, pixel_85, pixel_86, pixel_87, pixel_88, pixel_111, pixel_112, pixel_113, pixel_114, pixel_115, pixel_140, pixel_141, pixel_142, pixel_143, pixel_168, pixel_169, pixel_170, pixel_197, pixel_225, pixel_252, pixel_253, pixel_281, pixel_309, pixel_337, pixel_364, pixel_365, pixel_366, pixel_367, pixel_392, pixel_393, pixel_394, pixel_395, pixel_420, pixel_421, pixel_422, pixel_423, pixel_448, pixel_449, pixel_450, pixel_476, pixel_477, pixel_478, pixel_505, pixel_506, pix [... truncated]\n",
            "\n",
            "R[write to console]: Warning in preProcess.default(thresh = 0.95, k = 5, freqCut = 19, uniqueCut = 10,  :\n",
            "R[write to console]: \n",
            " \n",
            "R[write to console]:  These variables have zero variances: pixel_1, pixel_2, pixel_3, pixel_4, pixel_5, pixel_6, pixel_7, pixel_8, pixel_9, pixel_10, pixel_11, pixel_12, pixel_13, pixel_14, pixel_15, pixel_16, pixel_17, pixel_18, pixel_19, pixel_20, pixel_21, pixel_22, pixel_23, pixel_24, pixel_25, pixel_26, pixel_27, pixel_28, pixel_29, pixel_30, pixel_31, pixel_32, pixel_33, pixel_34, pixel_35, pixel_36, pixel_37, pixel_51, pixel_52, pixel_53, pixel_54, pixel_55, pixel_56, pixel_57, pixel_58, pixel_59, pixel_60, pixel_61, pixel_83, pixel_84, pixel_85, pixel_86, pixel_87, pixel_88, pixel_111, pixel_112, pixel_113, pixel_114, pixel_115, pixel_140, pixel_141, pixel_142, pixel_143, pixel_168, pixel_169, pixel_170, pixel_197, pixel_225, pixel_252, pixel_253, pixel_281, pixel_309, pixel_337, pixel_364, pixel_365, pixel_366, pixel_367, pixel_392, pixel_393, pixel_394, pixel_395, pixel_420, pixel_421, pixel_422, pixel_423, pixel_448, pixel_449, pixel_450, pixel_476, pixel_477, pixel_478, pixel_505, pixel_506, pix [... truncated]\n",
            "\n",
            "R[write to console]: Warning in preProcess.default(thresh = 0.95, k = 5, freqCut = 19, uniqueCut = 10,  :\n",
            "R[write to console]: \n",
            " \n",
            "R[write to console]:  These variables have zero variances: pixel_1, pixel_2, pixel_3, pixel_4, pixel_5, pixel_6, pixel_7, pixel_8, pixel_9, pixel_10, pixel_11, pixel_12, pixel_13, pixel_14, pixel_15, pixel_16, pixel_17, pixel_18, pixel_19, pixel_20, pixel_21, pixel_22, pixel_23, pixel_24, pixel_25, pixel_26, pixel_27, pixel_28, pixel_29, pixel_30, pixel_31, pixel_32, pixel_33, pixel_34, pixel_35, pixel_36, pixel_37, pixel_51, pixel_52, pixel_53, pixel_54, pixel_55, pixel_56, pixel_57, pixel_58, pixel_59, pixel_60, pixel_61, pixel_83, pixel_84, pixel_85, pixel_86, pixel_87, pixel_88, pixel_111, pixel_112, pixel_113, pixel_114, pixel_115, pixel_140, pixel_141, pixel_142, pixel_143, pixel_168, pixel_169, pixel_170, pixel_197, pixel_225, pixel_252, pixel_253, pixel_281, pixel_309, pixel_337, pixel_364, pixel_365, pixel_366, pixel_367, pixel_392, pixel_393, pixel_394, pixel_395, pixel_420, pixel_421, pixel_422, pixel_423, pixel_448, pixel_449, pixel_450, pixel_476, pixel_477, pixel_478, pixel_505, pixel_506, pix [... truncated]\n",
            "\n",
            "R[write to console]: Warning in preProcess.default(thresh = 0.95, k = 5, freqCut = 19, uniqueCut = 10,  :\n",
            "R[write to console]: \n",
            " \n",
            "R[write to console]:  These variables have zero variances: pixel_1, pixel_2, pixel_3, pixel_4, pixel_5, pixel_6, pixel_7, pixel_8, pixel_9, pixel_10, pixel_11, pixel_12, pixel_13, pixel_14, pixel_15, pixel_16, pixel_17, pixel_18, pixel_19, pixel_20, pixel_21, pixel_22, pixel_23, pixel_24, pixel_25, pixel_26, pixel_27, pixel_28, pixel_29, pixel_30, pixel_31, pixel_32, pixel_33, pixel_34, pixel_35, pixel_36, pixel_37, pixel_51, pixel_52, pixel_53, pixel_54, pixel_55, pixel_56, pixel_57, pixel_58, pixel_59, pixel_60, pixel_61, pixel_83, pixel_84, pixel_85, pixel_86, pixel_87, pixel_88, pixel_111, pixel_112, pixel_113, pixel_114, pixel_115, pixel_140, pixel_141, pixel_142, pixel_143, pixel_168, pixel_169, pixel_170, pixel_197, pixel_225, pixel_252, pixel_253, pixel_281, pixel_309, pixel_337, pixel_364, pixel_365, pixel_366, pixel_367, pixel_392, pixel_393, pixel_394, pixel_395, pixel_420, pixel_421, pixel_422, pixel_423, pixel_448, pixel_449, pixel_450, pixel_476, pixel_477, pixel_478, pixel_505, pixel_506, pix [... truncated]\n",
            "\n",
            "R[write to console]: Warning in preProcess.default(thresh = 0.95, k = 5, freqCut = 19, uniqueCut = 10,  :\n",
            "R[write to console]: \n",
            " \n",
            "R[write to console]:  These variables have zero variances: pixel_1, pixel_2, pixel_3, pixel_4, pixel_5, pixel_6, pixel_7, pixel_8, pixel_9, pixel_10, pixel_11, pixel_12, pixel_13, pixel_14, pixel_15, pixel_16, pixel_17, pixel_18, pixel_19, pixel_20, pixel_21, pixel_22, pixel_23, pixel_24, pixel_25, pixel_26, pixel_27, pixel_28, pixel_29, pixel_30, pixel_31, pixel_32, pixel_33, pixel_34, pixel_35, pixel_36, pixel_37, pixel_51, pixel_52, pixel_53, pixel_54, pixel_55, pixel_56, pixel_57, pixel_58, pixel_59, pixel_60, pixel_61, pixel_83, pixel_84, pixel_85, pixel_86, pixel_87, pixel_88, pixel_111, pixel_112, pixel_113, pixel_114, pixel_115, pixel_140, pixel_141, pixel_142, pixel_143, pixel_168, pixel_169, pixel_170, pixel_197, pixel_225, pixel_252, pixel_253, pixel_281, pixel_309, pixel_337, pixel_364, pixel_365, pixel_366, pixel_367, pixel_392, pixel_393, pixel_394, pixel_395, pixel_420, pixel_421, pixel_422, pixel_423, pixel_448, pixel_449, pixel_450, pixel_476, pixel_477, pixel_478, pixel_505, pixel_506, pix [... truncated]\n",
            "\n",
            "R[write to console]: Warning in preProcess.default(thresh = 0.95, k = 5, freqCut = 19, uniqueCut = 10,  :\n",
            "R[write to console]: \n",
            " \n",
            "R[write to console]:  These variables have zero variances: pixel_1, pixel_2, pixel_3, pixel_4, pixel_5, pixel_6, pixel_7, pixel_8, pixel_9, pixel_10, pixel_11, pixel_12, pixel_13, pixel_14, pixel_15, pixel_16, pixel_17, pixel_18, pixel_19, pixel_20, pixel_21, pixel_22, pixel_23, pixel_24, pixel_25, pixel_26, pixel_27, pixel_28, pixel_29, pixel_30, pixel_31, pixel_32, pixel_33, pixel_34, pixel_35, pixel_36, pixel_37, pixel_51, pixel_52, pixel_53, pixel_54, pixel_55, pixel_56, pixel_57, pixel_58, pixel_59, pixel_60, pixel_61, pixel_83, pixel_84, pixel_85, pixel_86, pixel_87, pixel_88, pixel_111, pixel_112, pixel_113, pixel_114, pixel_115, pixel_140, pixel_141, pixel_142, pixel_143, pixel_168, pixel_169, pixel_170, pixel_197, pixel_225, pixel_252, pixel_253, pixel_281, pixel_309, pixel_337, pixel_364, pixel_365, pixel_366, pixel_367, pixel_392, pixel_393, pixel_394, pixel_395, pixel_420, pixel_421, pixel_422, pixel_423, pixel_448, pixel_449, pixel_450, pixel_476, pixel_477, pixel_478, pixel_505, pixel_506, pix [... truncated]\n",
            "\n",
            "R[write to console]: Warning in preProcess.default(thresh = 0.95, k = 5, freqCut = 19, uniqueCut = 10,  :\n",
            "R[write to console]: \n",
            " \n",
            "R[write to console]:  These variables have zero variances: pixel_1, pixel_2, pixel_3, pixel_4, pixel_5, pixel_6, pixel_7, pixel_8, pixel_9, pixel_10, pixel_11, pixel_12, pixel_13, pixel_14, pixel_15, pixel_16, pixel_17, pixel_18, pixel_19, pixel_20, pixel_21, pixel_22, pixel_23, pixel_24, pixel_25, pixel_26, pixel_27, pixel_28, pixel_29, pixel_30, pixel_31, pixel_32, pixel_33, pixel_34, pixel_35, pixel_36, pixel_37, pixel_51, pixel_52, pixel_53, pixel_54, pixel_55, pixel_56, pixel_57, pixel_58, pixel_59, pixel_60, pixel_61, pixel_83, pixel_84, pixel_85, pixel_86, pixel_87, pixel_88, pixel_111, pixel_112, pixel_113, pixel_114, pixel_115, pixel_140, pixel_141, pixel_142, pixel_143, pixel_168, pixel_169, pixel_170, pixel_197, pixel_225, pixel_252, pixel_253, pixel_281, pixel_309, pixel_337, pixel_364, pixel_365, pixel_366, pixel_367, pixel_392, pixel_393, pixel_394, pixel_395, pixel_420, pixel_421, pixel_422, pixel_423, pixel_448, pixel_449, pixel_450, pixel_476, pixel_477, pixel_478, pixel_505, pixel_506, pix [... truncated]\n",
            "\n",
            "R[write to console]: Warning in preProcess.default(thresh = 0.95, k = 5, freqCut = 19, uniqueCut = 10,  :\n",
            "R[write to console]: \n",
            " \n",
            "R[write to console]:  These variables have zero variances: pixel_1, pixel_2, pixel_3, pixel_4, pixel_5, pixel_6, pixel_7, pixel_8, pixel_9, pixel_10, pixel_11, pixel_12, pixel_13, pixel_14, pixel_15, pixel_16, pixel_17, pixel_18, pixel_19, pixel_20, pixel_21, pixel_22, pixel_23, pixel_24, pixel_25, pixel_26, pixel_27, pixel_28, pixel_29, pixel_30, pixel_31, pixel_32, pixel_33, pixel_34, pixel_35, pixel_36, pixel_37, pixel_51, pixel_52, pixel_53, pixel_54, pixel_55, pixel_56, pixel_57, pixel_58, pixel_59, pixel_60, pixel_61, pixel_83, pixel_84, pixel_85, pixel_86, pixel_87, pixel_88, pixel_111, pixel_112, pixel_113, pixel_114, pixel_115, pixel_140, pixel_141, pixel_142, pixel_143, pixel_168, pixel_169, pixel_170, pixel_197, pixel_225, pixel_252, pixel_253, pixel_281, pixel_309, pixel_337, pixel_364, pixel_365, pixel_366, pixel_367, pixel_392, pixel_393, pixel_394, pixel_395, pixel_420, pixel_421, pixel_422, pixel_423, pixel_448, pixel_449, pixel_450, pixel_476, pixel_477, pixel_478, pixel_505, pixel_506, pix [... truncated]\n",
            "\n",
            "R[write to console]: Warning in preProcess.default(thresh = 0.95, k = 5, freqCut = 19, uniqueCut = 10,  :\n",
            "R[write to console]: \n",
            " \n",
            "R[write to console]:  These variables have zero variances: pixel_1, pixel_2, pixel_3, pixel_4, pixel_5, pixel_6, pixel_7, pixel_8, pixel_9, pixel_10, pixel_11, pixel_12, pixel_13, pixel_14, pixel_15, pixel_16, pixel_17, pixel_18, pixel_19, pixel_20, pixel_21, pixel_22, pixel_23, pixel_24, pixel_25, pixel_26, pixel_27, pixel_28, pixel_29, pixel_30, pixel_31, pixel_32, pixel_33, pixel_34, pixel_35, pixel_36, pixel_37, pixel_51, pixel_52, pixel_53, pixel_54, pixel_55, pixel_56, pixel_57, pixel_58, pixel_59, pixel_60, pixel_61, pixel_83, pixel_84, pixel_85, pixel_86, pixel_87, pixel_88, pixel_111, pixel_112, pixel_113, pixel_114, pixel_115, pixel_140, pixel_141, pixel_142, pixel_143, pixel_168, pixel_169, pixel_170, pixel_197, pixel_225, pixel_252, pixel_253, pixel_281, pixel_309, pixel_337, pixel_364, pixel_365, pixel_366, pixel_367, pixel_392, pixel_393, pixel_394, pixel_395, pixel_420, pixel_421, pixel_422, pixel_423, pixel_448, pixel_449, pixel_450, pixel_476, pixel_477, pixel_478, pixel_505, pixel_506, pix [... truncated]\n",
            "\n",
            "R[write to console]: Warning in preProcess.default(thresh = 0.95, k = 5, freqCut = 19, uniqueCut = 10,  :\n",
            "R[write to console]: \n",
            " \n",
            "R[write to console]:  These variables have zero variances: pixel_1, pixel_2, pixel_3, pixel_4, pixel_5, pixel_6, pixel_7, pixel_8, pixel_9, pixel_10, pixel_11, pixel_12, pixel_13, pixel_14, pixel_15, pixel_16, pixel_17, pixel_18, pixel_19, pixel_20, pixel_21, pixel_22, pixel_23, pixel_24, pixel_25, pixel_26, pixel_27, pixel_28, pixel_29, pixel_30, pixel_31, pixel_32, pixel_33, pixel_34, pixel_35, pixel_36, pixel_37, pixel_51, pixel_52, pixel_53, pixel_54, pixel_55, pixel_56, pixel_57, pixel_58, pixel_59, pixel_60, pixel_61, pixel_83, pixel_84, pixel_85, pixel_86, pixel_87, pixel_88, pixel_111, pixel_112, pixel_113, pixel_114, pixel_115, pixel_140, pixel_141, pixel_142, pixel_143, pixel_168, pixel_169, pixel_170, pixel_197, pixel_225, pixel_252, pixel_253, pixel_281, pixel_309, pixel_337, pixel_364, pixel_365, pixel_366, pixel_367, pixel_392, pixel_393, pixel_394, pixel_395, pixel_420, pixel_421, pixel_422, pixel_423, pixel_448, pixel_449, pixel_450, pixel_476, pixel_477, pixel_478, pixel_505, pixel_506, pix [... truncated]\n",
            "\n",
            "R[write to console]: Warning in preProcess.default(thresh = 0.95, k = 5, freqCut = 19, uniqueCut = 10,  :\n",
            "R[write to console]: \n",
            " \n",
            "R[write to console]:  These variables have zero variances: pixel_1, pixel_2, pixel_3, pixel_4, pixel_5, pixel_6, pixel_7, pixel_8, pixel_9, pixel_10, pixel_11, pixel_12, pixel_13, pixel_14, pixel_15, pixel_16, pixel_17, pixel_18, pixel_19, pixel_20, pixel_21, pixel_22, pixel_23, pixel_24, pixel_25, pixel_26, pixel_27, pixel_28, pixel_29, pixel_30, pixel_31, pixel_32, pixel_33, pixel_34, pixel_35, pixel_36, pixel_37, pixel_51, pixel_52, pixel_53, pixel_54, pixel_55, pixel_56, pixel_57, pixel_58, pixel_59, pixel_60, pixel_61, pixel_83, pixel_84, pixel_85, pixel_86, pixel_87, pixel_88, pixel_111, pixel_112, pixel_113, pixel_114, pixel_115, pixel_140, pixel_141, pixel_142, pixel_143, pixel_168, pixel_169, pixel_170, pixel_197, pixel_225, pixel_252, pixel_253, pixel_281, pixel_309, pixel_337, pixel_364, pixel_365, pixel_366, pixel_367, pixel_392, pixel_393, pixel_394, pixel_395, pixel_420, pixel_421, pixel_422, pixel_423, pixel_448, pixel_449, pixel_450, pixel_476, pixel_477, pixel_478, pixel_505, pixel_506, pix [... truncated]\n",
            "\n",
            "R[write to console]: Warning in preProcess.default(thresh = 0.95, k = 5, freqCut = 19, uniqueCut = 10,  :\n",
            "R[write to console]: \n",
            " \n",
            "R[write to console]:  These variables have zero variances: pixel_1, pixel_2, pixel_3, pixel_4, pixel_5, pixel_6, pixel_7, pixel_8, pixel_9, pixel_10, pixel_11, pixel_12, pixel_13, pixel_14, pixel_15, pixel_16, pixel_17, pixel_18, pixel_19, pixel_20, pixel_21, pixel_22, pixel_23, pixel_24, pixel_25, pixel_26, pixel_27, pixel_28, pixel_29, pixel_30, pixel_31, pixel_32, pixel_33, pixel_34, pixel_35, pixel_36, pixel_37, pixel_50, pixel_51, pixel_52, pixel_53, pixel_54, pixel_55, pixel_56, pixel_57, pixel_58, pixel_59, pixel_60, pixel_61, pixel_83, pixel_84, pixel_85, pixel_86, pixel_87, pixel_88, pixel_111, pixel_112, pixel_113, pixel_114, pixel_115, pixel_140, pixel_141, pixel_142, pixel_143, pixel_168, pixel_169, pixel_170, pixel_171, pixel_196, pixel_197, pixel_224, pixel_225, pixel_252, pixel_253, pixel_281, pixel_309, pixel_337, pixel_364, pixel_365, pixel_366, pixel_367, pixel_392, pixel_393, pixel_394, pixel_395, pixel_420, pixel_421, pixel_422, pixel_423, pixel_448, pixel_449, pixel_450, pixel_476, pixe [... truncated]\n",
            "\n",
            "R[write to console]: Warning in preProcess.default(thresh = 0.95, k = 5, freqCut = 19, uniqueCut = 10,  :\n",
            "R[write to console]: \n",
            " \n",
            "R[write to console]:  These variables have zero variances: pixel_1, pixel_2, pixel_3, pixel_4, pixel_5, pixel_6, pixel_7, pixel_8, pixel_9, pixel_10, pixel_11, pixel_12, pixel_13, pixel_14, pixel_15, pixel_16, pixel_17, pixel_18, pixel_19, pixel_20, pixel_21, pixel_22, pixel_23, pixel_24, pixel_25, pixel_26, pixel_27, pixel_28, pixel_29, pixel_30, pixel_31, pixel_32, pixel_33, pixel_34, pixel_35, pixel_36, pixel_37, pixel_50, pixel_51, pixel_52, pixel_53, pixel_54, pixel_55, pixel_56, pixel_57, pixel_58, pixel_59, pixel_60, pixel_61, pixel_83, pixel_84, pixel_85, pixel_86, pixel_87, pixel_88, pixel_111, pixel_112, pixel_113, pixel_114, pixel_115, pixel_140, pixel_141, pixel_142, pixel_143, pixel_168, pixel_169, pixel_170, pixel_171, pixel_196, pixel_197, pixel_224, pixel_225, pixel_252, pixel_253, pixel_281, pixel_309, pixel_337, pixel_364, pixel_365, pixel_366, pixel_367, pixel_392, pixel_393, pixel_394, pixel_395, pixel_420, pixel_421, pixel_422, pixel_423, pixel_448, pixel_449, pixel_450, pixel_476, pixe [... truncated]\n",
            "\n",
            "R[write to console]: Warning in preProcess.default(thresh = 0.95, k = 5, freqCut = 19, uniqueCut = 10,  :\n",
            "R[write to console]: \n",
            " \n",
            "R[write to console]:  These variables have zero variances: pixel_1, pixel_2, pixel_3, pixel_4, pixel_5, pixel_6, pixel_7, pixel_8, pixel_9, pixel_10, pixel_11, pixel_12, pixel_13, pixel_14, pixel_15, pixel_16, pixel_17, pixel_18, pixel_19, pixel_20, pixel_21, pixel_22, pixel_23, pixel_24, pixel_25, pixel_26, pixel_27, pixel_28, pixel_29, pixel_30, pixel_31, pixel_32, pixel_33, pixel_34, pixel_35, pixel_36, pixel_37, pixel_50, pixel_51, pixel_52, pixel_53, pixel_54, pixel_55, pixel_56, pixel_57, pixel_58, pixel_59, pixel_60, pixel_61, pixel_83, pixel_84, pixel_85, pixel_86, pixel_87, pixel_88, pixel_111, pixel_112, pixel_113, pixel_114, pixel_115, pixel_140, pixel_141, pixel_142, pixel_143, pixel_168, pixel_169, pixel_170, pixel_171, pixel_196, pixel_197, pixel_224, pixel_225, pixel_252, pixel_253, pixel_281, pixel_309, pixel_337, pixel_364, pixel_365, pixel_366, pixel_367, pixel_392, pixel_393, pixel_394, pixel_395, pixel_420, pixel_421, pixel_422, pixel_423, pixel_448, pixel_449, pixel_450, pixel_476, pixe [... truncated]\n",
            "\n",
            "R[write to console]: Warning in preProcess.default(thresh = 0.95, k = 5, freqCut = 19, uniqueCut = 10,  :\n",
            "R[write to console]: \n",
            " \n",
            "R[write to console]:  These variables have zero variances: pixel_1, pixel_2, pixel_3, pixel_4, pixel_5, pixel_6, pixel_7, pixel_8, pixel_9, pixel_10, pixel_11, pixel_12, pixel_13, pixel_14, pixel_15, pixel_16, pixel_17, pixel_18, pixel_19, pixel_20, pixel_21, pixel_22, pixel_23, pixel_24, pixel_25, pixel_26, pixel_27, pixel_28, pixel_29, pixel_30, pixel_31, pixel_32, pixel_33, pixel_34, pixel_35, pixel_36, pixel_37, pixel_50, pixel_51, pixel_52, pixel_53, pixel_54, pixel_55, pixel_56, pixel_57, pixel_58, pixel_59, pixel_60, pixel_61, pixel_83, pixel_84, pixel_85, pixel_86, pixel_87, pixel_88, pixel_111, pixel_112, pixel_113, pixel_114, pixel_115, pixel_140, pixel_141, pixel_142, pixel_143, pixel_168, pixel_169, pixel_170, pixel_171, pixel_196, pixel_197, pixel_224, pixel_225, pixel_252, pixel_253, pixel_281, pixel_309, pixel_337, pixel_364, pixel_365, pixel_366, pixel_367, pixel_392, pixel_393, pixel_394, pixel_395, pixel_420, pixel_421, pixel_422, pixel_423, pixel_448, pixel_449, pixel_450, pixel_476, pixe [... truncated]\n",
            "\n",
            "R[write to console]: Warning in preProcess.default(thresh = 0.95, k = 5, freqCut = 19, uniqueCut = 10,  :\n",
            "R[write to console]: \n",
            " \n",
            "R[write to console]:  These variables have zero variances: pixel_1, pixel_2, pixel_3, pixel_4, pixel_5, pixel_6, pixel_7, pixel_8, pixel_9, pixel_10, pixel_11, pixel_12, pixel_13, pixel_14, pixel_15, pixel_16, pixel_17, pixel_18, pixel_19, pixel_20, pixel_21, pixel_22, pixel_23, pixel_24, pixel_25, pixel_26, pixel_27, pixel_28, pixel_29, pixel_30, pixel_31, pixel_32, pixel_33, pixel_34, pixel_35, pixel_36, pixel_37, pixel_50, pixel_51, pixel_52, pixel_53, pixel_54, pixel_55, pixel_56, pixel_57, pixel_58, pixel_59, pixel_60, pixel_61, pixel_83, pixel_84, pixel_85, pixel_86, pixel_87, pixel_88, pixel_111, pixel_112, pixel_113, pixel_114, pixel_115, pixel_140, pixel_141, pixel_142, pixel_143, pixel_168, pixel_169, pixel_170, pixel_171, pixel_196, pixel_197, pixel_224, pixel_225, pixel_252, pixel_253, pixel_281, pixel_309, pixel_337, pixel_364, pixel_365, pixel_366, pixel_367, pixel_392, pixel_393, pixel_394, pixel_395, pixel_420, pixel_421, pixel_422, pixel_423, pixel_448, pixel_449, pixel_450, pixel_476, pixe [... truncated]\n",
            "\n",
            "R[write to console]: Warning in preProcess.default(thresh = 0.95, k = 5, freqCut = 19, uniqueCut = 10,  :\n",
            "R[write to console]: \n",
            " \n",
            "R[write to console]:  These variables have zero variances: pixel_1, pixel_2, pixel_3, pixel_4, pixel_5, pixel_6, pixel_7, pixel_8, pixel_9, pixel_10, pixel_11, pixel_12, pixel_13, pixel_14, pixel_15, pixel_16, pixel_17, pixel_18, pixel_19, pixel_20, pixel_21, pixel_22, pixel_23, pixel_24, pixel_25, pixel_26, pixel_27, pixel_28, pixel_29, pixel_30, pixel_31, pixel_32, pixel_33, pixel_34, pixel_35, pixel_36, pixel_37, pixel_50, pixel_51, pixel_52, pixel_53, pixel_54, pixel_55, pixel_56, pixel_57, pixel_58, pixel_59, pixel_60, pixel_61, pixel_83, pixel_84, pixel_85, pixel_86, pixel_87, pixel_88, pixel_111, pixel_112, pixel_113, pixel_114, pixel_115, pixel_140, pixel_141, pixel_142, pixel_143, pixel_168, pixel_169, pixel_170, pixel_171, pixel_196, pixel_197, pixel_224, pixel_225, pixel_252, pixel_253, pixel_281, pixel_309, pixel_337, pixel_364, pixel_365, pixel_366, pixel_367, pixel_392, pixel_393, pixel_394, pixel_395, pixel_420, pixel_421, pixel_422, pixel_423, pixel_448, pixel_449, pixel_450, pixel_476, pixe [... truncated]\n",
            "\n",
            "R[write to console]: Warning in preProcess.default(thresh = 0.95, k = 5, freqCut = 19, uniqueCut = 10,  :\n",
            "R[write to console]: \n",
            " \n",
            "R[write to console]:  These variables have zero variances: pixel_1, pixel_2, pixel_3, pixel_4, pixel_5, pixel_6, pixel_7, pixel_8, pixel_9, pixel_10, pixel_11, pixel_12, pixel_13, pixel_14, pixel_15, pixel_16, pixel_17, pixel_18, pixel_19, pixel_20, pixel_21, pixel_22, pixel_23, pixel_24, pixel_25, pixel_26, pixel_27, pixel_28, pixel_29, pixel_30, pixel_31, pixel_32, pixel_33, pixel_34, pixel_35, pixel_36, pixel_37, pixel_50, pixel_51, pixel_52, pixel_53, pixel_54, pixel_55, pixel_56, pixel_57, pixel_58, pixel_59, pixel_60, pixel_61, pixel_83, pixel_84, pixel_85, pixel_86, pixel_87, pixel_88, pixel_111, pixel_112, pixel_113, pixel_114, pixel_115, pixel_140, pixel_141, pixel_142, pixel_143, pixel_168, pixel_169, pixel_170, pixel_171, pixel_196, pixel_197, pixel_224, pixel_225, pixel_252, pixel_253, pixel_281, pixel_309, pixel_337, pixel_364, pixel_365, pixel_366, pixel_367, pixel_392, pixel_393, pixel_394, pixel_395, pixel_420, pixel_421, pixel_422, pixel_423, pixel_448, pixel_449, pixel_450, pixel_476, pixe [... truncated]\n",
            "\n",
            "R[write to console]: Warning in preProcess.default(thresh = 0.95, k = 5, freqCut = 19, uniqueCut = 10,  :\n",
            "R[write to console]: \n",
            " \n",
            "R[write to console]:  These variables have zero variances: pixel_1, pixel_2, pixel_3, pixel_4, pixel_5, pixel_6, pixel_7, pixel_8, pixel_9, pixel_10, pixel_11, pixel_12, pixel_13, pixel_14, pixel_15, pixel_16, pixel_17, pixel_18, pixel_19, pixel_20, pixel_21, pixel_22, pixel_23, pixel_24, pixel_25, pixel_26, pixel_27, pixel_28, pixel_29, pixel_30, pixel_31, pixel_32, pixel_33, pixel_34, pixel_35, pixel_36, pixel_37, pixel_50, pixel_51, pixel_52, pixel_53, pixel_54, pixel_55, pixel_56, pixel_57, pixel_58, pixel_59, pixel_60, pixel_61, pixel_83, pixel_84, pixel_85, pixel_86, pixel_87, pixel_88, pixel_111, pixel_112, pixel_113, pixel_114, pixel_115, pixel_140, pixel_141, pixel_142, pixel_143, pixel_168, pixel_169, pixel_170, pixel_171, pixel_196, pixel_197, pixel_224, pixel_225, pixel_252, pixel_253, pixel_281, pixel_309, pixel_337, pixel_364, pixel_365, pixel_366, pixel_367, pixel_392, pixel_393, pixel_394, pixel_395, pixel_420, pixel_421, pixel_422, pixel_423, pixel_448, pixel_449, pixel_450, pixel_476, pixe [... truncated]\n",
            "\n",
            "R[write to console]: Warning in preProcess.default(thresh = 0.95, k = 5, freqCut = 19, uniqueCut = 10,  :\n",
            "R[write to console]: \n",
            " \n",
            "R[write to console]:  These variables have zero variances: pixel_1, pixel_2, pixel_3, pixel_4, pixel_5, pixel_6, pixel_7, pixel_8, pixel_9, pixel_10, pixel_11, pixel_12, pixel_13, pixel_14, pixel_15, pixel_16, pixel_17, pixel_18, pixel_19, pixel_20, pixel_21, pixel_22, pixel_23, pixel_24, pixel_25, pixel_26, pixel_27, pixel_28, pixel_29, pixel_30, pixel_31, pixel_32, pixel_33, pixel_34, pixel_35, pixel_36, pixel_37, pixel_50, pixel_51, pixel_52, pixel_53, pixel_54, pixel_55, pixel_56, pixel_57, pixel_58, pixel_59, pixel_60, pixel_61, pixel_83, pixel_84, pixel_85, pixel_86, pixel_87, pixel_88, pixel_111, pixel_112, pixel_113, pixel_114, pixel_115, pixel_140, pixel_141, pixel_142, pixel_143, pixel_168, pixel_169, pixel_170, pixel_171, pixel_196, pixel_197, pixel_224, pixel_225, pixel_252, pixel_253, pixel_281, pixel_309, pixel_337, pixel_364, pixel_365, pixel_366, pixel_367, pixel_392, pixel_393, pixel_394, pixel_395, pixel_420, pixel_421, pixel_422, pixel_423, pixel_448, pixel_449, pixel_450, pixel_476, pixe [... truncated]\n",
            "\n",
            "R[write to console]: Warning in preProcess.default(thresh = 0.95, k = 5, freqCut = 19, uniqueCut = 10,  :\n",
            "R[write to console]: \n",
            " \n",
            "R[write to console]:  These variables have zero variances: pixel_1, pixel_2, pixel_3, pixel_4, pixel_5, pixel_6, pixel_7, pixel_8, pixel_9, pixel_10, pixel_11, pixel_12, pixel_13, pixel_14, pixel_15, pixel_16, pixel_17, pixel_18, pixel_19, pixel_20, pixel_21, pixel_22, pixel_23, pixel_24, pixel_25, pixel_26, pixel_27, pixel_28, pixel_29, pixel_30, pixel_31, pixel_32, pixel_33, pixel_34, pixel_35, pixel_36, pixel_37, pixel_50, pixel_51, pixel_52, pixel_53, pixel_54, pixel_55, pixel_56, pixel_57, pixel_58, pixel_59, pixel_60, pixel_61, pixel_83, pixel_84, pixel_85, pixel_86, pixel_87, pixel_88, pixel_111, pixel_112, pixel_113, pixel_114, pixel_115, pixel_140, pixel_141, pixel_142, pixel_143, pixel_168, pixel_169, pixel_170, pixel_171, pixel_196, pixel_197, pixel_224, pixel_225, pixel_252, pixel_253, pixel_281, pixel_309, pixel_337, pixel_364, pixel_365, pixel_366, pixel_367, pixel_392, pixel_393, pixel_394, pixel_395, pixel_420, pixel_421, pixel_422, pixel_423, pixel_448, pixel_449, pixel_450, pixel_476, pixe [... truncated]\n",
            "\n",
            "R[write to console]: Warning in preProcess.default(thresh = 0.95, k = 5, freqCut = 19, uniqueCut = 10,  :\n",
            "R[write to console]: \n",
            " \n",
            "R[write to console]:  These variables have zero variances: pixel_1, pixel_2, pixel_3, pixel_4, pixel_5, pixel_6, pixel_7, pixel_8, pixel_9, pixel_10, pixel_11, pixel_12, pixel_13, pixel_14, pixel_15, pixel_16, pixel_17, pixel_18, pixel_19, pixel_20, pixel_21, pixel_22, pixel_23, pixel_24, pixel_25, pixel_26, pixel_27, pixel_28, pixel_29, pixel_30, pixel_31, pixel_32, pixel_33, pixel_34, pixel_35, pixel_36, pixel_37, pixel_50, pixel_51, pixel_52, pixel_53, pixel_54, pixel_55, pixel_56, pixel_57, pixel_58, pixel_59, pixel_60, pixel_61, pixel_83, pixel_84, pixel_85, pixel_86, pixel_87, pixel_88, pixel_111, pixel_112, pixel_113, pixel_114, pixel_115, pixel_140, pixel_141, pixel_142, pixel_143, pixel_168, pixel_169, pixel_170, pixel_171, pixel_196, pixel_197, pixel_224, pixel_225, pixel_252, pixel_253, pixel_281, pixel_309, pixel_337, pixel_364, pixel_365, pixel_366, pixel_367, pixel_392, pixel_393, pixel_394, pixel_395, pixel_420, pixel_421, pixel_422, pixel_423, pixel_448, pixel_449, pixel_450, pixel_476, pixe [... truncated]\n",
            "\n",
            "R[write to console]: Warning in preProcess.default(thresh = 0.95, k = 5, freqCut = 19, uniqueCut = 10,  :\n",
            "R[write to console]: \n",
            " \n",
            "R[write to console]:  These variables have zero variances: pixel_1, pixel_2, pixel_3, pixel_4, pixel_5, pixel_6, pixel_7, pixel_8, pixel_9, pixel_10, pixel_11, pixel_12, pixel_13, pixel_14, pixel_15, pixel_16, pixel_17, pixel_18, pixel_19, pixel_20, pixel_21, pixel_22, pixel_23, pixel_24, pixel_25, pixel_26, pixel_27, pixel_28, pixel_29, pixel_30, pixel_31, pixel_32, pixel_33, pixel_34, pixel_35, pixel_36, pixel_37, pixel_50, pixel_51, pixel_52, pixel_53, pixel_54, pixel_55, pixel_56, pixel_57, pixel_58, pixel_59, pixel_60, pixel_61, pixel_83, pixel_84, pixel_85, pixel_86, pixel_87, pixel_88, pixel_111, pixel_112, pixel_113, pixel_114, pixel_115, pixel_140, pixel_141, pixel_142, pixel_143, pixel_168, pixel_169, pixel_170, pixel_171, pixel_196, pixel_197, pixel_224, pixel_225, pixel_252, pixel_253, pixel_281, pixel_309, pixel_337, pixel_364, pixel_365, pixel_366, pixel_367, pixel_392, pixel_393, pixel_394, pixel_395, pixel_420, pixel_421, pixel_422, pixel_423, pixel_448, pixel_449, pixel_450, pixel_476, pixe [... truncated]\n",
            "\n",
            "R[write to console]: Warning in preProcess.default(thresh = 0.95, k = 5, freqCut = 19, uniqueCut = 10,  :\n",
            "R[write to console]: \n",
            " \n",
            "R[write to console]:  These variables have zero variances: pixel_1, pixel_2, pixel_3, pixel_4, pixel_5, pixel_6, pixel_7, pixel_8, pixel_9, pixel_10, pixel_11, pixel_12, pixel_13, pixel_14, pixel_15, pixel_16, pixel_17, pixel_18, pixel_19, pixel_20, pixel_21, pixel_22, pixel_23, pixel_24, pixel_25, pixel_26, pixel_27, pixel_28, pixel_29, pixel_30, pixel_31, pixel_32, pixel_33, pixel_34, pixel_35, pixel_36, pixel_37, pixel_50, pixel_51, pixel_52, pixel_53, pixel_54, pixel_55, pixel_56, pixel_57, pixel_58, pixel_59, pixel_60, pixel_61, pixel_83, pixel_84, pixel_85, pixel_86, pixel_87, pixel_88, pixel_111, pixel_112, pixel_113, pixel_114, pixel_115, pixel_140, pixel_141, pixel_142, pixel_143, pixel_168, pixel_169, pixel_170, pixel_171, pixel_196, pixel_197, pixel_224, pixel_225, pixel_252, pixel_253, pixel_281, pixel_309, pixel_337, pixel_364, pixel_365, pixel_366, pixel_367, pixel_392, pixel_393, pixel_394, pixel_395, pixel_420, pixel_421, pixel_422, pixel_423, pixel_448, pixel_449, pixel_450, pixel_476, pixe [... truncated]\n",
            "\n",
            "R[write to console]: Warning in preProcess.default(thresh = 0.95, k = 5, freqCut = 19, uniqueCut = 10,  :\n",
            "R[write to console]: \n",
            " \n",
            "R[write to console]:  These variables have zero variances: pixel_1, pixel_2, pixel_3, pixel_4, pixel_5, pixel_6, pixel_7, pixel_8, pixel_9, pixel_10, pixel_11, pixel_12, pixel_13, pixel_14, pixel_15, pixel_16, pixel_17, pixel_18, pixel_19, pixel_20, pixel_21, pixel_22, pixel_23, pixel_24, pixel_25, pixel_26, pixel_27, pixel_28, pixel_29, pixel_30, pixel_31, pixel_32, pixel_33, pixel_34, pixel_35, pixel_36, pixel_37, pixel_50, pixel_51, pixel_52, pixel_53, pixel_54, pixel_55, pixel_56, pixel_57, pixel_58, pixel_59, pixel_60, pixel_61, pixel_83, pixel_84, pixel_85, pixel_86, pixel_87, pixel_88, pixel_111, pixel_112, pixel_113, pixel_114, pixel_115, pixel_140, pixel_141, pixel_142, pixel_143, pixel_168, pixel_169, pixel_170, pixel_171, pixel_196, pixel_197, pixel_224, pixel_225, pixel_252, pixel_253, pixel_281, pixel_309, pixel_337, pixel_364, pixel_365, pixel_366, pixel_367, pixel_392, pixel_393, pixel_394, pixel_395, pixel_420, pixel_421, pixel_422, pixel_423, pixel_448, pixel_449, pixel_450, pixel_476, pixe [... truncated]\n",
            "\n",
            "R[write to console]: Warning in preProcess.default(thresh = 0.95, k = 5, freqCut = 19, uniqueCut = 10,  :\n",
            "R[write to console]: \n",
            " \n",
            "R[write to console]:  These variables have zero variances: pixel_1, pixel_2, pixel_3, pixel_4, pixel_5, pixel_6, pixel_7, pixel_8, pixel_9, pixel_10, pixel_11, pixel_12, pixel_13, pixel_14, pixel_15, pixel_16, pixel_17, pixel_18, pixel_19, pixel_20, pixel_21, pixel_22, pixel_23, pixel_24, pixel_25, pixel_26, pixel_27, pixel_28, pixel_29, pixel_30, pixel_31, pixel_32, pixel_33, pixel_34, pixel_35, pixel_36, pixel_37, pixel_51, pixel_52, pixel_53, pixel_54, pixel_55, pixel_56, pixel_57, pixel_58, pixel_59, pixel_60, pixel_61, pixel_83, pixel_84, pixel_85, pixel_86, pixel_87, pixel_88, pixel_111, pixel_112, pixel_113, pixel_114, pixel_115, pixel_116, pixel_139, pixel_140, pixel_141, pixel_142, pixel_143, pixel_168, pixel_169, pixel_170, pixel_197, pixel_225, pixel_252, pixel_253, pixel_280, pixel_281, pixel_308, pixel_309, pixel_336, pixel_337, pixel_364, pixel_365, pixel_366, pixel_367, pixel_392, pixel_393, pixel_394, pixel_395, pixel_420, pixel_421, pixel_422, pixel_423, pixel_448, pixel_449, pixel_450, pix [... truncated]\n",
            "\n",
            "R[write to console]: Warning in preProcess.default(thresh = 0.95, k = 5, freqCut = 19, uniqueCut = 10,  :\n",
            "R[write to console]: \n",
            " \n",
            "R[write to console]:  These variables have zero variances: pixel_1, pixel_2, pixel_3, pixel_4, pixel_5, pixel_6, pixel_7, pixel_8, pixel_9, pixel_10, pixel_11, pixel_12, pixel_13, pixel_14, pixel_15, pixel_16, pixel_17, pixel_18, pixel_19, pixel_20, pixel_21, pixel_22, pixel_23, pixel_24, pixel_25, pixel_26, pixel_27, pixel_28, pixel_29, pixel_30, pixel_31, pixel_32, pixel_33, pixel_34, pixel_35, pixel_36, pixel_37, pixel_51, pixel_52, pixel_53, pixel_54, pixel_55, pixel_56, pixel_57, pixel_58, pixel_59, pixel_60, pixel_61, pixel_83, pixel_84, pixel_85, pixel_86, pixel_87, pixel_88, pixel_111, pixel_112, pixel_113, pixel_114, pixel_115, pixel_116, pixel_139, pixel_140, pixel_141, pixel_142, pixel_143, pixel_168, pixel_169, pixel_170, pixel_197, pixel_225, pixel_252, pixel_253, pixel_280, pixel_281, pixel_308, pixel_309, pixel_336, pixel_337, pixel_364, pixel_365, pixel_366, pixel_367, pixel_392, pixel_393, pixel_394, pixel_395, pixel_420, pixel_421, pixel_422, pixel_423, pixel_448, pixel_449, pixel_450, pix [... truncated]\n",
            "\n",
            "R[write to console]: Warning in preProcess.default(thresh = 0.95, k = 5, freqCut = 19, uniqueCut = 10,  :\n",
            "R[write to console]: \n",
            " \n",
            "R[write to console]:  These variables have zero variances: pixel_1, pixel_2, pixel_3, pixel_4, pixel_5, pixel_6, pixel_7, pixel_8, pixel_9, pixel_10, pixel_11, pixel_12, pixel_13, pixel_14, pixel_15, pixel_16, pixel_17, pixel_18, pixel_19, pixel_20, pixel_21, pixel_22, pixel_23, pixel_24, pixel_25, pixel_26, pixel_27, pixel_28, pixel_29, pixel_30, pixel_31, pixel_32, pixel_33, pixel_34, pixel_35, pixel_36, pixel_37, pixel_51, pixel_52, pixel_53, pixel_54, pixel_55, pixel_56, pixel_57, pixel_58, pixel_59, pixel_60, pixel_61, pixel_83, pixel_84, pixel_85, pixel_86, pixel_87, pixel_88, pixel_111, pixel_112, pixel_113, pixel_114, pixel_115, pixel_116, pixel_139, pixel_140, pixel_141, pixel_142, pixel_143, pixel_168, pixel_169, pixel_170, pixel_197, pixel_225, pixel_252, pixel_253, pixel_280, pixel_281, pixel_308, pixel_309, pixel_336, pixel_337, pixel_364, pixel_365, pixel_366, pixel_367, pixel_392, pixel_393, pixel_394, pixel_395, pixel_420, pixel_421, pixel_422, pixel_423, pixel_448, pixel_449, pixel_450, pix [... truncated]\n",
            "\n",
            "R[write to console]: Warning in preProcess.default(thresh = 0.95, k = 5, freqCut = 19, uniqueCut = 10,  :\n",
            "R[write to console]: \n",
            " \n",
            "R[write to console]:  These variables have zero variances: pixel_1, pixel_2, pixel_3, pixel_4, pixel_5, pixel_6, pixel_7, pixel_8, pixel_9, pixel_10, pixel_11, pixel_12, pixel_13, pixel_14, pixel_15, pixel_16, pixel_17, pixel_18, pixel_19, pixel_20, pixel_21, pixel_22, pixel_23, pixel_24, pixel_25, pixel_26, pixel_27, pixel_28, pixel_29, pixel_30, pixel_31, pixel_32, pixel_33, pixel_34, pixel_35, pixel_36, pixel_37, pixel_51, pixel_52, pixel_53, pixel_54, pixel_55, pixel_56, pixel_57, pixel_58, pixel_59, pixel_60, pixel_61, pixel_83, pixel_84, pixel_85, pixel_86, pixel_87, pixel_88, pixel_111, pixel_112, pixel_113, pixel_114, pixel_115, pixel_116, pixel_139, pixel_140, pixel_141, pixel_142, pixel_143, pixel_168, pixel_169, pixel_170, pixel_197, pixel_225, pixel_252, pixel_253, pixel_280, pixel_281, pixel_308, pixel_309, pixel_336, pixel_337, pixel_364, pixel_365, pixel_366, pixel_367, pixel_392, pixel_393, pixel_394, pixel_395, pixel_420, pixel_421, pixel_422, pixel_423, pixel_448, pixel_449, pixel_450, pix [... truncated]\n",
            "\n",
            "R[write to console]: Warning in preProcess.default(thresh = 0.95, k = 5, freqCut = 19, uniqueCut = 10,  :\n",
            "R[write to console]: \n",
            " \n",
            "R[write to console]:  These variables have zero variances: pixel_1, pixel_2, pixel_3, pixel_4, pixel_5, pixel_6, pixel_7, pixel_8, pixel_9, pixel_10, pixel_11, pixel_12, pixel_13, pixel_14, pixel_15, pixel_16, pixel_17, pixel_18, pixel_19, pixel_20, pixel_21, pixel_22, pixel_23, pixel_24, pixel_25, pixel_26, pixel_27, pixel_28, pixel_29, pixel_30, pixel_31, pixel_32, pixel_33, pixel_34, pixel_35, pixel_36, pixel_37, pixel_51, pixel_52, pixel_53, pixel_54, pixel_55, pixel_56, pixel_57, pixel_58, pixel_59, pixel_60, pixel_61, pixel_83, pixel_84, pixel_85, pixel_86, pixel_87, pixel_88, pixel_111, pixel_112, pixel_113, pixel_114, pixel_115, pixel_116, pixel_139, pixel_140, pixel_141, pixel_142, pixel_143, pixel_168, pixel_169, pixel_170, pixel_197, pixel_225, pixel_252, pixel_253, pixel_280, pixel_281, pixel_308, pixel_309, pixel_336, pixel_337, pixel_364, pixel_365, pixel_366, pixel_367, pixel_392, pixel_393, pixel_394, pixel_395, pixel_420, pixel_421, pixel_422, pixel_423, pixel_448, pixel_449, pixel_450, pix [... truncated]\n",
            "\n",
            "R[write to console]: Warning in preProcess.default(thresh = 0.95, k = 5, freqCut = 19, uniqueCut = 10,  :\n",
            "R[write to console]: \n",
            " \n",
            "R[write to console]:  These variables have zero variances: pixel_1, pixel_2, pixel_3, pixel_4, pixel_5, pixel_6, pixel_7, pixel_8, pixel_9, pixel_10, pixel_11, pixel_12, pixel_13, pixel_14, pixel_15, pixel_16, pixel_17, pixel_18, pixel_19, pixel_20, pixel_21, pixel_22, pixel_23, pixel_24, pixel_25, pixel_26, pixel_27, pixel_28, pixel_29, pixel_30, pixel_31, pixel_32, pixel_33, pixel_34, pixel_35, pixel_36, pixel_37, pixel_51, pixel_52, pixel_53, pixel_54, pixel_55, pixel_56, pixel_57, pixel_58, pixel_59, pixel_60, pixel_61, pixel_83, pixel_84, pixel_85, pixel_86, pixel_87, pixel_88, pixel_111, pixel_112, pixel_113, pixel_114, pixel_115, pixel_116, pixel_139, pixel_140, pixel_141, pixel_142, pixel_143, pixel_168, pixel_169, pixel_170, pixel_197, pixel_225, pixel_252, pixel_253, pixel_280, pixel_281, pixel_308, pixel_309, pixel_336, pixel_337, pixel_364, pixel_365, pixel_366, pixel_367, pixel_392, pixel_393, pixel_394, pixel_395, pixel_420, pixel_421, pixel_422, pixel_423, pixel_448, pixel_449, pixel_450, pix [... truncated]\n",
            "\n",
            "R[write to console]: Warning in preProcess.default(thresh = 0.95, k = 5, freqCut = 19, uniqueCut = 10,  :\n",
            "R[write to console]: \n",
            " \n",
            "R[write to console]:  These variables have zero variances: pixel_1, pixel_2, pixel_3, pixel_4, pixel_5, pixel_6, pixel_7, pixel_8, pixel_9, pixel_10, pixel_11, pixel_12, pixel_13, pixel_14, pixel_15, pixel_16, pixel_17, pixel_18, pixel_19, pixel_20, pixel_21, pixel_22, pixel_23, pixel_24, pixel_25, pixel_26, pixel_27, pixel_28, pixel_29, pixel_30, pixel_31, pixel_32, pixel_33, pixel_34, pixel_35, pixel_36, pixel_37, pixel_51, pixel_52, pixel_53, pixel_54, pixel_55, pixel_56, pixel_57, pixel_58, pixel_59, pixel_60, pixel_61, pixel_83, pixel_84, pixel_85, pixel_86, pixel_87, pixel_88, pixel_111, pixel_112, pixel_113, pixel_114, pixel_115, pixel_116, pixel_139, pixel_140, pixel_141, pixel_142, pixel_143, pixel_168, pixel_169, pixel_170, pixel_197, pixel_225, pixel_252, pixel_253, pixel_280, pixel_281, pixel_308, pixel_309, pixel_336, pixel_337, pixel_364, pixel_365, pixel_366, pixel_367, pixel_392, pixel_393, pixel_394, pixel_395, pixel_420, pixel_421, pixel_422, pixel_423, pixel_448, pixel_449, pixel_450, pix [... truncated]\n",
            "\n",
            "R[write to console]: Warning in preProcess.default(thresh = 0.95, k = 5, freqCut = 19, uniqueCut = 10,  :\n",
            "R[write to console]: \n",
            " \n",
            "R[write to console]:  These variables have zero variances: pixel_1, pixel_2, pixel_3, pixel_4, pixel_5, pixel_6, pixel_7, pixel_8, pixel_9, pixel_10, pixel_11, pixel_12, pixel_13, pixel_14, pixel_15, pixel_16, pixel_17, pixel_18, pixel_19, pixel_20, pixel_21, pixel_22, pixel_23, pixel_24, pixel_25, pixel_26, pixel_27, pixel_28, pixel_29, pixel_30, pixel_31, pixel_32, pixel_33, pixel_34, pixel_35, pixel_36, pixel_37, pixel_51, pixel_52, pixel_53, pixel_54, pixel_55, pixel_56, pixel_57, pixel_58, pixel_59, pixel_60, pixel_61, pixel_83, pixel_84, pixel_85, pixel_86, pixel_87, pixel_88, pixel_111, pixel_112, pixel_113, pixel_114, pixel_115, pixel_116, pixel_139, pixel_140, pixel_141, pixel_142, pixel_143, pixel_168, pixel_169, pixel_170, pixel_197, pixel_225, pixel_252, pixel_253, pixel_280, pixel_281, pixel_308, pixel_309, pixel_336, pixel_337, pixel_364, pixel_365, pixel_366, pixel_367, pixel_392, pixel_393, pixel_394, pixel_395, pixel_420, pixel_421, pixel_422, pixel_423, pixel_448, pixel_449, pixel_450, pix [... truncated]\n",
            "\n",
            "R[write to console]: Warning in preProcess.default(thresh = 0.95, k = 5, freqCut = 19, uniqueCut = 10,  :\n",
            "R[write to console]: \n",
            " \n",
            "R[write to console]:  These variables have zero variances: pixel_1, pixel_2, pixel_3, pixel_4, pixel_5, pixel_6, pixel_7, pixel_8, pixel_9, pixel_10, pixel_11, pixel_12, pixel_13, pixel_14, pixel_15, pixel_16, pixel_17, pixel_18, pixel_19, pixel_20, pixel_21, pixel_22, pixel_23, pixel_24, pixel_25, pixel_26, pixel_27, pixel_28, pixel_29, pixel_30, pixel_31, pixel_32, pixel_33, pixel_34, pixel_35, pixel_36, pixel_37, pixel_51, pixel_52, pixel_53, pixel_54, pixel_55, pixel_56, pixel_57, pixel_58, pixel_59, pixel_60, pixel_61, pixel_83, pixel_84, pixel_85, pixel_86, pixel_87, pixel_88, pixel_111, pixel_112, pixel_113, pixel_114, pixel_115, pixel_116, pixel_139, pixel_140, pixel_141, pixel_142, pixel_143, pixel_168, pixel_169, pixel_170, pixel_197, pixel_225, pixel_252, pixel_253, pixel_280, pixel_281, pixel_308, pixel_309, pixel_336, pixel_337, pixel_364, pixel_365, pixel_366, pixel_367, pixel_392, pixel_393, pixel_394, pixel_395, pixel_420, pixel_421, pixel_422, pixel_423, pixel_448, pixel_449, pixel_450, pix [... truncated]\n",
            "\n",
            "R[write to console]: Warning in preProcess.default(thresh = 0.95, k = 5, freqCut = 19, uniqueCut = 10,  :\n",
            "R[write to console]: \n",
            " \n",
            "R[write to console]:  These variables have zero variances: pixel_1, pixel_2, pixel_3, pixel_4, pixel_5, pixel_6, pixel_7, pixel_8, pixel_9, pixel_10, pixel_11, pixel_12, pixel_13, pixel_14, pixel_15, pixel_16, pixel_17, pixel_18, pixel_19, pixel_20, pixel_21, pixel_22, pixel_23, pixel_24, pixel_25, pixel_26, pixel_27, pixel_28, pixel_29, pixel_30, pixel_31, pixel_32, pixel_33, pixel_34, pixel_35, pixel_36, pixel_37, pixel_51, pixel_52, pixel_53, pixel_54, pixel_55, pixel_56, pixel_57, pixel_58, pixel_59, pixel_60, pixel_61, pixel_83, pixel_84, pixel_85, pixel_86, pixel_87, pixel_88, pixel_111, pixel_112, pixel_113, pixel_114, pixel_115, pixel_116, pixel_139, pixel_140, pixel_141, pixel_142, pixel_143, pixel_168, pixel_169, pixel_170, pixel_197, pixel_225, pixel_252, pixel_253, pixel_280, pixel_281, pixel_308, pixel_309, pixel_336, pixel_337, pixel_364, pixel_365, pixel_366, pixel_367, pixel_392, pixel_393, pixel_394, pixel_395, pixel_420, pixel_421, pixel_422, pixel_423, pixel_448, pixel_449, pixel_450, pix [... truncated]\n",
            "\n",
            "R[write to console]: Warning in preProcess.default(thresh = 0.95, k = 5, freqCut = 19, uniqueCut = 10,  :\n",
            "R[write to console]: \n",
            " \n",
            "R[write to console]:  These variables have zero variances: pixel_1, pixel_2, pixel_3, pixel_4, pixel_5, pixel_6, pixel_7, pixel_8, pixel_9, pixel_10, pixel_11, pixel_12, pixel_13, pixel_14, pixel_15, pixel_16, pixel_17, pixel_18, pixel_19, pixel_20, pixel_21, pixel_22, pixel_23, pixel_24, pixel_25, pixel_26, pixel_27, pixel_28, pixel_29, pixel_30, pixel_31, pixel_32, pixel_33, pixel_34, pixel_35, pixel_36, pixel_37, pixel_51, pixel_52, pixel_53, pixel_54, pixel_55, pixel_56, pixel_57, pixel_58, pixel_59, pixel_60, pixel_61, pixel_83, pixel_84, pixel_85, pixel_86, pixel_87, pixel_88, pixel_111, pixel_112, pixel_113, pixel_114, pixel_115, pixel_116, pixel_139, pixel_140, pixel_141, pixel_142, pixel_143, pixel_168, pixel_169, pixel_170, pixel_197, pixel_225, pixel_252, pixel_253, pixel_280, pixel_281, pixel_308, pixel_309, pixel_336, pixel_337, pixel_364, pixel_365, pixel_366, pixel_367, pixel_392, pixel_393, pixel_394, pixel_395, pixel_420, pixel_421, pixel_422, pixel_423, pixel_448, pixel_449, pixel_450, pix [... truncated]\n",
            "\n",
            "R[write to console]: Warning in preProcess.default(thresh = 0.95, k = 5, freqCut = 19, uniqueCut = 10,  :\n",
            "R[write to console]: \n",
            " \n",
            "R[write to console]:  These variables have zero variances: pixel_1, pixel_2, pixel_3, pixel_4, pixel_5, pixel_6, pixel_7, pixel_8, pixel_9, pixel_10, pixel_11, pixel_12, pixel_13, pixel_14, pixel_15, pixel_16, pixel_17, pixel_18, pixel_19, pixel_20, pixel_21, pixel_22, pixel_23, pixel_24, pixel_25, pixel_26, pixel_27, pixel_28, pixel_29, pixel_30, pixel_31, pixel_32, pixel_33, pixel_34, pixel_35, pixel_36, pixel_37, pixel_51, pixel_52, pixel_53, pixel_54, pixel_55, pixel_56, pixel_57, pixel_58, pixel_59, pixel_60, pixel_61, pixel_83, pixel_84, pixel_85, pixel_86, pixel_87, pixel_88, pixel_111, pixel_112, pixel_113, pixel_114, pixel_115, pixel_116, pixel_139, pixel_140, pixel_141, pixel_142, pixel_143, pixel_168, pixel_169, pixel_170, pixel_197, pixel_225, pixel_252, pixel_253, pixel_280, pixel_281, pixel_308, pixel_309, pixel_336, pixel_337, pixel_364, pixel_365, pixel_366, pixel_367, pixel_392, pixel_393, pixel_394, pixel_395, pixel_420, pixel_421, pixel_422, pixel_423, pixel_448, pixel_449, pixel_450, pix [... truncated]\n",
            "\n",
            "R[write to console]: Warning in preProcess.default(thresh = 0.95, k = 5, freqCut = 19, uniqueCut = 10,  :\n",
            "R[write to console]: \n",
            " \n",
            "R[write to console]:  These variables have zero variances: pixel_1, pixel_2, pixel_3, pixel_4, pixel_5, pixel_6, pixel_7, pixel_8, pixel_9, pixel_10, pixel_11, pixel_12, pixel_13, pixel_14, pixel_15, pixel_16, pixel_17, pixel_18, pixel_19, pixel_20, pixel_21, pixel_22, pixel_23, pixel_24, pixel_25, pixel_26, pixel_27, pixel_28, pixel_29, pixel_30, pixel_31, pixel_32, pixel_33, pixel_34, pixel_35, pixel_36, pixel_37, pixel_51, pixel_52, pixel_53, pixel_54, pixel_55, pixel_56, pixel_57, pixel_58, pixel_59, pixel_60, pixel_61, pixel_83, pixel_84, pixel_85, pixel_86, pixel_87, pixel_88, pixel_111, pixel_112, pixel_113, pixel_114, pixel_115, pixel_116, pixel_139, pixel_140, pixel_141, pixel_142, pixel_143, pixel_168, pixel_169, pixel_170, pixel_197, pixel_225, pixel_252, pixel_253, pixel_280, pixel_281, pixel_308, pixel_309, pixel_336, pixel_337, pixel_364, pixel_365, pixel_366, pixel_367, pixel_392, pixel_393, pixel_394, pixel_395, pixel_420, pixel_421, pixel_422, pixel_423, pixel_448, pixel_449, pixel_450, pix [... truncated]\n",
            "\n",
            "R[write to console]: Warning in preProcess.default(thresh = 0.95, k = 5, freqCut = 19, uniqueCut = 10,  :\n",
            "R[write to console]: \n",
            " \n",
            "R[write to console]:  These variables have zero variances: pixel_1, pixel_2, pixel_3, pixel_4, pixel_5, pixel_6, pixel_7, pixel_8, pixel_9, pixel_10, pixel_11, pixel_12, pixel_13, pixel_14, pixel_15, pixel_16, pixel_17, pixel_18, pixel_19, pixel_20, pixel_21, pixel_22, pixel_23, pixel_24, pixel_25, pixel_26, pixel_27, pixel_28, pixel_29, pixel_30, pixel_31, pixel_32, pixel_33, pixel_34, pixel_35, pixel_36, pixel_37, pixel_51, pixel_52, pixel_53, pixel_54, pixel_55, pixel_56, pixel_57, pixel_58, pixel_59, pixel_60, pixel_61, pixel_83, pixel_84, pixel_85, pixel_86, pixel_87, pixel_88, pixel_111, pixel_112, pixel_113, pixel_114, pixel_115, pixel_116, pixel_139, pixel_140, pixel_141, pixel_142, pixel_143, pixel_168, pixel_169, pixel_170, pixel_197, pixel_225, pixel_252, pixel_253, pixel_280, pixel_281, pixel_308, pixel_309, pixel_336, pixel_337, pixel_364, pixel_365, pixel_366, pixel_367, pixel_392, pixel_393, pixel_394, pixel_395, pixel_420, pixel_421, pixel_422, pixel_423, pixel_448, pixel_449, pixel_450, pix [... truncated]\n",
            "\n",
            "R[write to console]: Warning in preProcess.default(thresh = 0.95, k = 5, freqCut = 19, uniqueCut = 10,  :\n",
            "R[write to console]: \n",
            " \n",
            "R[write to console]:  These variables have zero variances: pixel_1, pixel_2, pixel_3, pixel_4, pixel_5, pixel_6, pixel_7, pixel_8, pixel_9, pixel_10, pixel_11, pixel_12, pixel_13, pixel_14, pixel_15, pixel_16, pixel_17, pixel_18, pixel_19, pixel_20, pixel_21, pixel_22, pixel_23, pixel_24, pixel_25, pixel_26, pixel_27, pixel_28, pixel_29, pixel_30, pixel_31, pixel_32, pixel_33, pixel_34, pixel_35, pixel_36, pixel_37, pixel_51, pixel_52, pixel_53, pixel_54, pixel_55, pixel_56, pixel_57, pixel_58, pixel_59, pixel_60, pixel_61, pixel_81, pixel_82, pixel_83, pixel_84, pixel_85, pixel_86, pixel_87, pixel_88, pixel_89, pixel_110, pixel_111, pixel_112, pixel_113, pixel_114, pixel_115, pixel_140, pixel_141, pixel_142, pixel_143, pixel_168, pixel_169, pixel_170, pixel_197, pixel_225, pixel_252, pixel_253, pixel_281, pixel_309, pixel_337, pixel_364, pixel_365, pixel_366, pixel_367, pixel_392, pixel_393, pixel_394, pixel_395, pixel_420, pixel_421, pixel_422, pixel_423, pixel_448, pixel_449, pixel_450, pixel_476, pixel_ [... truncated]\n",
            "\n",
            "R[write to console]: Warning in preProcess.default(thresh = 0.95, k = 5, freqCut = 19, uniqueCut = 10,  :\n",
            "R[write to console]: \n",
            " \n",
            "R[write to console]:  These variables have zero variances: pixel_1, pixel_2, pixel_3, pixel_4, pixel_5, pixel_6, pixel_7, pixel_8, pixel_9, pixel_10, pixel_11, pixel_12, pixel_13, pixel_14, pixel_15, pixel_16, pixel_17, pixel_18, pixel_19, pixel_20, pixel_21, pixel_22, pixel_23, pixel_24, pixel_25, pixel_26, pixel_27, pixel_28, pixel_29, pixel_30, pixel_31, pixel_32, pixel_33, pixel_34, pixel_35, pixel_36, pixel_37, pixel_51, pixel_52, pixel_53, pixel_54, pixel_55, pixel_56, pixel_57, pixel_58, pixel_59, pixel_60, pixel_61, pixel_81, pixel_82, pixel_83, pixel_84, pixel_85, pixel_86, pixel_87, pixel_88, pixel_89, pixel_110, pixel_111, pixel_112, pixel_113, pixel_114, pixel_115, pixel_140, pixel_141, pixel_142, pixel_143, pixel_168, pixel_169, pixel_170, pixel_197, pixel_225, pixel_252, pixel_253, pixel_281, pixel_309, pixel_337, pixel_364, pixel_365, pixel_366, pixel_367, pixel_392, pixel_393, pixel_394, pixel_395, pixel_420, pixel_421, pixel_422, pixel_423, pixel_448, pixel_449, pixel_450, pixel_476, pixel_ [... truncated]\n",
            "\n",
            "R[write to console]: Warning in preProcess.default(thresh = 0.95, k = 5, freqCut = 19, uniqueCut = 10,  :\n",
            "R[write to console]: \n",
            " \n",
            "R[write to console]:  These variables have zero variances: pixel_1, pixel_2, pixel_3, pixel_4, pixel_5, pixel_6, pixel_7, pixel_8, pixel_9, pixel_10, pixel_11, pixel_12, pixel_13, pixel_14, pixel_15, pixel_16, pixel_17, pixel_18, pixel_19, pixel_20, pixel_21, pixel_22, pixel_23, pixel_24, pixel_25, pixel_26, pixel_27, pixel_28, pixel_29, pixel_30, pixel_31, pixel_32, pixel_33, pixel_34, pixel_35, pixel_36, pixel_37, pixel_51, pixel_52, pixel_53, pixel_54, pixel_55, pixel_56, pixel_57, pixel_58, pixel_59, pixel_60, pixel_61, pixel_81, pixel_82, pixel_83, pixel_84, pixel_85, pixel_86, pixel_87, pixel_88, pixel_89, pixel_110, pixel_111, pixel_112, pixel_113, pixel_114, pixel_115, pixel_140, pixel_141, pixel_142, pixel_143, pixel_168, pixel_169, pixel_170, pixel_197, pixel_225, pixel_252, pixel_253, pixel_281, pixel_309, pixel_337, pixel_364, pixel_365, pixel_366, pixel_367, pixel_392, pixel_393, pixel_394, pixel_395, pixel_420, pixel_421, pixel_422, pixel_423, pixel_448, pixel_449, pixel_450, pixel_476, pixel_ [... truncated]\n",
            "\n",
            "From cffi callback <function _processevents at 0x7f1bb9582830>:\n",
            "Traceback (most recent call last):\n",
            "  File \"/usr/local/lib/python3.7/dist-packages/rpy2/rinterface_lib/callbacks.py\", line 274, in _processevents\n",
            "    @ffi_proxy.callback(ffi_proxy._processevents_def,\n",
            "KeyboardInterrupt\n",
            "R[write to console]: Warning in preProcess.default(thresh = 0.95, k = 5, freqCut = 19, uniqueCut = 10,  :\n",
            "R[write to console]: \n",
            " \n",
            "R[write to console]:  These variables have zero variances: pixel_1, pixel_2, pixel_3, pixel_4, pixel_5, pixel_6, pixel_7, pixel_8, pixel_9, pixel_10, pixel_11, pixel_12, pixel_13, pixel_14, pixel_15, pixel_16, pixel_17, pixel_18, pixel_19, pixel_20, pixel_21, pixel_22, pixel_23, pixel_24, pixel_25, pixel_26, pixel_27, pixel_28, pixel_29, pixel_30, pixel_31, pixel_32, pixel_33, pixel_34, pixel_35, pixel_36, pixel_37, pixel_51, pixel_52, pixel_53, pixel_54, pixel_55, pixel_56, pixel_57, pixel_58, pixel_59, pixel_60, pixel_61, pixel_81, pixel_82, pixel_83, pixel_84, pixel_85, pixel_86, pixel_87, pixel_88, pixel_89, pixel_110, pixel_111, pixel_112, pixel_113, pixel_114, pixel_115, pixel_140, pixel_141, pixel_142, pixel_143, pixel_168, pixel_169, pixel_170, pixel_197, pixel_225, pixel_252, pixel_253, pixel_281, pixel_309, pixel_337, pixel_364, pixel_365, pixel_366, pixel_367, pixel_392, pixel_393, pixel_394, pixel_395, pixel_420, pixel_421, pixel_422, pixel_423, pixel_448, pixel_449, pixel_450, pixel_476, pixel_ [... truncated]\n",
            "\n",
            "R[write to console]: Warning in preProcess.default(thresh = 0.95, k = 5, freqCut = 19, uniqueCut = 10,  :\n",
            "R[write to console]: \n",
            " \n",
            "R[write to console]:  These variables have zero variances: pixel_1, pixel_2, pixel_3, pixel_4, pixel_5, pixel_6, pixel_7, pixel_8, pixel_9, pixel_10, pixel_11, pixel_12, pixel_13, pixel_14, pixel_15, pixel_16, pixel_17, pixel_18, pixel_19, pixel_20, pixel_21, pixel_22, pixel_23, pixel_24, pixel_25, pixel_26, pixel_27, pixel_28, pixel_29, pixel_30, pixel_31, pixel_32, pixel_33, pixel_34, pixel_35, pixel_36, pixel_37, pixel_51, pixel_52, pixel_53, pixel_54, pixel_55, pixel_56, pixel_57, pixel_58, pixel_59, pixel_60, pixel_61, pixel_81, pixel_82, pixel_83, pixel_84, pixel_85, pixel_86, pixel_87, pixel_88, pixel_89, pixel_110, pixel_111, pixel_112, pixel_113, pixel_114, pixel_115, pixel_140, pixel_141, pixel_142, pixel_143, pixel_168, pixel_169, pixel_170, pixel_197, pixel_225, pixel_252, pixel_253, pixel_281, pixel_309, pixel_337, pixel_364, pixel_365, pixel_366, pixel_367, pixel_392, pixel_393, pixel_394, pixel_395, pixel_420, pixel_421, pixel_422, pixel_423, pixel_448, pixel_449, pixel_450, pixel_476, pixel_ [... truncated]\n",
            "\n",
            "R[write to console]: Warning in preProcess.default(thresh = 0.95, k = 5, freqCut = 19, uniqueCut = 10,  :\n",
            "R[write to console]: \n",
            " \n",
            "R[write to console]:  These variables have zero variances: pixel_1, pixel_2, pixel_3, pixel_4, pixel_5, pixel_6, pixel_7, pixel_8, pixel_9, pixel_10, pixel_11, pixel_12, pixel_13, pixel_14, pixel_15, pixel_16, pixel_17, pixel_18, pixel_19, pixel_20, pixel_21, pixel_22, pixel_23, pixel_24, pixel_25, pixel_26, pixel_27, pixel_28, pixel_29, pixel_30, pixel_31, pixel_32, pixel_33, pixel_34, pixel_35, pixel_36, pixel_37, pixel_51, pixel_52, pixel_53, pixel_54, pixel_55, pixel_56, pixel_57, pixel_58, pixel_59, pixel_60, pixel_61, pixel_81, pixel_82, pixel_83, pixel_84, pixel_85, pixel_86, pixel_87, pixel_88, pixel_89, pixel_110, pixel_111, pixel_112, pixel_113, pixel_114, pixel_115, pixel_140, pixel_141, pixel_142, pixel_143, pixel_168, pixel_169, pixel_170, pixel_197, pixel_225, pixel_252, pixel_253, pixel_281, pixel_309, pixel_337, pixel_364, pixel_365, pixel_366, pixel_367, pixel_392, pixel_393, pixel_394, pixel_395, pixel_420, pixel_421, pixel_422, pixel_423, pixel_448, pixel_449, pixel_450, pixel_476, pixel_ [... truncated]\n",
            "\n",
            "R[write to console]: Warning in preProcess.default(thresh = 0.95, k = 5, freqCut = 19, uniqueCut = 10,  :\n",
            "R[write to console]: \n",
            " \n",
            "R[write to console]:  These variables have zero variances: pixel_1, pixel_2, pixel_3, pixel_4, pixel_5, pixel_6, pixel_7, pixel_8, pixel_9, pixel_10, pixel_11, pixel_12, pixel_13, pixel_14, pixel_15, pixel_16, pixel_17, pixel_18, pixel_19, pixel_20, pixel_21, pixel_22, pixel_23, pixel_24, pixel_25, pixel_26, pixel_27, pixel_28, pixel_29, pixel_30, pixel_31, pixel_32, pixel_33, pixel_34, pixel_35, pixel_36, pixel_37, pixel_51, pixel_52, pixel_53, pixel_54, pixel_55, pixel_56, pixel_57, pixel_58, pixel_59, pixel_60, pixel_61, pixel_81, pixel_82, pixel_83, pixel_84, pixel_85, pixel_86, pixel_87, pixel_88, pixel_89, pixel_110, pixel_111, pixel_112, pixel_113, pixel_114, pixel_115, pixel_140, pixel_141, pixel_142, pixel_143, pixel_168, pixel_169, pixel_170, pixel_197, pixel_225, pixel_252, pixel_253, pixel_281, pixel_309, pixel_337, pixel_364, pixel_365, pixel_366, pixel_367, pixel_392, pixel_393, pixel_394, pixel_395, pixel_420, pixel_421, pixel_422, pixel_423, pixel_448, pixel_449, pixel_450, pixel_476, pixel_ [... truncated]\n",
            "\n",
            "R[write to console]: Warning in preProcess.default(thresh = 0.95, k = 5, freqCut = 19, uniqueCut = 10,  :\n",
            "R[write to console]: \n",
            " \n",
            "R[write to console]:  These variables have zero variances: pixel_1, pixel_2, pixel_3, pixel_4, pixel_5, pixel_6, pixel_7, pixel_8, pixel_9, pixel_10, pixel_11, pixel_12, pixel_13, pixel_14, pixel_15, pixel_16, pixel_17, pixel_18, pixel_19, pixel_20, pixel_21, pixel_22, pixel_23, pixel_24, pixel_25, pixel_26, pixel_27, pixel_28, pixel_29, pixel_30, pixel_31, pixel_32, pixel_33, pixel_34, pixel_35, pixel_36, pixel_37, pixel_51, pixel_52, pixel_53, pixel_54, pixel_55, pixel_56, pixel_57, pixel_58, pixel_59, pixel_60, pixel_61, pixel_81, pixel_82, pixel_83, pixel_84, pixel_85, pixel_86, pixel_87, pixel_88, pixel_89, pixel_110, pixel_111, pixel_112, pixel_113, pixel_114, pixel_115, pixel_140, pixel_141, pixel_142, pixel_143, pixel_168, pixel_169, pixel_170, pixel_197, pixel_225, pixel_252, pixel_253, pixel_281, pixel_309, pixel_337, pixel_364, pixel_365, pixel_366, pixel_367, pixel_392, pixel_393, pixel_394, pixel_395, pixel_420, pixel_421, pixel_422, pixel_423, pixel_448, pixel_449, pixel_450, pixel_476, pixel_ [... truncated]\n",
            "\n",
            "R[write to console]: Warning in preProcess.default(thresh = 0.95, k = 5, freqCut = 19, uniqueCut = 10,  :\n",
            "R[write to console]: \n",
            " \n",
            "R[write to console]:  These variables have zero variances: pixel_1, pixel_2, pixel_3, pixel_4, pixel_5, pixel_6, pixel_7, pixel_8, pixel_9, pixel_10, pixel_11, pixel_12, pixel_13, pixel_14, pixel_15, pixel_16, pixel_17, pixel_18, pixel_19, pixel_20, pixel_21, pixel_22, pixel_23, pixel_24, pixel_25, pixel_26, pixel_27, pixel_28, pixel_29, pixel_30, pixel_31, pixel_32, pixel_33, pixel_34, pixel_35, pixel_36, pixel_37, pixel_51, pixel_52, pixel_53, pixel_54, pixel_55, pixel_56, pixel_57, pixel_58, pixel_59, pixel_60, pixel_61, pixel_81, pixel_82, pixel_83, pixel_84, pixel_85, pixel_86, pixel_87, pixel_88, pixel_89, pixel_110, pixel_111, pixel_112, pixel_113, pixel_114, pixel_115, pixel_140, pixel_141, pixel_142, pixel_143, pixel_168, pixel_169, pixel_170, pixel_197, pixel_225, pixel_252, pixel_253, pixel_281, pixel_309, pixel_337, pixel_364, pixel_365, pixel_366, pixel_367, pixel_392, pixel_393, pixel_394, pixel_395, pixel_420, pixel_421, pixel_422, pixel_423, pixel_448, pixel_449, pixel_450, pixel_476, pixel_ [... truncated]\n",
            "\n",
            "R[write to console]: Warning in preProcess.default(thresh = 0.95, k = 5, freqCut = 19, uniqueCut = 10,  :\n",
            "R[write to console]: \n",
            " \n",
            "R[write to console]:  These variables have zero variances: pixel_1, pixel_2, pixel_3, pixel_4, pixel_5, pixel_6, pixel_7, pixel_8, pixel_9, pixel_10, pixel_11, pixel_12, pixel_13, pixel_14, pixel_15, pixel_16, pixel_17, pixel_18, pixel_19, pixel_20, pixel_21, pixel_22, pixel_23, pixel_24, pixel_25, pixel_26, pixel_27, pixel_28, pixel_29, pixel_30, pixel_31, pixel_32, pixel_33, pixel_34, pixel_35, pixel_36, pixel_37, pixel_51, pixel_52, pixel_53, pixel_54, pixel_55, pixel_56, pixel_57, pixel_58, pixel_59, pixel_60, pixel_61, pixel_81, pixel_82, pixel_83, pixel_84, pixel_85, pixel_86, pixel_87, pixel_88, pixel_89, pixel_110, pixel_111, pixel_112, pixel_113, pixel_114, pixel_115, pixel_140, pixel_141, pixel_142, pixel_143, pixel_168, pixel_169, pixel_170, pixel_197, pixel_225, pixel_252, pixel_253, pixel_281, pixel_309, pixel_337, pixel_364, pixel_365, pixel_366, pixel_367, pixel_392, pixel_393, pixel_394, pixel_395, pixel_420, pixel_421, pixel_422, pixel_423, pixel_448, pixel_449, pixel_450, pixel_476, pixel_ [... truncated]\n",
            "\n",
            "R[write to console]: Warning in preProcess.default(thresh = 0.95, k = 5, freqCut = 19, uniqueCut = 10,  :\n",
            "R[write to console]: \n",
            " \n",
            "R[write to console]:  These variables have zero variances: pixel_1, pixel_2, pixel_3, pixel_4, pixel_5, pixel_6, pixel_7, pixel_8, pixel_9, pixel_10, pixel_11, pixel_12, pixel_13, pixel_14, pixel_15, pixel_16, pixel_17, pixel_18, pixel_19, pixel_20, pixel_21, pixel_22, pixel_23, pixel_24, pixel_25, pixel_26, pixel_27, pixel_28, pixel_29, pixel_30, pixel_31, pixel_32, pixel_33, pixel_34, pixel_35, pixel_36, pixel_37, pixel_51, pixel_52, pixel_53, pixel_54, pixel_55, pixel_56, pixel_57, pixel_58, pixel_59, pixel_60, pixel_61, pixel_81, pixel_82, pixel_83, pixel_84, pixel_85, pixel_86, pixel_87, pixel_88, pixel_89, pixel_110, pixel_111, pixel_112, pixel_113, pixel_114, pixel_115, pixel_140, pixel_141, pixel_142, pixel_143, pixel_168, pixel_169, pixel_170, pixel_197, pixel_225, pixel_252, pixel_253, pixel_281, pixel_309, pixel_337, pixel_364, pixel_365, pixel_366, pixel_367, pixel_392, pixel_393, pixel_394, pixel_395, pixel_420, pixel_421, pixel_422, pixel_423, pixel_448, pixel_449, pixel_450, pixel_476, pixel_ [... truncated]\n",
            "\n",
            "R[write to console]: Warning in preProcess.default(thresh = 0.95, k = 5, freqCut = 19, uniqueCut = 10,  :\n",
            "R[write to console]: \n",
            " \n",
            "R[write to console]:  These variables have zero variances: pixel_1, pixel_2, pixel_3, pixel_4, pixel_5, pixel_6, pixel_7, pixel_8, pixel_9, pixel_10, pixel_11, pixel_12, pixel_13, pixel_14, pixel_15, pixel_16, pixel_17, pixel_18, pixel_19, pixel_20, pixel_21, pixel_22, pixel_23, pixel_24, pixel_25, pixel_26, pixel_27, pixel_28, pixel_29, pixel_30, pixel_31, pixel_32, pixel_33, pixel_34, pixel_35, pixel_36, pixel_37, pixel_51, pixel_52, pixel_53, pixel_54, pixel_55, pixel_56, pixel_57, pixel_58, pixel_59, pixel_60, pixel_61, pixel_81, pixel_82, pixel_83, pixel_84, pixel_85, pixel_86, pixel_87, pixel_88, pixel_89, pixel_110, pixel_111, pixel_112, pixel_113, pixel_114, pixel_115, pixel_140, pixel_141, pixel_142, pixel_143, pixel_168, pixel_169, pixel_170, pixel_197, pixel_225, pixel_252, pixel_253, pixel_281, pixel_309, pixel_337, pixel_364, pixel_365, pixel_366, pixel_367, pixel_392, pixel_393, pixel_394, pixel_395, pixel_420, pixel_421, pixel_422, pixel_423, pixel_448, pixel_449, pixel_450, pixel_476, pixel_ [... truncated]\n",
            "\n",
            "R[write to console]: Warning in preProcess.default(thresh = 0.95, k = 5, freqCut = 19, uniqueCut = 10,  :\n",
            "R[write to console]: \n",
            " \n",
            "R[write to console]:  These variables have zero variances: pixel_1, pixel_2, pixel_3, pixel_4, pixel_5, pixel_6, pixel_7, pixel_8, pixel_9, pixel_10, pixel_11, pixel_12, pixel_13, pixel_14, pixel_15, pixel_16, pixel_17, pixel_18, pixel_19, pixel_20, pixel_21, pixel_22, pixel_23, pixel_24, pixel_25, pixel_26, pixel_27, pixel_28, pixel_29, pixel_30, pixel_31, pixel_32, pixel_33, pixel_34, pixel_35, pixel_36, pixel_37, pixel_51, pixel_52, pixel_53, pixel_54, pixel_55, pixel_56, pixel_57, pixel_58, pixel_59, pixel_60, pixel_61, pixel_81, pixel_82, pixel_83, pixel_84, pixel_85, pixel_86, pixel_87, pixel_88, pixel_89, pixel_110, pixel_111, pixel_112, pixel_113, pixel_114, pixel_115, pixel_140, pixel_141, pixel_142, pixel_143, pixel_168, pixel_169, pixel_170, pixel_197, pixel_225, pixel_252, pixel_253, pixel_281, pixel_309, pixel_337, pixel_364, pixel_365, pixel_366, pixel_367, pixel_392, pixel_393, pixel_394, pixel_395, pixel_420, pixel_421, pixel_422, pixel_423, pixel_448, pixel_449, pixel_450, pixel_476, pixel_ [... truncated]\n",
            "\n",
            "R[write to console]: Warning in preProcess.default(thresh = 0.95, k = 5, freqCut = 19, uniqueCut = 10,  :\n",
            "R[write to console]: \n",
            " \n",
            "R[write to console]:  These variables have zero variances: pixel_1, pixel_2, pixel_3, pixel_4, pixel_5, pixel_6, pixel_7, pixel_8, pixel_9, pixel_10, pixel_11, pixel_12, pixel_13, pixel_14, pixel_15, pixel_16, pixel_17, pixel_18, pixel_19, pixel_20, pixel_21, pixel_22, pixel_23, pixel_24, pixel_25, pixel_26, pixel_27, pixel_28, pixel_29, pixel_30, pixel_31, pixel_32, pixel_33, pixel_34, pixel_35, pixel_36, pixel_37, pixel_51, pixel_52, pixel_53, pixel_54, pixel_55, pixel_56, pixel_57, pixel_58, pixel_59, pixel_60, pixel_61, pixel_81, pixel_82, pixel_83, pixel_84, pixel_85, pixel_86, pixel_87, pixel_88, pixel_89, pixel_110, pixel_111, pixel_112, pixel_113, pixel_114, pixel_115, pixel_140, pixel_141, pixel_142, pixel_143, pixel_168, pixel_169, pixel_170, pixel_197, pixel_225, pixel_252, pixel_253, pixel_281, pixel_309, pixel_337, pixel_364, pixel_365, pixel_366, pixel_367, pixel_392, pixel_393, pixel_394, pixel_395, pixel_420, pixel_421, pixel_422, pixel_423, pixel_448, pixel_449, pixel_450, pixel_476, pixel_ [... truncated]\n",
            "\n",
            "R[write to console]: Warning in preProcess.default(thresh = 0.95, k = 5, freqCut = 19, uniqueCut = 10,  :\n",
            "R[write to console]: \n",
            " \n",
            "R[write to console]:  These variables have zero variances: pixel_1, pixel_2, pixel_3, pixel_4, pixel_5, pixel_6, pixel_7, pixel_8, pixel_9, pixel_10, pixel_11, pixel_12, pixel_13, pixel_14, pixel_15, pixel_16, pixel_17, pixel_18, pixel_19, pixel_20, pixel_21, pixel_22, pixel_23, pixel_24, pixel_25, pixel_26, pixel_27, pixel_28, pixel_29, pixel_30, pixel_31, pixel_32, pixel_33, pixel_34, pixel_35, pixel_36, pixel_37, pixel_51, pixel_52, pixel_53, pixel_54, pixel_55, pixel_56, pixel_57, pixel_58, pixel_59, pixel_60, pixel_61, pixel_83, pixel_84, pixel_85, pixel_86, pixel_87, pixel_88, pixel_111, pixel_112, pixel_113, pixel_114, pixel_115, pixel_140, pixel_141, pixel_142, pixel_143, pixel_168, pixel_169, pixel_170, pixel_197, pixel_225, pixel_252, pixel_253, pixel_281, pixel_309, pixel_337, pixel_364, pixel_365, pixel_366, pixel_367, pixel_392, pixel_393, pixel_394, pixel_395, pixel_420, pixel_421, pixel_422, pixel_423, pixel_448, pixel_449, pixel_450, pixel_476, pixel_477, pixel_478, pixel_505, pixel_506, pix [... truncated]\n",
            "\n"
          ]
        },
        {
          "output_type": "display_data",
          "data": {
            "image/png": "[encoded data removed]"
          },
          "metadata": {}
        }
      ]
    },
    {
      "cell_type": "code",
      "source": [
        "%%R\n",
        "knn_mnist$results"
      ],
      "metadata": {
        "colab": {
          "base_uri": "https://localhost:8080/"
        },
        "id": "NCREIGIPciIC",
        "outputId": "105a985e-2bf5-4188-ec61-9f024bf62a2c"
      },
      "execution_count": 49,
      "outputs": [
        {
          "output_type": "stream",
          "name": "stdout",
          "text": [
            "    k  Accuracy     Kappa  AccuracySD    KappaSD\n",
            "1   3 0.8800090 0.8665516 0.012155701 0.01352233\n",
            "2   4 0.8820019 0.8687568 0.007546485 0.00841415\n",
            "3   5 0.8833259 0.8702298 0.017415232 0.01939585\n",
            "4   6 0.8769894 0.8631837 0.023632305 0.02630900\n",
            "5   7 0.8713272 0.8568823 0.017777306 0.01979806\n",
            "6   8 0.8726596 0.8583624 0.026652467 0.02966632\n",
            "7   9 0.8716583 0.8572433 0.024331492 0.02708264\n",
            "8  10 0.8686499 0.8538938 0.021217263 0.02362354\n",
            "9  11 0.8653236 0.8501848 0.023420037 0.02609657\n",
            "10 12 0.8656565 0.8505563 0.024834410 0.02766599\n",
            "11 13 0.8629841 0.8475670 0.025744730 0.02867230\n",
            "12 14 0.8619938 0.8464629 0.024999967 0.02783868\n",
            "13 15 0.8609916 0.8453521 0.023668004 0.02635094\n",
            "14 16 0.8616525 0.8460660 0.024648333 0.02745997\n"
          ]
        }
      ]
    },
    {
      "cell_type": "markdown",
      "source": [
        "A seleção dos hiperparâmetros no fornece um valor de k=5 com uma acuracidade de 0.883. Esse é um modelo de execução bastante demorada e que deve gerar uma série de alertas na execução. Acesse Bradley Boehmke & Brandon Greenwell (2020) se quiser saber mais sobre como aplicar esse procedimento e eliminar seus alertas. "
      ],
      "metadata": {
        "id": "2VkZ35TmaZKQ"
      }
    },
    {
      "cell_type": "markdown",
      "metadata": {
        "id": "oO3RnKjR44_T"
      },
      "source": [
        "# Síntese\n",
        "\n",
        "Nesta aula você aprendeu como **empregar o R** em tarefas de **Aprendizado de Máquina Supervisionado para Regressão e Classificação**. \n",
        "\n",
        "Você aprendeu como aplicar modelos de regressão linear múltipla, e  alguns dos principais modelos classificação como **Árvores de Decisão, Naive Bayes, Regressão Logística e K-Vizinhos mais Próximos**. Pode também aprender procedimentos em R para separação de conjuntos de treinamento e teste, criação da matriz de confusão, obtenção da acuracidade etc.\n",
        "\n",
        "Empregou também o **pacote Caret**, um poderoso pacote R para o treinamento de múltiplos modelos de Aprendizado Supervisionado e, com ele, entendeu como aplicar os esquemas de **Cross Validation** e fazer a seleção de hiperparâmetros e mesmo de diferentes modelos (este último apenas deixamos indicação para você) e aplicamos todos esses procedimentos a conjuntos de dados reais. \n",
        "\n",
        "Por último, vale reforçar aqui que a **escolha por Python ou R deve ter por base seus propósitos, seu contexto e os dados do seu problema**, não havendo uma melhor linguagem *apriori* para quaisquer situações. \n",
        "\n",
        "\n",
        "\n",
        "\n",
        "\n",
        "\n",
        " \n"
      ]
    },
    {
      "cell_type": "markdown",
      "metadata": {
        "id": "k4noMRT_YUd7"
      },
      "source": [
        "# Para Saber Mais\n",
        "\n",
        "* Acesse Bradley Boehmke & Brandon Greenwell , **Hands-On Machine Learning with R** (2020). Disponível em: https://bradleyboehmke.github.io/HOML/ para entender e aprender mais sobre modelos de Aprendizado de Máquina com R. \n",
        "\n",
        "* **Dificuldades com R?** Acesse esses Tutoriais bem rápidos que poderão ajudar você a recordar como empregar as principais funções do R:\n",
        "\n",
        "> * **Quick-R by Datacamp** https://www.statmethods.net/\n",
        "\n",
        "> * **R Tutorial. An R Introduction to Statistics** http://www.r-tutor.com/\n",
        "\n",
        "* Acesse a documentação do pacote Caret **The caret Package** by Max Kuhn (2019). Disponível em: https://topepo.github.io/caret/index.html e ainda \n",
        "https://pycaret.org/ para saber mais sobre esse pacote incrível para lidar com dados e modelos. \n",
        "\n",
        "\n",
        "\n",
        "\n",
        "\n",
        "\n"
      ]
    },
    {
      "cell_type": "markdown",
      "metadata": {
        "id": "fa24d435"
      },
      "source": [
        "# Referências"
      ]
    },
    {
      "cell_type": "markdown",
      "metadata": {
        "id": "zlJfWteFyhFy"
      },
      "source": [
        "* Bradley Boehmke & Brandon Greenwell , **Hands-On Machine Learning with R** (2020). Disponível em: https://bradleyboehmke.github.io/HOML/. Acesso: 15 de Maio de 2022.\n",
        "\n",
        "* Oliveira, Rogério de. **Ciência de Dados com R** (2020) Disponível em: http://meusite.mackenzie.br/rogerio/CDABook/_book/. Acesso: 15 de Maio de 2022.\n",
        "\n",
        "* Kuhn, Max. **The caret Package** (2019). Disponível em: https://topepo.github.io/caret/index.html. Acesso: 15 de Maio de 2022.\n"
      ]
    }
  ]
}