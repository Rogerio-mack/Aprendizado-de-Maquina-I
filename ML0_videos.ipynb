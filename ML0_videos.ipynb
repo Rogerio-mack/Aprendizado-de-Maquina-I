{
  "nbformat": 4,
  "nbformat_minor": 0,
  "metadata": {
    "kernelspec": {
      "display_name": "Python 3",
      "language": "python",
      "name": "python3"
    },
    "language_info": {
      "codemirror_mode": {
        "name": "ipython",
        "version": 3
      },
      "file_extension": ".py",
      "mimetype": "text/x-python",
      "name": "python",
      "nbconvert_exporter": "python",
      "pygments_lexer": "ipython3",
      "version": "3.7.4"
    },
    "colab": {
      "name": "ML0_videos.ipynb",
      "provenance": [],
      "collapsed_sections": [],
      "include_colab_link": true
    }
  },
  "cells": [
    {
      "cell_type": "markdown",
      "metadata": {
        "id": "view-in-github",
        "colab_type": "text"
      },
      "source": [
        "<a href=\"https://colab.research.google.com/github/Rogerio-mack/Machine-Learning-I/blob/main/ML0_videos.ipynb\" target=\"_parent\"><img src=\"https://colab.research.google.com/assets/colab-badge.svg\" alt=\"Open In Colab\"/></a>"
      ]
    },
    {
      "cell_type": "markdown",
      "metadata": {
        "id": "J3LMBfpeHTwb"
      },
      "source": [
        "<head>\n",
        "  <meta name=\"author\" content=\"Rogério de Oliveira\">\n",
        "  <meta institution=\"author\" content=\"Universidade Presbiteriana Mackenzie\">\n",
        "</head>\n",
        "\n",
        "<img src=\"http://meusite.mackenzie.br/rogerio/mackenzie_logo/UPM.2_horizontal_vermelho.jpg\" width=300, align=\"right\">\n",
        "<!-- <h1 align=left><font size = 6, style=\"color:rgb(200,0,0)\"> optional title </font></h1> -->\n"
      ]
    },
    {
      "cell_type": "markdown",
      "metadata": {
        "id": "zQX8WQPeHTwc"
      },
      "source": [
        "# **Vídeos**\n",
        "---\n",
        "\n",
        "*Acesse aqui os vídeos do Ponto de Partida e Professor Resolve, e os notebooks empregados nos vídeos, para cada aula*.\n",
        "\n",
        "<br>\n",
        "\n",
        "<br>\n",
        "\n",
        "\n",
        "\n",
        "#### **1. Introdução ao Aprendizado de Máquina**\n",
        "\n",
        "> [Ponto de Partida](https://meusite.mackenzie.br/rogerio/ML1/ML1_ponto_de_partida.mp4) | [Notebook](https://colab.research.google.com/github/Rogerio-mack/Machine-Learning-I/blob/main/ML1_ponto_de_partida.ipynb)\n",
        "\n",
        "> [Professor Resolve](https://meusite.mackenzie.br/rogerio/ML1/ML1_professor_resolve.mp4) | [Notebook](https://colab.research.google.com/github/Rogerio-mack/Machine-Learning-I/blob/main/ML1_professor_resolve.ipynb)\n",
        "\n",
        "#### **2. Aprendizado Supervisionado e Regressão Linear**\n",
        "\n",
        "> [Ponto de Partida](https://meusite.mackenzie.br/rogerio/ML1/ML2_ponto_de_partida.mp4) | [Notebook](https://colab.research.google.com/github/Rogerio-mack/Machine-Learning-I/blob/main/ML2_ponto_de_partida.ipynb)\n",
        "\n",
        "> [Professor Resolve](https://meusite.mackenzie.br/rogerio/ML1/ML2_professor_resolve.mp4) | [Notebook](https://colab.research.google.com/github/Rogerio-mack/Machine-Learning-I/blob/main/ML2_professor_resolve.ipynb)\n",
        "\n",
        "#### **3. Classificação: Regressão Logística**\n",
        "\n",
        "> [Ponto de Partida](https://meusite.mackenzie.br/rogerio/ML1/ML3_ponto_de_partida.mp4) | [Notebook](https://colab.research.google.com/github/Rogerio-mack/Machine-Learning-I/blob/main/ML3_ponto_de_partida.ipynb)\n",
        "\n",
        "> [Professor Resolve](https://meusite.mackenzie.br/rogerio/ML1/ML3_professor_resolve.mp4) | [Notebook](https://colab.research.google.com/github/Rogerio-mack/Machine-Learning-I/blob/main/ML3_professor_resolve.ipynb)\n",
        "\n",
        "#### **4. Classificação: Knn**\n",
        "\n",
        "> [Ponto de Partida](https://meusite.mackenzie.br/rogerio/ML1/ML4_ponto_de_partida.mp4) | [Notebook](https://colab.research.google.com/github/Rogerio-mack/Machine-Learning-I/blob/main/ML4_ponto_de_partida.ipynb)\n",
        "\n",
        "> [Professor Resolve](https://meusite.mackenzie.br/rogerio/ML1/ML4_professor_resolve.mp4) | [Notebook](https://colab.research.google.com/github/Rogerio-mack/Machine-Learning-I/blob/main/ML4_professor_resolve.ipynb)\n",
        "\n",
        "#### **5. Árvores de Decisão e Seleção de Atributos**\n",
        "\n",
        "> [Ponto de Partida](https://meusite.mackenzie.br/rogerio/ML1/ML5_ponto_de_partida.mp4) | [Notebook](https://colab.research.google.com/github/Rogerio-mack/Machine-Learning-I/blob/main/ML5_ponto_de_partida.ipynb)\n",
        "\n",
        "> [Professor Resolve](https://meusite.mackenzie.br/rogerio/ML1/ML5_professor_resolve.mp4) | [Notebook](https://colab.research.google.com/github/Rogerio-mack/Machine-Learning-I/blob/main/ML5_professor_resolve.ipynb)\n",
        "\n",
        "#### **6. Validação Cruzada e GridSearch**\n",
        "\n",
        "> [Ponto de Partida](https://meusite.mackenzie.br/rogerio/ML1/ML6_ponto_de_partida.mp4) | [Notebook](https://colab.research.google.com/github/Rogerio-mack/Machine-Learning-I/blob/main/ML6_ponto_de_partida.ipynb)\n",
        "\n",
        "> [Professor Resolve](https://meusite.mackenzie.br/rogerio/ML1/ML6_professor_resolve.mp4) | [Notebook](https://colab.research.google.com/github/Rogerio-mack/Machine-Learning-I/blob/main/ML6_professor_resolve.ipynb)\n",
        "\n",
        "#### **7. Seleção de Modelos**\n",
        "\n",
        "> [Ponto de Partida](https://meusite.mackenzie.br/rogerio/ML1/ML7_ponto_de_partida.mp4) | [Notebook](https://colab.research.google.com/github/Rogerio-mack/Machine-Learning-I/blob/main/ML7_ponto_de_partida.ipynb)\n",
        "\n",
        "> [Professor Resolve](https://meusite.mackenzie.br/rogerio/ML1/ML7_professor_resolve.mp4) | [Notebook](https://colab.research.google.com/github/Rogerio-mack/Machine-Learning-I/blob/main/ML7_professor_resolve.ipynb)\n",
        "\n",
        "#### **8. Aprendizado Supervisionado com R**\n",
        "\n",
        "> [Ponto de Partida](https://meusite.mackenzie.br/rogerio/ML1/ML8_ponto_de_partida.mp4) | [Notebook](https://colab.research.google.com/github/Rogerio-mack/Machine-Learning-I/blob/main/ML8_ponto_de_partida.ipynb)\n",
        "\n",
        "> [Professor Resolve](https://meusite.mackenzie.br/rogerio/ML1/ML8_professor_resolve.mp4) | [Notebook](https://colab.research.google.com/github/Rogerio-mack/Machine-Learning-I/blob/main/ML8_professor_resolve.ipynb)"
      ]
    }
  ]
}