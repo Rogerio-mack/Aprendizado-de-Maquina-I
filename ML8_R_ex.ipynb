{
  "nbformat": 4,
  "nbformat_minor": 0,
  "metadata": {
    "colab": {
      "name": "ML8_R_ex.ipynb",
      "provenance": [],
      "collapsed_sections": [],
      "authorship_tag": "ABX9TyMHF0Smdu66xW8flgZWFRGf",
      "include_colab_link": true
    },
    "kernelspec": {
      "name": "ir",
      "display_name": "R"
    },
    "language_info": {
      "name": "R"
    }
  },
  "cells": [
    {
      "cell_type": "markdown",
      "metadata": {
        "id": "view-in-github",
        "colab_type": "text"
      },
      "source": [
        "<a href=\"https://colab.research.google.com/github/Rogerio-mack/Machine-Learning-I/blob/main/ML8_R_ex.ipynb\" target=\"_parent\"><img src=\"https://colab.research.google.com/assets/colab-badge.svg\" alt=\"Open In Colab\"/></a>"
      ]
    },
    {
      "cell_type": "markdown",
      "metadata": {
        "id": "Bh3XQyK-0stm"
      },
      "source": [
        "<head>\n",
        "  <meta name=\"author\" content=\"Rogério de Oliveira\">\n",
        "  <meta institution=\"author\" content=\"Universidade Presbiteriana Mackenzie\">\n",
        "</head>\n",
        "\n",
        "<img src=\"http://meusite.mackenzie.br/rogerio/mackenzie_logo/UPM.2_horizontal_vermelho.jpg\" width=300, align=\"right\">\n",
        "<!-- <h1 align=left><font size = 6, style=\"color:rgb(200,0,0)\"> optional title </font></h1> -->"
      ]
    },
    {
      "cell_type": "markdown",
      "metadata": {
        "id": "zQX8WQPeHTwc"
      },
      "source": [
        "# **8. Aprendizado Supervisionado com R**\n",
        "\n",
        "---\n",
        "\n"
      ]
    },
    {
      "cell_type": "markdown",
      "source": [
        "Após fazer os exercícios deste laboratório responda ao **questionário correspondente da aula no Moodle**.\n",
        "\n"
      ],
      "metadata": {
        "id": "-vEjCE_y-MFT"
      }
    },
    {
      "cell_type": "markdown",
      "metadata": {
        "_uuid": "9dd9e07c590ca22f0c525222f60f0ebff4e092c6",
        "id": "kIr_4QzOlOOo"
      },
      "source": [
        "# Caso: **Controle de Qualidade de Peças** \n",
        "\n",
        "\n",
        "\n"
      ]
    },
    {
      "cell_type": "markdown",
      "metadata": {
        "id": "ZOkn7SvMHTOp"
      },
      "source": [
        "**Pieces** é um data set para o controle de qualidade de peças produzidas por uma indústria. São empregadas quatro medidas (A, B, C e D) para o controle da qualidade das peças. As peças são então *Accept, Refurbish* ou *Reject* segundo o controle de qualidade (atributo `Quality`). A indústria ainda conta com 3 unidades para a produção dessas peças (atributo `Unit`). \n",
        "\n",
        "Seu trabalho é criar modelos supervisionados de classificação para predição da qualidade das peças e empregar o melhor modelo obtido (maior acuracidade) na predição da qualidade de novos casos. \n",
        "\n",
        "> Arquivo de Exemplos: http://meusite.mackenzie.br/rogerio/TIC/pieces1.csv\n",
        "\n",
        "> Arquivo de Novos Casos: http://meusite.mackenzie.br/rogerio/TIC/pieces1_new.csv\n",
        "\n",
        "Nos modelos não empregue nenhum parâmetro além dos informados.\n",
        "\n",
        "**Consultando a Documentação do R**: Ao longo do exercício daremos dicas de que funções empregar em R, mas certamente você deverá consultar a documentação para poder empregar apropriadamente as funções. Isso faz parte da atividade e do seu aprendizado!!!\n",
        "\n",
        "**Pacotes**: Em R pode haver mais de um pacote para uma mesma funcionalidade. Vamos indicar os pacotes a serem empregados abaixo e, no caso de dúvidas, consulte a documentação dos pacotes.\n",
        "\n"
      ]
    },
    {
      "cell_type": "markdown",
      "metadata": {
        "id": "YeiT9oXumyn8"
      },
      "source": [
        "# Exercício. Acesse e Explore os dados \n",
        "\n",
        "Inspecione os dados. Qual o atributo classe e quantos registros de cada classe? Existem valores nulos (ausentes) a serem tratados? Algum atributo não será empregado no treinamento? \n"
      ]
    },
    {
      "cell_type": "markdown",
      "source": [
        "## Leia e inspecione os dados de treinamento e os novos casos"
      ],
      "metadata": {
        "id": "OLUGylpUnPob"
      }
    },
    {
      "cell_type": "code",
      "metadata": {
        "id": "iY3TLR1KyRz8",
        "colab": {
          "base_uri": "https://localhost:8080/",
          "height": 524
        },
        "outputId": "dc26f994-58a0-4c79-8cd7-44b562ddffa1"
      },
      "source": [
        "# Seu código aqui"
      ],
      "execution_count": 1,
      "outputs": [
        {
          "output_type": "display_data",
          "data": {
            "text/html": [
              "<table class=\"dataframe\">\n",
              "<caption>A data.frame: 6 × 7</caption>\n",
              "<thead>\n",
              "\t<tr><th></th><th scope=col>id</th><th scope=col>A</th><th scope=col>B</th><th scope=col>C</th><th scope=col>D</th><th scope=col>Quality</th><th scope=col>Unit</th></tr>\n",
              "\t<tr><th></th><th scope=col>&lt;int&gt;</th><th scope=col>&lt;dbl&gt;</th><th scope=col>&lt;dbl&gt;</th><th scope=col>&lt;dbl&gt;</th><th scope=col>&lt;dbl&gt;</th><th scope=col>&lt;chr&gt;</th><th scope=col>&lt;chr&gt;</th></tr>\n",
              "</thead>\n",
              "<tbody>\n",
              "\t<tr><th scope=row>1</th><td>559</td><td>4.9</td><td>3.1</td><td>1.5</td><td>0.1</td><td>Reject   </td><td>SP</td></tr>\n",
              "\t<tr><th scope=row>2</th><td>629</td><td>4.8</td><td>3.4</td><td>1.6</td><td>0.2</td><td>Reject   </td><td>SP</td></tr>\n",
              "\t<tr><th scope=row>3</th><td>192</td><td>6.7</td><td>2.5</td><td>5.8</td><td>1.8</td><td>Refurbish</td><td>RJ</td></tr>\n",
              "\t<tr><th scope=row>4</th><td>359</td><td>7.6</td><td>3.0</td><td>6.6</td><td>2.1</td><td>Refurbish</td><td>RJ</td></tr>\n",
              "\t<tr><th scope=row>5</th><td>  9</td><td>4.9</td><td>3.1</td><td>1.5</td><td>0.1</td><td>Reject   </td><td>RJ</td></tr>\n",
              "\t<tr><th scope=row>6</th><td>277</td><td>7.2</td><td>3.6</td><td>6.1</td><td>2.5</td><td>Refurbish</td><td>SP</td></tr>\n",
              "</tbody>\n",
              "</table>\n"
            ],
            "text/markdown": "\nA data.frame: 6 × 7\n\n| <!--/--> | id &lt;int&gt; | A &lt;dbl&gt; | B &lt;dbl&gt; | C &lt;dbl&gt; | D &lt;dbl&gt; | Quality &lt;chr&gt; | Unit &lt;chr&gt; |\n|---|---|---|---|---|---|---|---|\n| 1 | 559 | 4.9 | 3.1 | 1.5 | 0.1 | Reject    | SP |\n| 2 | 629 | 4.8 | 3.4 | 1.6 | 0.2 | Reject    | SP |\n| 3 | 192 | 6.7 | 2.5 | 5.8 | 1.8 | Refurbish | RJ |\n| 4 | 359 | 7.6 | 3.0 | 6.6 | 2.1 | Refurbish | RJ |\n| 5 |   9 | 4.9 | 3.1 | 1.5 | 0.1 | Reject    | RJ |\n| 6 | 277 | 7.2 | 3.6 | 6.1 | 2.5 | Refurbish | SP |\n\n",
            "text/latex": "A data.frame: 6 × 7\n\\begin{tabular}{r|lllllll}\n  & id & A & B & C & D & Quality & Unit\\\\\n  & <int> & <dbl> & <dbl> & <dbl> & <dbl> & <chr> & <chr>\\\\\n\\hline\n\t1 & 559 & 4.9 & 3.1 & 1.5 & 0.1 & Reject    & SP\\\\\n\t2 & 629 & 4.8 & 3.4 & 1.6 & 0.2 & Reject    & SP\\\\\n\t3 & 192 & 6.7 & 2.5 & 5.8 & 1.8 & Refurbish & RJ\\\\\n\t4 & 359 & 7.6 & 3.0 & 6.6 & 2.1 & Refurbish & RJ\\\\\n\t5 &   9 & 4.9 & 3.1 & 1.5 & 0.1 & Reject    & RJ\\\\\n\t6 & 277 & 7.2 & 3.6 & 6.1 & 2.5 & Refurbish & SP\\\\\n\\end{tabular}\n",
            "text/plain": [
              "  id  A   B   C   D   Quality   Unit\n",
              "1 559 4.9 3.1 1.5 0.1 Reject    SP  \n",
              "2 629 4.8 3.4 1.6 0.2 Reject    SP  \n",
              "3 192 6.7 2.5 5.8 1.8 Refurbish RJ  \n",
              "4 359 7.6 3.0 6.6 2.1 Refurbish RJ  \n",
              "5   9 4.9 3.1 1.5 0.1 Reject    RJ  \n",
              "6 277 7.2 3.6 6.1 2.5 Refurbish SP  "
            ]
          },
          "metadata": {}
        },
        {
          "output_type": "display_data",
          "data": {
            "text/html": [
              "<table class=\"dataframe\">\n",
              "<caption>A data.frame: 5 × 5</caption>\n",
              "<thead>\n",
              "\t<tr><th></th><th scope=col>A</th><th scope=col>B</th><th scope=col>C</th><th scope=col>D</th><th scope=col>Unit</th></tr>\n",
              "\t<tr><th></th><th scope=col>&lt;dbl&gt;</th><th scope=col>&lt;dbl&gt;</th><th scope=col>&lt;dbl&gt;</th><th scope=col>&lt;dbl&gt;</th><th scope=col>&lt;chr&gt;</th></tr>\n",
              "</thead>\n",
              "<tbody>\n",
              "\t<tr><th scope=row>1</th><td>6.3</td><td>3.4</td><td>5.6</td><td>2.4</td><td>SP</td></tr>\n",
              "\t<tr><th scope=row>2</th><td>6.7</td><td>2.5</td><td>5.8</td><td>1.8</td><td>RJ</td></tr>\n",
              "\t<tr><th scope=row>3</th><td>5.2</td><td>4.1</td><td>1.5</td><td>0.1</td><td>BH</td></tr>\n",
              "\t<tr><th scope=row>4</th><td>6.1</td><td>2.9</td><td>4.7</td><td>1.4</td><td>SP</td></tr>\n",
              "\t<tr><th scope=row>5</th><td>4.8</td><td>3.4</td><td>1.9</td><td>0.2</td><td>BH</td></tr>\n",
              "</tbody>\n",
              "</table>\n"
            ],
            "text/markdown": "\nA data.frame: 5 × 5\n\n| <!--/--> | A &lt;dbl&gt; | B &lt;dbl&gt; | C &lt;dbl&gt; | D &lt;dbl&gt; | Unit &lt;chr&gt; |\n|---|---|---|---|---|---|\n| 1 | 6.3 | 3.4 | 5.6 | 2.4 | SP |\n| 2 | 6.7 | 2.5 | 5.8 | 1.8 | RJ |\n| 3 | 5.2 | 4.1 | 1.5 | 0.1 | BH |\n| 4 | 6.1 | 2.9 | 4.7 | 1.4 | SP |\n| 5 | 4.8 | 3.4 | 1.9 | 0.2 | BH |\n\n",
            "text/latex": "A data.frame: 5 × 5\n\\begin{tabular}{r|lllll}\n  & A & B & C & D & Unit\\\\\n  & <dbl> & <dbl> & <dbl> & <dbl> & <chr>\\\\\n\\hline\n\t1 & 6.3 & 3.4 & 5.6 & 2.4 & SP\\\\\n\t2 & 6.7 & 2.5 & 5.8 & 1.8 & RJ\\\\\n\t3 & 5.2 & 4.1 & 1.5 & 0.1 & BH\\\\\n\t4 & 6.1 & 2.9 & 4.7 & 1.4 & SP\\\\\n\t5 & 4.8 & 3.4 & 1.9 & 0.2 & BH\\\\\n\\end{tabular}\n",
            "text/plain": [
              "  A   B   C   D   Unit\n",
              "1 6.3 3.4 5.6 2.4 SP  \n",
              "2 6.7 2.5 5.8 1.8 RJ  \n",
              "3 5.2 4.1 1.5 0.1 BH  \n",
              "4 6.1 2.9 4.7 1.4 SP  \n",
              "5 4.8 3.4 1.9 0.2 BH  "
            ]
          },
          "metadata": {}
        }
      ]
    },
    {
      "cell_type": "markdown",
      "source": [
        "## Elimine o atributo identificador dos dados \n",
        "\n",
        "Você não irá empregá-lo no treinamento!"
      ],
      "metadata": {
        "id": "sQjjEs0inBWc"
      }
    },
    {
      "cell_type": "code",
      "metadata": {
        "id": "iYEySGnKIJNI",
        "colab": {
          "base_uri": "https://localhost:8080/",
          "height": 286
        },
        "outputId": "a77af21f-916b-47e0-8925-157227873830"
      },
      "source": [
        "# Seu código aqui\n"
      ],
      "execution_count": 2,
      "outputs": [
        {
          "output_type": "display_data",
          "data": {
            "text/html": [
              "<table class=\"dataframe\">\n",
              "<caption>A data.frame: 6 × 6</caption>\n",
              "<thead>\n",
              "\t<tr><th></th><th scope=col>A</th><th scope=col>B</th><th scope=col>C</th><th scope=col>D</th><th scope=col>Quality</th><th scope=col>Unit</th></tr>\n",
              "\t<tr><th></th><th scope=col>&lt;dbl&gt;</th><th scope=col>&lt;dbl&gt;</th><th scope=col>&lt;dbl&gt;</th><th scope=col>&lt;dbl&gt;</th><th scope=col>&lt;chr&gt;</th><th scope=col>&lt;chr&gt;</th></tr>\n",
              "</thead>\n",
              "<tbody>\n",
              "\t<tr><th scope=row>1</th><td>4.9</td><td>3.1</td><td>1.5</td><td>0.1</td><td>Reject   </td><td>SP</td></tr>\n",
              "\t<tr><th scope=row>2</th><td>4.8</td><td>3.4</td><td>1.6</td><td>0.2</td><td>Reject   </td><td>SP</td></tr>\n",
              "\t<tr><th scope=row>3</th><td>6.7</td><td>2.5</td><td>5.8</td><td>1.8</td><td>Refurbish</td><td>RJ</td></tr>\n",
              "\t<tr><th scope=row>4</th><td>7.6</td><td>3.0</td><td>6.6</td><td>2.1</td><td>Refurbish</td><td>RJ</td></tr>\n",
              "\t<tr><th scope=row>5</th><td>4.9</td><td>3.1</td><td>1.5</td><td>0.1</td><td>Reject   </td><td>RJ</td></tr>\n",
              "\t<tr><th scope=row>6</th><td>7.2</td><td>3.6</td><td>6.1</td><td>2.5</td><td>Refurbish</td><td>SP</td></tr>\n",
              "</tbody>\n",
              "</table>\n"
            ],
            "text/markdown": "\nA data.frame: 6 × 6\n\n| <!--/--> | A &lt;dbl&gt; | B &lt;dbl&gt; | C &lt;dbl&gt; | D &lt;dbl&gt; | Quality &lt;chr&gt; | Unit &lt;chr&gt; |\n|---|---|---|---|---|---|---|\n| 1 | 4.9 | 3.1 | 1.5 | 0.1 | Reject    | SP |\n| 2 | 4.8 | 3.4 | 1.6 | 0.2 | Reject    | SP |\n| 3 | 6.7 | 2.5 | 5.8 | 1.8 | Refurbish | RJ |\n| 4 | 7.6 | 3.0 | 6.6 | 2.1 | Refurbish | RJ |\n| 5 | 4.9 | 3.1 | 1.5 | 0.1 | Reject    | RJ |\n| 6 | 7.2 | 3.6 | 6.1 | 2.5 | Refurbish | SP |\n\n",
            "text/latex": "A data.frame: 6 × 6\n\\begin{tabular}{r|llllll}\n  & A & B & C & D & Quality & Unit\\\\\n  & <dbl> & <dbl> & <dbl> & <dbl> & <chr> & <chr>\\\\\n\\hline\n\t1 & 4.9 & 3.1 & 1.5 & 0.1 & Reject    & SP\\\\\n\t2 & 4.8 & 3.4 & 1.6 & 0.2 & Reject    & SP\\\\\n\t3 & 6.7 & 2.5 & 5.8 & 1.8 & Refurbish & RJ\\\\\n\t4 & 7.6 & 3.0 & 6.6 & 2.1 & Refurbish & RJ\\\\\n\t5 & 4.9 & 3.1 & 1.5 & 0.1 & Reject    & RJ\\\\\n\t6 & 7.2 & 3.6 & 6.1 & 2.5 & Refurbish & SP\\\\\n\\end{tabular}\n",
            "text/plain": [
              "  A   B   C   D   Quality   Unit\n",
              "1 4.9 3.1 1.5 0.1 Reject    SP  \n",
              "2 4.8 3.4 1.6 0.2 Reject    SP  \n",
              "3 6.7 2.5 5.8 1.8 Refurbish RJ  \n",
              "4 7.6 3.0 6.6 2.1 Refurbish RJ  \n",
              "5 4.9 3.1 1.5 0.1 Reject    RJ  \n",
              "6 7.2 3.6 6.1 2.5 Refurbish SP  "
            ]
          },
          "metadata": {}
        }
      ]
    },
    {
      "cell_type": "markdown",
      "source": [
        "## Verifique e exclua as linhas com valores nulos\n",
        "\n",
        "Empregue a função `is.na()` e faça uma soma dos valores True. Para excluir as linhas empregue, por exemplo, a função `na.omit()`."
      ],
      "metadata": {
        "id": "04ZtPu4lnoTq"
      }
    },
    {
      "cell_type": "code",
      "metadata": {
        "id": "Ve1-6f4uM3bg"
      },
      "source": [
        "# Seu código aqui"
      ],
      "execution_count": null,
      "outputs": []
    },
    {
      "cell_type": "markdown",
      "source": [
        "## Faça o Hot Encode dos Dados\n",
        "\n",
        "Alguns pacotes de aprendizado em R empregam diretamente atributos categóricos sem a necessidade de encode dos dados. De qualquer modo vamos optar aqui por fazer o hot encode dos dados preditores não numéricos. Empregue para isso o pacote abaixo."
      ],
      "metadata": {
        "id": "TSG4wY_VoA0S"
      }
    },
    {
      "cell_type": "code",
      "source": [
        "install.packages(\"fastDummies\")\n",
        "library(fastDummies)"
      ],
      "metadata": {
        "colab": {
          "base_uri": "https://localhost:8080/"
        },
        "id": "gs9ejWntkeVa",
        "outputId": "79c4239a-5e95-4421-b3fb-bb9b2565e9c2"
      },
      "execution_count": 5,
      "outputs": [
        {
          "output_type": "stream",
          "name": "stderr",
          "text": [
            "Installing package into ‘/usr/local/lib/R/site-library’\n",
            "(as ‘lib’ is unspecified)\n",
            "\n"
          ]
        }
      ]
    },
    {
      "cell_type": "code",
      "metadata": {
        "colab": {
          "base_uri": "https://localhost:8080/",
          "height": 286
        },
        "id": "yXfgRyl2TOc6",
        "outputId": "9c666dfe-abb8-4928-d68d-2c286035b6d4"
      },
      "source": [
        "# Seu código aqui"
      ],
      "execution_count": 6,
      "outputs": [
        {
          "output_type": "display_data",
          "data": {
            "text/html": [
              "<table class=\"dataframe\">\n",
              "<caption>A data.frame: 6 × 9</caption>\n",
              "<thead>\n",
              "\t<tr><th></th><th scope=col>A</th><th scope=col>B</th><th scope=col>C</th><th scope=col>D</th><th scope=col>Quality</th><th scope=col>Unit</th><th scope=col>Unit_BH</th><th scope=col>Unit_RJ</th><th scope=col>Unit_SP</th></tr>\n",
              "\t<tr><th></th><th scope=col>&lt;dbl&gt;</th><th scope=col>&lt;dbl&gt;</th><th scope=col>&lt;dbl&gt;</th><th scope=col>&lt;dbl&gt;</th><th scope=col>&lt;chr&gt;</th><th scope=col>&lt;chr&gt;</th><th scope=col>&lt;int&gt;</th><th scope=col>&lt;int&gt;</th><th scope=col>&lt;int&gt;</th></tr>\n",
              "</thead>\n",
              "<tbody>\n",
              "\t<tr><th scope=row>1</th><td>4.9</td><td>3.1</td><td>1.5</td><td>0.1</td><td>Reject   </td><td>SP</td><td>0</td><td>0</td><td>1</td></tr>\n",
              "\t<tr><th scope=row>2</th><td>4.8</td><td>3.4</td><td>1.6</td><td>0.2</td><td>Reject   </td><td>SP</td><td>0</td><td>0</td><td>1</td></tr>\n",
              "\t<tr><th scope=row>3</th><td>6.7</td><td>2.5</td><td>5.8</td><td>1.8</td><td>Refurbish</td><td>RJ</td><td>0</td><td>1</td><td>0</td></tr>\n",
              "\t<tr><th scope=row>4</th><td>7.6</td><td>3.0</td><td>6.6</td><td>2.1</td><td>Refurbish</td><td>RJ</td><td>0</td><td>1</td><td>0</td></tr>\n",
              "\t<tr><th scope=row>5</th><td>4.9</td><td>3.1</td><td>1.5</td><td>0.1</td><td>Reject   </td><td>RJ</td><td>0</td><td>1</td><td>0</td></tr>\n",
              "\t<tr><th scope=row>6</th><td>7.2</td><td>3.6</td><td>6.1</td><td>2.5</td><td>Refurbish</td><td>SP</td><td>0</td><td>0</td><td>1</td></tr>\n",
              "</tbody>\n",
              "</table>\n"
            ],
            "text/markdown": "\nA data.frame: 6 × 9\n\n| <!--/--> | A &lt;dbl&gt; | B &lt;dbl&gt; | C &lt;dbl&gt; | D &lt;dbl&gt; | Quality &lt;chr&gt; | Unit &lt;chr&gt; | Unit_BH &lt;int&gt; | Unit_RJ &lt;int&gt; | Unit_SP &lt;int&gt; |\n|---|---|---|---|---|---|---|---|---|---|\n| 1 | 4.9 | 3.1 | 1.5 | 0.1 | Reject    | SP | 0 | 0 | 1 |\n| 2 | 4.8 | 3.4 | 1.6 | 0.2 | Reject    | SP | 0 | 0 | 1 |\n| 3 | 6.7 | 2.5 | 5.8 | 1.8 | Refurbish | RJ | 0 | 1 | 0 |\n| 4 | 7.6 | 3.0 | 6.6 | 2.1 | Refurbish | RJ | 0 | 1 | 0 |\n| 5 | 4.9 | 3.1 | 1.5 | 0.1 | Reject    | RJ | 0 | 1 | 0 |\n| 6 | 7.2 | 3.6 | 6.1 | 2.5 | Refurbish | SP | 0 | 0 | 1 |\n\n",
            "text/latex": "A data.frame: 6 × 9\n\\begin{tabular}{r|lllllllll}\n  & A & B & C & D & Quality & Unit & Unit\\_BH & Unit\\_RJ & Unit\\_SP\\\\\n  & <dbl> & <dbl> & <dbl> & <dbl> & <chr> & <chr> & <int> & <int> & <int>\\\\\n\\hline\n\t1 & 4.9 & 3.1 & 1.5 & 0.1 & Reject    & SP & 0 & 0 & 1\\\\\n\t2 & 4.8 & 3.4 & 1.6 & 0.2 & Reject    & SP & 0 & 0 & 1\\\\\n\t3 & 6.7 & 2.5 & 5.8 & 1.8 & Refurbish & RJ & 0 & 1 & 0\\\\\n\t4 & 7.6 & 3.0 & 6.6 & 2.1 & Refurbish & RJ & 0 & 1 & 0\\\\\n\t5 & 4.9 & 3.1 & 1.5 & 0.1 & Reject    & RJ & 0 & 1 & 0\\\\\n\t6 & 7.2 & 3.6 & 6.1 & 2.5 & Refurbish & SP & 0 & 0 & 1\\\\\n\\end{tabular}\n",
            "text/plain": [
              "  A   B   C   D   Quality   Unit Unit_BH Unit_RJ Unit_SP\n",
              "1 4.9 3.1 1.5 0.1 Reject    SP   0       0       1      \n",
              "2 4.8 3.4 1.6 0.2 Reject    SP   0       0       1      \n",
              "3 6.7 2.5 5.8 1.8 Refurbish RJ   0       1       0      \n",
              "4 7.6 3.0 6.6 2.1 Refurbish RJ   0       1       0      \n",
              "5 4.9 3.1 1.5 0.1 Reject    RJ   0       1       0      \n",
              "6 7.2 3.6 6.1 2.5 Refurbish SP   0       0       1      "
            ]
          },
          "metadata": {}
        }
      ]
    },
    {
      "cell_type": "markdown",
      "source": [
        "## Vamos verificar os resultados?\n",
        "\n",
        "Essa é uma questão apenas de verificação... cheque no Moodle as possíveis respostas para verificar se você está no caminho certo."
      ],
      "metadata": {
        "id": "ToCNBiguoj7y"
      }
    },
    {
      "cell_type": "code",
      "metadata": {
        "id": "kufV8m77TT_5",
        "colab": {
          "base_uri": "https://localhost:8080/"
        },
        "outputId": "3eb6b09c-2bda-4fb7-a55e-a3b0fbfef2f7"
      },
      "source": [
        "cat('Nr de linhas e colunas após as transformações: ', nrow(df), ncol(df))"
      ],
      "execution_count": 7,
      "outputs": [
        {
          "output_type": "stream",
          "name": "stdout",
          "text": [
            "Nr de linhas e colunas após as transformações:  481 9"
          ]
        }
      ]
    },
    {
      "cell_type": "code",
      "metadata": {
        "id": "2G8YonR7YYn6",
        "colab": {
          "base_uri": "https://localhost:8080/",
          "height": 86
        },
        "outputId": "24a5db67-0cac-4463-d871-a36f280b54e9"
      },
      "source": [
        "cat('Frequencias do atributo Quality:\\n')\n",
        "table(df$Quality)"
      ],
      "execution_count": 8,
      "outputs": [
        {
          "output_type": "stream",
          "name": "stdout",
          "text": [
            "Frequencias do atributo Quality:\n"
          ]
        },
        {
          "output_type": "display_data",
          "data": {
            "text/plain": [
              "\n",
              "   Accept Refurbish    Reject \n",
              "      149       176       156 "
            ]
          },
          "metadata": {}
        }
      ]
    },
    {
      "cell_type": "code",
      "source": [
        "cat('Número de Unidades de São Paulo a partir do hotencode:\\n')\n",
        "sum(df$Unit_SP)"
      ],
      "metadata": {
        "colab": {
          "base_uri": "https://localhost:8080/",
          "height": 52
        },
        "id": "B9dPYPNzpCH7",
        "outputId": "df7d8b2e-bd26-447c-e001-ff16160447d5"
      },
      "execution_count": 9,
      "outputs": [
        {
          "output_type": "stream",
          "name": "stdout",
          "text": [
            "Número de Unidades de São Paulo a partir do hotencode:\n"
          ]
        },
        {
          "output_type": "display_data",
          "data": {
            "text/html": [
              "223"
            ],
            "text/markdown": "223",
            "text/latex": "223",
            "text/plain": [
              "[1] 223"
            ]
          },
          "metadata": {}
        }
      ]
    },
    {
      "cell_type": "markdown",
      "metadata": {
        "id": "hFxyggo552J7"
      },
      "source": [
        "# Exercício. Conjuntos de Treinamento e Teste\n",
        "\n",
        "1. **sample**. Como você viu no material de teoria da aula você deve empregar a função `sample` do R para construir os conjuntos de treinamento e teste. Use para as quantidades de teste `round(0.3*nrow(df))`.\n",
        "\n",
        "2. **seed**. Empregue `set.seed(123)` para produzir os conjuntos de treinamento e teste e garantir a reprodutibilidade dos resultados\n",
        "\n",
        "3. **Train e Test**.Em R não existe em geral a necessidade de separarmos as entradas `X` e as saídas `y`. Defina apenas um conjunto de treinamento (tanto com o atributos preditores como objetivo) e teste. A identificação das variáveis preditoras e objetivo será indicada na *formula* empregada como parâmetro do classificador."
      ]
    },
    {
      "cell_type": "code",
      "metadata": {
        "id": "4bPrOL8RUTrc"
      },
      "source": [
        "# Seu código aqui"
      ],
      "execution_count": null,
      "outputs": []
    },
    {
      "cell_type": "markdown",
      "metadata": {
        "id": "EkVuaMQbewju"
      },
      "source": [
        "# Exercício. Modelo Árvore de Decisão\n",
        "\n",
        "Empregue o pacote abaixo para construir um modelo de Árvore de Decisão. Em seguida construa a Matriz de Confusão e obtenha a acuracidade do modelo.\n",
        "\n",
        "1. `rpart()`. Informe somente a *formula* do modelo e o conjunto de dados.\n",
        "2. `predict()`. Empregue o parâmetro `type = \"class\"`."
      ]
    },
    {
      "cell_type": "code",
      "source": [
        "install.packages('rpart') # rpart (Árvore de Decisão)\n",
        "library(rpart)"
      ],
      "metadata": {
        "colab": {
          "base_uri": "https://localhost:8080/"
        },
        "id": "IHFrTBHHncME",
        "outputId": "1b97850f-cf20-4fa8-e025-68aa6d7d5b21"
      },
      "execution_count": 11,
      "outputs": [
        {
          "output_type": "stream",
          "name": "stderr",
          "text": [
            "Installing package into ‘/usr/local/lib/R/site-library’\n",
            "(as ‘lib’ is unspecified)\n",
            "\n"
          ]
        }
      ]
    },
    {
      "cell_type": "code",
      "metadata": {
        "id": "aUA6CsWHWFAO"
      },
      "source": [
        "# Seu código aqui"
      ],
      "execution_count": null,
      "outputs": []
    },
    {
      "cell_type": "markdown",
      "metadata": {
        "id": "BV3bGDWMBslr"
      },
      "source": [
        "# Exercício. Modelo Naive Bayes\n",
        "\n",
        "Empregue o pacote abaixo para construir um modelo Naive Bayes. Esse é um modelo também baseado na probabilidade dos valores dos atributos (como em uma Árvore de Decisão), mas que emprega probabilidades condicionais (Teorema de Bayes). Sua implementação de qualquer modo é bastante simples e segue de perto a forma de implementação de uma Árvore de Decisão. Esse modelo está disponível também no scikit-learn e você pode achar interessante pesquisar mais sobre ele.\n",
        "\n",
        "Depois de construir o modelo construa a Matriz de Confusão e obtenha a acuracidade do modelo.\n",
        "\n",
        "1. `naive_bayes()`. Informe somente a *formula* do modelo e o conjunto de dados. Note, é `naive_bayes()` e não `naivebayes()`.\n",
        "2. `predict()`. Empregue o parâmetro `type = \"class\"`."
      ]
    },
    {
      "cell_type": "code",
      "source": [
        "install.packages('naivebayes')\n",
        "library(naivebayes)"
      ],
      "metadata": {
        "colab": {
          "base_uri": "https://localhost:8080/"
        },
        "id": "t5-EQ6Xlmi8r",
        "outputId": "ac598120-7008-431e-ab32-b7ae6c37e097"
      },
      "execution_count": 13,
      "outputs": [
        {
          "output_type": "stream",
          "name": "stderr",
          "text": [
            "Installing package into ‘/usr/local/lib/R/site-library’\n",
            "(as ‘lib’ is unspecified)\n",
            "\n",
            "naivebayes 0.9.7 loaded\n",
            "\n"
          ]
        }
      ]
    },
    {
      "cell_type": "code",
      "source": [
        "# Seu código aqui"
      ],
      "metadata": {
        "id": "ay98iQthmXjK"
      },
      "execution_count": null,
      "outputs": []
    },
    {
      "cell_type": "markdown",
      "metadata": {
        "id": "O5QSZQjaQT-t"
      },
      "source": [
        "# Exercício. Predição com o Melhor Modelo \n",
        "\n",
        "Verifique a acuracidade dos dois modelos acima e empregue o melhor deles para fazer a predição dos novos casos. \n",
        "\n",
        "**Atenção**. Este é um exercício e vamos tomar como base uma única execução com o mesmo conjunto de treinamento e teste criados acima. Idealmente, precisaríamos vários conjuntos diferentes ou, melhor, empregar uma validação cruzada. Pacotes de R como `Caret` podem ser empregados para isso. Aqui a acuracidade pode ser muito próxima e diferir a partir da terceira casa decimal. De qualquer modo, temos um modelo melhor que outro."
      ]
    },
    {
      "cell_type": "markdown",
      "metadata": {
        "id": "tE3jF6DRVqMJ"
      },
      "source": [
        "## Preparação dos Novos Dados\n",
        "\n",
        "Lembre-se os dados têm de estar no formato que empregamos no treinamento. Faça o hot encode também dos novos dados."
      ]
    },
    {
      "cell_type": "code",
      "metadata": {
        "id": "dnjG8Z5YVczB"
      },
      "source": [
        "# Seu código aqui"
      ],
      "execution_count": null,
      "outputs": []
    },
    {
      "cell_type": "markdown",
      "metadata": {
        "id": "UCniX4O5kIRV"
      },
      "source": [
        "## Predição"
      ]
    },
    {
      "cell_type": "code",
      "metadata": {
        "id": "W2NmSJKLaOVf"
      },
      "source": [
        "# Seu código aqui"
      ],
      "execution_count": null,
      "outputs": []
    }
  ]
}