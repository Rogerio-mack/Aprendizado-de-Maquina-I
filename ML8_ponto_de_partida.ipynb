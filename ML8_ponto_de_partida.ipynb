{
  "nbformat": 4,
  "nbformat_minor": 0,
  "metadata": {
    "kernelspec": {
      "display_name": "Python 3",
      "language": "python",
      "name": "python3"
    },
    "language_info": {
      "codemirror_mode": {
        "name": "ipython",
        "version": 3
      },
      "file_extension": ".py",
      "mimetype": "text/x-python",
      "name": "python",
      "nbconvert_exporter": "python",
      "pygments_lexer": "ipython3",
      "version": "3.7.4"
    },
    "colab": {
      "name": "ML8_ponto_de_partida.ipynb",
      "provenance": [],
      "collapsed_sections": [],
      "include_colab_link": true
    }
  },
  "cells": [
    {
      "cell_type": "markdown",
      "metadata": {
        "id": "view-in-github",
        "colab_type": "text"
      },
      "source": [
        "<a href=\"https://colab.research.google.com/github/Rogerio-mack/Machine-Learning-I/blob/main/ML8_ponto_de_partida.ipynb\" target=\"_parent\"><img src=\"https://colab.research.google.com/assets/colab-badge.svg\" alt=\"Open In Colab\"/></a>"
      ]
    },
    {
      "cell_type": "markdown",
      "metadata": {
        "id": "J3LMBfpeHTwb"
      },
      "source": [
        "<head>\n",
        "  <meta name=\"author\" content=\"Rogério de Oliveira\">\n",
        "  <meta institution=\"author\" content=\"Universidade Presbiteriana Mackenzie\">\n",
        "</head>\n",
        "\n",
        "<img src=\"http://meusite.mackenzie.br/rogerio/mackenzie_logo/UPM.2_horizontal_vermelho.jpg\" width=300, align=\"right\">\n",
        "<!-- <h1 align=left><font size = 6, style=\"color:rgb(200,0,0)\"> optional title </font></h1> -->\n"
      ]
    },
    {
      "cell_type": "markdown",
      "metadata": {
        "id": "zQX8WQPeHTwc"
      },
      "source": [
        "# **Vamos empregar R?**\n",
        "---\n",
        "\n"
      ]
    },
    {
      "cell_type": "markdown",
      "metadata": {
        "id": "czZKJfMQsk0a"
      },
      "source": [
        "# R no Colab\n",
        "\n",
        "> **R**, Entre no Browser: **`colab.to/r`**\n",
        "\n",
        ">> `head(iris)`\n",
        "\n",
        "> **Python + R**, Entre no Colab\n",
        "\n",
        ">> `%load_ext rpy2.ipython`\n",
        "\n",
        ">> %%R\n",
        "\n",
        ">> `head(iris)`\n",
        "\n",
        "\n"
      ]
    },
    {
      "cell_type": "markdown",
      "source": [
        "# Imports"
      ],
      "metadata": {
        "id": "3kk6-TuctH2i"
      }
    },
    {
      "cell_type": "code",
      "metadata": {
        "id": "xyywcuI7p1kG"
      },
      "source": [
        "import numpy as np\n",
        "import pandas as pd\n",
        "import matplotlib.pyplot as plt\n",
        "%matplotlib inline\n",
        "from matplotlib.lines import Line2D\n",
        "import seaborn as sns"
      ],
      "execution_count": 1,
      "outputs": []
    },
    {
      "cell_type": "code",
      "source": [
        "# suporte a execução de células em R\n",
        "%load_ext rpy2.ipython"
      ],
      "metadata": {
        "id": "oLlfxfPGuyBo"
      },
      "execution_count": 2,
      "outputs": []
    },
    {
      "cell_type": "code",
      "source": [
        "%%R\n",
        "install.packages('MASS')\n",
        "library(MASS)"
      ],
      "metadata": {
        "id": "qIkznGSntPES"
      },
      "execution_count": null,
      "outputs": []
    },
    {
      "cell_type": "markdown",
      "source": [
        "# Built in Data Sets"
      ],
      "metadata": {
        "id": "4kQvJiIStfeC"
      }
    },
    {
      "cell_type": "code",
      "source": [
        "print(sns.get_dataset_names())"
      ],
      "metadata": {
        "colab": {
          "base_uri": "https://localhost:8080/"
        },
        "id": "q9NJM4K5uVUL",
        "outputId": "54e5f623-ddd1-4f5c-ed91-fb5b03360ed7"
      },
      "execution_count": 10,
      "outputs": [
        {
          "output_type": "stream",
          "name": "stdout",
          "text": [
            "['anagrams', 'anscombe', 'attention', 'brain_networks', 'car_crashes', 'diamonds', 'dots', 'exercise', 'flights', 'fmri', 'gammas', 'geyser', 'iris', 'mpg', 'penguins', 'planets', 'taxis', 'tips', 'titanic']\n"
          ]
        }
      ]
    },
    {
      "cell_type": "code",
      "source": [
        "iris = sns.load_dataset('iris')\n",
        "iris.head()"
      ],
      "metadata": {
        "colab": {
          "base_uri": "https://localhost:8080/",
          "height": 206
        },
        "outputId": "08f1dc1a-e429-41ad-a8b9-9ce513842746",
        "id": "rG_AF_Nqtr2w"
      },
      "execution_count": 47,
      "outputs": [
        {
          "output_type": "execute_result",
          "data": {
            "text/plain": [
              "   sepal_length  sepal_width  petal_length  petal_width species\n",
              "0           5.1          3.5           1.4          0.2  setosa\n",
              "1           4.9          3.0           1.4          0.2  setosa\n",
              "2           4.7          3.2           1.3          0.2  setosa\n",
              "3           4.6          3.1           1.5          0.2  setosa\n",
              "4           5.0          3.6           1.4          0.2  setosa"
            ],
            "text/html": [
              "\n",
              "  <div id=\"df-038359b6-d712-46b9-9667-3e877f365e5f\">\n",
              "    <div class=\"colab-df-container\">\n",
              "      <div>\n",
              "<style scoped>\n",
              "    .dataframe tbody tr th:only-of-type {\n",
              "        vertical-align: middle;\n",
              "    }\n",
              "\n",
              "    .dataframe tbody tr th {\n",
              "        vertical-align: top;\n",
              "    }\n",
              "\n",
              "    .dataframe thead th {\n",
              "        text-align: right;\n",
              "    }\n",
              "</style>\n",
              "<table border=\"1\" class=\"dataframe\">\n",
              "  <thead>\n",
              "    <tr style=\"text-align: right;\">\n",
              "      <th></th>\n",
              "      <th>sepal_length</th>\n",
              "      <th>sepal_width</th>\n",
              "      <th>petal_length</th>\n",
              "      <th>petal_width</th>\n",
              "      <th>species</th>\n",
              "    </tr>\n",
              "  </thead>\n",
              "  <tbody>\n",
              "    <tr>\n",
              "      <th>0</th>\n",
              "      <td>5.1</td>\n",
              "      <td>3.5</td>\n",
              "      <td>1.4</td>\n",
              "      <td>0.2</td>\n",
              "      <td>setosa</td>\n",
              "    </tr>\n",
              "    <tr>\n",
              "      <th>1</th>\n",
              "      <td>4.9</td>\n",
              "      <td>3.0</td>\n",
              "      <td>1.4</td>\n",
              "      <td>0.2</td>\n",
              "      <td>setosa</td>\n",
              "    </tr>\n",
              "    <tr>\n",
              "      <th>2</th>\n",
              "      <td>4.7</td>\n",
              "      <td>3.2</td>\n",
              "      <td>1.3</td>\n",
              "      <td>0.2</td>\n",
              "      <td>setosa</td>\n",
              "    </tr>\n",
              "    <tr>\n",
              "      <th>3</th>\n",
              "      <td>4.6</td>\n",
              "      <td>3.1</td>\n",
              "      <td>1.5</td>\n",
              "      <td>0.2</td>\n",
              "      <td>setosa</td>\n",
              "    </tr>\n",
              "    <tr>\n",
              "      <th>4</th>\n",
              "      <td>5.0</td>\n",
              "      <td>3.6</td>\n",
              "      <td>1.4</td>\n",
              "      <td>0.2</td>\n",
              "      <td>setosa</td>\n",
              "    </tr>\n",
              "  </tbody>\n",
              "</table>\n",
              "</div>\n",
              "      <button class=\"colab-df-convert\" onclick=\"convertToInteractive('df-038359b6-d712-46b9-9667-3e877f365e5f')\"\n",
              "              title=\"Convert this dataframe to an interactive table.\"\n",
              "              style=\"display:none;\">\n",
              "        \n",
              "  <svg xmlns=\"http://www.w3.org/2000/svg\" height=\"24px\"viewBox=\"0 0 24 24\"\n",
              "       width=\"24px\">\n",
              "    <path d=\"M0 0h24v24H0V0z\" fill=\"none\"/>\n",
              "    <path d=\"M18.56 5.44l.94 2.06.94-2.06 2.06-.94-2.06-.94-.94-2.06-.94 2.06-2.06.94zm-11 1L8.5 8.5l.94-2.06 2.06-.94-2.06-.94L8.5 2.5l-.94 2.06-2.06.94zm10 10l.94 2.06.94-2.06 2.06-.94-2.06-.94-.94-2.06-.94 2.06-2.06.94z\"/><path d=\"M17.41 7.96l-1.37-1.37c-.4-.4-.92-.59-1.43-.59-.52 0-1.04.2-1.43.59L10.3 9.45l-7.72 7.72c-.78.78-.78 2.05 0 2.83L4 21.41c.39.39.9.59 1.41.59.51 0 1.02-.2 1.41-.59l7.78-7.78 2.81-2.81c.8-.78.8-2.07 0-2.86zM5.41 20L4 18.59l7.72-7.72 1.47 1.35L5.41 20z\"/>\n",
              "  </svg>\n",
              "      </button>\n",
              "      \n",
              "  <style>\n",
              "    .colab-df-container {\n",
              "      display:flex;\n",
              "      flex-wrap:wrap;\n",
              "      gap: 12px;\n",
              "    }\n",
              "\n",
              "    .colab-df-convert {\n",
              "      background-color: #E8F0FE;\n",
              "      border: none;\n",
              "      border-radius: 50%;\n",
              "      cursor: pointer;\n",
              "      display: none;\n",
              "      fill: #1967D2;\n",
              "      height: 32px;\n",
              "      padding: 0 0 0 0;\n",
              "      width: 32px;\n",
              "    }\n",
              "\n",
              "    .colab-df-convert:hover {\n",
              "      background-color: #E2EBFA;\n",
              "      box-shadow: 0px 1px 2px rgba(60, 64, 67, 0.3), 0px 1px 3px 1px rgba(60, 64, 67, 0.15);\n",
              "      fill: #174EA6;\n",
              "    }\n",
              "\n",
              "    [theme=dark] .colab-df-convert {\n",
              "      background-color: #3B4455;\n",
              "      fill: #D2E3FC;\n",
              "    }\n",
              "\n",
              "    [theme=dark] .colab-df-convert:hover {\n",
              "      background-color: #434B5C;\n",
              "      box-shadow: 0px 1px 3px 1px rgba(0, 0, 0, 0.15);\n",
              "      filter: drop-shadow(0px 1px 2px rgba(0, 0, 0, 0.3));\n",
              "      fill: #FFFFFF;\n",
              "    }\n",
              "  </style>\n",
              "\n",
              "      <script>\n",
              "        const buttonEl =\n",
              "          document.querySelector('#df-038359b6-d712-46b9-9667-3e877f365e5f button.colab-df-convert');\n",
              "        buttonEl.style.display =\n",
              "          google.colab.kernel.accessAllowed ? 'block' : 'none';\n",
              "\n",
              "        async function convertToInteractive(key) {\n",
              "          const element = document.querySelector('#df-038359b6-d712-46b9-9667-3e877f365e5f');\n",
              "          const dataTable =\n",
              "            await google.colab.kernel.invokeFunction('convertToInteractive',\n",
              "                                                     [key], {});\n",
              "          if (!dataTable) return;\n",
              "\n",
              "          const docLinkHtml = 'Like what you see? Visit the ' +\n",
              "            '<a target=\"_blank\" href=https://colab.research.google.com/notebooks/data_table.ipynb>data table notebook</a>'\n",
              "            + ' to learn more about interactive tables.';\n",
              "          element.innerHTML = '';\n",
              "          dataTable['output_type'] = 'display_data';\n",
              "          await google.colab.output.renderOutput(dataTable, element);\n",
              "          const docLink = document.createElement('div');\n",
              "          docLink.innerHTML = docLinkHtml;\n",
              "          element.appendChild(docLink);\n",
              "        }\n",
              "      </script>\n",
              "    </div>\n",
              "  </div>\n",
              "  "
            ]
          },
          "metadata": {},
          "execution_count": 47
        }
      ]
    },
    {
      "cell_type": "code",
      "source": [
        "%%R\n",
        "head(iris)"
      ],
      "metadata": {
        "colab": {
          "base_uri": "https://localhost:8080/"
        },
        "id": "QbQcGcnqttUZ",
        "outputId": "03e5ca2e-83a8-4f51-c697-52fddbf976ba"
      },
      "execution_count": 5,
      "outputs": [
        {
          "output_type": "stream",
          "name": "stdout",
          "text": [
            "  Sepal.Length Sepal.Width Petal.Length Petal.Width Species\n",
            "1          5.1         3.5          1.4         0.2  setosa\n",
            "2          4.9         3.0          1.4         0.2  setosa\n",
            "3          4.7         3.2          1.3         0.2  setosa\n",
            "4          4.6         3.1          1.5         0.2  setosa\n",
            "5          5.0         3.6          1.4         0.2  setosa\n",
            "6          5.4         3.9          1.7         0.4  setosa\n"
          ]
        }
      ]
    },
    {
      "cell_type": "code",
      "source": [
        "%%R\n",
        "head(biopsy) # from MASS"
      ],
      "metadata": {
        "colab": {
          "base_uri": "https://localhost:8080/"
        },
        "id": "9-wnuV9VuYvi",
        "outputId": "8e0e659b-62e5-4c48-e2ac-4856010574c6"
      },
      "execution_count": 12,
      "outputs": [
        {
          "output_type": "stream",
          "name": "stdout",
          "text": [
            "       ID V1 V2 V3 V4 V5 V6 V7 V8 V9     class\n",
            "1 1000025  5  1  1  1  2  1  3  1  1    benign\n",
            "2 1002945  5  4  4  5  7 10  3  2  1    benign\n",
            "3 1015425  3  1  1  1  2  2  3  1  1    benign\n",
            "4 1016277  6  8  8  1  3  4  3  7  1    benign\n",
            "5 1017023  4  1  1  3  2  1  3  1  1    benign\n",
            "6 1017122  8 10 10  8  7 10  9  7  1 malignant\n"
          ]
        }
      ]
    },
    {
      "cell_type": "markdown",
      "metadata": {
        "id": "bioFQ4zzziVc"
      },
      "source": [
        "# Aquisição de Dados \n",
        "\n"
      ]
    },
    {
      "cell_type": "code",
      "source": [
        "df = pd.read_csv('http://meusite.mackenzie.br/rogerio/data_load/insurance.csv')\n",
        "df.head()"
      ],
      "metadata": {
        "colab": {
          "base_uri": "https://localhost:8080/",
          "height": 206
        },
        "id": "EbreR0RNt8cS",
        "outputId": "0744eeaa-181f-4ec1-bcdd-72a074a0a2d2"
      },
      "execution_count": 6,
      "outputs": [
        {
          "output_type": "execute_result",
          "data": {
            "text/plain": [
              "   age     sex     bmi  children smoker     region      charges\n",
              "0   19  female  27.900         0    yes  southwest  16884.92400\n",
              "1   18    male  33.770         1     no  southeast   1725.55230\n",
              "2   28    male  33.000         3     no  southeast   4449.46200\n",
              "3   33    male  22.705         0     no  northwest  21984.47061\n",
              "4   32    male  28.880         0     no  northwest   3866.85520"
            ],
            "text/html": [
              "\n",
              "  <div id=\"df-e49130c1-176a-4d6a-9fe8-842cc2fb75d0\">\n",
              "    <div class=\"colab-df-container\">\n",
              "      <div>\n",
              "<style scoped>\n",
              "    .dataframe tbody tr th:only-of-type {\n",
              "        vertical-align: middle;\n",
              "    }\n",
              "\n",
              "    .dataframe tbody tr th {\n",
              "        vertical-align: top;\n",
              "    }\n",
              "\n",
              "    .dataframe thead th {\n",
              "        text-align: right;\n",
              "    }\n",
              "</style>\n",
              "<table border=\"1\" class=\"dataframe\">\n",
              "  <thead>\n",
              "    <tr style=\"text-align: right;\">\n",
              "      <th></th>\n",
              "      <th>age</th>\n",
              "      <th>sex</th>\n",
              "      <th>bmi</th>\n",
              "      <th>children</th>\n",
              "      <th>smoker</th>\n",
              "      <th>region</th>\n",
              "      <th>charges</th>\n",
              "    </tr>\n",
              "  </thead>\n",
              "  <tbody>\n",
              "    <tr>\n",
              "      <th>0</th>\n",
              "      <td>19</td>\n",
              "      <td>female</td>\n",
              "      <td>27.900</td>\n",
              "      <td>0</td>\n",
              "      <td>yes</td>\n",
              "      <td>southwest</td>\n",
              "      <td>16884.92400</td>\n",
              "    </tr>\n",
              "    <tr>\n",
              "      <th>1</th>\n",
              "      <td>18</td>\n",
              "      <td>male</td>\n",
              "      <td>33.770</td>\n",
              "      <td>1</td>\n",
              "      <td>no</td>\n",
              "      <td>southeast</td>\n",
              "      <td>1725.55230</td>\n",
              "    </tr>\n",
              "    <tr>\n",
              "      <th>2</th>\n",
              "      <td>28</td>\n",
              "      <td>male</td>\n",
              "      <td>33.000</td>\n",
              "      <td>3</td>\n",
              "      <td>no</td>\n",
              "      <td>southeast</td>\n",
              "      <td>4449.46200</td>\n",
              "    </tr>\n",
              "    <tr>\n",
              "      <th>3</th>\n",
              "      <td>33</td>\n",
              "      <td>male</td>\n",
              "      <td>22.705</td>\n",
              "      <td>0</td>\n",
              "      <td>no</td>\n",
              "      <td>northwest</td>\n",
              "      <td>21984.47061</td>\n",
              "    </tr>\n",
              "    <tr>\n",
              "      <th>4</th>\n",
              "      <td>32</td>\n",
              "      <td>male</td>\n",
              "      <td>28.880</td>\n",
              "      <td>0</td>\n",
              "      <td>no</td>\n",
              "      <td>northwest</td>\n",
              "      <td>3866.85520</td>\n",
              "    </tr>\n",
              "  </tbody>\n",
              "</table>\n",
              "</div>\n",
              "      <button class=\"colab-df-convert\" onclick=\"convertToInteractive('df-e49130c1-176a-4d6a-9fe8-842cc2fb75d0')\"\n",
              "              title=\"Convert this dataframe to an interactive table.\"\n",
              "              style=\"display:none;\">\n",
              "        \n",
              "  <svg xmlns=\"http://www.w3.org/2000/svg\" height=\"24px\"viewBox=\"0 0 24 24\"\n",
              "       width=\"24px\">\n",
              "    <path d=\"M0 0h24v24H0V0z\" fill=\"none\"/>\n",
              "    <path d=\"M18.56 5.44l.94 2.06.94-2.06 2.06-.94-2.06-.94-.94-2.06-.94 2.06-2.06.94zm-11 1L8.5 8.5l.94-2.06 2.06-.94-2.06-.94L8.5 2.5l-.94 2.06-2.06.94zm10 10l.94 2.06.94-2.06 2.06-.94-2.06-.94-.94-2.06-.94 2.06-2.06.94z\"/><path d=\"M17.41 7.96l-1.37-1.37c-.4-.4-.92-.59-1.43-.59-.52 0-1.04.2-1.43.59L10.3 9.45l-7.72 7.72c-.78.78-.78 2.05 0 2.83L4 21.41c.39.39.9.59 1.41.59.51 0 1.02-.2 1.41-.59l7.78-7.78 2.81-2.81c.8-.78.8-2.07 0-2.86zM5.41 20L4 18.59l7.72-7.72 1.47 1.35L5.41 20z\"/>\n",
              "  </svg>\n",
              "      </button>\n",
              "      \n",
              "  <style>\n",
              "    .colab-df-container {\n",
              "      display:flex;\n",
              "      flex-wrap:wrap;\n",
              "      gap: 12px;\n",
              "    }\n",
              "\n",
              "    .colab-df-convert {\n",
              "      background-color: #E8F0FE;\n",
              "      border: none;\n",
              "      border-radius: 50%;\n",
              "      cursor: pointer;\n",
              "      display: none;\n",
              "      fill: #1967D2;\n",
              "      height: 32px;\n",
              "      padding: 0 0 0 0;\n",
              "      width: 32px;\n",
              "    }\n",
              "\n",
              "    .colab-df-convert:hover {\n",
              "      background-color: #E2EBFA;\n",
              "      box-shadow: 0px 1px 2px rgba(60, 64, 67, 0.3), 0px 1px 3px 1px rgba(60, 64, 67, 0.15);\n",
              "      fill: #174EA6;\n",
              "    }\n",
              "\n",
              "    [theme=dark] .colab-df-convert {\n",
              "      background-color: #3B4455;\n",
              "      fill: #D2E3FC;\n",
              "    }\n",
              "\n",
              "    [theme=dark] .colab-df-convert:hover {\n",
              "      background-color: #434B5C;\n",
              "      box-shadow: 0px 1px 3px 1px rgba(0, 0, 0, 0.15);\n",
              "      filter: drop-shadow(0px 1px 2px rgba(0, 0, 0, 0.3));\n",
              "      fill: #FFFFFF;\n",
              "    }\n",
              "  </style>\n",
              "\n",
              "      <script>\n",
              "        const buttonEl =\n",
              "          document.querySelector('#df-e49130c1-176a-4d6a-9fe8-842cc2fb75d0 button.colab-df-convert');\n",
              "        buttonEl.style.display =\n",
              "          google.colab.kernel.accessAllowed ? 'block' : 'none';\n",
              "\n",
              "        async function convertToInteractive(key) {\n",
              "          const element = document.querySelector('#df-e49130c1-176a-4d6a-9fe8-842cc2fb75d0');\n",
              "          const dataTable =\n",
              "            await google.colab.kernel.invokeFunction('convertToInteractive',\n",
              "                                                     [key], {});\n",
              "          if (!dataTable) return;\n",
              "\n",
              "          const docLinkHtml = 'Like what you see? Visit the ' +\n",
              "            '<a target=\"_blank\" href=https://colab.research.google.com/notebooks/data_table.ipynb>data table notebook</a>'\n",
              "            + ' to learn more about interactive tables.';\n",
              "          element.innerHTML = '';\n",
              "          dataTable['output_type'] = 'display_data';\n",
              "          await google.colab.output.renderOutput(dataTable, element);\n",
              "          const docLink = document.createElement('div');\n",
              "          docLink.innerHTML = docLinkHtml;\n",
              "          element.appendChild(docLink);\n",
              "        }\n",
              "      </script>\n",
              "    </div>\n",
              "  </div>\n",
              "  "
            ]
          },
          "metadata": {},
          "execution_count": 6
        }
      ]
    },
    {
      "cell_type": "code",
      "metadata": {
        "colab": {
          "base_uri": "https://localhost:8080/"
        },
        "id": "yZqlse1Zy1Ob",
        "outputId": "69321974-1ba1-4a01-dd5c-22d867a7b844"
      },
      "source": [
        "%%R\n",
        "df = read.csv('http://meusite.mackenzie.br/rogerio/data_load/insurance.csv')\n",
        "head(df)"
      ],
      "execution_count": 7,
      "outputs": [
        {
          "output_type": "stream",
          "name": "stdout",
          "text": [
            "  age    sex    bmi children smoker    region   charges\n",
            "1  19 female 27.900        0    yes southwest 16884.924\n",
            "2  18   male 33.770        1     no southeast  1725.552\n",
            "3  28   male 33.000        3     no southeast  4449.462\n",
            "4  33   male 22.705        0     no northwest 21984.471\n",
            "5  32   male 28.880        0     no northwest  3866.855\n",
            "6  31 female 25.740        0     no southeast  3756.622\n"
          ]
        }
      ]
    },
    {
      "cell_type": "markdown",
      "source": [
        "# Exploração da Estrutura dos Dados"
      ],
      "metadata": {
        "id": "ixgcuNHLvBWK"
      }
    },
    {
      "cell_type": "code",
      "source": [
        "df = pd.read_csv('http://meusite.mackenzie.br/rogerio/data_load/insurance.csv')\n",
        "\n",
        "print(df.head())\n",
        "print()\n",
        "print(df.shape)\n",
        "print()\n",
        "print(len(df))\n",
        "print()\n",
        "print(df.columns)\n",
        "print()\n",
        "print(df.describe(include='all'))\n",
        "print()\n",
        "print(df.isnull().sum())\n",
        "print()\n"
      ],
      "metadata": {
        "colab": {
          "base_uri": "https://localhost:8080/"
        },
        "id": "zQGXuLi9vHF6",
        "outputId": "fefa7d0f-cd37-4af8-a09e-92166616e8e3"
      },
      "execution_count": 14,
      "outputs": [
        {
          "output_type": "stream",
          "name": "stdout",
          "text": [
            "   age     sex     bmi  children smoker     region      charges\n",
            "0   19  female  27.900         0    yes  southwest  16884.92400\n",
            "1   18    male  33.770         1     no  southeast   1725.55230\n",
            "2   28    male  33.000         3     no  southeast   4449.46200\n",
            "3   33    male  22.705         0     no  northwest  21984.47061\n",
            "4   32    male  28.880         0     no  northwest   3866.85520\n",
            "\n",
            "(1338, 7)\n",
            "\n",
            "1338\n",
            "\n",
            "Index(['age', 'sex', 'bmi', 'children', 'smoker', 'region', 'charges'], dtype='object')\n",
            "\n",
            "                age   sex          bmi     children smoker     region  \\\n",
            "count   1338.000000  1338  1338.000000  1338.000000   1338       1338   \n",
            "unique          NaN     2          NaN          NaN      2          4   \n",
            "top             NaN  male          NaN          NaN     no  southeast   \n",
            "freq            NaN   676          NaN          NaN   1064        364   \n",
            "mean      39.207025   NaN    30.663397     1.094918    NaN        NaN   \n",
            "std       14.049960   NaN     6.098187     1.205493    NaN        NaN   \n",
            "min       18.000000   NaN    15.960000     0.000000    NaN        NaN   \n",
            "25%       27.000000   NaN    26.296250     0.000000    NaN        NaN   \n",
            "50%       39.000000   NaN    30.400000     1.000000    NaN        NaN   \n",
            "75%       51.000000   NaN    34.693750     2.000000    NaN        NaN   \n",
            "max       64.000000   NaN    53.130000     5.000000    NaN        NaN   \n",
            "\n",
            "             charges  \n",
            "count    1338.000000  \n",
            "unique           NaN  \n",
            "top              NaN  \n",
            "freq             NaN  \n",
            "mean    13270.422265  \n",
            "std     12110.011237  \n",
            "min      1121.873900  \n",
            "25%      4740.287150  \n",
            "50%      9382.033000  \n",
            "75%     16639.912515  \n",
            "max     63770.428010  \n",
            "\n",
            "age         0\n",
            "sex         0\n",
            "bmi         0\n",
            "children    0\n",
            "smoker      0\n",
            "region      0\n",
            "charges     0\n",
            "dtype: int64\n",
            "\n"
          ]
        }
      ]
    },
    {
      "cell_type": "code",
      "source": [
        "%%R\n",
        "df = read.csv('http://meusite.mackenzie.br/rogerio/data_load/insurance.csv')\n",
        "\n",
        "print(head(df))\n",
        "cat('\\n')\n",
        "print(ncol(df))\n",
        "cat('\\n')\n",
        "print(nrow(df))\n",
        "cat('\\n')\n",
        "print(names(df))\n",
        "cat('\\n')\n",
        "print(summary(df))\n",
        "cat('\\n')\n",
        "print(colSums(is.na(df))) # see https://www.codingprof.com/3-ways-to-find-columns-with-nas-in-r-examples/\n",
        "cat('\\n')"
      ],
      "metadata": {
        "colab": {
          "base_uri": "https://localhost:8080/"
        },
        "id": "6Va8MGjJvqLN",
        "outputId": "6f0519fa-d6ab-4de1-85db-05ba671d3e3c"
      },
      "execution_count": 21,
      "outputs": [
        {
          "output_type": "stream",
          "name": "stdout",
          "text": [
            "  age    sex    bmi children smoker    region   charges\n",
            "1  19 female 27.900        0    yes southwest 16884.924\n",
            "2  18   male 33.770        1     no southeast  1725.552\n",
            "3  28   male 33.000        3     no southeast  4449.462\n",
            "4  33   male 22.705        0     no northwest 21984.471\n",
            "5  32   male 28.880        0     no northwest  3866.855\n",
            "6  31 female 25.740        0     no southeast  3756.622\n",
            "\n",
            "[1] 7\n",
            "\n",
            "[1] 1338\n",
            "\n",
            "[1] \"age\"      \"sex\"      \"bmi\"      \"children\" \"smoker\"   \"region\"   \"charges\" \n",
            "\n",
            "      age            sex                 bmi           children    \n",
            " Min.   :18.00   Length:1338        Min.   :15.96   Min.   :0.000  \n",
            " 1st Qu.:27.00   Class :character   1st Qu.:26.30   1st Qu.:0.000  \n",
            " Median :39.00   Mode  :character   Median :30.40   Median :1.000  \n",
            " Mean   :39.21                      Mean   :30.66   Mean   :1.095  \n",
            " 3rd Qu.:51.00                      3rd Qu.:34.69   3rd Qu.:2.000  \n",
            " Max.   :64.00                      Max.   :53.13   Max.   :5.000  \n",
            "    smoker             region             charges     \n",
            " Length:1338        Length:1338        Min.   : 1122  \n",
            " Class :character   Class :character   1st Qu.: 4740  \n",
            " Mode  :character   Mode  :character   Median : 9382  \n",
            "                                       Mean   :13270  \n",
            "                                       3rd Qu.:16640  \n",
            "                                       Max.   :63770  \n",
            "\n",
            "     age      sex      bmi children   smoker   region  charges \n",
            "       0        0        0        0        0        0        0 \n",
            "\n"
          ]
        }
      ]
    },
    {
      "cell_type": "markdown",
      "source": [
        "# Drop na\n"
      ],
      "metadata": {
        "id": "sBZXjr1gxauS"
      }
    },
    {
      "cell_type": "code",
      "source": [
        "df = pd.read_csv('http://meusite.mackenzie.br/rogerio/data_load/insurance.csv')\n",
        "\n",
        "df.at[1,'sex'] = np.NAN\n",
        "print(df.head())\n",
        "print(len(df))\n",
        "print(df.isnull().sum())\n",
        "\n",
        "df = df.dropna()\n",
        "print(len(df))\n",
        "print(df.isnull().sum())"
      ],
      "metadata": {
        "colab": {
          "base_uri": "https://localhost:8080/"
        },
        "id": "YvxcqTIyxcwZ",
        "outputId": "95ce30ff-bc13-4632-bd71-0e60d88c7cb8"
      },
      "execution_count": 39,
      "outputs": [
        {
          "output_type": "stream",
          "name": "stdout",
          "text": [
            "   age     sex     bmi  children smoker     region      charges\n",
            "0   19  female  27.900         0    yes  southwest  16884.92400\n",
            "1   18     NaN  33.770         1     no  southeast   1725.55230\n",
            "2   28    male  33.000         3     no  southeast   4449.46200\n",
            "3   33    male  22.705         0     no  northwest  21984.47061\n",
            "4   32    male  28.880         0     no  northwest   3866.85520\n",
            "1338\n",
            "age         0\n",
            "sex         1\n",
            "bmi         0\n",
            "children    0\n",
            "smoker      0\n",
            "region      0\n",
            "charges     0\n",
            "dtype: int64\n",
            "1337\n",
            "age         0\n",
            "sex         0\n",
            "bmi         0\n",
            "children    0\n",
            "smoker      0\n",
            "region      0\n",
            "charges     0\n",
            "dtype: int64\n"
          ]
        }
      ]
    },
    {
      "cell_type": "code",
      "source": [
        "%%R\n",
        "df = read.csv('http://meusite.mackenzie.br/rogerio/data_load/insurance.csv')\n",
        "\n",
        "df[1,'sex'] = NA\n",
        "print(head(df))\n",
        "print(nrow(df))\n",
        "print(colSums(is.na(df)))\n",
        "\n",
        "df = na.omit(df)\n",
        "print(nrow(df))\n",
        "print(colSums(is.na(df)))"
      ],
      "metadata": {
        "colab": {
          "base_uri": "https://localhost:8080/"
        },
        "id": "MZPYATyhzeVK",
        "outputId": "b0cc1168-cdde-4aeb-e77c-50f132e158ef"
      },
      "execution_count": 41,
      "outputs": [
        {
          "output_type": "stream",
          "name": "stdout",
          "text": [
            "  age    sex    bmi children smoker    region   charges\n",
            "1  19   <NA> 27.900        0    yes southwest 16884.924\n",
            "2  18   male 33.770        1     no southeast  1725.552\n",
            "3  28   male 33.000        3     no southeast  4449.462\n",
            "4  33   male 22.705        0     no northwest 21984.471\n",
            "5  32   male 28.880        0     no northwest  3866.855\n",
            "6  31 female 25.740        0     no southeast  3756.622\n",
            "[1] 1338\n",
            "     age      sex      bmi children   smoker   region  charges \n",
            "       0        1        0        0        0        0        0 \n",
            "[1] 1337\n",
            "     age      sex      bmi children   smoker   region  charges \n",
            "       0        0        0        0        0        0        0 \n"
          ]
        }
      ]
    },
    {
      "cell_type": "code",
      "source": [
        "df = pd.read_csv('http://meusite.mackenzie.br/rogerio/data_load/insurance.csv')\n",
        "\n",
        "df.at[1,'sex'] = np.NAN\n",
        "print(len(df))\n",
        "print(df.isnull().sum())\n",
        "\n",
        "df = df.dropna()\n",
        "print(len(df))\n",
        "print(df.isnull().sum())"
      ],
      "metadata": {
        "id": "haFanhe-yyra"
      },
      "execution_count": null,
      "outputs": []
    },
    {
      "cell_type": "markdown",
      "source": [
        "# Selecionando uma Coluna"
      ],
      "metadata": {
        "id": "UmdC4HdIz84J"
      }
    },
    {
      "cell_type": "code",
      "source": [
        "df = pd.read_csv('http://meusite.mackenzie.br/rogerio/data_load/tips.csv')\n",
        "\n",
        "print(df.head())\n",
        "\n",
        "print(df.tip.mean())\n",
        "print(df['tip'].max())\n",
        "print(df['day'].value_counts())"
      ],
      "metadata": {
        "colab": {
          "base_uri": "https://localhost:8080/"
        },
        "id": "L5Xyh9syz8T0",
        "outputId": "d6703d8f-5ef4-4de0-cd39-e8bec36553a6"
      },
      "execution_count": 45,
      "outputs": [
        {
          "output_type": "stream",
          "name": "stdout",
          "text": [
            "   total_bill   tip     sex smoker  day    time  size\n",
            "0       16.99  1.01  Female     No  Sun  Dinner     2\n",
            "1       10.34  1.66    Male     No  Sun  Dinner     3\n",
            "2       21.01  3.50    Male     No  Sun  Dinner     3\n",
            "3       23.68  3.31    Male     No  Sun  Dinner     2\n",
            "4       24.59  3.61  Female     No  Sun  Dinner     4\n",
            "2.99827868852459\n",
            "10.0\n",
            "Sat     87\n",
            "Sun     76\n",
            "Thur    62\n",
            "Fri     19\n",
            "Name: day, dtype: int64\n"
          ]
        }
      ]
    },
    {
      "cell_type": "code",
      "source": [
        "%%R\n",
        "df = read.csv('http://meusite.mackenzie.br/rogerio/data_load/tips.csv')\n",
        "\n",
        "print(head(df))\n",
        "\n",
        "print(mean( df$tip ))\n",
        "print(max( df[,'tip'] ))\n",
        "print(table(df[,'day']))"
      ],
      "metadata": {
        "colab": {
          "base_uri": "https://localhost:8080/"
        },
        "outputId": "a5d13c04-ee78-4eaa-a561-2c3a12533d2f",
        "id": "qMazh-M_0enf"
      },
      "execution_count": 46,
      "outputs": [
        {
          "output_type": "stream",
          "name": "stdout",
          "text": [
            "  total_bill  tip    sex smoker day   time size\n",
            "1      16.99 1.01 Female     No Sun Dinner    2\n",
            "2      10.34 1.66   Male     No Sun Dinner    3\n",
            "3      21.01 3.50   Male     No Sun Dinner    3\n",
            "4      23.68 3.31   Male     No Sun Dinner    2\n",
            "5      24.59 3.61 Female     No Sun Dinner    4\n",
            "6      25.29 4.71   Male     No Sun Dinner    4\n",
            "[1] 2.998279\n",
            "[1] 10\n",
            "\n",
            " Fri  Sat  Sun Thur \n",
            "  19   87   76   62 \n"
          ]
        }
      ]
    },
    {
      "cell_type": "markdown",
      "metadata": {
        "id": "aDPbsCk-vJYl"
      },
      "source": [
        "# Seleções dos Dados\n",
        "\n",
        "> **R**, `df[ <linhas> ,  <colunas> ]`\n",
        "\n",
        "> **Python**, `df[ <linhas> ] | [ <colunas> ]`\n",
        "\n"
      ]
    },
    {
      "cell_type": "markdown",
      "source": [
        "## Seleção de Colunas"
      ],
      "metadata": {
        "id": "PrTgRFk41xAi"
      }
    },
    {
      "cell_type": "code",
      "metadata": {
        "colab": {
          "base_uri": "https://localhost:8080/",
          "height": 528
        },
        "id": "wFXAjki73UKu",
        "outputId": "54a6a841-e7ba-4230-de1d-e878a4b7bbc8"
      },
      "source": [
        "iris = sns.load_dataset('iris')\n",
        "print( iris.head() )\n",
        "\n",
        "iris[ ['sepal_width', 'species'] ]"
      ],
      "execution_count": 48,
      "outputs": [
        {
          "output_type": "stream",
          "name": "stdout",
          "text": [
            "   sepal_length  sepal_width  petal_length  petal_width species\n",
            "0           5.1          3.5           1.4          0.2  setosa\n",
            "1           4.9          3.0           1.4          0.2  setosa\n",
            "2           4.7          3.2           1.3          0.2  setosa\n",
            "3           4.6          3.1           1.5          0.2  setosa\n",
            "4           5.0          3.6           1.4          0.2  setosa\n"
          ]
        },
        {
          "output_type": "execute_result",
          "data": {
            "text/plain": [
              "     sepal_width    species\n",
              "0            3.5     setosa\n",
              "1            3.0     setosa\n",
              "2            3.2     setosa\n",
              "3            3.1     setosa\n",
              "4            3.6     setosa\n",
              "..           ...        ...\n",
              "145          3.0  virginica\n",
              "146          2.5  virginica\n",
              "147          3.0  virginica\n",
              "148          3.4  virginica\n",
              "149          3.0  virginica\n",
              "\n",
              "[150 rows x 2 columns]"
            ],
            "text/html": [
              "\n",
              "  <div id=\"df-ade7c74c-fc30-42be-923e-90b36f869d3c\">\n",
              "    <div class=\"colab-df-container\">\n",
              "      <div>\n",
              "<style scoped>\n",
              "    .dataframe tbody tr th:only-of-type {\n",
              "        vertical-align: middle;\n",
              "    }\n",
              "\n",
              "    .dataframe tbody tr th {\n",
              "        vertical-align: top;\n",
              "    }\n",
              "\n",
              "    .dataframe thead th {\n",
              "        text-align: right;\n",
              "    }\n",
              "</style>\n",
              "<table border=\"1\" class=\"dataframe\">\n",
              "  <thead>\n",
              "    <tr style=\"text-align: right;\">\n",
              "      <th></th>\n",
              "      <th>sepal_width</th>\n",
              "      <th>species</th>\n",
              "    </tr>\n",
              "  </thead>\n",
              "  <tbody>\n",
              "    <tr>\n",
              "      <th>0</th>\n",
              "      <td>3.5</td>\n",
              "      <td>setosa</td>\n",
              "    </tr>\n",
              "    <tr>\n",
              "      <th>1</th>\n",
              "      <td>3.0</td>\n",
              "      <td>setosa</td>\n",
              "    </tr>\n",
              "    <tr>\n",
              "      <th>2</th>\n",
              "      <td>3.2</td>\n",
              "      <td>setosa</td>\n",
              "    </tr>\n",
              "    <tr>\n",
              "      <th>3</th>\n",
              "      <td>3.1</td>\n",
              "      <td>setosa</td>\n",
              "    </tr>\n",
              "    <tr>\n",
              "      <th>4</th>\n",
              "      <td>3.6</td>\n",
              "      <td>setosa</td>\n",
              "    </tr>\n",
              "    <tr>\n",
              "      <th>...</th>\n",
              "      <td>...</td>\n",
              "      <td>...</td>\n",
              "    </tr>\n",
              "    <tr>\n",
              "      <th>145</th>\n",
              "      <td>3.0</td>\n",
              "      <td>virginica</td>\n",
              "    </tr>\n",
              "    <tr>\n",
              "      <th>146</th>\n",
              "      <td>2.5</td>\n",
              "      <td>virginica</td>\n",
              "    </tr>\n",
              "    <tr>\n",
              "      <th>147</th>\n",
              "      <td>3.0</td>\n",
              "      <td>virginica</td>\n",
              "    </tr>\n",
              "    <tr>\n",
              "      <th>148</th>\n",
              "      <td>3.4</td>\n",
              "      <td>virginica</td>\n",
              "    </tr>\n",
              "    <tr>\n",
              "      <th>149</th>\n",
              "      <td>3.0</td>\n",
              "      <td>virginica</td>\n",
              "    </tr>\n",
              "  </tbody>\n",
              "</table>\n",
              "<p>150 rows × 2 columns</p>\n",
              "</div>\n",
              "      <button class=\"colab-df-convert\" onclick=\"convertToInteractive('df-ade7c74c-fc30-42be-923e-90b36f869d3c')\"\n",
              "              title=\"Convert this dataframe to an interactive table.\"\n",
              "              style=\"display:none;\">\n",
              "        \n",
              "  <svg xmlns=\"http://www.w3.org/2000/svg\" height=\"24px\"viewBox=\"0 0 24 24\"\n",
              "       width=\"24px\">\n",
              "    <path d=\"M0 0h24v24H0V0z\" fill=\"none\"/>\n",
              "    <path d=\"M18.56 5.44l.94 2.06.94-2.06 2.06-.94-2.06-.94-.94-2.06-.94 2.06-2.06.94zm-11 1L8.5 8.5l.94-2.06 2.06-.94-2.06-.94L8.5 2.5l-.94 2.06-2.06.94zm10 10l.94 2.06.94-2.06 2.06-.94-2.06-.94-.94-2.06-.94 2.06-2.06.94z\"/><path d=\"M17.41 7.96l-1.37-1.37c-.4-.4-.92-.59-1.43-.59-.52 0-1.04.2-1.43.59L10.3 9.45l-7.72 7.72c-.78.78-.78 2.05 0 2.83L4 21.41c.39.39.9.59 1.41.59.51 0 1.02-.2 1.41-.59l7.78-7.78 2.81-2.81c.8-.78.8-2.07 0-2.86zM5.41 20L4 18.59l7.72-7.72 1.47 1.35L5.41 20z\"/>\n",
              "  </svg>\n",
              "      </button>\n",
              "      \n",
              "  <style>\n",
              "    .colab-df-container {\n",
              "      display:flex;\n",
              "      flex-wrap:wrap;\n",
              "      gap: 12px;\n",
              "    }\n",
              "\n",
              "    .colab-df-convert {\n",
              "      background-color: #E8F0FE;\n",
              "      border: none;\n",
              "      border-radius: 50%;\n",
              "      cursor: pointer;\n",
              "      display: none;\n",
              "      fill: #1967D2;\n",
              "      height: 32px;\n",
              "      padding: 0 0 0 0;\n",
              "      width: 32px;\n",
              "    }\n",
              "\n",
              "    .colab-df-convert:hover {\n",
              "      background-color: #E2EBFA;\n",
              "      box-shadow: 0px 1px 2px rgba(60, 64, 67, 0.3), 0px 1px 3px 1px rgba(60, 64, 67, 0.15);\n",
              "      fill: #174EA6;\n",
              "    }\n",
              "\n",
              "    [theme=dark] .colab-df-convert {\n",
              "      background-color: #3B4455;\n",
              "      fill: #D2E3FC;\n",
              "    }\n",
              "\n",
              "    [theme=dark] .colab-df-convert:hover {\n",
              "      background-color: #434B5C;\n",
              "      box-shadow: 0px 1px 3px 1px rgba(0, 0, 0, 0.15);\n",
              "      filter: drop-shadow(0px 1px 2px rgba(0, 0, 0, 0.3));\n",
              "      fill: #FFFFFF;\n",
              "    }\n",
              "  </style>\n",
              "\n",
              "      <script>\n",
              "        const buttonEl =\n",
              "          document.querySelector('#df-ade7c74c-fc30-42be-923e-90b36f869d3c button.colab-df-convert');\n",
              "        buttonEl.style.display =\n",
              "          google.colab.kernel.accessAllowed ? 'block' : 'none';\n",
              "\n",
              "        async function convertToInteractive(key) {\n",
              "          const element = document.querySelector('#df-ade7c74c-fc30-42be-923e-90b36f869d3c');\n",
              "          const dataTable =\n",
              "            await google.colab.kernel.invokeFunction('convertToInteractive',\n",
              "                                                     [key], {});\n",
              "          if (!dataTable) return;\n",
              "\n",
              "          const docLinkHtml = 'Like what you see? Visit the ' +\n",
              "            '<a target=\"_blank\" href=https://colab.research.google.com/notebooks/data_table.ipynb>data table notebook</a>'\n",
              "            + ' to learn more about interactive tables.';\n",
              "          element.innerHTML = '';\n",
              "          dataTable['output_type'] = 'display_data';\n",
              "          await google.colab.output.renderOutput(dataTable, element);\n",
              "          const docLink = document.createElement('div');\n",
              "          docLink.innerHTML = docLinkHtml;\n",
              "          element.appendChild(docLink);\n",
              "        }\n",
              "      </script>\n",
              "    </div>\n",
              "  </div>\n",
              "  "
            ]
          },
          "metadata": {},
          "execution_count": 48
        }
      ]
    },
    {
      "cell_type": "code",
      "metadata": {
        "id": "NNXcorsnvcVT",
        "colab": {
          "base_uri": "https://localhost:8080/"
        },
        "outputId": "2e6c8728-6c21-4d72-aff7-f8420efa1733"
      },
      "source": [
        "%%R\n",
        "# iris[ , c(2,5)]\n",
        "iris[ , c('Sepal.Width', 'Species')]"
      ],
      "execution_count": 49,
      "outputs": [
        {
          "output_type": "stream",
          "name": "stdout",
          "text": [
            "    Sepal.Width    Species\n",
            "1           3.5     setosa\n",
            "2           3.0     setosa\n",
            "3           3.2     setosa\n",
            "4           3.1     setosa\n",
            "5           3.6     setosa\n",
            "6           3.9     setosa\n",
            "7           3.4     setosa\n",
            "8           3.4     setosa\n",
            "9           2.9     setosa\n",
            "10          3.1     setosa\n",
            "11          3.7     setosa\n",
            "12          3.4     setosa\n",
            "13          3.0     setosa\n",
            "14          3.0     setosa\n",
            "15          4.0     setosa\n",
            "16          4.4     setosa\n",
            "17          3.9     setosa\n",
            "18          3.5     setosa\n",
            "19          3.8     setosa\n",
            "20          3.8     setosa\n",
            "21          3.4     setosa\n",
            "22          3.7     setosa\n",
            "23          3.6     setosa\n",
            "24          3.3     setosa\n",
            "25          3.4     setosa\n",
            "26          3.0     setosa\n",
            "27          3.4     setosa\n",
            "28          3.5     setosa\n",
            "29          3.4     setosa\n",
            "30          3.2     setosa\n",
            "31          3.1     setosa\n",
            "32          3.4     setosa\n",
            "33          4.1     setosa\n",
            "34          4.2     setosa\n",
            "35          3.1     setosa\n",
            "36          3.2     setosa\n",
            "37          3.5     setosa\n",
            "38          3.6     setosa\n",
            "39          3.0     setosa\n",
            "40          3.4     setosa\n",
            "41          3.5     setosa\n",
            "42          2.3     setosa\n",
            "43          3.2     setosa\n",
            "44          3.5     setosa\n",
            "45          3.8     setosa\n",
            "46          3.0     setosa\n",
            "47          3.8     setosa\n",
            "48          3.2     setosa\n",
            "49          3.7     setosa\n",
            "50          3.3     setosa\n",
            "51          3.2 versicolor\n",
            "52          3.2 versicolor\n",
            "53          3.1 versicolor\n",
            "54          2.3 versicolor\n",
            "55          2.8 versicolor\n",
            "56          2.8 versicolor\n",
            "57          3.3 versicolor\n",
            "58          2.4 versicolor\n",
            "59          2.9 versicolor\n",
            "60          2.7 versicolor\n",
            "61          2.0 versicolor\n",
            "62          3.0 versicolor\n",
            "63          2.2 versicolor\n",
            "64          2.9 versicolor\n",
            "65          2.9 versicolor\n",
            "66          3.1 versicolor\n",
            "67          3.0 versicolor\n",
            "68          2.7 versicolor\n",
            "69          2.2 versicolor\n",
            "70          2.5 versicolor\n",
            "71          3.2 versicolor\n",
            "72          2.8 versicolor\n",
            "73          2.5 versicolor\n",
            "74          2.8 versicolor\n",
            "75          2.9 versicolor\n",
            "76          3.0 versicolor\n",
            "77          2.8 versicolor\n",
            "78          3.0 versicolor\n",
            "79          2.9 versicolor\n",
            "80          2.6 versicolor\n",
            "81          2.4 versicolor\n",
            "82          2.4 versicolor\n",
            "83          2.7 versicolor\n",
            "84          2.7 versicolor\n",
            "85          3.0 versicolor\n",
            "86          3.4 versicolor\n",
            "87          3.1 versicolor\n",
            "88          2.3 versicolor\n",
            "89          3.0 versicolor\n",
            "90          2.5 versicolor\n",
            "91          2.6 versicolor\n",
            "92          3.0 versicolor\n",
            "93          2.6 versicolor\n",
            "94          2.3 versicolor\n",
            "95          2.7 versicolor\n",
            "96          3.0 versicolor\n",
            "97          2.9 versicolor\n",
            "98          2.9 versicolor\n",
            "99          2.5 versicolor\n",
            "100         2.8 versicolor\n",
            "101         3.3  virginica\n",
            "102         2.7  virginica\n",
            "103         3.0  virginica\n",
            "104         2.9  virginica\n",
            "105         3.0  virginica\n",
            "106         3.0  virginica\n",
            "107         2.5  virginica\n",
            "108         2.9  virginica\n",
            "109         2.5  virginica\n",
            "110         3.6  virginica\n",
            "111         3.2  virginica\n",
            "112         2.7  virginica\n",
            "113         3.0  virginica\n",
            "114         2.5  virginica\n",
            "115         2.8  virginica\n",
            "116         3.2  virginica\n",
            "117         3.0  virginica\n",
            "118         3.8  virginica\n",
            "119         2.6  virginica\n",
            "120         2.2  virginica\n",
            "121         3.2  virginica\n",
            "122         2.8  virginica\n",
            "123         2.8  virginica\n",
            "124         2.7  virginica\n",
            "125         3.3  virginica\n",
            "126         3.2  virginica\n",
            "127         2.8  virginica\n",
            "128         3.0  virginica\n",
            "129         2.8  virginica\n",
            "130         3.0  virginica\n",
            "131         2.8  virginica\n",
            "132         3.8  virginica\n",
            "133         2.8  virginica\n",
            "134         2.8  virginica\n",
            "135         2.6  virginica\n",
            "136         3.0  virginica\n",
            "137         3.4  virginica\n",
            "138         3.1  virginica\n",
            "139         3.0  virginica\n",
            "140         3.1  virginica\n",
            "141         3.1  virginica\n",
            "142         3.1  virginica\n",
            "143         2.7  virginica\n",
            "144         3.2  virginica\n",
            "145         3.3  virginica\n",
            "146         3.0  virginica\n",
            "147         2.5  virginica\n",
            "148         3.0  virginica\n",
            "149         3.4  virginica\n",
            "150         3.0  virginica\n"
          ]
        }
      ]
    },
    {
      "cell_type": "markdown",
      "metadata": {
        "id": "CnI_O9-nwGag"
      },
      "source": [
        "# Seleção de Linhas"
      ]
    },
    {
      "cell_type": "code",
      "metadata": {
        "colab": {
          "base_uri": "https://localhost:8080/",
          "height": 1000
        },
        "id": "LWtk1LDb4NZW",
        "outputId": "e0f50300-9197-492b-ebff-e85475a500c9"
      },
      "source": [
        "iris[ iris.species == 'virginica' ] "
      ],
      "execution_count": 50,
      "outputs": [
        {
          "output_type": "execute_result",
          "data": {
            "text/plain": [
              "     sepal_length  sepal_width  petal_length  petal_width    species\n",
              "100           6.3          3.3           6.0          2.5  virginica\n",
              "101           5.8          2.7           5.1          1.9  virginica\n",
              "102           7.1          3.0           5.9          2.1  virginica\n",
              "103           6.3          2.9           5.6          1.8  virginica\n",
              "104           6.5          3.0           5.8          2.2  virginica\n",
              "105           7.6          3.0           6.6          2.1  virginica\n",
              "106           4.9          2.5           4.5          1.7  virginica\n",
              "107           7.3          2.9           6.3          1.8  virginica\n",
              "108           6.7          2.5           5.8          1.8  virginica\n",
              "109           7.2          3.6           6.1          2.5  virginica\n",
              "110           6.5          3.2           5.1          2.0  virginica\n",
              "111           6.4          2.7           5.3          1.9  virginica\n",
              "112           6.8          3.0           5.5          2.1  virginica\n",
              "113           5.7          2.5           5.0          2.0  virginica\n",
              "114           5.8          2.8           5.1          2.4  virginica\n",
              "115           6.4          3.2           5.3          2.3  virginica\n",
              "116           6.5          3.0           5.5          1.8  virginica\n",
              "117           7.7          3.8           6.7          2.2  virginica\n",
              "118           7.7          2.6           6.9          2.3  virginica\n",
              "119           6.0          2.2           5.0          1.5  virginica\n",
              "120           6.9          3.2           5.7          2.3  virginica\n",
              "121           5.6          2.8           4.9          2.0  virginica\n",
              "122           7.7          2.8           6.7          2.0  virginica\n",
              "123           6.3          2.7           4.9          1.8  virginica\n",
              "124           6.7          3.3           5.7          2.1  virginica\n",
              "125           7.2          3.2           6.0          1.8  virginica\n",
              "126           6.2          2.8           4.8          1.8  virginica\n",
              "127           6.1          3.0           4.9          1.8  virginica\n",
              "128           6.4          2.8           5.6          2.1  virginica\n",
              "129           7.2          3.0           5.8          1.6  virginica\n",
              "130           7.4          2.8           6.1          1.9  virginica\n",
              "131           7.9          3.8           6.4          2.0  virginica\n",
              "132           6.4          2.8           5.6          2.2  virginica\n",
              "133           6.3          2.8           5.1          1.5  virginica\n",
              "134           6.1          2.6           5.6          1.4  virginica\n",
              "135           7.7          3.0           6.1          2.3  virginica\n",
              "136           6.3          3.4           5.6          2.4  virginica\n",
              "137           6.4          3.1           5.5          1.8  virginica\n",
              "138           6.0          3.0           4.8          1.8  virginica\n",
              "139           6.9          3.1           5.4          2.1  virginica\n",
              "140           6.7          3.1           5.6          2.4  virginica\n",
              "141           6.9          3.1           5.1          2.3  virginica\n",
              "142           5.8          2.7           5.1          1.9  virginica\n",
              "143           6.8          3.2           5.9          2.3  virginica\n",
              "144           6.7          3.3           5.7          2.5  virginica\n",
              "145           6.7          3.0           5.2          2.3  virginica\n",
              "146           6.3          2.5           5.0          1.9  virginica\n",
              "147           6.5          3.0           5.2          2.0  virginica\n",
              "148           6.2          3.4           5.4          2.3  virginica\n",
              "149           5.9          3.0           5.1          1.8  virginica"
            ],
            "text/html": [
              "\n",
              "  <div id=\"df-25ebbc58-a642-4339-8a2d-41d1977f04d7\">\n",
              "    <div class=\"colab-df-container\">\n",
              "      <div>\n",
              "<style scoped>\n",
              "    .dataframe tbody tr th:only-of-type {\n",
              "        vertical-align: middle;\n",
              "    }\n",
              "\n",
              "    .dataframe tbody tr th {\n",
              "        vertical-align: top;\n",
              "    }\n",
              "\n",
              "    .dataframe thead th {\n",
              "        text-align: right;\n",
              "    }\n",
              "</style>\n",
              "<table border=\"1\" class=\"dataframe\">\n",
              "  <thead>\n",
              "    <tr style=\"text-align: right;\">\n",
              "      <th></th>\n",
              "      <th>sepal_length</th>\n",
              "      <th>sepal_width</th>\n",
              "      <th>petal_length</th>\n",
              "      <th>petal_width</th>\n",
              "      <th>species</th>\n",
              "    </tr>\n",
              "  </thead>\n",
              "  <tbody>\n",
              "    <tr>\n",
              "      <th>100</th>\n",
              "      <td>6.3</td>\n",
              "      <td>3.3</td>\n",
              "      <td>6.0</td>\n",
              "      <td>2.5</td>\n",
              "      <td>virginica</td>\n",
              "    </tr>\n",
              "    <tr>\n",
              "      <th>101</th>\n",
              "      <td>5.8</td>\n",
              "      <td>2.7</td>\n",
              "      <td>5.1</td>\n",
              "      <td>1.9</td>\n",
              "      <td>virginica</td>\n",
              "    </tr>\n",
              "    <tr>\n",
              "      <th>102</th>\n",
              "      <td>7.1</td>\n",
              "      <td>3.0</td>\n",
              "      <td>5.9</td>\n",
              "      <td>2.1</td>\n",
              "      <td>virginica</td>\n",
              "    </tr>\n",
              "    <tr>\n",
              "      <th>103</th>\n",
              "      <td>6.3</td>\n",
              "      <td>2.9</td>\n",
              "      <td>5.6</td>\n",
              "      <td>1.8</td>\n",
              "      <td>virginica</td>\n",
              "    </tr>\n",
              "    <tr>\n",
              "      <th>104</th>\n",
              "      <td>6.5</td>\n",
              "      <td>3.0</td>\n",
              "      <td>5.8</td>\n",
              "      <td>2.2</td>\n",
              "      <td>virginica</td>\n",
              "    </tr>\n",
              "    <tr>\n",
              "      <th>105</th>\n",
              "      <td>7.6</td>\n",
              "      <td>3.0</td>\n",
              "      <td>6.6</td>\n",
              "      <td>2.1</td>\n",
              "      <td>virginica</td>\n",
              "    </tr>\n",
              "    <tr>\n",
              "      <th>106</th>\n",
              "      <td>4.9</td>\n",
              "      <td>2.5</td>\n",
              "      <td>4.5</td>\n",
              "      <td>1.7</td>\n",
              "      <td>virginica</td>\n",
              "    </tr>\n",
              "    <tr>\n",
              "      <th>107</th>\n",
              "      <td>7.3</td>\n",
              "      <td>2.9</td>\n",
              "      <td>6.3</td>\n",
              "      <td>1.8</td>\n",
              "      <td>virginica</td>\n",
              "    </tr>\n",
              "    <tr>\n",
              "      <th>108</th>\n",
              "      <td>6.7</td>\n",
              "      <td>2.5</td>\n",
              "      <td>5.8</td>\n",
              "      <td>1.8</td>\n",
              "      <td>virginica</td>\n",
              "    </tr>\n",
              "    <tr>\n",
              "      <th>109</th>\n",
              "      <td>7.2</td>\n",
              "      <td>3.6</td>\n",
              "      <td>6.1</td>\n",
              "      <td>2.5</td>\n",
              "      <td>virginica</td>\n",
              "    </tr>\n",
              "    <tr>\n",
              "      <th>110</th>\n",
              "      <td>6.5</td>\n",
              "      <td>3.2</td>\n",
              "      <td>5.1</td>\n",
              "      <td>2.0</td>\n",
              "      <td>virginica</td>\n",
              "    </tr>\n",
              "    <tr>\n",
              "      <th>111</th>\n",
              "      <td>6.4</td>\n",
              "      <td>2.7</td>\n",
              "      <td>5.3</td>\n",
              "      <td>1.9</td>\n",
              "      <td>virginica</td>\n",
              "    </tr>\n",
              "    <tr>\n",
              "      <th>112</th>\n",
              "      <td>6.8</td>\n",
              "      <td>3.0</td>\n",
              "      <td>5.5</td>\n",
              "      <td>2.1</td>\n",
              "      <td>virginica</td>\n",
              "    </tr>\n",
              "    <tr>\n",
              "      <th>113</th>\n",
              "      <td>5.7</td>\n",
              "      <td>2.5</td>\n",
              "      <td>5.0</td>\n",
              "      <td>2.0</td>\n",
              "      <td>virginica</td>\n",
              "    </tr>\n",
              "    <tr>\n",
              "      <th>114</th>\n",
              "      <td>5.8</td>\n",
              "      <td>2.8</td>\n",
              "      <td>5.1</td>\n",
              "      <td>2.4</td>\n",
              "      <td>virginica</td>\n",
              "    </tr>\n",
              "    <tr>\n",
              "      <th>115</th>\n",
              "      <td>6.4</td>\n",
              "      <td>3.2</td>\n",
              "      <td>5.3</td>\n",
              "      <td>2.3</td>\n",
              "      <td>virginica</td>\n",
              "    </tr>\n",
              "    <tr>\n",
              "      <th>116</th>\n",
              "      <td>6.5</td>\n",
              "      <td>3.0</td>\n",
              "      <td>5.5</td>\n",
              "      <td>1.8</td>\n",
              "      <td>virginica</td>\n",
              "    </tr>\n",
              "    <tr>\n",
              "      <th>117</th>\n",
              "      <td>7.7</td>\n",
              "      <td>3.8</td>\n",
              "      <td>6.7</td>\n",
              "      <td>2.2</td>\n",
              "      <td>virginica</td>\n",
              "    </tr>\n",
              "    <tr>\n",
              "      <th>118</th>\n",
              "      <td>7.7</td>\n",
              "      <td>2.6</td>\n",
              "      <td>6.9</td>\n",
              "      <td>2.3</td>\n",
              "      <td>virginica</td>\n",
              "    </tr>\n",
              "    <tr>\n",
              "      <th>119</th>\n",
              "      <td>6.0</td>\n",
              "      <td>2.2</td>\n",
              "      <td>5.0</td>\n",
              "      <td>1.5</td>\n",
              "      <td>virginica</td>\n",
              "    </tr>\n",
              "    <tr>\n",
              "      <th>120</th>\n",
              "      <td>6.9</td>\n",
              "      <td>3.2</td>\n",
              "      <td>5.7</td>\n",
              "      <td>2.3</td>\n",
              "      <td>virginica</td>\n",
              "    </tr>\n",
              "    <tr>\n",
              "      <th>121</th>\n",
              "      <td>5.6</td>\n",
              "      <td>2.8</td>\n",
              "      <td>4.9</td>\n",
              "      <td>2.0</td>\n",
              "      <td>virginica</td>\n",
              "    </tr>\n",
              "    <tr>\n",
              "      <th>122</th>\n",
              "      <td>7.7</td>\n",
              "      <td>2.8</td>\n",
              "      <td>6.7</td>\n",
              "      <td>2.0</td>\n",
              "      <td>virginica</td>\n",
              "    </tr>\n",
              "    <tr>\n",
              "      <th>123</th>\n",
              "      <td>6.3</td>\n",
              "      <td>2.7</td>\n",
              "      <td>4.9</td>\n",
              "      <td>1.8</td>\n",
              "      <td>virginica</td>\n",
              "    </tr>\n",
              "    <tr>\n",
              "      <th>124</th>\n",
              "      <td>6.7</td>\n",
              "      <td>3.3</td>\n",
              "      <td>5.7</td>\n",
              "      <td>2.1</td>\n",
              "      <td>virginica</td>\n",
              "    </tr>\n",
              "    <tr>\n",
              "      <th>125</th>\n",
              "      <td>7.2</td>\n",
              "      <td>3.2</td>\n",
              "      <td>6.0</td>\n",
              "      <td>1.8</td>\n",
              "      <td>virginica</td>\n",
              "    </tr>\n",
              "    <tr>\n",
              "      <th>126</th>\n",
              "      <td>6.2</td>\n",
              "      <td>2.8</td>\n",
              "      <td>4.8</td>\n",
              "      <td>1.8</td>\n",
              "      <td>virginica</td>\n",
              "    </tr>\n",
              "    <tr>\n",
              "      <th>127</th>\n",
              "      <td>6.1</td>\n",
              "      <td>3.0</td>\n",
              "      <td>4.9</td>\n",
              "      <td>1.8</td>\n",
              "      <td>virginica</td>\n",
              "    </tr>\n",
              "    <tr>\n",
              "      <th>128</th>\n",
              "      <td>6.4</td>\n",
              "      <td>2.8</td>\n",
              "      <td>5.6</td>\n",
              "      <td>2.1</td>\n",
              "      <td>virginica</td>\n",
              "    </tr>\n",
              "    <tr>\n",
              "      <th>129</th>\n",
              "      <td>7.2</td>\n",
              "      <td>3.0</td>\n",
              "      <td>5.8</td>\n",
              "      <td>1.6</td>\n",
              "      <td>virginica</td>\n",
              "    </tr>\n",
              "    <tr>\n",
              "      <th>130</th>\n",
              "      <td>7.4</td>\n",
              "      <td>2.8</td>\n",
              "      <td>6.1</td>\n",
              "      <td>1.9</td>\n",
              "      <td>virginica</td>\n",
              "    </tr>\n",
              "    <tr>\n",
              "      <th>131</th>\n",
              "      <td>7.9</td>\n",
              "      <td>3.8</td>\n",
              "      <td>6.4</td>\n",
              "      <td>2.0</td>\n",
              "      <td>virginica</td>\n",
              "    </tr>\n",
              "    <tr>\n",
              "      <th>132</th>\n",
              "      <td>6.4</td>\n",
              "      <td>2.8</td>\n",
              "      <td>5.6</td>\n",
              "      <td>2.2</td>\n",
              "      <td>virginica</td>\n",
              "    </tr>\n",
              "    <tr>\n",
              "      <th>133</th>\n",
              "      <td>6.3</td>\n",
              "      <td>2.8</td>\n",
              "      <td>5.1</td>\n",
              "      <td>1.5</td>\n",
              "      <td>virginica</td>\n",
              "    </tr>\n",
              "    <tr>\n",
              "      <th>134</th>\n",
              "      <td>6.1</td>\n",
              "      <td>2.6</td>\n",
              "      <td>5.6</td>\n",
              "      <td>1.4</td>\n",
              "      <td>virginica</td>\n",
              "    </tr>\n",
              "    <tr>\n",
              "      <th>135</th>\n",
              "      <td>7.7</td>\n",
              "      <td>3.0</td>\n",
              "      <td>6.1</td>\n",
              "      <td>2.3</td>\n",
              "      <td>virginica</td>\n",
              "    </tr>\n",
              "    <tr>\n",
              "      <th>136</th>\n",
              "      <td>6.3</td>\n",
              "      <td>3.4</td>\n",
              "      <td>5.6</td>\n",
              "      <td>2.4</td>\n",
              "      <td>virginica</td>\n",
              "    </tr>\n",
              "    <tr>\n",
              "      <th>137</th>\n",
              "      <td>6.4</td>\n",
              "      <td>3.1</td>\n",
              "      <td>5.5</td>\n",
              "      <td>1.8</td>\n",
              "      <td>virginica</td>\n",
              "    </tr>\n",
              "    <tr>\n",
              "      <th>138</th>\n",
              "      <td>6.0</td>\n",
              "      <td>3.0</td>\n",
              "      <td>4.8</td>\n",
              "      <td>1.8</td>\n",
              "      <td>virginica</td>\n",
              "    </tr>\n",
              "    <tr>\n",
              "      <th>139</th>\n",
              "      <td>6.9</td>\n",
              "      <td>3.1</td>\n",
              "      <td>5.4</td>\n",
              "      <td>2.1</td>\n",
              "      <td>virginica</td>\n",
              "    </tr>\n",
              "    <tr>\n",
              "      <th>140</th>\n",
              "      <td>6.7</td>\n",
              "      <td>3.1</td>\n",
              "      <td>5.6</td>\n",
              "      <td>2.4</td>\n",
              "      <td>virginica</td>\n",
              "    </tr>\n",
              "    <tr>\n",
              "      <th>141</th>\n",
              "      <td>6.9</td>\n",
              "      <td>3.1</td>\n",
              "      <td>5.1</td>\n",
              "      <td>2.3</td>\n",
              "      <td>virginica</td>\n",
              "    </tr>\n",
              "    <tr>\n",
              "      <th>142</th>\n",
              "      <td>5.8</td>\n",
              "      <td>2.7</td>\n",
              "      <td>5.1</td>\n",
              "      <td>1.9</td>\n",
              "      <td>virginica</td>\n",
              "    </tr>\n",
              "    <tr>\n",
              "      <th>143</th>\n",
              "      <td>6.8</td>\n",
              "      <td>3.2</td>\n",
              "      <td>5.9</td>\n",
              "      <td>2.3</td>\n",
              "      <td>virginica</td>\n",
              "    </tr>\n",
              "    <tr>\n",
              "      <th>144</th>\n",
              "      <td>6.7</td>\n",
              "      <td>3.3</td>\n",
              "      <td>5.7</td>\n",
              "      <td>2.5</td>\n",
              "      <td>virginica</td>\n",
              "    </tr>\n",
              "    <tr>\n",
              "      <th>145</th>\n",
              "      <td>6.7</td>\n",
              "      <td>3.0</td>\n",
              "      <td>5.2</td>\n",
              "      <td>2.3</td>\n",
              "      <td>virginica</td>\n",
              "    </tr>\n",
              "    <tr>\n",
              "      <th>146</th>\n",
              "      <td>6.3</td>\n",
              "      <td>2.5</td>\n",
              "      <td>5.0</td>\n",
              "      <td>1.9</td>\n",
              "      <td>virginica</td>\n",
              "    </tr>\n",
              "    <tr>\n",
              "      <th>147</th>\n",
              "      <td>6.5</td>\n",
              "      <td>3.0</td>\n",
              "      <td>5.2</td>\n",
              "      <td>2.0</td>\n",
              "      <td>virginica</td>\n",
              "    </tr>\n",
              "    <tr>\n",
              "      <th>148</th>\n",
              "      <td>6.2</td>\n",
              "      <td>3.4</td>\n",
              "      <td>5.4</td>\n",
              "      <td>2.3</td>\n",
              "      <td>virginica</td>\n",
              "    </tr>\n",
              "    <tr>\n",
              "      <th>149</th>\n",
              "      <td>5.9</td>\n",
              "      <td>3.0</td>\n",
              "      <td>5.1</td>\n",
              "      <td>1.8</td>\n",
              "      <td>virginica</td>\n",
              "    </tr>\n",
              "  </tbody>\n",
              "</table>\n",
              "</div>\n",
              "      <button class=\"colab-df-convert\" onclick=\"convertToInteractive('df-25ebbc58-a642-4339-8a2d-41d1977f04d7')\"\n",
              "              title=\"Convert this dataframe to an interactive table.\"\n",
              "              style=\"display:none;\">\n",
              "        \n",
              "  <svg xmlns=\"http://www.w3.org/2000/svg\" height=\"24px\"viewBox=\"0 0 24 24\"\n",
              "       width=\"24px\">\n",
              "    <path d=\"M0 0h24v24H0V0z\" fill=\"none\"/>\n",
              "    <path d=\"M18.56 5.44l.94 2.06.94-2.06 2.06-.94-2.06-.94-.94-2.06-.94 2.06-2.06.94zm-11 1L8.5 8.5l.94-2.06 2.06-.94-2.06-.94L8.5 2.5l-.94 2.06-2.06.94zm10 10l.94 2.06.94-2.06 2.06-.94-2.06-.94-.94-2.06-.94 2.06-2.06.94z\"/><path d=\"M17.41 7.96l-1.37-1.37c-.4-.4-.92-.59-1.43-.59-.52 0-1.04.2-1.43.59L10.3 9.45l-7.72 7.72c-.78.78-.78 2.05 0 2.83L4 21.41c.39.39.9.59 1.41.59.51 0 1.02-.2 1.41-.59l7.78-7.78 2.81-2.81c.8-.78.8-2.07 0-2.86zM5.41 20L4 18.59l7.72-7.72 1.47 1.35L5.41 20z\"/>\n",
              "  </svg>\n",
              "      </button>\n",
              "      \n",
              "  <style>\n",
              "    .colab-df-container {\n",
              "      display:flex;\n",
              "      flex-wrap:wrap;\n",
              "      gap: 12px;\n",
              "    }\n",
              "\n",
              "    .colab-df-convert {\n",
              "      background-color: #E8F0FE;\n",
              "      border: none;\n",
              "      border-radius: 50%;\n",
              "      cursor: pointer;\n",
              "      display: none;\n",
              "      fill: #1967D2;\n",
              "      height: 32px;\n",
              "      padding: 0 0 0 0;\n",
              "      width: 32px;\n",
              "    }\n",
              "\n",
              "    .colab-df-convert:hover {\n",
              "      background-color: #E2EBFA;\n",
              "      box-shadow: 0px 1px 2px rgba(60, 64, 67, 0.3), 0px 1px 3px 1px rgba(60, 64, 67, 0.15);\n",
              "      fill: #174EA6;\n",
              "    }\n",
              "\n",
              "    [theme=dark] .colab-df-convert {\n",
              "      background-color: #3B4455;\n",
              "      fill: #D2E3FC;\n",
              "    }\n",
              "\n",
              "    [theme=dark] .colab-df-convert:hover {\n",
              "      background-color: #434B5C;\n",
              "      box-shadow: 0px 1px 3px 1px rgba(0, 0, 0, 0.15);\n",
              "      filter: drop-shadow(0px 1px 2px rgba(0, 0, 0, 0.3));\n",
              "      fill: #FFFFFF;\n",
              "    }\n",
              "  </style>\n",
              "\n",
              "      <script>\n",
              "        const buttonEl =\n",
              "          document.querySelector('#df-25ebbc58-a642-4339-8a2d-41d1977f04d7 button.colab-df-convert');\n",
              "        buttonEl.style.display =\n",
              "          google.colab.kernel.accessAllowed ? 'block' : 'none';\n",
              "\n",
              "        async function convertToInteractive(key) {\n",
              "          const element = document.querySelector('#df-25ebbc58-a642-4339-8a2d-41d1977f04d7');\n",
              "          const dataTable =\n",
              "            await google.colab.kernel.invokeFunction('convertToInteractive',\n",
              "                                                     [key], {});\n",
              "          if (!dataTable) return;\n",
              "\n",
              "          const docLinkHtml = 'Like what you see? Visit the ' +\n",
              "            '<a target=\"_blank\" href=https://colab.research.google.com/notebooks/data_table.ipynb>data table notebook</a>'\n",
              "            + ' to learn more about interactive tables.';\n",
              "          element.innerHTML = '';\n",
              "          dataTable['output_type'] = 'display_data';\n",
              "          await google.colab.output.renderOutput(dataTable, element);\n",
              "          const docLink = document.createElement('div');\n",
              "          docLink.innerHTML = docLinkHtml;\n",
              "          element.appendChild(docLink);\n",
              "        }\n",
              "      </script>\n",
              "    </div>\n",
              "  </div>\n",
              "  "
            ]
          },
          "metadata": {},
          "execution_count": 50
        }
      ]
    },
    {
      "cell_type": "code",
      "metadata": {
        "id": "7Y29qZf7wJkL",
        "colab": {
          "base_uri": "https://localhost:8080/"
        },
        "outputId": "0894efb1-02c3-46c3-ac10-29ec1b3a01e2"
      },
      "source": [
        "%%R\n",
        "# R, df[ <linhas> , <colunas> ]\n",
        "iris[ iris$Species == 'virginica' , ]"
      ],
      "execution_count": 52,
      "outputs": [
        {
          "output_type": "stream",
          "name": "stdout",
          "text": [
            "    Sepal.Length Sepal.Width Petal.Length Petal.Width   Species\n",
            "101          6.3         3.3          6.0         2.5 virginica\n",
            "102          5.8         2.7          5.1         1.9 virginica\n",
            "103          7.1         3.0          5.9         2.1 virginica\n",
            "104          6.3         2.9          5.6         1.8 virginica\n",
            "105          6.5         3.0          5.8         2.2 virginica\n",
            "106          7.6         3.0          6.6         2.1 virginica\n",
            "107          4.9         2.5          4.5         1.7 virginica\n",
            "108          7.3         2.9          6.3         1.8 virginica\n",
            "109          6.7         2.5          5.8         1.8 virginica\n",
            "110          7.2         3.6          6.1         2.5 virginica\n",
            "111          6.5         3.2          5.1         2.0 virginica\n",
            "112          6.4         2.7          5.3         1.9 virginica\n",
            "113          6.8         3.0          5.5         2.1 virginica\n",
            "114          5.7         2.5          5.0         2.0 virginica\n",
            "115          5.8         2.8          5.1         2.4 virginica\n",
            "116          6.4         3.2          5.3         2.3 virginica\n",
            "117          6.5         3.0          5.5         1.8 virginica\n",
            "118          7.7         3.8          6.7         2.2 virginica\n",
            "119          7.7         2.6          6.9         2.3 virginica\n",
            "120          6.0         2.2          5.0         1.5 virginica\n",
            "121          6.9         3.2          5.7         2.3 virginica\n",
            "122          5.6         2.8          4.9         2.0 virginica\n",
            "123          7.7         2.8          6.7         2.0 virginica\n",
            "124          6.3         2.7          4.9         1.8 virginica\n",
            "125          6.7         3.3          5.7         2.1 virginica\n",
            "126          7.2         3.2          6.0         1.8 virginica\n",
            "127          6.2         2.8          4.8         1.8 virginica\n",
            "128          6.1         3.0          4.9         1.8 virginica\n",
            "129          6.4         2.8          5.6         2.1 virginica\n",
            "130          7.2         3.0          5.8         1.6 virginica\n",
            "131          7.4         2.8          6.1         1.9 virginica\n",
            "132          7.9         3.8          6.4         2.0 virginica\n",
            "133          6.4         2.8          5.6         2.2 virginica\n",
            "134          6.3         2.8          5.1         1.5 virginica\n",
            "135          6.1         2.6          5.6         1.4 virginica\n",
            "136          7.7         3.0          6.1         2.3 virginica\n",
            "137          6.3         3.4          5.6         2.4 virginica\n",
            "138          6.4         3.1          5.5         1.8 virginica\n",
            "139          6.0         3.0          4.8         1.8 virginica\n",
            "140          6.9         3.1          5.4         2.1 virginica\n",
            "141          6.7         3.1          5.6         2.4 virginica\n",
            "142          6.9         3.1          5.1         2.3 virginica\n",
            "143          5.8         2.7          5.1         1.9 virginica\n",
            "144          6.8         3.2          5.9         2.3 virginica\n",
            "145          6.7         3.3          5.7         2.5 virginica\n",
            "146          6.7         3.0          5.2         2.3 virginica\n",
            "147          6.3         2.5          5.0         1.9 virginica\n",
            "148          6.5         3.0          5.2         2.0 virginica\n",
            "149          6.2         3.4          5.4         2.3 virginica\n",
            "150          5.9         3.0          5.1         1.8 virginica\n"
          ]
        }
      ]
    },
    {
      "cell_type": "markdown",
      "source": [
        "## Empregue Seleções como um DataFrame"
      ],
      "metadata": {
        "id": "DWAoPL1M2c9x"
      }
    },
    {
      "cell_type": "code",
      "metadata": {
        "colab": {
          "base_uri": "https://localhost:8080/"
        },
        "id": "LDsHrHNr4xH_",
        "outputId": "cd1a7a62-5bc7-408a-afcd-4abca4d0d93f"
      },
      "source": [
        "len( iris[ iris.petal_length > iris.petal_length.mean() ] ) / len( iris )"
      ],
      "execution_count": 53,
      "outputs": [
        {
          "output_type": "execute_result",
          "data": {
            "text/plain": [
              "0.62"
            ]
          },
          "metadata": {},
          "execution_count": 53
        }
      ]
    },
    {
      "cell_type": "code",
      "metadata": {
        "colab": {
          "base_uri": "https://localhost:8080/"
        },
        "outputId": "d7c284a9-a3c6-423c-b488-9a03b8d13b55",
        "id": "gSqYBnLF2rTI"
      },
      "source": [
        "my_iris = iris[ iris.petal_length > iris.petal_length.mean() ]\n",
        "len( my_iris ) / len( iris )"
      ],
      "execution_count": 55,
      "outputs": [
        {
          "output_type": "execute_result",
          "data": {
            "text/plain": [
              "0.62"
            ]
          },
          "metadata": {},
          "execution_count": 55
        }
      ]
    },
    {
      "cell_type": "code",
      "metadata": {
        "colab": {
          "base_uri": "https://localhost:8080/"
        },
        "id": "d0zC3c7VxYkP",
        "outputId": "71ccfb7c-f4ae-4a92-e17c-9f2a5590c97b"
      },
      "source": [
        "%%R\n",
        "nrow( iris[ iris$Petal.Length  >  mean(iris$Petal.Length) , ] )  /  nrow( iris )"
      ],
      "execution_count": 54,
      "outputs": [
        {
          "output_type": "stream",
          "name": "stdout",
          "text": [
            "[1] 0.62\n"
          ]
        }
      ]
    },
    {
      "cell_type": "code",
      "metadata": {
        "colab": {
          "base_uri": "https://localhost:8080/"
        },
        "outputId": "78ded75b-9ec0-4eee-921d-6fd2676a7ebf",
        "id": "Bra_mfB62rTJ"
      },
      "source": [
        "%%R\n",
        "my_iris = iris[ iris$Petal.Length  >  mean(iris$Petal.Length) , ] \n",
        "nrow( my_iris )  /  nrow( iris )"
      ],
      "execution_count": 57,
      "outputs": [
        {
          "output_type": "stream",
          "name": "stdout",
          "text": [
            "[1] 0.62\n"
          ]
        }
      ]
    },
    {
      "cell_type": "markdown",
      "metadata": {
        "id": "R-rFIgDXxj3H"
      },
      "source": [
        "## Seleção de Linhas e Colunas"
      ]
    },
    {
      "cell_type": "code",
      "metadata": {
        "colab": {
          "base_uri": "https://localhost:8080/",
          "height": 424
        },
        "id": "2X2jLHys5IbA",
        "outputId": "85e57072-14cb-49d0-dd9b-1dc574866396"
      },
      "source": [
        "iris[ iris.petal_length > iris.petal_length.mean() ][['sepal_length']]"
      ],
      "execution_count": null,
      "outputs": [
        {
          "output_type": "execute_result",
          "data": {
            "text/html": [
              "<div>\n",
              "<style scoped>\n",
              "    .dataframe tbody tr th:only-of-type {\n",
              "        vertical-align: middle;\n",
              "    }\n",
              "\n",
              "    .dataframe tbody tr th {\n",
              "        vertical-align: top;\n",
              "    }\n",
              "\n",
              "    .dataframe thead th {\n",
              "        text-align: right;\n",
              "    }\n",
              "</style>\n",
              "<table border=\"1\" class=\"dataframe\">\n",
              "  <thead>\n",
              "    <tr style=\"text-align: right;\">\n",
              "      <th></th>\n",
              "      <th>sepal_length</th>\n",
              "    </tr>\n",
              "  </thead>\n",
              "  <tbody>\n",
              "    <tr>\n",
              "      <th>50</th>\n",
              "      <td>7.0</td>\n",
              "    </tr>\n",
              "    <tr>\n",
              "      <th>51</th>\n",
              "      <td>6.4</td>\n",
              "    </tr>\n",
              "    <tr>\n",
              "      <th>52</th>\n",
              "      <td>6.9</td>\n",
              "    </tr>\n",
              "    <tr>\n",
              "      <th>53</th>\n",
              "      <td>5.5</td>\n",
              "    </tr>\n",
              "    <tr>\n",
              "      <th>54</th>\n",
              "      <td>6.5</td>\n",
              "    </tr>\n",
              "    <tr>\n",
              "      <th>...</th>\n",
              "      <td>...</td>\n",
              "    </tr>\n",
              "    <tr>\n",
              "      <th>145</th>\n",
              "      <td>6.7</td>\n",
              "    </tr>\n",
              "    <tr>\n",
              "      <th>146</th>\n",
              "      <td>6.3</td>\n",
              "    </tr>\n",
              "    <tr>\n",
              "      <th>147</th>\n",
              "      <td>6.5</td>\n",
              "    </tr>\n",
              "    <tr>\n",
              "      <th>148</th>\n",
              "      <td>6.2</td>\n",
              "    </tr>\n",
              "    <tr>\n",
              "      <th>149</th>\n",
              "      <td>5.9</td>\n",
              "    </tr>\n",
              "  </tbody>\n",
              "</table>\n",
              "<p>93 rows × 1 columns</p>\n",
              "</div>"
            ],
            "text/plain": [
              "     sepal_length\n",
              "50            7.0\n",
              "51            6.4\n",
              "52            6.9\n",
              "53            5.5\n",
              "54            6.5\n",
              "..            ...\n",
              "145           6.7\n",
              "146           6.3\n",
              "147           6.5\n",
              "148           6.2\n",
              "149           5.9\n",
              "\n",
              "[93 rows x 1 columns]"
            ]
          },
          "metadata": {},
          "execution_count": 84
        }
      ]
    },
    {
      "cell_type": "code",
      "metadata": {
        "colab": {
          "base_uri": "https://localhost:8080/"
        },
        "id": "BEXhsZPRxoeq",
        "outputId": "88a3c83e-6a16-4644-cc3f-3ea7f0491420"
      },
      "source": [
        "%%R\n",
        "iris[ iris$Petal.Length  >  mean(iris$Petal.Length) , c('Sepal.Length') ]"
      ],
      "execution_count": null,
      "outputs": [
        {
          "output_type": "stream",
          "name": "stdout",
          "text": [
            " [1] 7.0 6.4 6.9 5.5 6.5 5.7 6.3 6.6 5.2 5.9 6.0 6.1 6.7 5.6 5.8 6.2 5.6 5.9 6.1\n",
            "[20] 6.3 6.1 6.4 6.6 6.8 6.7 6.0 5.5 5.8 6.0 5.4 6.0 6.7 6.3 5.6 5.5 5.5 6.1 5.8\n",
            "[39] 5.6 5.7 5.7 6.2 5.7 6.3 5.8 7.1 6.3 6.5 7.6 4.9 7.3 6.7 7.2 6.5 6.4 6.8 5.7\n",
            "[58] 5.8 6.4 6.5 7.7 7.7 6.0 6.9 5.6 7.7 6.3 6.7 7.2 6.2 6.1 6.4 7.2 7.4 7.9 6.4\n",
            "[77] 6.3 6.1 7.7 6.3 6.4 6.0 6.9 6.7 6.9 5.8 6.8 6.7 6.7 6.3 6.5 6.2 5.9\n"
          ]
        }
      ]
    },
    {
      "cell_type": "markdown",
      "source": [
        "### Lembre-se, Listas em Python e R...\n",
        "\n",
        "> **R**, `c('Sepal.Length','Species') `\n",
        "\n",
        "> **Python**, `['Sepal.Length','Species')]`"
      ],
      "metadata": {
        "id": "0BQ2Jg583RLj"
      }
    },
    {
      "cell_type": "code",
      "metadata": {
        "colab": {
          "base_uri": "https://localhost:8080/",
          "height": 424
        },
        "id": "kCw1y7n-5hCc",
        "outputId": "0441201e-c9e1-4dba-aa09-71d97b170f1e"
      },
      "source": [
        "iris[ iris.petal_length > iris.petal_length.mean() ][['sepal_length', 'species']]"
      ],
      "execution_count": null,
      "outputs": [
        {
          "output_type": "execute_result",
          "data": {
            "text/html": [
              "<div>\n",
              "<style scoped>\n",
              "    .dataframe tbody tr th:only-of-type {\n",
              "        vertical-align: middle;\n",
              "    }\n",
              "\n",
              "    .dataframe tbody tr th {\n",
              "        vertical-align: top;\n",
              "    }\n",
              "\n",
              "    .dataframe thead th {\n",
              "        text-align: right;\n",
              "    }\n",
              "</style>\n",
              "<table border=\"1\" class=\"dataframe\">\n",
              "  <thead>\n",
              "    <tr style=\"text-align: right;\">\n",
              "      <th></th>\n",
              "      <th>sepal_length</th>\n",
              "      <th>species</th>\n",
              "    </tr>\n",
              "  </thead>\n",
              "  <tbody>\n",
              "    <tr>\n",
              "      <th>50</th>\n",
              "      <td>7.0</td>\n",
              "      <td>versicolor</td>\n",
              "    </tr>\n",
              "    <tr>\n",
              "      <th>51</th>\n",
              "      <td>6.4</td>\n",
              "      <td>versicolor</td>\n",
              "    </tr>\n",
              "    <tr>\n",
              "      <th>52</th>\n",
              "      <td>6.9</td>\n",
              "      <td>versicolor</td>\n",
              "    </tr>\n",
              "    <tr>\n",
              "      <th>53</th>\n",
              "      <td>5.5</td>\n",
              "      <td>versicolor</td>\n",
              "    </tr>\n",
              "    <tr>\n",
              "      <th>54</th>\n",
              "      <td>6.5</td>\n",
              "      <td>versicolor</td>\n",
              "    </tr>\n",
              "    <tr>\n",
              "      <th>...</th>\n",
              "      <td>...</td>\n",
              "      <td>...</td>\n",
              "    </tr>\n",
              "    <tr>\n",
              "      <th>145</th>\n",
              "      <td>6.7</td>\n",
              "      <td>virginica</td>\n",
              "    </tr>\n",
              "    <tr>\n",
              "      <th>146</th>\n",
              "      <td>6.3</td>\n",
              "      <td>virginica</td>\n",
              "    </tr>\n",
              "    <tr>\n",
              "      <th>147</th>\n",
              "      <td>6.5</td>\n",
              "      <td>virginica</td>\n",
              "    </tr>\n",
              "    <tr>\n",
              "      <th>148</th>\n",
              "      <td>6.2</td>\n",
              "      <td>virginica</td>\n",
              "    </tr>\n",
              "    <tr>\n",
              "      <th>149</th>\n",
              "      <td>5.9</td>\n",
              "      <td>virginica</td>\n",
              "    </tr>\n",
              "  </tbody>\n",
              "</table>\n",
              "<p>93 rows × 2 columns</p>\n",
              "</div>"
            ],
            "text/plain": [
              "     sepal_length     species\n",
              "50            7.0  versicolor\n",
              "51            6.4  versicolor\n",
              "52            6.9  versicolor\n",
              "53            5.5  versicolor\n",
              "54            6.5  versicolor\n",
              "..            ...         ...\n",
              "145           6.7   virginica\n",
              "146           6.3   virginica\n",
              "147           6.5   virginica\n",
              "148           6.2   virginica\n",
              "149           5.9   virginica\n",
              "\n",
              "[93 rows x 2 columns]"
            ]
          },
          "metadata": {},
          "execution_count": 86
        }
      ]
    },
    {
      "cell_type": "code",
      "metadata": {
        "id": "Wd5SlyYdxzla",
        "colab": {
          "base_uri": "https://localhost:8080/"
        },
        "outputId": "66a56888-31c0-44a0-db4e-ef91d53621b3"
      },
      "source": [
        "%%R\n",
        "iris[ iris$Petal.Length  >  mean(iris$Petal.Length) , c('Sepal.Length','Species') ]"
      ],
      "execution_count": 58,
      "outputs": [
        {
          "output_type": "stream",
          "name": "stdout",
          "text": [
            "    Sepal.Length    Species\n",
            "51           7.0 versicolor\n",
            "52           6.4 versicolor\n",
            "53           6.9 versicolor\n",
            "54           5.5 versicolor\n",
            "55           6.5 versicolor\n",
            "56           5.7 versicolor\n",
            "57           6.3 versicolor\n",
            "59           6.6 versicolor\n",
            "60           5.2 versicolor\n",
            "62           5.9 versicolor\n",
            "63           6.0 versicolor\n",
            "64           6.1 versicolor\n",
            "66           6.7 versicolor\n",
            "67           5.6 versicolor\n",
            "68           5.8 versicolor\n",
            "69           6.2 versicolor\n",
            "70           5.6 versicolor\n",
            "71           5.9 versicolor\n",
            "72           6.1 versicolor\n",
            "73           6.3 versicolor\n",
            "74           6.1 versicolor\n",
            "75           6.4 versicolor\n",
            "76           6.6 versicolor\n",
            "77           6.8 versicolor\n",
            "78           6.7 versicolor\n",
            "79           6.0 versicolor\n",
            "81           5.5 versicolor\n",
            "83           5.8 versicolor\n",
            "84           6.0 versicolor\n",
            "85           5.4 versicolor\n",
            "86           6.0 versicolor\n",
            "87           6.7 versicolor\n",
            "88           6.3 versicolor\n",
            "89           5.6 versicolor\n",
            "90           5.5 versicolor\n",
            "91           5.5 versicolor\n",
            "92           6.1 versicolor\n",
            "93           5.8 versicolor\n",
            "95           5.6 versicolor\n",
            "96           5.7 versicolor\n",
            "97           5.7 versicolor\n",
            "98           6.2 versicolor\n",
            "100          5.7 versicolor\n",
            "101          6.3  virginica\n",
            "102          5.8  virginica\n",
            "103          7.1  virginica\n",
            "104          6.3  virginica\n",
            "105          6.5  virginica\n",
            "106          7.6  virginica\n",
            "107          4.9  virginica\n",
            "108          7.3  virginica\n",
            "109          6.7  virginica\n",
            "110          7.2  virginica\n",
            "111          6.5  virginica\n",
            "112          6.4  virginica\n",
            "113          6.8  virginica\n",
            "114          5.7  virginica\n",
            "115          5.8  virginica\n",
            "116          6.4  virginica\n",
            "117          6.5  virginica\n",
            "118          7.7  virginica\n",
            "119          7.7  virginica\n",
            "120          6.0  virginica\n",
            "121          6.9  virginica\n",
            "122          5.6  virginica\n",
            "123          7.7  virginica\n",
            "124          6.3  virginica\n",
            "125          6.7  virginica\n",
            "126          7.2  virginica\n",
            "127          6.2  virginica\n",
            "128          6.1  virginica\n",
            "129          6.4  virginica\n",
            "130          7.2  virginica\n",
            "131          7.4  virginica\n",
            "132          7.9  virginica\n",
            "133          6.4  virginica\n",
            "134          6.3  virginica\n",
            "135          6.1  virginica\n",
            "136          7.7  virginica\n",
            "137          6.3  virginica\n",
            "138          6.4  virginica\n",
            "139          6.0  virginica\n",
            "140          6.9  virginica\n",
            "141          6.7  virginica\n",
            "142          6.9  virginica\n",
            "143          5.8  virginica\n",
            "144          6.8  virginica\n",
            "145          6.7  virginica\n",
            "146          6.7  virginica\n",
            "147          6.3  virginica\n",
            "148          6.5  virginica\n",
            "149          6.2  virginica\n",
            "150          5.9  virginica\n"
          ]
        }
      ]
    },
    {
      "cell_type": "code",
      "metadata": {
        "colab": {
          "base_uri": "https://localhost:8080/"
        },
        "id": "hYQvOveW52I-",
        "outputId": "63231671-8cc7-4353-dad7-caac4d3e86c7"
      },
      "source": [
        "iris[ iris.petal_length > iris.petal_length.mean() ][['sepal_length']].mean()\n",
        "# ou\n",
        "iris[ iris.petal_length > iris.petal_length.mean() ]['sepal_length'].mean()\n",
        "# ou\n",
        "iris[ iris.petal_length > iris.petal_length.mean() ].sepal_length.mean()"
      ],
      "execution_count": null,
      "outputs": [
        {
          "output_type": "execute_result",
          "data": {
            "text/plain": [
              "6.337634408602148"
            ]
          },
          "metadata": {},
          "execution_count": 90
        }
      ]
    },
    {
      "cell_type": "code",
      "metadata": {
        "colab": {
          "base_uri": "https://localhost:8080/"
        },
        "id": "POH-Qpxix7xE",
        "outputId": "5d7b516c-934a-4ed0-a4a1-fc30ee1d253c"
      },
      "source": [
        "%%R\n",
        "mean( iris[ iris$Petal.Length  >  mean(iris$Petal.Length) , c('Sepal.Length') ] )\n",
        "# ou\n",
        "mean( iris[ iris$Petal.Length  >  mean(iris$Petal.Length) , 'Sepal.Length' ] )\n",
        "# ou\n",
        "mean( iris[ iris$Petal.Length  >  mean(iris$Petal.Length) , ]$Sepal.Length )"
      ],
      "execution_count": 59,
      "outputs": [
        {
          "output_type": "stream",
          "name": "stdout",
          "text": [
            "[1] 6.337634\n"
          ]
        }
      ]
    },
    {
      "cell_type": "markdown",
      "metadata": {
        "id": "0h8yKE847AUR"
      },
      "source": [
        "# Gráficos\n"
      ]
    },
    {
      "cell_type": "code",
      "source": [
        "x = np.arange(0,10,1)\n",
        "y = x**2\n",
        "plt.plot(x,y)\n",
        "plt.show()"
      ],
      "metadata": {
        "colab": {
          "base_uri": "https://localhost:8080/",
          "height": 265
        },
        "id": "VIUbdU-I46ai",
        "outputId": "df6be82f-7df3-456a-f9dd-919e132eda38"
      },
      "execution_count": 69,
      "outputs": [
        {
          "output_type": "display_data",
          "data": {
            "text/plain": [
              "<Figure size 432x288 with 1 Axes>"
            ],
            "image/png": "[encoded data removed]"
          },
          "metadata": {
            "needs_background": "light"
          }
        }
      ]
    },
    {
      "cell_type": "code",
      "source": [
        "%%R\n",
        "x =seq(0,10,1)\n",
        "y = x**2\n",
        "plot(x,y,type='l')\n"
      ],
      "metadata": {
        "colab": {
          "base_uri": "https://localhost:8080/",
          "height": 497
        },
        "id": "2cAch0Js5Zxa",
        "outputId": "0f1257ba-d4ff-4f36-e446-374445928580"
      },
      "execution_count": 72,
      "outputs": [
        {
          "output_type": "display_data",
          "data": {
            "image/png": "[encoded data removed]"
          },
          "metadata": {}
        }
      ]
    },
    {
      "cell_type": "code",
      "source": [
        "df = pd.read_csv('http://meusite.mackenzie.br/rogerio/data_load/insurance.csv')\n",
        "df.head()"
      ],
      "metadata": {
        "colab": {
          "base_uri": "https://localhost:8080/",
          "height": 206
        },
        "outputId": "12221726-2b1b-41be-fc8b-249d739c8b02",
        "id": "8TugnNDu4pNw"
      },
      "execution_count": 60,
      "outputs": [
        {
          "output_type": "execute_result",
          "data": {
            "text/plain": [
              "   age     sex     bmi  children smoker     region      charges\n",
              "0   19  female  27.900         0    yes  southwest  16884.92400\n",
              "1   18    male  33.770         1     no  southeast   1725.55230\n",
              "2   28    male  33.000         3     no  southeast   4449.46200\n",
              "3   33    male  22.705         0     no  northwest  21984.47061\n",
              "4   32    male  28.880         0     no  northwest   3866.85520"
            ],
            "text/html": [
              "\n",
              "  <div id=\"df-ccf5b443-f9a4-49c4-b795-f0dadd4520cc\">\n",
              "    <div class=\"colab-df-container\">\n",
              "      <div>\n",
              "<style scoped>\n",
              "    .dataframe tbody tr th:only-of-type {\n",
              "        vertical-align: middle;\n",
              "    }\n",
              "\n",
              "    .dataframe tbody tr th {\n",
              "        vertical-align: top;\n",
              "    }\n",
              "\n",
              "    .dataframe thead th {\n",
              "        text-align: right;\n",
              "    }\n",
              "</style>\n",
              "<table border=\"1\" class=\"dataframe\">\n",
              "  <thead>\n",
              "    <tr style=\"text-align: right;\">\n",
              "      <th></th>\n",
              "      <th>age</th>\n",
              "      <th>sex</th>\n",
              "      <th>bmi</th>\n",
              "      <th>children</th>\n",
              "      <th>smoker</th>\n",
              "      <th>region</th>\n",
              "      <th>charges</th>\n",
              "    </tr>\n",
              "  </thead>\n",
              "  <tbody>\n",
              "    <tr>\n",
              "      <th>0</th>\n",
              "      <td>19</td>\n",
              "      <td>female</td>\n",
              "      <td>27.900</td>\n",
              "      <td>0</td>\n",
              "      <td>yes</td>\n",
              "      <td>southwest</td>\n",
              "      <td>16884.92400</td>\n",
              "    </tr>\n",
              "    <tr>\n",
              "      <th>1</th>\n",
              "      <td>18</td>\n",
              "      <td>male</td>\n",
              "      <td>33.770</td>\n",
              "      <td>1</td>\n",
              "      <td>no</td>\n",
              "      <td>southeast</td>\n",
              "      <td>1725.55230</td>\n",
              "    </tr>\n",
              "    <tr>\n",
              "      <th>2</th>\n",
              "      <td>28</td>\n",
              "      <td>male</td>\n",
              "      <td>33.000</td>\n",
              "      <td>3</td>\n",
              "      <td>no</td>\n",
              "      <td>southeast</td>\n",
              "      <td>4449.46200</td>\n",
              "    </tr>\n",
              "    <tr>\n",
              "      <th>3</th>\n",
              "      <td>33</td>\n",
              "      <td>male</td>\n",
              "      <td>22.705</td>\n",
              "      <td>0</td>\n",
              "      <td>no</td>\n",
              "      <td>northwest</td>\n",
              "      <td>21984.47061</td>\n",
              "    </tr>\n",
              "    <tr>\n",
              "      <th>4</th>\n",
              "      <td>32</td>\n",
              "      <td>male</td>\n",
              "      <td>28.880</td>\n",
              "      <td>0</td>\n",
              "      <td>no</td>\n",
              "      <td>northwest</td>\n",
              "      <td>3866.85520</td>\n",
              "    </tr>\n",
              "  </tbody>\n",
              "</table>\n",
              "</div>\n",
              "      <button class=\"colab-df-convert\" onclick=\"convertToInteractive('df-ccf5b443-f9a4-49c4-b795-f0dadd4520cc')\"\n",
              "              title=\"Convert this dataframe to an interactive table.\"\n",
              "              style=\"display:none;\">\n",
              "        \n",
              "  <svg xmlns=\"http://www.w3.org/2000/svg\" height=\"24px\"viewBox=\"0 0 24 24\"\n",
              "       width=\"24px\">\n",
              "    <path d=\"M0 0h24v24H0V0z\" fill=\"none\"/>\n",
              "    <path d=\"M18.56 5.44l.94 2.06.94-2.06 2.06-.94-2.06-.94-.94-2.06-.94 2.06-2.06.94zm-11 1L8.5 8.5l.94-2.06 2.06-.94-2.06-.94L8.5 2.5l-.94 2.06-2.06.94zm10 10l.94 2.06.94-2.06 2.06-.94-2.06-.94-.94-2.06-.94 2.06-2.06.94z\"/><path d=\"M17.41 7.96l-1.37-1.37c-.4-.4-.92-.59-1.43-.59-.52 0-1.04.2-1.43.59L10.3 9.45l-7.72 7.72c-.78.78-.78 2.05 0 2.83L4 21.41c.39.39.9.59 1.41.59.51 0 1.02-.2 1.41-.59l7.78-7.78 2.81-2.81c.8-.78.8-2.07 0-2.86zM5.41 20L4 18.59l7.72-7.72 1.47 1.35L5.41 20z\"/>\n",
              "  </svg>\n",
              "      </button>\n",
              "      \n",
              "  <style>\n",
              "    .colab-df-container {\n",
              "      display:flex;\n",
              "      flex-wrap:wrap;\n",
              "      gap: 12px;\n",
              "    }\n",
              "\n",
              "    .colab-df-convert {\n",
              "      background-color: #E8F0FE;\n",
              "      border: none;\n",
              "      border-radius: 50%;\n",
              "      cursor: pointer;\n",
              "      display: none;\n",
              "      fill: #1967D2;\n",
              "      height: 32px;\n",
              "      padding: 0 0 0 0;\n",
              "      width: 32px;\n",
              "    }\n",
              "\n",
              "    .colab-df-convert:hover {\n",
              "      background-color: #E2EBFA;\n",
              "      box-shadow: 0px 1px 2px rgba(60, 64, 67, 0.3), 0px 1px 3px 1px rgba(60, 64, 67, 0.15);\n",
              "      fill: #174EA6;\n",
              "    }\n",
              "\n",
              "    [theme=dark] .colab-df-convert {\n",
              "      background-color: #3B4455;\n",
              "      fill: #D2E3FC;\n",
              "    }\n",
              "\n",
              "    [theme=dark] .colab-df-convert:hover {\n",
              "      background-color: #434B5C;\n",
              "      box-shadow: 0px 1px 3px 1px rgba(0, 0, 0, 0.15);\n",
              "      filter: drop-shadow(0px 1px 2px rgba(0, 0, 0, 0.3));\n",
              "      fill: #FFFFFF;\n",
              "    }\n",
              "  </style>\n",
              "\n",
              "      <script>\n",
              "        const buttonEl =\n",
              "          document.querySelector('#df-ccf5b443-f9a4-49c4-b795-f0dadd4520cc button.colab-df-convert');\n",
              "        buttonEl.style.display =\n",
              "          google.colab.kernel.accessAllowed ? 'block' : 'none';\n",
              "\n",
              "        async function convertToInteractive(key) {\n",
              "          const element = document.querySelector('#df-ccf5b443-f9a4-49c4-b795-f0dadd4520cc');\n",
              "          const dataTable =\n",
              "            await google.colab.kernel.invokeFunction('convertToInteractive',\n",
              "                                                     [key], {});\n",
              "          if (!dataTable) return;\n",
              "\n",
              "          const docLinkHtml = 'Like what you see? Visit the ' +\n",
              "            '<a target=\"_blank\" href=https://colab.research.google.com/notebooks/data_table.ipynb>data table notebook</a>'\n",
              "            + ' to learn more about interactive tables.';\n",
              "          element.innerHTML = '';\n",
              "          dataTable['output_type'] = 'display_data';\n",
              "          await google.colab.output.renderOutput(dataTable, element);\n",
              "          const docLink = document.createElement('div');\n",
              "          docLink.innerHTML = docLinkHtml;\n",
              "          element.appendChild(docLink);\n",
              "        }\n",
              "      </script>\n",
              "    </div>\n",
              "  </div>\n",
              "  "
            ]
          },
          "metadata": {},
          "execution_count": 60
        }
      ]
    },
    {
      "cell_type": "code",
      "metadata": {
        "colab": {
          "base_uri": "https://localhost:8080/"
        },
        "outputId": "04085bed-cc6b-40f3-f028-722cee514a1c",
        "id": "03nuKv6I4pNw"
      },
      "source": [
        "%%R\n",
        "df = read.csv('http://meusite.mackenzie.br/rogerio/data_load/insurance.csv')\n",
        "head(df)"
      ],
      "execution_count": 61,
      "outputs": [
        {
          "output_type": "stream",
          "name": "stdout",
          "text": [
            "  age    sex    bmi children smoker    region   charges\n",
            "1  19 female 27.900        0    yes southwest 16884.924\n",
            "2  18   male 33.770        1     no southeast  1725.552\n",
            "3  28   male 33.000        3     no southeast  4449.462\n",
            "4  33   male 22.705        0     no northwest 21984.471\n",
            "5  32   male 28.880        0     no northwest  3866.855\n",
            "6  31 female 25.740        0     no southeast  3756.622\n"
          ]
        }
      ]
    },
    {
      "cell_type": "code",
      "metadata": {
        "id": "ZvrE55LK7NUv"
      },
      "source": [
        "import matplotlib.pyplot as plt\n",
        "import seaborn as sns\n",
        "%matplotlib inline"
      ],
      "execution_count": 62,
      "outputs": []
    },
    {
      "cell_type": "code",
      "metadata": {
        "colab": {
          "base_uri": "https://localhost:8080/",
          "height": 265
        },
        "id": "wHShhPs47cCg",
        "outputId": "24597216-1936-4868-9e28-3e975002a5f7"
      },
      "source": [
        "plt.scatter( df.bmi , df.charges )\n",
        "plt.show()"
      ],
      "execution_count": 63,
      "outputs": [
        {
          "output_type": "display_data",
          "data": {
            "text/plain": [
              "<Figure size 432x288 with 1 Axes>"
            ],
            "image/png": "[encoded data removed]"
          },
          "metadata": {
            "needs_background": "light"
          }
        }
      ]
    },
    {
      "cell_type": "code",
      "metadata": {
        "colab": {
          "base_uri": "https://localhost:8080/",
          "height": 497
        },
        "id": "BXVOY62tzoP0",
        "outputId": "7305376a-0bc8-4b77-d3a7-773131a1076f"
      },
      "source": [
        "%%R\n",
        "plot( df$bmi , df$charges )"
      ],
      "execution_count": 64,
      "outputs": [
        {
          "output_type": "display_data",
          "data": {
            "image/png": "[encoded data removed]"
          },
          "metadata": {}
        }
      ]
    },
    {
      "cell_type": "code",
      "metadata": {
        "colab": {
          "base_uri": "https://localhost:8080/",
          "height": 268
        },
        "id": "KPAjaEBT7saG",
        "outputId": "96a77118-0c09-4e6e-dfa9-9ef2de3e9a05"
      },
      "source": [
        "plt.hist( df.children )\n",
        "plt.show()"
      ],
      "execution_count": 65,
      "outputs": [
        {
          "output_type": "display_data",
          "data": {
            "text/plain": [
              "<Figure size 432x288 with 1 Axes>"
            ],
            "image/png": "[encoded data removed]"
          },
          "metadata": {
            "needs_background": "light"
          }
        }
      ]
    },
    {
      "cell_type": "code",
      "metadata": {
        "colab": {
          "base_uri": "https://localhost:8080/",
          "height": 497
        },
        "id": "TliIcer3z3fR",
        "outputId": "9c83fe4e-4ee5-4088-b8ec-f0a9bce26192"
      },
      "source": [
        "%%R\n",
        "hist( df$children )"
      ],
      "execution_count": 66,
      "outputs": [
        {
          "output_type": "display_data",
          "data": {
            "image/png": "[encoded data removed]"
          },
          "metadata": {}
        }
      ]
    }
  ]
}