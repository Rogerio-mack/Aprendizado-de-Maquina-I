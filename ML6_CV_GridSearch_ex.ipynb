{
  "nbformat": 4,
  "nbformat_minor": 0,
  "metadata": {
    "kernelspec": {
      "display_name": "Python 3",
      "language": "python",
      "name": "python3"
    },
    "language_info": {
      "codemirror_mode": {
        "name": "ipython",
        "version": 3
      },
      "file_extension": ".py",
      "mimetype": "text/x-python",
      "name": "python",
      "nbconvert_exporter": "python",
      "pygments_lexer": "ipython3",
      "version": "3.7.4"
    },
    "colab": {
      "name": "ML6_CV_GridSearch_ex.ipynb",
      "provenance": [],
      "collapsed_sections": [],
      "include_colab_link": true
    }
  },
  "cells": [
    {
      "cell_type": "markdown",
      "metadata": {
        "id": "view-in-github",
        "colab_type": "text"
      },
      "source": [
        "<a href=\"https://colab.research.google.com/github/Rogerio-mack/Machine-Learning-I/blob/main/ML6_CV_GridSearch_ex.ipynb\" target=\"_parent\"><img src=\"https://colab.research.google.com/assets/colab-badge.svg\" alt=\"Open In Colab\"/></a>"
      ]
    },
    {
      "cell_type": "markdown",
      "metadata": {
        "id": "Bh3XQyK-0stm"
      },
      "source": [
        "<head>\n",
        "  <meta name=\"author\" content=\"Rogério de Oliveira\">\n",
        "  <meta institution=\"author\" content=\"Universidade Presbiteriana Mackenzie\">\n",
        "</head>\n",
        "\n",
        "<img src=\"http://meusite.mackenzie.br/rogerio/mackenzie_logo/UPM.2_horizontal_vermelho.jpg\" width=300, align=\"right\">\n",
        "<!-- <h1 align=left><font size = 6, style=\"color:rgb(200,0,0)\"> optional title </font></h1> -->"
      ]
    },
    {
      "cell_type": "markdown",
      "metadata": {
        "id": "zQX8WQPeHTwc"
      },
      "source": [
        "# **6. Validação Cruzada e *GridSearch***\n",
        "\n",
        "---\n",
        "\n"
      ]
    },
    {
      "cell_type": "markdown",
      "source": [
        "Após fazer os exercícios deste laboratório responda ao **questionário correspondente da aula no Moodle**.\n",
        "\n"
      ],
      "metadata": {
        "id": "-vEjCE_y-MFT"
      }
    },
    {
      "cell_type": "markdown",
      "metadata": {
        "_uuid": "9dd9e07c590ca22f0c525222f60f0ebff4e092c6",
        "id": "kIr_4QzOlOOo"
      },
      "source": [
        "# Caso: **Propensão de Compra de Clientes por Telemarketing** \n",
        "\n",
        "https://archive.ics.uci.edu/ml/datasets/Bank+Marketing\n",
        "\n",
        "Os dados acima estão relacionados com campanhas de marketing direto de uma instituição bancária portuguesa. As campanhas de marketing foram baseadas em telefonemas. Freqüentemente, era necessário mais de um contato para o mesmo cliente, para acessar se o produto (depósito bancário) seria ('yes') ou não ('no') assinado.\n",
        "\n",
        "Os dados estão na URL: http://meusite.mackenzie.br/rogerio/TIC/bank-full.csv\n",
        "\n",
        "\n"
      ]
    },
    {
      "cell_type": "markdown",
      "source": [
        "# Caso: **Classificação de Tipos de Vidro para Reciclagem**\n",
        "\n",
        "Nossa base de dados classifica vidros industrializados em 7 categorias conforme suas características químicas:\n",
        "\n",
        "* Classe 1: janelas de construção (processadas com flutuação)\n",
        "* Classe 2: janelas de construção (processadas sem flutuação)\n",
        "* Classe 3: janelas do veículo (processadas com flutuação)\n",
        "* Classe 4: janelas do veículo (processadas sem flutuação)\n",
        "* Classe 5: recipientes\n",
        "* Classe 6: talheres\n",
        "* Classe 7: faróis\n",
        "\n",
        "(*algumas dessas classes podem não estar presentes no data-set*).\n",
        "\n",
        "Os dados estão na URL: https://github.com/Rogerio-mack/Machine-Learning-I/raw/main/data/glasses.csv\n",
        "\n",
        "Aqui vai nos interessar classificar os vidros para efeito de reciclagem em 3 categorias:\n",
        "\n",
        "* **C = Vidros de Construção**\n",
        "* **V = Vidros de Veículos**\n",
        "* **O = Outros**\n",
        "\n",
        "E para isso vamos empregar uma seleção de hiperparâmetros de modelos com o GridSearch que você aprendeu na aula teórica.\n",
        "\n",
        "\n"
      ],
      "metadata": {
        "id": "QU8GDCtoeOYH"
      }
    },
    {
      "cell_type": "markdown",
      "metadata": {
        "id": "YeiT9oXumyn8"
      },
      "source": [
        "# Exercício. Acesse e Explore os dados \n",
        "\n",
        "Qual o atributo classe e quantos casos de cada classe? "
      ]
    },
    {
      "cell_type": "code",
      "source": [
        "# Seu código aqui\n"
      ],
      "metadata": {
        "id": "pL7ye2mQYl9i"
      },
      "execution_count": 1,
      "outputs": []
    },
    {
      "cell_type": "markdown",
      "metadata": {
        "id": "i-L4D2vgoJ9R"
      },
      "source": [
        "# Exercício. Preparando os dados \n",
        "\n",
        "Atribua os valores `X` e `y` que serão empregados para construção dos modelos.\n",
        "\n",
        "Aqui um pequeno checklist...\n",
        "\n",
        "1. Verifique a presença de valores nulos, se houverem exclua os registros com valores nulos\n",
        "2. Note que antes de prosseguir você precisa criar um atributo com as classes `C`, `V` e `O` de reciclagem ou alterar o atributo classe atual.\n",
        "3. Parece haver necessidade de encode dos dados. Empregue o hot-encode.\n",
        "4. Há a necessidade de exclusão de atributos para o treinamento? Você vai empregar todos os atributos cabíveis para a tarefa\n",
        "5. Os dados precisam ser normalizados? Empregue o `StandardScaler`\n",
        " "
      ]
    },
    {
      "cell_type": "markdown",
      "source": [
        "**1. Verifique a presença de valores nulos, se houverem exclua os registros com valores nulos.**"
      ],
      "metadata": {
        "id": "xg0K2v-zL_tO"
      }
    },
    {
      "cell_type": "code",
      "source": [
        "# Seu código aqui\n"
      ],
      "metadata": {
        "id": "TE4L74O5L-rZ"
      },
      "execution_count": null,
      "outputs": []
    },
    {
      "cell_type": "markdown",
      "source": [
        "**2. Note que antes de prosseguir você precisa criar um atributo com as classes `C`, `V` e `O` de reciclagem ou alterar o atributo classe atual.**"
      ],
      "metadata": {
        "id": "VmZXhWz2MonQ"
      }
    },
    {
      "cell_type": "code",
      "source": [
        "# Seu código aqui\n"
      ],
      "metadata": {
        "id": "3EgpntumMqMP"
      },
      "execution_count": null,
      "outputs": []
    },
    {
      "cell_type": "markdown",
      "source": [
        "**3. Parece haver necessidade de encode dos dados. Empregue o hot-encode.**\n",
        "\n",
        "Se necessário, pesquise aqui a função `OneHotEncoder` do scikit-learn o a função `pd.get_dummies` do Pandas."
      ],
      "metadata": {
        "id": "9uAs_e6qNclZ"
      }
    },
    {
      "cell_type": "code",
      "source": [
        "# Seu código aqui\n"
      ],
      "metadata": {
        "id": "ZNs9VJUXNbrw"
      },
      "execution_count": null,
      "outputs": []
    },
    {
      "cell_type": "markdown",
      "source": [
        "**4 Há a necessidade de exclusão de atributos para o treinamento? Você vai empregar todos os atributos cabíveis para a tarefa**"
      ],
      "metadata": {
        "id": "VJrwtKBiMNng"
      }
    },
    {
      "cell_type": "code",
      "source": [
        "# Seu código aqui\n"
      ],
      "metadata": {
        "id": "bTgWU1giMTg_"
      },
      "execution_count": 10,
      "outputs": []
    },
    {
      "cell_type": "markdown",
      "source": [
        "**5. Os dados precisam ser normalizados? Empregue o `StandardScaler`**"
      ],
      "metadata": {
        "id": "dnerVYgzR4ng"
      }
    },
    {
      "cell_type": "code",
      "metadata": {
        "id": "pblTEHuSbGAE"
      },
      "source": [
        "# Seu código aqui\n"
      ],
      "execution_count": 11,
      "outputs": []
    },
    {
      "cell_type": "code",
      "source": [
        "print( X[0], len(X[0]) )"
      ],
      "metadata": {
        "id": "lKzhO9o1aWqB"
      },
      "execution_count": null,
      "outputs": []
    },
    {
      "cell_type": "markdown",
      "source": [
        "# Exercício. Treinando o Modelo\n",
        "\n",
        "Você vai treinar um modelo de Árvore de Decisão buscando os melhores hiperparâmetros de 'max_depth' e 'criterion' (pesquise os possíveis valores na documentação do scikit-learn). Entretanto, no lugar da acuracidade, você empregar o F1 score (`f1_macro`) que é uma métrica que balanceia os resultados de precisão e recall. Você pode empregar como modelo os códigos do notebook de teoria.\n",
        "\n",
        "Aqui um checklist do que precisa ser feito...\n",
        "\n",
        "1. Separe os dados de Treinamento e Teste \n",
        "> Empregue 0.3 dos dados para teste, estratificados e não deixe de empregar o seed 123.\n",
        "\n",
        "2. Defina uma DecisionTree como Estimador Base.\n",
        "> Não deixe de empregar o parâmetro `random_state=123` no estimador base para a reprodutibilidade dos resultados. \n",
        "\n",
        "3. Especifique o range dos valores 'max_depth' e 'criterion' que você deseja empregar\n",
        "> Você pode ter que pesquisar isso na documentação do scikit-learn.\n",
        "\n",
        "4. Configure o `GridSearchCV`\n",
        "> Você deve empregar 5 partições e empregar o score de `f1_macro` para a seleção dos melhores hiperparâmetros.\n",
        "\n",
        "5. Verifique os Resultados\n",
        "> Verifique os hiperparâmetros selecionados e gere um classification report para ver as métricas do modelo.\n",
        "\n",
        "\n",
        "**Nota**: você pode ignorar FitFailedWarning que podem ocorrer ao longo do treinamento. Esse warning é mesmo esperado aqui."
      ],
      "metadata": {
        "id": "cuDbMW0bUjDJ"
      }
    },
    {
      "cell_type": "code",
      "source": [
        "# seu código aqui \n",
        "from sklearn.model_selection import train_test_split\n",
        "from sklearn.model_selection import GridSearchCV\n",
        "from sklearn.tree import DecisionTreeClassifier\n",
        "from sklearn.metrics import classification_report\n",
        "\n"
      ],
      "metadata": {
        "id": "iOI79lDqSxsp"
      },
      "execution_count": null,
      "outputs": []
    }
  ]
}