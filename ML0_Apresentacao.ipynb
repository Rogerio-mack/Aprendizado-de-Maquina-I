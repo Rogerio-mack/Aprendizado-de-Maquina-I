{
  "nbformat": 4,
  "nbformat_minor": 0,
  "metadata": {
    "kernelspec": {
      "display_name": "Python 3",
      "language": "python",
      "name": "python3"
    },
    "language_info": {
      "codemirror_mode": {
        "name": "ipython",
        "version": 3
      },
      "file_extension": ".py",
      "mimetype": "text/x-python",
      "name": "python",
      "nbconvert_exporter": "python",
      "pygments_lexer": "ipython3",
      "version": "3.7.4"
    },
    "colab": {
      "name": "ML0_Apresentacao.ipynb",
      "provenance": [],
      "collapsed_sections": [],
      "include_colab_link": true
    }
  },
  "cells": [
    {
      "cell_type": "markdown",
      "metadata": {
        "id": "view-in-github",
        "colab_type": "text"
      },
      "source": [
        "<a href=\"https://colab.research.google.com/github/Rogerio-mack/Machine-Learning-I/blob/main/ML0_Apresentacao.ipynb\" target=\"_parent\"><img src=\"https://colab.research.google.com/assets/colab-badge.svg\" alt=\"Open In Colab\"/></a>"
      ]
    },
    {
      "cell_type": "markdown",
      "metadata": {
        "id": "J3LMBfpeHTwb"
      },
      "source": [
        "<head>\n",
        "  <meta name=\"author\" content=\"Rogério de Oliveira\">\n",
        "  <meta institution=\"author\" content=\"Universidade Presbiteriana Mackenzie\">\n",
        "</head>\n",
        "\n",
        "<img src=\"http://meusite.mackenzie.br/rogerio/mackenzie_logo/UPM.2_horizontal_vermelho.jpg\" width=300, align=\"right\">\n",
        "<!-- <h1 align=left><font size = 6, style=\"color:rgb(200,0,0)\"> optional title </font></h1> -->\n"
      ]
    },
    {
      "cell_type": "markdown",
      "metadata": {
        "id": "zQX8WQPeHTwc"
      },
      "source": [
        "# **Aprendizado de Máquina I**\n",
        "---\n",
        "\n",
        "Este é um primeiro curso de introdução do aprendizado de máquina através dos modelos de aprendizado supervisionado. O material foi desenhado como material de apoio para a disciplina de Aprendizado de Máquina I do curso de tecnologia em Ciência de Dados, mas pode ser igualmente empregado em cursos introdutórios do Aprendizado de Máquina Supervisionado, de graduação ou pós-graduação. \n",
        "\n",
        "Aqui são apresentados os principais conceitos de modelos supervisionados de regressão e classificação, como empregar os estimadores do `scikit-learn python` para esses modelos, e técnicas de seleção de hiperparâmetros e modelos. Ao final há uma introdução dessas aplicações também para linguagem `R`. \n",
        "\n",
        "Em cada um os oito capítulos (8 aulas) há questões de fixação (Moodle) e laboratórios práticos (também com questões no Moodle sobre o resultados dos programas), havendo ainda um projeto em grupo na penúltima aula.\n"
      ]
    },
    {
      "cell_type": "markdown",
      "source": [
        "# Sumário\n",
        "\n",
        "[**Apresentação do Curso**](https://colab.research.google.com/github/Rogerio-mack/Machine-Learning-I/blob/main/ML0_Apresentacao.ipynb)  \n",
        "\n",
        "1. [**Introdução ao Aprendizado de Máquina**](https://colab.research.google.com/github/Rogerio-mack/Machine-Learning-I/blob/main/ML1_introducao.ipynb)\n",
        "\n",
        "\n",
        "2. [**Aprendizado Supervisionado e Regressão Linear**](https://colab.research.google.com/github/Rogerio-mack/Machine-Learning-I/blob/main/ML2_Regressao.ipynb)\n",
        "\n",
        ">> [Lab Caso: **Estimando a emissão de gases CO2 de veículos**](https://colab.research.google.com/github/Rogerio-mack/Machine-Learning-I/blob/main/ML2_Regressao_ex.ipynb)\n",
        "\n",
        "3. [**Classificação: Regressão Logística**](https://colab.research.google.com/github/Rogerio-mack/Machine-Learning-I/blob/main/ML3_RegressaoLogistica.ipynb)\n",
        "\n",
        ">>  [Lab Caso: **Consumo de combustível em veículos**](https://colab.research.google.com/github/Rogerio-mack/Machine-Learning-I/blob/main/ML3_RegressaoLogistica_ex.ipynb)\n",
        "\n",
        "4. [**Classificação: Knn**](https://colab.research.google.com/github/Rogerio-mack/Machine-Learning-I/blob/main/ML4_Knn.ipynb)\n",
        "\n",
        ">> [Lab Caso: **Predição de Diagnósticos a partir de Dados de Imagens**](https://colab.research.google.com/github/Rogerio-mack/Machine-Learning-I/blob/main/ML4_Knn_ex.ipynb)\n",
        "\n",
        "5. [**Árvores de Decisão e Seleção de Atributos**](https://colab.research.google.com/github/Rogerio-mack/Machine-Learning-I/blob/main/ML5_DecisionTrees.ipynb)\n",
        "\n",
        ">> [Lab Caso: **Propensão de Compra de Clientes por Telemarketing**](https://colab.research.google.com/github/Rogerio-mack/Machine-Learning-I/blob/main/ML5_DecisionTrees_ex.ipynb)\n",
        "\n",
        "6. [**Validação Cruzada e GridSearch**](https://colab.research.google.com/github/Rogerio-mack/Machine-Learning-I/blob/main/ML6_CV_GridSearch.ipynb)\n",
        "\n",
        ">> [Lab Caso: **Propensão de Compra de Clientes por Telemarketing**](https://colab.research.google.com/github/Rogerio-mack/Machine-Learning-I/blob/main/ML6_CV_GridSearch_ex.ipynb)\n",
        "\n",
        "7. [**Seleção de Modelos**](https://colab.research.google.com/github/Rogerio-mack/Machine-Learning-I/blob/main/ML7_SelecaoDeModelos.ipynb)\n",
        "\n",
        ">> [**Projeto em Grupo**](https://colab.research.google.com/github/Rogerio-mack/Machine-Learning-I/blob/main/ML7_ex_projeto.ipynb)\n",
        "\n",
        "8. [**Aprendizado Supervisionado com R**](https://colab.research.google.com/github/Rogerio-mack/Machine-Learning-I/blob/main/ML8_R.ipynb)\n",
        "\n",
        ">> [Lab Caso: **Controle de Qualidade de Peças**](https://colab.research.google.com/github/Rogerio-mack/Machine-Learning-I/blob/main/ML8_R_ex.ipynb)\n",
        "\n",
        "# Vídeos e Complementos\n",
        "\n",
        "*Acesse* [aqui](https://github.com/Rogerio-mack/Machine-Learning-I/tree/main/videos).\n",
        "\n",
        "# Cases e Funções\n",
        "\n",
        "| Aula   | Casos Práticos                                                          | Principais Funções         |\n",
        "|--------|-------------------------------------------------------------------------|--------------------------------|\n",
        "| 1.     | -                                                                       | -                              |\n",
        "| 2.     | CASO: Estimando o Preço de Veículos                                     | `statsmodel`, `sm.ols`  |\n",
        "| 3.     | CASO: Estimando Tumores Malignos ou Benignos                            | `sklearn` , `LogisticRegression`  |\n",
        "|        | CASO: 10 year risk of coronary heart disease CHD                        | `train_test_split`    |\n",
        "| 4.     | CASO: 10 year risk of coronary heart disease CHD                        | `KNeighborsClassifier`,`sklearn.preprocessing`, `minmax_scale` |\n",
        "| 5.     | CASO: Classifying Political Parties Based on Congressional Votes        | `DecisionTreeClassifier`,  `sklearn.feature_selection`, `mutual_info_classif`, `SelectKBest`, `StandardScaler`, `LabelEncoder`  |\n",
        "| 6.     | CASO: Breast Cancer biopsy        | `KFold`, `LabelEncoder`, `GridSearchCV`, `RandomForestClassifier`, `OneHotEncoder`|\n",
        "| 7.     | CASO: Classificando Imagens de Dígitos ( 8×8 )       | `MLPClassifier`, `SVC`, `GridSearchCV`  |\n",
        "|        | CASO: Classificando o MNIST (28×28)       | `DecisionTreeRegressor`, `SVR`, `XGBRegressor`   |\n",
        "|        | CASO: Um Conjunto não Linear, Potencial de Ação de um Neurônio       |    |\n",
        "|        | CASO: Bike Sharing Prediction      |   |\n",
        "| 8.     | CASO: Iris Data Set       | `lm`, `Caret`, `rpart`  |\n",
        "|        | CASO: Biopsy, Câncer de Mama       | `naivebayes`, `glm`, `knn`   |\n",
        "|        | CASO: Classificando o MNIST (28×28)       |   |\n",
        "\n",
        "\n",
        "# Atividades\n",
        "\n",
        "| Aula   | Atividade                                                       |Nota    |\n",
        "|--------|-----------------------------------------------------------------|--------|\n",
        "| 1.     | Exercícios Moodle                                               |  1.0   | \n",
        "| 2.     | Exercícios Moodle & Lab                                               |  1.0   | \n",
        "| 3.     | Exercícios Moodle & Lab                                              |  1.0   | \n",
        "| 4.     | Exercícios Moodle & Lab + Fórum Regressão Linear X Logística para Classificação                               |  1.5   | \n",
        "| 5.     | Exercícios Moodle & Lab + Fórum Outros critérios de Seleção de Atributos                                      |  1.5   | \n",
        "| 6.     | Exercícios Moodle & Lab                                              |  1.0   | \n",
        "| 7.     | **Projeto de Aprendizado de Máquina em Grupo**                     |  **2.0**   | \n",
        "| 8.     | Exercícios Moodle & Lab                                              |  1.0   | \n",
        "|      | **Total do Curso**                                           |  **10.0**   | \n",
        "\n",
        "\n",
        "\n",
        "# Principais Referências \n",
        "\n",
        "Jake VanderPlas. **Python Data Science Handbook**  O'Reilly Media, Inc. (2016). ISBN: 9781491912058. Disponível em: https://jakevdp.github.io/PythonDataScienceHandbook/. Acesso: 06 de Novembro de 2021. \n",
        "\n",
        "Kotu, Vijay; Deshpande, Balachandre **Data Science: concepts and practice**. 2nd ed. Cambridge, [England]: Morgan Kaufmann, c2019. E-book (570 p.) ISBN 9780128147627 (electronic bk.). Disponível em: http://pergamum.mackenzie.br:8080/pergamumweb/vinculos/00003c/00003cef.jpg.\n",
        "\n",
        "Larose, Chantal D.; Larose, Daniel T. **Data Science Using Python and R** Hoboken: Wiley, c2019. E-book (259 p.) (Wiley Series on Methods and Applications in Data Mining Ser.). ISBN 9781119526834 (electronic bk.). Disponível em: https://www3.mackenzie.br/biblioteca_virtual/index.php?tipoBiblio=ebookcentral&flashObg=n\n",
        "\n",
        "Géron, A. **Hands-on machine learning with Scikit-Learn, Keras and TensorFlow: concepts, tools, and techniques to build intelligent systems**, 2nd ed. (2019) O'Reilly\n",
        "\n",
        "Alpaydin, E. **Machine Learning** (The MIT Press Essential Knowledge). The MIT Press. 2019.\n",
        "\n",
        "Kelleher, J. D.; Tierney, Brendan. **Data Science** (The MIT Press Essential Knowledge). The MIT Press. 2018.\n",
        "\n",
        "Manapat, Michael. **Introduction to Machine Learning with Python**. Em An Introduction to Machine Learning. EMag Edição 50 (Abr 2017)\n",
        "\n",
        "\n",
        "\n",
        "# Cite \n",
        "\n",
        "Oliveira, R. (2022). **Aprendizado de Máquina I**. (pp. 1–227). eBook. https://doi.org/10.5281/zenodo.6702272. \n",
        "\n"
      ],
      "metadata": {
        "id": "okCFdjXBhKc3"
      }
    }
  ]
}