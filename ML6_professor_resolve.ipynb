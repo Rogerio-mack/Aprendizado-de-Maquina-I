{
  "nbformat": 4,
  "nbformat_minor": 0,
  "metadata": {
    "kernelspec": {
      "display_name": "Python 3",
      "language": "python",
      "name": "python3"
    },
    "language_info": {
      "codemirror_mode": {
        "name": "ipython",
        "version": 3
      },
      "file_extension": ".py",
      "mimetype": "text/x-python",
      "name": "python",
      "nbconvert_exporter": "python",
      "pygments_lexer": "ipython3",
      "version": "3.7.4"
    },
    "colab": {
      "name": "ML6_professor_resolve.ipynb",
      "provenance": [],
      "collapsed_sections": [],
      "include_colab_link": true
    }
  },
  "cells": [
    {
      "cell_type": "markdown",
      "metadata": {
        "id": "view-in-github",
        "colab_type": "text"
      },
      "source": [
        "<a href=\"https://colab.research.google.com/github/Rogerio-mack/Machine-Learning-I/blob/main/ML6_professor_resolve.ipynb\" target=\"_parent\"><img src=\"https://colab.research.google.com/assets/colab-badge.svg\" alt=\"Open In Colab\"/></a>"
      ]
    },
    {
      "cell_type": "markdown",
      "metadata": {
        "id": "J3LMBfpeHTwb"
      },
      "source": [
        "<head>\n",
        "  <meta name=\"author\" content=\"Rogério de Oliveira\">\n",
        "  <meta institution=\"author\" content=\"Universidade Presbiteriana Mackenzie\">\n",
        "</head>\n",
        "\n",
        "<img src=\"http://meusite.mackenzie.br/rogerio/mackenzie_logo/UPM.2_horizontal_vermelho.jpg\" width=300, align=\"right\">\n",
        "<!-- <h1 align=left><font size = 6, style=\"color:rgb(200,0,0)\"> optional title </font></h1> -->\n"
      ]
    },
    {
      "cell_type": "markdown",
      "metadata": {
        "id": "zQX8WQPeHTwc"
      },
      "source": [
        "# **Selecionando Hiperparâmetros de um Modelo**\n",
        "---\n"
      ]
    },
    {
      "cell_type": "code",
      "metadata": {
        "id": "xyywcuI7p1kG"
      },
      "source": [
        "import numpy as np\n",
        "import pandas as pd\n",
        "import matplotlib.pyplot as plt\n",
        "%matplotlib inline\n",
        "from matplotlib.lines import Line2D\n",
        "import seaborn as sns"
      ],
      "execution_count": 1,
      "outputs": []
    },
    {
      "cell_type": "markdown",
      "source": [
        "# Bank note authentication"
      ],
      "metadata": {
        "id": "ZIuZVIL0zzdD"
      }
    },
    {
      "cell_type": "code",
      "source": [
        "df = pd.read_csv('https://archive.ics.uci.edu/ml/machine-learning-databases/00267/data_banknote_authentication.txt',header=None)\n",
        "\n",
        "# Wavelet Transformed image atributtes\n",
        "df.columns = ['variance','skewness','curtosis','entropy','class']\n",
        "display(df.head())\n",
        "\n"
      ],
      "metadata": {
        "colab": {
          "base_uri": "https://localhost:8080/",
          "height": 206
        },
        "id": "Kg1EGc-Vzyqb",
        "outputId": "9be68b11-2276-46bf-d61f-4cb6ace6745a"
      },
      "execution_count": 10,
      "outputs": [
        {
          "output_type": "display_data",
          "data": {
            "text/plain": [
              "   variance  skewness  curtosis  entropy  class\n",
              "0   3.62160    8.6661   -2.8073 -0.44699      0\n",
              "1   4.54590    8.1674   -2.4586 -1.46210      0\n",
              "2   3.86600   -2.6383    1.9242  0.10645      0\n",
              "3   3.45660    9.5228   -4.0112 -3.59440      0\n",
              "4   0.32924   -4.4552    4.5718 -0.98880      0"
            ],
            "text/html": [
              "\n",
              "  <div id=\"df-3469c199-9b18-4969-bfb8-8f4a9406130b\">\n",
              "    <div class=\"colab-df-container\">\n",
              "      <div>\n",
              "<style scoped>\n",
              "    .dataframe tbody tr th:only-of-type {\n",
              "        vertical-align: middle;\n",
              "    }\n",
              "\n",
              "    .dataframe tbody tr th {\n",
              "        vertical-align: top;\n",
              "    }\n",
              "\n",
              "    .dataframe thead th {\n",
              "        text-align: right;\n",
              "    }\n",
              "</style>\n",
              "<table border=\"1\" class=\"dataframe\">\n",
              "  <thead>\n",
              "    <tr style=\"text-align: right;\">\n",
              "      <th></th>\n",
              "      <th>variance</th>\n",
              "      <th>skewness</th>\n",
              "      <th>curtosis</th>\n",
              "      <th>entropy</th>\n",
              "      <th>class</th>\n",
              "    </tr>\n",
              "  </thead>\n",
              "  <tbody>\n",
              "    <tr>\n",
              "      <th>0</th>\n",
              "      <td>3.62160</td>\n",
              "      <td>8.6661</td>\n",
              "      <td>-2.8073</td>\n",
              "      <td>-0.44699</td>\n",
              "      <td>0</td>\n",
              "    </tr>\n",
              "    <tr>\n",
              "      <th>1</th>\n",
              "      <td>4.54590</td>\n",
              "      <td>8.1674</td>\n",
              "      <td>-2.4586</td>\n",
              "      <td>-1.46210</td>\n",
              "      <td>0</td>\n",
              "    </tr>\n",
              "    <tr>\n",
              "      <th>2</th>\n",
              "      <td>3.86600</td>\n",
              "      <td>-2.6383</td>\n",
              "      <td>1.9242</td>\n",
              "      <td>0.10645</td>\n",
              "      <td>0</td>\n",
              "    </tr>\n",
              "    <tr>\n",
              "      <th>3</th>\n",
              "      <td>3.45660</td>\n",
              "      <td>9.5228</td>\n",
              "      <td>-4.0112</td>\n",
              "      <td>-3.59440</td>\n",
              "      <td>0</td>\n",
              "    </tr>\n",
              "    <tr>\n",
              "      <th>4</th>\n",
              "      <td>0.32924</td>\n",
              "      <td>-4.4552</td>\n",
              "      <td>4.5718</td>\n",
              "      <td>-0.98880</td>\n",
              "      <td>0</td>\n",
              "    </tr>\n",
              "  </tbody>\n",
              "</table>\n",
              "</div>\n",
              "      <button class=\"colab-df-convert\" onclick=\"convertToInteractive('df-3469c199-9b18-4969-bfb8-8f4a9406130b')\"\n",
              "              title=\"Convert this dataframe to an interactive table.\"\n",
              "              style=\"display:none;\">\n",
              "        \n",
              "  <svg xmlns=\"http://www.w3.org/2000/svg\" height=\"24px\"viewBox=\"0 0 24 24\"\n",
              "       width=\"24px\">\n",
              "    <path d=\"M0 0h24v24H0V0z\" fill=\"none\"/>\n",
              "    <path d=\"M18.56 5.44l.94 2.06.94-2.06 2.06-.94-2.06-.94-.94-2.06-.94 2.06-2.06.94zm-11 1L8.5 8.5l.94-2.06 2.06-.94-2.06-.94L8.5 2.5l-.94 2.06-2.06.94zm10 10l.94 2.06.94-2.06 2.06-.94-2.06-.94-.94-2.06-.94 2.06-2.06.94z\"/><path d=\"M17.41 7.96l-1.37-1.37c-.4-.4-.92-.59-1.43-.59-.52 0-1.04.2-1.43.59L10.3 9.45l-7.72 7.72c-.78.78-.78 2.05 0 2.83L4 21.41c.39.39.9.59 1.41.59.51 0 1.02-.2 1.41-.59l7.78-7.78 2.81-2.81c.8-.78.8-2.07 0-2.86zM5.41 20L4 18.59l7.72-7.72 1.47 1.35L5.41 20z\"/>\n",
              "  </svg>\n",
              "      </button>\n",
              "      \n",
              "  <style>\n",
              "    .colab-df-container {\n",
              "      display:flex;\n",
              "      flex-wrap:wrap;\n",
              "      gap: 12px;\n",
              "    }\n",
              "\n",
              "    .colab-df-convert {\n",
              "      background-color: #E8F0FE;\n",
              "      border: none;\n",
              "      border-radius: 50%;\n",
              "      cursor: pointer;\n",
              "      display: none;\n",
              "      fill: #1967D2;\n",
              "      height: 32px;\n",
              "      padding: 0 0 0 0;\n",
              "      width: 32px;\n",
              "    }\n",
              "\n",
              "    .colab-df-convert:hover {\n",
              "      background-color: #E2EBFA;\n",
              "      box-shadow: 0px 1px 2px rgba(60, 64, 67, 0.3), 0px 1px 3px 1px rgba(60, 64, 67, 0.15);\n",
              "      fill: #174EA6;\n",
              "    }\n",
              "\n",
              "    [theme=dark] .colab-df-convert {\n",
              "      background-color: #3B4455;\n",
              "      fill: #D2E3FC;\n",
              "    }\n",
              "\n",
              "    [theme=dark] .colab-df-convert:hover {\n",
              "      background-color: #434B5C;\n",
              "      box-shadow: 0px 1px 3px 1px rgba(0, 0, 0, 0.15);\n",
              "      filter: drop-shadow(0px 1px 2px rgba(0, 0, 0, 0.3));\n",
              "      fill: #FFFFFF;\n",
              "    }\n",
              "  </style>\n",
              "\n",
              "      <script>\n",
              "        const buttonEl =\n",
              "          document.querySelector('#df-3469c199-9b18-4969-bfb8-8f4a9406130b button.colab-df-convert');\n",
              "        buttonEl.style.display =\n",
              "          google.colab.kernel.accessAllowed ? 'block' : 'none';\n",
              "\n",
              "        async function convertToInteractive(key) {\n",
              "          const element = document.querySelector('#df-3469c199-9b18-4969-bfb8-8f4a9406130b');\n",
              "          const dataTable =\n",
              "            await google.colab.kernel.invokeFunction('convertToInteractive',\n",
              "                                                     [key], {});\n",
              "          if (!dataTable) return;\n",
              "\n",
              "          const docLinkHtml = 'Like what you see? Visit the ' +\n",
              "            '<a target=\"_blank\" href=https://colab.research.google.com/notebooks/data_table.ipynb>data table notebook</a>'\n",
              "            + ' to learn more about interactive tables.';\n",
              "          element.innerHTML = '';\n",
              "          dataTable['output_type'] = 'display_data';\n",
              "          await google.colab.output.renderOutput(dataTable, element);\n",
              "          const docLink = document.createElement('div');\n",
              "          docLink.innerHTML = docLinkHtml;\n",
              "          element.appendChild(docLink);\n",
              "        }\n",
              "      </script>\n",
              "    </div>\n",
              "  </div>\n",
              "  "
            ]
          },
          "metadata": {}
        }
      ]
    },
    {
      "cell_type": "code",
      "source": [
        "df['class'].value_counts()"
      ],
      "metadata": {
        "colab": {
          "base_uri": "https://localhost:8080/"
        },
        "id": "BRLB17_n0SeV",
        "outputId": "1a2acbdb-a341-43dc-da2a-eeeb0383d0c6"
      },
      "execution_count": 11,
      "outputs": [
        {
          "output_type": "execute_result",
          "data": {
            "text/plain": [
              "0    762\n",
              "1    610\n",
              "Name: class, dtype: int64"
            ]
          },
          "metadata": {},
          "execution_count": 11
        }
      ]
    },
    {
      "cell_type": "markdown",
      "source": [
        "# By scratch... "
      ],
      "metadata": {
        "id": "GJX8WOzMyGkL"
      }
    },
    {
      "cell_type": "code",
      "metadata": {
        "colab": {
          "base_uri": "https://localhost:8080/",
          "height": 133
        },
        "id": "76Q6GOkkGp5l",
        "outputId": "a2becb53-c73c-4da4-ddc6-bec692867a63"
      },
      "source": [
        "from sklearn.model_selection import train_test_split\n",
        "from sklearn.neighbors import KNeighborsClassifier \n",
        "from sklearn.model_selection import train_test_split\n",
        "from sklearn.preprocessing import MinMaxScaler\n",
        "from sklearn.model_selection import cross_val_score\n",
        "\n",
        "X = df.drop(columns=['class'])\n",
        "y = df['class']\n",
        "\n",
        "scaler = MinMaxScaler()\n",
        "scaler.fit(X)\n",
        "X = scaler.transform(X) \n",
        "\n",
        "X_train, X_test, y_train, y_test = train_test_split(X, y, stratify=y, test_size=0.3, random_state=123)\n",
        "\n",
        "scores_means = {}\n",
        "\n",
        "X_train, X_test, y_train, y_test = train_test_split(X, y, stratify=y, test_size=0.3, random_state=123)\n",
        "\n",
        "for k, d in [(k,d) for k in range(2,9) for d in ['euclidean','manhattan']]:\n",
        "  \n",
        "  clf = KNeighborsClassifier(n_neighbors = k, metric= d )\n",
        "\n",
        "  acc_scores = cross_val_score(clf, X_train, y_train, cv = 5)             \n",
        "\n",
        "  scores_means[(k,d)] = acc_scores.mean()\n",
        "  \n",
        "scores_means = pd.DataFrame(scores_means.values(), index=scores_means.keys()).reset_index()\n",
        "scores_means.columns = ['k','metric','score']\n",
        "\n",
        "# display(scores_means)\n",
        "print('\\nBest result:\\n')\n",
        "display(scores_means.nlargest(1,'score'))\n"
      ],
      "execution_count": 12,
      "outputs": [
        {
          "output_type": "stream",
          "name": "stdout",
          "text": [
            "\n",
            "Best result:\n",
            "\n"
          ]
        },
        {
          "output_type": "display_data",
          "data": {
            "text/plain": [
              "    k     metric     score\n",
              "12  8  euclidean  0.998958"
            ],
            "text/html": [
              "\n",
              "  <div id=\"df-8867a5c8-1957-4c76-bcde-271b57baae78\">\n",
              "    <div class=\"colab-df-container\">\n",
              "      <div>\n",
              "<style scoped>\n",
              "    .dataframe tbody tr th:only-of-type {\n",
              "        vertical-align: middle;\n",
              "    }\n",
              "\n",
              "    .dataframe tbody tr th {\n",
              "        vertical-align: top;\n",
              "    }\n",
              "\n",
              "    .dataframe thead th {\n",
              "        text-align: right;\n",
              "    }\n",
              "</style>\n",
              "<table border=\"1\" class=\"dataframe\">\n",
              "  <thead>\n",
              "    <tr style=\"text-align: right;\">\n",
              "      <th></th>\n",
              "      <th>k</th>\n",
              "      <th>metric</th>\n",
              "      <th>score</th>\n",
              "    </tr>\n",
              "  </thead>\n",
              "  <tbody>\n",
              "    <tr>\n",
              "      <th>12</th>\n",
              "      <td>8</td>\n",
              "      <td>euclidean</td>\n",
              "      <td>0.998958</td>\n",
              "    </tr>\n",
              "  </tbody>\n",
              "</table>\n",
              "</div>\n",
              "      <button class=\"colab-df-convert\" onclick=\"convertToInteractive('df-8867a5c8-1957-4c76-bcde-271b57baae78')\"\n",
              "              title=\"Convert this dataframe to an interactive table.\"\n",
              "              style=\"display:none;\">\n",
              "        \n",
              "  <svg xmlns=\"http://www.w3.org/2000/svg\" height=\"24px\"viewBox=\"0 0 24 24\"\n",
              "       width=\"24px\">\n",
              "    <path d=\"M0 0h24v24H0V0z\" fill=\"none\"/>\n",
              "    <path d=\"M18.56 5.44l.94 2.06.94-2.06 2.06-.94-2.06-.94-.94-2.06-.94 2.06-2.06.94zm-11 1L8.5 8.5l.94-2.06 2.06-.94-2.06-.94L8.5 2.5l-.94 2.06-2.06.94zm10 10l.94 2.06.94-2.06 2.06-.94-2.06-.94-.94-2.06-.94 2.06-2.06.94z\"/><path d=\"M17.41 7.96l-1.37-1.37c-.4-.4-.92-.59-1.43-.59-.52 0-1.04.2-1.43.59L10.3 9.45l-7.72 7.72c-.78.78-.78 2.05 0 2.83L4 21.41c.39.39.9.59 1.41.59.51 0 1.02-.2 1.41-.59l7.78-7.78 2.81-2.81c.8-.78.8-2.07 0-2.86zM5.41 20L4 18.59l7.72-7.72 1.47 1.35L5.41 20z\"/>\n",
              "  </svg>\n",
              "      </button>\n",
              "      \n",
              "  <style>\n",
              "    .colab-df-container {\n",
              "      display:flex;\n",
              "      flex-wrap:wrap;\n",
              "      gap: 12px;\n",
              "    }\n",
              "\n",
              "    .colab-df-convert {\n",
              "      background-color: #E8F0FE;\n",
              "      border: none;\n",
              "      border-radius: 50%;\n",
              "      cursor: pointer;\n",
              "      display: none;\n",
              "      fill: #1967D2;\n",
              "      height: 32px;\n",
              "      padding: 0 0 0 0;\n",
              "      width: 32px;\n",
              "    }\n",
              "\n",
              "    .colab-df-convert:hover {\n",
              "      background-color: #E2EBFA;\n",
              "      box-shadow: 0px 1px 2px rgba(60, 64, 67, 0.3), 0px 1px 3px 1px rgba(60, 64, 67, 0.15);\n",
              "      fill: #174EA6;\n",
              "    }\n",
              "\n",
              "    [theme=dark] .colab-df-convert {\n",
              "      background-color: #3B4455;\n",
              "      fill: #D2E3FC;\n",
              "    }\n",
              "\n",
              "    [theme=dark] .colab-df-convert:hover {\n",
              "      background-color: #434B5C;\n",
              "      box-shadow: 0px 1px 3px 1px rgba(0, 0, 0, 0.15);\n",
              "      filter: drop-shadow(0px 1px 2px rgba(0, 0, 0, 0.3));\n",
              "      fill: #FFFFFF;\n",
              "    }\n",
              "  </style>\n",
              "\n",
              "      <script>\n",
              "        const buttonEl =\n",
              "          document.querySelector('#df-8867a5c8-1957-4c76-bcde-271b57baae78 button.colab-df-convert');\n",
              "        buttonEl.style.display =\n",
              "          google.colab.kernel.accessAllowed ? 'block' : 'none';\n",
              "\n",
              "        async function convertToInteractive(key) {\n",
              "          const element = document.querySelector('#df-8867a5c8-1957-4c76-bcde-271b57baae78');\n",
              "          const dataTable =\n",
              "            await google.colab.kernel.invokeFunction('convertToInteractive',\n",
              "                                                     [key], {});\n",
              "          if (!dataTable) return;\n",
              "\n",
              "          const docLinkHtml = 'Like what you see? Visit the ' +\n",
              "            '<a target=\"_blank\" href=https://colab.research.google.com/notebooks/data_table.ipynb>data table notebook</a>'\n",
              "            + ' to learn more about interactive tables.';\n",
              "          element.innerHTML = '';\n",
              "          dataTable['output_type'] = 'display_data';\n",
              "          await google.colab.output.renderOutput(dataTable, element);\n",
              "          const docLink = document.createElement('div');\n",
              "          docLink.innerHTML = docLinkHtml;\n",
              "          element.appendChild(docLink);\n",
              "        }\n",
              "      </script>\n",
              "    </div>\n",
              "  </div>\n",
              "  "
            ]
          },
          "metadata": {}
        }
      ]
    },
    {
      "cell_type": "code",
      "metadata": {
        "colab": {
          "base_uri": "https://localhost:8080/"
        },
        "id": "aKulpDqOIMM9",
        "outputId": "ef367d6a-fea4-4ff3-af86-74b4dc5c1ad7"
      },
      "source": [
        "k = scores_means.nlargest(1,'score').k.values[0]\n",
        "metric = scores_means.nlargest(1,'score').metric.values[0]\n",
        "\n",
        "clf = KNeighborsClassifier(n_neighbors = k, metric= metric )\n",
        "print(clf)\n",
        "    \n",
        "clf.fit(X_train, y_train)                 \n",
        "        \n",
        "print(\"accuracy: %0.3f\" % clf.score(X_test,y_test),'\\n')"
      ],
      "execution_count": 13,
      "outputs": [
        {
          "output_type": "stream",
          "name": "stdout",
          "text": [
            "KNeighborsClassifier(metric='euclidean', n_neighbors=8)\n",
            "accuracy: 1.000 \n",
            "\n"
          ]
        }
      ]
    },
    {
      "cell_type": "markdown",
      "metadata": {
        "id": "HVBDcQZN-SzN"
      },
      "source": [
        "# Usando o Grid Search\n",
        "\n",
        "\n",
        "\n"
      ]
    },
    {
      "cell_type": "code",
      "metadata": {
        "colab": {
          "base_uri": "https://localhost:8080/"
        },
        "id": "RypK0nSA-WiW",
        "outputId": "5978a6c7-13e6-4323-caca-8553c062560b"
      },
      "source": [
        "clf = KNeighborsClassifier()\n",
        "clf.get_params"
      ],
      "execution_count": 14,
      "outputs": [
        {
          "output_type": "execute_result",
          "data": {
            "text/plain": [
              "<bound method BaseEstimator.get_params of KNeighborsClassifier()>"
            ]
          },
          "metadata": {},
          "execution_count": 14
        }
      ]
    },
    {
      "cell_type": "code",
      "metadata": {
        "colab": {
          "base_uri": "https://localhost:8080/"
        },
        "id": "MkouvxZx-WiW",
        "outputId": "b3aa029f-a8cc-44ff-ab87-bfcd811aa4bc"
      },
      "source": [
        "from sklearn.model_selection import train_test_split\n",
        "from sklearn import neighbors\n",
        "from sklearn.preprocessing import MinMaxScaler\n",
        "from sklearn.preprocessing import OneHotEncoder, LabelEncoder\n",
        "from sklearn.model_selection import GridSearchCV\n",
        "from sklearn.metrics import classification_report\n",
        "\n",
        "X = df.drop(columns=['class'])\n",
        "y = df['class']\n",
        "\n",
        "scaler.fit(X)\n",
        "X = scaler.transform(X) \n",
        "\n",
        "X_train, X_test, y_train, y_test = train_test_split(X, y, stratify=y, test_size=0.3, random_state=123)\n",
        "\n",
        "base_estimator = KNeighborsClassifier()\n",
        "param_grid = {'n_neighbors': [3,4,5,6,7,8,9,10], 'metric': ['euclidean','manhattan']}\n",
        "\n",
        "clf = GridSearchCV(base_estimator, param_grid, cv=5, scoring='accuracy')\n",
        "clf.fit(X_train, y_train)\n",
        "\n",
        "# print(clf.cv_results_)\n",
        "print(clf.best_estimator_)\n",
        "\n",
        "print()\n",
        "print(\"Detailed classification report:\")\n",
        "print()\n",
        "y_pred = clf.predict(X_test)\n",
        "print(classification_report(y_test, y_pred))\n",
        "print()\n",
        "\n"
      ],
      "execution_count": 15,
      "outputs": [
        {
          "output_type": "stream",
          "name": "stdout",
          "text": [
            "KNeighborsClassifier(metric='euclidean', n_neighbors=8)\n",
            "\n",
            "Detailed classification report:\n",
            "\n",
            "              precision    recall  f1-score   support\n",
            "\n",
            "           0       1.00      1.00      1.00       229\n",
            "           1       1.00      1.00      1.00       183\n",
            "\n",
            "    accuracy                           1.00       412\n",
            "   macro avg       1.00      1.00      1.00       412\n",
            "weighted avg       1.00      1.00      1.00       412\n",
            "\n",
            "\n"
          ]
        }
      ]
    },
    {
      "cell_type": "code",
      "metadata": {
        "colab": {
          "base_uri": "https://localhost:8080/"
        },
        "id": "59WHDVSCUXdG",
        "outputId": "4564df0f-a8b6-451d-d9bd-ffb37bce37d1"
      },
      "source": [
        "from sklearn.ensemble import RandomForestClassifier\n",
        "\n",
        "from sklearn.model_selection import train_test_split\n",
        "from sklearn.metrics import classification_report\n",
        "\n",
        "X = df.drop(columns=['class'])\n",
        "y = df['class']\n",
        "\n",
        "scaler.fit(X)\n",
        "X = scaler.transform(X) \n",
        "\n",
        "X_train, X_test, y_train, y_test = train_test_split(X, y, stratify=y, test_size=0.3, random_state=123)\n",
        "\n",
        "base_estimator = RandomForestClassifier(random_state=123)\n",
        "param_grid = {'n_estimators':[3,4,5,6],'criterion':['gini','entropy'],'max_depth':[2,3,4,5]}\n",
        "\n",
        "clf = GridSearchCV(base_estimator, param_grid, cv=5, scoring='accuracy')\n",
        "clf.fit(X_train, y_train)\n",
        "\n",
        "print(clf.cv_results_)\n",
        "print(clf.best_estimator_)\n",
        "\n",
        "print()\n",
        "print(\"Detailed classification report:\")\n",
        "print()\n",
        "y_pred = clf.predict(X_test)\n",
        "print(classification_report(y_test, y_pred))\n",
        "print()\n",
        "\n",
        "\n",
        "\n"
      ],
      "execution_count": 16,
      "outputs": [
        {
          "output_type": "stream",
          "name": "stdout",
          "text": [
            "{'mean_fit_time': array([0.01115232, 0.01344247, 0.01554117, 0.01828518, 0.0109005 ,\n",
            "       0.01817365, 0.01919365, 0.02049699, 0.01411347, 0.01621442,\n",
            "       0.01744623, 0.02025547, 0.01180091, 0.01564474, 0.01813836,\n",
            "       0.02370467, 0.01608367, 0.01478896, 0.01833844, 0.02179909,\n",
            "       0.01245532, 0.016575  , 0.02190118, 0.02337003, 0.01337209,\n",
            "       0.01734252, 0.02218742, 0.01879025, 0.00946808, 0.0105288 ,\n",
            "       0.01291361, 0.0148654 ]), 'std_fit_time': array([6.06407472e-04, 9.76414641e-05, 2.38160499e-04, 4.34931079e-04,\n",
            "       6.95060142e-04, 6.41788084e-03, 3.18819077e-03, 8.40636411e-04,\n",
            "       3.52417412e-03, 1.92278492e-03, 2.15571239e-04, 6.36855908e-04,\n",
            "       5.08948843e-04, 1.61277374e-03, 7.40842811e-04, 3.60539014e-03,\n",
            "       5.08665601e-03, 4.27204438e-04, 2.30522731e-04, 9.92287677e-04,\n",
            "       2.19632075e-04, 4.84152015e-04, 3.57744793e-03, 6.74795309e-04,\n",
            "       9.93343393e-04, 5.82035967e-04, 2.26707168e-03, 3.62204065e-03,\n",
            "       1.14619300e-03, 4.37030998e-04, 3.84089759e-04, 3.98085410e-04]), 'mean_score_time': array([0.00197453, 0.00225778, 0.00256662, 0.00269918, 0.00192895,\n",
            "       0.00221477, 0.00239673, 0.00270658, 0.00214348, 0.00252247,\n",
            "       0.00251441, 0.00282917, 0.00202394, 0.00222964, 0.0025557 ,\n",
            "       0.00303793, 0.00207038, 0.00222263, 0.00284491, 0.00284843,\n",
            "       0.0020587 , 0.00234818, 0.00265045, 0.00272722, 0.00200996,\n",
            "       0.0023037 , 0.00263357, 0.00222774, 0.00137239, 0.00142531,\n",
            "       0.00170155, 0.00179825]), 'std_score_time': array([8.31819701e-05, 1.58807063e-04, 5.63256158e-04, 2.15656604e-04,\n",
            "       1.07464180e-04, 1.10266322e-04, 7.37142438e-05, 1.37721716e-04,\n",
            "       1.23562540e-04, 5.36969011e-04, 1.04299057e-04, 1.85274499e-04,\n",
            "       3.12523017e-05, 8.35577904e-05, 2.32751715e-04, 2.05027391e-04,\n",
            "       8.24262924e-05, 7.04526861e-05, 3.89328607e-04, 1.57236386e-04,\n",
            "       8.11516606e-05, 5.51426662e-05, 1.00087926e-04, 7.44663935e-05,\n",
            "       1.20201521e-04, 1.76128220e-04, 1.17326265e-04, 4.86318370e-04,\n",
            "       7.44575382e-05, 1.92522966e-05, 1.63000727e-04, 2.03923947e-04]), 'param_criterion': masked_array(data=['gini', 'gini', 'gini', 'gini', 'gini', 'gini', 'gini',\n",
            "                   'gini', 'gini', 'gini', 'gini', 'gini', 'gini', 'gini',\n",
            "                   'gini', 'gini', 'entropy', 'entropy', 'entropy',\n",
            "                   'entropy', 'entropy', 'entropy', 'entropy', 'entropy',\n",
            "                   'entropy', 'entropy', 'entropy', 'entropy', 'entropy',\n",
            "                   'entropy', 'entropy', 'entropy'],\n",
            "             mask=[False, False, False, False, False, False, False, False,\n",
            "                   False, False, False, False, False, False, False, False,\n",
            "                   False, False, False, False, False, False, False, False,\n",
            "                   False, False, False, False, False, False, False, False],\n",
            "       fill_value='?',\n",
            "            dtype=object), 'param_max_depth': masked_array(data=[2, 2, 2, 2, 3, 3, 3, 3, 4, 4, 4, 4, 5, 5, 5, 5, 2, 2,\n",
            "                   2, 2, 3, 3, 3, 3, 4, 4, 4, 4, 5, 5, 5, 5],\n",
            "             mask=[False, False, False, False, False, False, False, False,\n",
            "                   False, False, False, False, False, False, False, False,\n",
            "                   False, False, False, False, False, False, False, False,\n",
            "                   False, False, False, False, False, False, False, False],\n",
            "       fill_value='?',\n",
            "            dtype=object), 'param_n_estimators': masked_array(data=[3, 4, 5, 6, 3, 4, 5, 6, 3, 4, 5, 6, 3, 4, 5, 6, 3, 4,\n",
            "                   5, 6, 3, 4, 5, 6, 3, 4, 5, 6, 3, 4, 5, 6],\n",
            "             mask=[False, False, False, False, False, False, False, False,\n",
            "                   False, False, False, False, False, False, False, False,\n",
            "                   False, False, False, False, False, False, False, False,\n",
            "                   False, False, False, False, False, False, False, False],\n",
            "       fill_value='?',\n",
            "            dtype=object), 'params': [{'criterion': 'gini', 'max_depth': 2, 'n_estimators': 3}, {'criterion': 'gini', 'max_depth': 2, 'n_estimators': 4}, {'criterion': 'gini', 'max_depth': 2, 'n_estimators': 5}, {'criterion': 'gini', 'max_depth': 2, 'n_estimators': 6}, {'criterion': 'gini', 'max_depth': 3, 'n_estimators': 3}, {'criterion': 'gini', 'max_depth': 3, 'n_estimators': 4}, {'criterion': 'gini', 'max_depth': 3, 'n_estimators': 5}, {'criterion': 'gini', 'max_depth': 3, 'n_estimators': 6}, {'criterion': 'gini', 'max_depth': 4, 'n_estimators': 3}, {'criterion': 'gini', 'max_depth': 4, 'n_estimators': 4}, {'criterion': 'gini', 'max_depth': 4, 'n_estimators': 5}, {'criterion': 'gini', 'max_depth': 4, 'n_estimators': 6}, {'criterion': 'gini', 'max_depth': 5, 'n_estimators': 3}, {'criterion': 'gini', 'max_depth': 5, 'n_estimators': 4}, {'criterion': 'gini', 'max_depth': 5, 'n_estimators': 5}, {'criterion': 'gini', 'max_depth': 5, 'n_estimators': 6}, {'criterion': 'entropy', 'max_depth': 2, 'n_estimators': 3}, {'criterion': 'entropy', 'max_depth': 2, 'n_estimators': 4}, {'criterion': 'entropy', 'max_depth': 2, 'n_estimators': 5}, {'criterion': 'entropy', 'max_depth': 2, 'n_estimators': 6}, {'criterion': 'entropy', 'max_depth': 3, 'n_estimators': 3}, {'criterion': 'entropy', 'max_depth': 3, 'n_estimators': 4}, {'criterion': 'entropy', 'max_depth': 3, 'n_estimators': 5}, {'criterion': 'entropy', 'max_depth': 3, 'n_estimators': 6}, {'criterion': 'entropy', 'max_depth': 4, 'n_estimators': 3}, {'criterion': 'entropy', 'max_depth': 4, 'n_estimators': 4}, {'criterion': 'entropy', 'max_depth': 4, 'n_estimators': 5}, {'criterion': 'entropy', 'max_depth': 4, 'n_estimators': 6}, {'criterion': 'entropy', 'max_depth': 5, 'n_estimators': 3}, {'criterion': 'entropy', 'max_depth': 5, 'n_estimators': 4}, {'criterion': 'entropy', 'max_depth': 5, 'n_estimators': 5}, {'criterion': 'entropy', 'max_depth': 5, 'n_estimators': 6}], 'split0_test_score': array([0.85416667, 0.83333333, 0.859375  , 0.88020833, 0.890625  ,\n",
            "       0.91145833, 0.921875  , 0.91666667, 0.93229167, 0.92708333,\n",
            "       0.94791667, 0.9375    , 0.953125  , 0.96354167, 0.96354167,\n",
            "       0.96354167, 0.83333333, 0.83333333, 0.875     , 0.875     ,\n",
            "       0.85416667, 0.91145833, 0.9375    , 0.91666667, 0.921875  ,\n",
            "       0.94791667, 0.94791667, 0.94791667, 0.94270833, 0.96354167,\n",
            "       0.95833333, 0.953125  ]), 'split1_test_score': array([0.88541667, 0.91666667, 0.91145833, 0.91145833, 0.91145833,\n",
            "       0.94270833, 0.94270833, 0.92708333, 0.92708333, 0.97916667,\n",
            "       0.96354167, 0.96354167, 0.96354167, 0.96875   , 0.984375  ,\n",
            "       0.97916667, 0.859375  , 0.859375  , 0.890625  , 0.890625  ,\n",
            "       0.91145833, 0.92708333, 0.94270833, 0.9375    , 0.95833333,\n",
            "       0.97916667, 0.97916667, 0.97916667, 0.95833333, 0.97395833,\n",
            "       0.97395833, 0.97395833]), 'split2_test_score': array([0.88020833, 0.88541667, 0.92708333, 0.91666667, 0.90104167,\n",
            "       0.93229167, 0.94270833, 0.93229167, 0.93229167, 0.95833333,\n",
            "       0.95833333, 0.953125  , 0.96354167, 0.97395833, 0.97395833,\n",
            "       0.97395833, 0.86458333, 0.859375  , 0.86458333, 0.91666667,\n",
            "       0.91666667, 0.93229167, 0.9375    , 0.92708333, 0.953125  ,\n",
            "       0.96354167, 0.95833333, 0.95833333, 0.96875   , 0.984375  ,\n",
            "       0.984375  , 0.97916667]), 'split3_test_score': array([0.83333333, 0.81770833, 0.86979167, 0.88020833, 0.828125  ,\n",
            "       0.91145833, 0.89583333, 0.92708333, 0.92708333, 0.953125  ,\n",
            "       0.953125  , 0.953125  , 0.953125  , 0.96354167, 0.96354167,\n",
            "       0.97395833, 0.82291667, 0.84375   , 0.90625   , 0.90104167,\n",
            "       0.88541667, 0.9375    , 0.94791667, 0.94270833, 0.92708333,\n",
            "       0.953125  , 0.953125  , 0.94791667, 0.95833333, 0.97395833,\n",
            "       0.97916667, 0.97916667]), 'split4_test_score': array([0.83333333, 0.86458333, 0.890625  , 0.890625  , 0.88020833,\n",
            "       0.90104167, 0.93229167, 0.921875  , 0.953125  , 0.96875   ,\n",
            "       0.96875   , 0.96875   , 0.94791667, 0.97395833, 0.96354167,\n",
            "       0.96875   , 0.84375   , 0.84375   , 0.86979167, 0.86979167,\n",
            "       0.91145833, 0.92708333, 0.92708333, 0.91666667, 0.9375    ,\n",
            "       0.96354167, 0.96875   , 0.96354167, 0.96354167, 0.96875   ,\n",
            "       0.97395833, 0.96875   ]), 'mean_test_score': array([0.85729167, 0.86354167, 0.89166667, 0.89583333, 0.88229167,\n",
            "       0.91979167, 0.92708333, 0.925     , 0.934375  , 0.95729167,\n",
            "       0.95833333, 0.95520833, 0.95625   , 0.96875   , 0.96979167,\n",
            "       0.971875  , 0.84479167, 0.84791667, 0.88125   , 0.890625  ,\n",
            "       0.89583333, 0.92708333, 0.93854167, 0.928125  , 0.93958333,\n",
            "       0.96145833, 0.96145833, 0.959375  , 0.95833333, 0.97291667,\n",
            "       0.97395833, 0.97083333]), 'std_test_score': array([0.02224391, 0.035539  , 0.02517301, 0.01545041, 0.02901748,\n",
            "       0.01530931, 0.01743042, 0.00531148, 0.00966002, 0.01755448,\n",
            "       0.0073657 , 0.01072461, 0.00625   , 0.00465847, 0.00833333,\n",
            "       0.00531148, 0.01559024, 0.01009933, 0.01523827, 0.01711633,\n",
            "       0.02352415, 0.00871521, 0.00690963, 0.01062296, 0.01420644,\n",
            "       0.01072461, 0.01121909, 0.01159951, 0.00871521, 0.00690963,\n",
            "       0.00871521, 0.00966002]), 'rank_test_score': array([30, 29, 25, 23, 27, 22, 19, 21, 17, 12, 11, 14, 13,  6,  5,  3, 32,\n",
            "       31, 28, 26, 24, 19, 16, 18, 15,  7,  8,  9, 10,  2,  1,  4],\n",
            "      dtype=int32)}\n",
            "RandomForestClassifier(criterion='entropy', max_depth=5, n_estimators=5,\n",
            "                       random_state=123)\n",
            "\n",
            "Detailed classification report:\n",
            "\n",
            "              precision    recall  f1-score   support\n",
            "\n",
            "           0       0.98      0.97      0.97       229\n",
            "           1       0.96      0.97      0.97       183\n",
            "\n",
            "    accuracy                           0.97       412\n",
            "   macro avg       0.97      0.97      0.97       412\n",
            "weighted avg       0.97      0.97      0.97       412\n",
            "\n",
            "\n"
          ]
        }
      ]
    }
  ]
}