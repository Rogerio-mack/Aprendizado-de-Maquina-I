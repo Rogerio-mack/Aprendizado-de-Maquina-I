{
  "nbformat": 4,
  "nbformat_minor": 0,
  "metadata": {
    "kernelspec": {
      "display_name": "Python 3",
      "language": "python",
      "name": "python3"
    },
    "language_info": {
      "codemirror_mode": {
        "name": "ipython",
        "version": 3
      },
      "file_extension": ".py",
      "mimetype": "text/x-python",
      "name": "python",
      "nbconvert_exporter": "python",
      "pygments_lexer": "ipython3",
      "version": "3.7.4"
    },
    "colab": {
      "name": "ML6_ponto_de_partida.ipynb",
      "provenance": [],
      "collapsed_sections": [],
      "include_colab_link": true
    }
  },
  "cells": [
    {
      "cell_type": "markdown",
      "metadata": {
        "id": "view-in-github",
        "colab_type": "text"
      },
      "source": [
        "<a href=\"https://colab.research.google.com/github/Rogerio-mack/Machine-Learning-I/blob/main/ML6_ponto_de_partida.ipynb\" target=\"_parent\"><img src=\"https://colab.research.google.com/assets/colab-badge.svg\" alt=\"Open In Colab\"/></a>"
      ]
    },
    {
      "cell_type": "markdown",
      "metadata": {
        "id": "J3LMBfpeHTwb"
      },
      "source": [
        "<head>\n",
        "  <meta name=\"author\" content=\"Rogério de Oliveira\">\n",
        "  <meta institution=\"author\" content=\"Universidade Presbiteriana Mackenzie\">\n",
        "</head>\n",
        "\n",
        "<img src=\"http://meusite.mackenzie.br/rogerio/mackenzie_logo/UPM.2_horizontal_vermelho.jpg\" width=300, align=\"right\">\n",
        "<!-- <h1 align=left><font size = 6, style=\"color:rgb(200,0,0)\"> optional title </font></h1> -->\n"
      ]
    },
    {
      "cell_type": "markdown",
      "metadata": {
        "id": "zQX8WQPeHTwc"
      },
      "source": [
        "# **Validação Cruzada**\n",
        "---\n",
        "\n"
      ]
    },
    {
      "cell_type": "code",
      "metadata": {
        "id": "xyywcuI7p1kG"
      },
      "source": [
        "import numpy as np\n",
        "import pandas as pd\n",
        "import matplotlib.pyplot as plt\n",
        "%matplotlib inline\n",
        "from matplotlib.lines import Line2D\n",
        "import seaborn as sns"
      ],
      "execution_count": 1,
      "outputs": []
    },
    {
      "cell_type": "markdown",
      "metadata": {
        "id": "zH-kFjI8TIUe"
      },
      "source": [
        "## Analogias Úteis\n",
        "\n",
        "> * **Sem conjuntos de Treinamento/Teste**\n",
        "\n",
        ">> *É como ensinar um aluno apresentando nas aulas todas e as mesmas  questões que irão surgir cair na prova*\n",
        "\n",
        "> * **Somente conjuntos de Treinamento/Teste, mas conjuntos de Validação**\n",
        "\n",
        ">> *É como dar a nota para o aluno sem indicar as respostas, mas permitindo que  ele faça novas tentativas da prova até obter o resultado que deseja.*  \n",
        "\n",
        "> * **Conjuntos de Validação Únicos**\n",
        "\n",
        ">> *É como empregar uma única nota para avaliar um aluno! E se ele recebeu uma prova somente com exercícios dos tópicos que estudou?* \n",
        " \n",
        "\n",
        "## Validação Cruzada \n",
        "\n",
        "> * Conjuntos de Treinamento/Teste/Validação \n",
        "\n",
        "> * Evita overfitting \n",
        "\n",
        "> * Média de vários resultados\n",
        "\n",
        "> * Todos os dados são testados: Cada instância de dados é empregada ao menos uma vez como teste\n",
        "\n",
        "> * Sem necessidade de separar um novo conjunto de dados \n",
        "\n"
      ]
    },
    {
      "cell_type": "markdown",
      "metadata": {
        "id": "giVfh3l1QuIb"
      },
      "source": [
        "# Cross Validation\n",
        "\n",
        "<br>\n",
        "\n",
        "<br>\n",
        "\n",
        "![imagem](https://scikit-learn.org/stable/_images/grid_search_cross_validation.png)\n",
        "\n",
        "<small>\n",
        "<b>\n",
        "Figura 1. Esquema de Cross-Validation. <br></b>  (Fonte: https://scikit-learn.org)"
      ]
    },
    {
      "cell_type": "code",
      "metadata": {
        "colab": {
          "base_uri": "https://localhost:8080/"
        },
        "id": "KaTQuNdq_6ob",
        "outputId": "50787003-2f07-44bc-f03e-3a07fd8250b2"
      },
      "source": [
        "from sklearn.neighbors import KNeighborsClassifier \n",
        "from sklearn.model_selection import train_test_split\n",
        "from sklearn.preprocessing import MinMaxScaler\n",
        "from sklearn.model_selection import cross_val_score\n",
        "\n",
        "df = pd.read_csv('https://vincentarelbundock.github.io/Rdatasets/csv/MASS/biopsy.csv',index_col=0)\n",
        "df['V6'] = df[['V6']].fillna(df['V6'].mean())\n",
        "\n",
        "X = df.drop(columns=['ID','class'])\n",
        "y = df['class']\n",
        "\n",
        "scaler = MinMaxScaler()\n",
        "scaler.fit(X)\n",
        "X = scaler.transform(X) \n",
        "\n",
        "X_train, X_test, y_train, y_test = train_test_split(X, y, stratify=y, test_size=0.3, random_state=123)\n",
        "\n",
        "clf = KNeighborsClassifier(n_neighbors = 3, metric= 'euclidean' )\n",
        "\n",
        "acc_scores = cross_val_score(clf, X_train, y_train, cv = 10)\n",
        "\n",
        "print(acc_scores, '\\n')\n",
        "print(\"accuracy: %0.3f +/- %0.3f\" % (acc_scores.mean(), acc_scores.std() * 2),'\\n')\n",
        "\n",
        "for metric in ['accuracy','f1_macro','precision_macro','recall_macro']:\n",
        "  scores = cross_val_score(clf, X_train, y_train, cv = 4, scoring=metric)\n",
        "  print(metric + \": %0.3f +/- %0.3f\" % (scores.mean(), scores.std() * 2))\n",
        "\n",
        "\n"
      ],
      "execution_count": 3,
      "outputs": [
        {
          "output_type": "stream",
          "name": "stdout",
          "text": [
            "[0.97959184 0.93877551 1.         0.97959184 0.95918367 0.95918367\n",
            " 1.         0.93877551 0.97959184 0.95833333] \n",
            "\n",
            "accuracy: 0.969 +/- 0.042 \n",
            "\n",
            "accuracy: 0.971 +/- 0.008\n",
            "f1_macro: 0.968 +/- 0.009\n",
            "precision_macro: 0.970 +/- 0.009\n",
            "recall_macro: 0.967 +/- 0.018\n"
          ]
        }
      ]
    },
    {
      "cell_type": "markdown",
      "metadata": {
        "id": "sVRo61k090Px"
      },
      "source": [
        "  \n",
        "\n",
        "<br>\n",
        "\n",
        "<br>\n",
        "\n",
        "<img src=\"https://scikit-learn.org/stable/_images/grid_search_workflow.png\" width=600, align=\"center\">\n",
        "\n",
        "<br>\n",
        "\n",
        "<br>\n",
        "\n",
        "<small>\n",
        "<b>\n",
        "Figura 2. Esquema Geral da Avaliação de Modelos. <br></b>  (Fonte: https://scikit-learn.org)\n",
        "\n"
      ]
    }
  ]
}